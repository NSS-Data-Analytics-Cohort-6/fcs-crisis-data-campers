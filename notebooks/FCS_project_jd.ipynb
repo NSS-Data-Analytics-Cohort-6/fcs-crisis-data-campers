{
 "cells": [
  {
   "cell_type": "markdown",
   "id": "e22d840f",
   "metadata": {},
   "source": [
    "# Family and Children's Services Crisis Project\n",
    "\n",
    "1. Examine call volume and identify surge times, seasons, or events.\n",
    "2. Analyze trends in call content by looking for which issues are most frequent and what is the average count of issues per call.\n",
    "3. Assess regional and demographic trends in call content and call volume.\n",
    "4. Determine the count and success rate of imminent risk calls."
   ]
  },
  {
   "cell_type": "code",
   "execution_count": null,
   "id": "7531d30b",
   "metadata": {},
   "outputs": [],
   "source": [
    "import pandas as pd\n",
    "pd.set_option('display.max_rows', 500)\n",
    "pd.set_option('display.max_columns', 500)\n",
    "pd.set_option('display.width', 1000)\n",
    "import numpy as np\n",
    "import matplotlib.pyplot as plt\n",
    "%matplotlib inline\n",
    "import seaborn as sns\n",
    "import requests as re"
   ]
  },
  {
   "cell_type": "code",
   "execution_count": null,
   "id": "67489a02",
   "metadata": {},
   "outputs": [],
   "source": [
    "# Read in the two main files for 2021-2022\n",
    "df1 = pd.read_excel('../data/NSSCrisisv_1.xlsx') # 2021\n",
    "df2 = pd.read_excel('../data/NSSCrisisv_2.xlsx') # 2022"
   ]
  },
  {
   "cell_type": "code",
   "execution_count": null,
   "id": "861cca7a",
   "metadata": {},
   "outputs": [],
   "source": [
    "# Rob: Drop columns whose entire values are NaN\n",
    "df1.dropna(how='all', axis=1, inplace=True)\n",
    "df2.dropna(how='all', axis=1, inplace=True)"
   ]
  },
  {
   "cell_type": "code",
   "execution_count": null,
   "id": "44f96f99",
   "metadata": {},
   "outputs": [],
   "source": [
    "# Rob: Drop columns whose entire values are 98% NaN\n",
    "pct_null = df1.isnull().sum() / len(df1)\n",
    "missing_features = pct_null[pct_null > 0.98].index\n",
    "df1.drop(missing_features, axis=1, inplace=True)"
   ]
  },
  {
   "cell_type": "code",
   "execution_count": null,
   "id": "ac941f81",
   "metadata": {},
   "outputs": [],
   "source": [
    "# Read in the call center data for 2020-2022\n",
    "df_2020 = pd.read_excel('../data/2020callcenter.xlsx')\n",
    "df_2021 = pd.read_excel('../data/2021callcenter.xlsx')\n",
    "df_2022 = pd.read_excel('../data/2022callcenter.xlsx')"
   ]
  },
  {
   "cell_type": "code",
   "execution_count": null,
   "id": "51a04ec5",
   "metadata": {},
   "outputs": [],
   "source": [
    "# Maggie: Merge ethnicity columns\n",
    "df1.rename(columns={'CRISIS Demographics - Ethnicity': 'Ethnicity'}, inplace=True)\n",
    "df2.rename(columns={'CRISIS Demographics - Race/Ethnicity': 'Ethnicity'}, inplace=True)"
   ]
  },
  {
   "cell_type": "code",
   "execution_count": null,
   "id": "77b73e96",
   "metadata": {
    "scrolled": true
   },
   "outputs": [],
   "source": [
    "# Maggie: Find the columns that are the same in both dfs, 56 named the same in both files\n",
    "samecolumnsdf = pd.DataFrame(df1.columns.intersection(df2.columns))\n",
    "samecolumnsdf"
   ]
  },
  {
   "cell_type": "markdown",
   "id": "8df7de50",
   "metadata": {},
   "source": [
    "## EDA"
   ]
  },
  {
   "cell_type": "code",
   "execution_count": null,
   "id": "7bfe28aa",
   "metadata": {
    "scrolled": true
   },
   "outputs": [],
   "source": [
    "# Rudy: Find all column names\n",
    "df1.dtypes"
   ]
  },
  {
   "cell_type": "markdown",
   "id": "5fa95146",
   "metadata": {},
   "source": [
    "#### Most common states that calls originate from:"
   ]
  },
  {
   "cell_type": "code",
   "execution_count": null,
   "id": "edef3265",
   "metadata": {},
   "outputs": [],
   "source": [
    "# 2021\n",
    "df1['ThirdPartyStateProvince'].value_counts()[:10].sort_values(ascending=False)"
   ]
  },
  {
   "cell_type": "code",
   "execution_count": null,
   "id": "3e062b43",
   "metadata": {},
   "outputs": [],
   "source": [
    "# 2022\n",
    "df2['ThirdPartyStateProvince'].value_counts()[:10].sort_values(ascending=False)"
   ]
  },
  {
   "cell_type": "markdown",
   "id": "c9f18732",
   "metadata": {},
   "source": [
    "#### Call data:"
   ]
  },
  {
   "cell_type": "code",
   "execution_count": null,
   "id": "b0af3b62",
   "metadata": {
    "scrolled": true
   },
   "outputs": [],
   "source": [
    "# Most common zip code of calls\n",
    "df1['PostalCode'].value_counts()[:10].sort_values(ascending=False)"
   ]
  },
  {
   "cell_type": "code",
   "execution_count": null,
   "id": "bdf47145",
   "metadata": {},
   "outputs": [],
   "source": [
    "# Top 10 most calls answered by\n",
    "df1['PhoneWorkerName'].value_counts()[:10].sort_values(ascending=False)"
   ]
  },
  {
   "cell_type": "code",
   "execution_count": null,
   "id": "7ab32668",
   "metadata": {},
   "outputs": [],
   "source": [
    "# Most common call lengths\n",
    "df1['CallLength'].value_counts()[:10].sort_values(ascending=False)"
   ]
  },
  {
   "cell_type": "code",
   "execution_count": null,
   "id": "6e0f312c",
   "metadata": {},
   "outputs": [],
   "source": [
    "# Call types\n",
    "df1['CRISIS Call Information - Call Type'].value_counts()[:10].sort_values(ascending=False)"
   ]
  },
  {
   "cell_type": "markdown",
   "id": "d0dc1419",
   "metadata": {},
   "source": [
    "#### Caller demographics:"
   ]
  },
  {
   "cell_type": "code",
   "execution_count": null,
   "id": "4f5b7913",
   "metadata": {},
   "outputs": [],
   "source": [
    "# Gender identity\n",
    "df1['CRISIS Demographics - Gender Identity'].value_counts()[:10].sort_values(ascending=False)"
   ]
  },
  {
   "cell_type": "code",
   "execution_count": null,
   "id": "4c431580",
   "metadata": {},
   "outputs": [],
   "source": [
    "# Age\n",
    "df1['CRISIS Demographics - Age'].value_counts()[:10].sort_values(ascending=False)"
   ]
  },
  {
   "cell_type": "code",
   "execution_count": null,
   "id": "8a1a892f",
   "metadata": {},
   "outputs": [],
   "source": [
    "# Marital status\n",
    "df1['CRISIS Demographics - Marital Status'].value_counts()[:10].sort_values(ascending=False)"
   ]
  },
  {
   "cell_type": "code",
   "execution_count": null,
   "id": "09e4c402",
   "metadata": {},
   "outputs": [],
   "source": [
    "# Occupation\n",
    "df1['CRISIS Demographics - Occupation'].value_counts()[:10].sort_values(ascending=False)"
   ]
  },
  {
   "cell_type": "code",
   "execution_count": null,
   "id": "0fa78aef",
   "metadata": {},
   "outputs": [],
   "source": [
    "# Imminent risk for suicide (Yes/No)\n",
    "df1['CRISIS/LIFELINE Imminent Risk - 2. Was caller at imminent risk for suicide? '].value_counts()[:10].sort_values(ascending=False)"
   ]
  },
  {
   "cell_type": "code",
   "execution_count": null,
   "id": "bc48104c",
   "metadata": {},
   "outputs": [],
   "source": [
    "# Emotional state\n",
    "df1['CRISIS Issues - Emotional State'].value_counts()[:10].sort_values(ascending=False)"
   ]
  },
  {
   "cell_type": "code",
   "execution_count": null,
   "id": "a6e8c15e",
   "metadata": {},
   "outputs": [],
   "source": [
    "# Mental health\n",
    "df1['CRISIS Issues - Mental Health'].value_counts()[:10].sort_values(ascending=False)"
   ]
  },
  {
   "cell_type": "code",
   "execution_count": null,
   "id": "e4c65314",
   "metadata": {},
   "outputs": [],
   "source": [
    "# Relationships\n",
    "df1['CRISIS Issues - Relationships'].value_counts()[:10].sort_values(ascending=False)"
   ]
  },
  {
   "cell_type": "code",
   "execution_count": null,
   "id": "4bacf464",
   "metadata": {},
   "outputs": [],
   "source": [
    "# Dates with most calls (this col is permanently changed to date and idk how to undo besides restarting?)\n",
    "df1['CallDateAndTimeStart'].value_counts()[:10].sort_values(ascending=False)"
   ]
  },
  {
   "cell_type": "markdown",
   "id": "a2e69f22",
   "metadata": {},
   "source": [
    "#### What happened around the end of March 2021?\n",
    "- **Heavy rain and flooding in Middle TN**\n",
    "- Start of George Floyd trial\n",
    "- Obama tweeted his grandmother passed\n",
    "- Manila COVID lockdown 25 million people over Easter\n",
    "- More news about violence against Asian Americans"
   ]
  },
  {
   "cell_type": "code",
   "execution_count": null,
   "id": "5f87245f",
   "metadata": {},
   "outputs": [],
   "source": []
  }
 ],
 "metadata": {
  "kernelspec": {
   "display_name": "Python 3 (ipykernel)",
   "language": "python",
   "name": "python3"
  },
  "language_info": {
   "codemirror_mode": {
    "name": "ipython",
    "version": 3
   },
   "file_extension": ".py",
   "mimetype": "text/x-python",
   "name": "python",
   "nbconvert_exporter": "python",
   "pygments_lexer": "ipython3",
   "version": "3.9.7"
  }
 },
 "nbformat": 4,
 "nbformat_minor": 5
}
