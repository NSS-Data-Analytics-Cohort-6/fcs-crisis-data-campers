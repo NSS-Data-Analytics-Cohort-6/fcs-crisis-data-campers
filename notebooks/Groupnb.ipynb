{
 "cells": [
  {
   "cell_type": "code",
   "execution_count": null,
   "id": "d591fa8b",
   "metadata": {},
   "outputs": [],
   "source": [
    "import pandas as pd\n",
    "pd.set_option('display.max_rows', 500)\n",
    "pd.set_option('display.max_columns', 500)\n",
    "pd.set_option('display.width', 1000)\n",
    "import numpy as np\n",
    "import matplotlib.pyplot as plt\n",
    "%matplotlib inline\n",
    "import seaborn as sns\n",
    "import requests as re\n",
    "from matplotlib import cm\n",
    "sns.set(style=\"darkgrid\")"
   ]
  },
  {
   "cell_type": "code",
   "execution_count": null,
   "id": "2fbc7a36",
   "metadata": {},
   "outputs": [],
   "source": [
    "df1 = pd.read_excel('../data/NSSCrisisv.1.xlsx', 'in') # 2020-2021\n",
    "df2 = pd.read_excel('../data/NSSCrisisv.2.xlsx', 'in') # 2022\n",
    "# df_2020 = pd.read_excel('../data/2020callcenter.xlsx')\n",
    "# df_2021 = pd.read_excel('../data/2021callcenter.xlsx')\n",
    "# df_2022 = pd.read_excel('../data/2022callcenter.xlsx')"
   ]
  },
  {
   "cell_type": "code",
   "execution_count": null,
   "id": "ad8c8f25",
   "metadata": {},
   "outputs": [],
   "source": [
    "# Rob: Change name of CRISIS Subjective in v2 to CRISIS Issues to match v1\n",
    "labels = list()\n",
    "for col in df2.columns:\n",
    "    labels.append(col.replace('Subjective', 'Issues'))\n",
    "df2.columns = labels"
   ]
  },
  {
   "cell_type": "code",
   "execution_count": null,
   "id": "c8ac7277",
   "metadata": {},
   "outputs": [],
   "source": [
    "# Rob: Drops columns that contain only NaN\n",
    "df1.dropna(how='all', axis=1, inplace=True)\n",
    "df2.dropna(how='all', axis=1, inplace=True)"
   ]
  },
  {
   "cell_type": "code",
   "execution_count": null,
   "id": "fab52372",
   "metadata": {},
   "outputs": [],
   "source": [
    "samecolumnsdf = pd.DataFrame(df1.columns.intersection(df2.columns))\n",
    "samecolumnsdf"
   ]
  },
  {
   "cell_type": "code",
   "execution_count": null,
   "id": "df58f5b5",
   "metadata": {},
   "outputs": [],
   "source": [
    "# Rob: Loop that grabs columns we want and puts it into one df\n",
    "filter_col1 = [col for col in df1 if col.startswith('CRISIS Issues') or col.startswith('Call')]\n",
    "df1_ci = df1[filter_col1]"
   ]
  },
  {
   "cell_type": "code",
   "execution_count": null,
   "id": "4e02001e",
   "metadata": {},
   "outputs": [],
   "source": [
    "# Rob: Loop that grabs columns we want and puts it into one df\n",
    "filter_col2 = [col for col in df2 if col.startswith('CRISIS Issues') or col.startswith('Call')]\n",
    "df2_ci = df2[filter_col2]"
   ]
  },
  {
   "cell_type": "code",
   "execution_count": null,
   "id": "0e78b2a6",
   "metadata": {},
   "outputs": [],
   "source": [
    "all_ci = pd.concat([df1_ci, df2_ci])\n",
    "all_ci.info()"
   ]
  },
  {
   "cell_type": "code",
   "execution_count": null,
   "id": "6adea531",
   "metadata": {},
   "outputs": [],
   "source": [
    "all_ci2=all_ci.dropna(subset=['CRISIS Issues - Suicide']) #drops all rows where there are NAs in these columns"
   ]
  },
  {
   "cell_type": "code",
   "execution_count": null,
   "id": "9de76a64",
   "metadata": {},
   "outputs": [],
   "source": [
    "all_ci2.info() #5151 calls have a non-null value in CRISIS ISsues - Suicide"
   ]
  },
  {
   "cell_type": "code",
   "execution_count": null,
   "id": "8f53c6ce",
   "metadata": {},
   "outputs": [],
   "source": [
    "all_ci3=all_ci2.dropna(subset=['CRISIS Issues - Abusive Behavior']) #391 calls mention Suicide and Abusive behavior "
   ]
  },
  {
   "cell_type": "code",
   "execution_count": null,
   "id": "fcb33a0d",
   "metadata": {},
   "outputs": [],
   "source": [
    "all_ci3.info()"
   ]
  },
  {
   "cell_type": "code",
   "execution_count": null,
   "id": "4a8d10f2",
   "metadata": {},
   "outputs": [],
   "source": [
    "all_ci4=all_ci3.loc[(all_ci3['CRISIS Issues - Suicide']!='Third party concerned about anothers suicide risk')] #excludes third party calls \n",
    "all_ci4.info() #down to 384 calls "
   ]
  },
  {
   "cell_type": "code",
   "execution_count": null,
   "id": "8164f7e5",
   "metadata": {},
   "outputs": [],
   "source": [
    "all_ci4['CRISIS Issues - Abusive Behavior'].value_counts()"
   ]
  },
  {
   "cell_type": "code",
   "execution_count": null,
   "id": "ce7fe639",
   "metadata": {},
   "outputs": [],
   "source": [
    "new_df=all_ci4['CRISIS Issues - Abusive Behavior'].str.split('; ', expand=True)\n",
    "new_df"
   ]
  },
  {
   "cell_type": "code",
   "execution_count": null,
   "id": "7f94e84c",
   "metadata": {},
   "outputs": [],
   "source": [
    "melted=new_df.melt().value.value_counts()"
   ]
  },
  {
   "cell_type": "code",
   "execution_count": null,
   "id": "238355e1",
   "metadata": {},
   "outputs": [],
   "source": [
    "print(type(melted))"
   ]
  },
  {
   "cell_type": "code",
   "execution_count": null,
   "id": "75922224",
   "metadata": {},
   "outputs": [],
   "source": [
    "melteddf = melted.to_frame()\n",
    "melteddf"
   ]
  },
  {
   "cell_type": "code",
   "execution_count": null,
   "id": "8312c56a",
   "metadata": {},
   "outputs": [],
   "source": [
    "finaldf=melteddf.reset_index()\n",
    "finaldf"
   ]
  },
  {
   "cell_type": "markdown",
   "id": "79198613",
   "metadata": {},
   "source": [
    "sicorrelations=finaldf['index'].value_counts().rename_axis('unique_values').reset_index(name='counts')\n",
    "sicorrelations"
   ]
  },
  {
   "cell_type": "code",
   "execution_count": null,
   "id": "522a0249",
   "metadata": {},
   "outputs": [],
   "source": [
    "finaldf['pctoccurence']=(finaldf['value']/599)*100"
   ]
  },
  {
   "cell_type": "code",
   "execution_count": null,
   "id": "5424ea12",
   "metadata": {},
   "outputs": [],
   "source": [
    "finaldf\n",
    "finaldf=finaldf.sort_values(by='value', ascending=True) "
   ]
  },
  {
   "cell_type": "code",
   "execution_count": null,
   "id": "18a51a0c",
   "metadata": {},
   "outputs": [],
   "source": [
    "ticks=np.arange(0,26,step=2)"
   ]
  },
  {
   "cell_type": "code",
   "execution_count": null,
   "id": "523d3aa3",
   "metadata": {},
   "outputs": [],
   "source": [
    "plt.subplots(figsize=(12,10))\n",
    "y=finaldf['pctoccurence'] #test=music_df.loc[(music_df['UsePeriod']==' ')]\n",
    "x=finaldf['index']\n",
    "plt.barh(x,y,align='center',edgecolor=\"#0f0e0c\",color=['#2a788e','#2a788e','#2a788e','#2a788e','#2a788e','#2a788e','#2a788e','#414487','#414487','#414487','#414487','#414487','#482475','#482475','#482475','#482475','#440154','#440154','#440154','#440154','#440154'])\n",
    "plt.xticks(ticks)\n",
    "plt.title('CRISIS Abuse Issues Co-occuring with CRISIS Issue - Suicide', fontsize=15, fontstyle='oblique')\n",
    "plt.ylabel('Concern')\n",
    "plt.xlabel('% of SI Calls Issue Occured On')\n",
    "plt.show()"
   ]
  },
  {
   "cell_type": "code",
   "execution_count": null,
   "id": "0aee5af7",
   "metadata": {},
   "outputs": [],
   "source": [
    "plt.subplots(figsize=(12,10))\n",
    "sns.set(style=\"whitegrid\")\n",
    "sns.set(font_scale=1.2)\n",
    "y=finaldf['pctoccurence']\n",
    "x=finaldf['index']\n",
    "ax = sns.barplot(x=y, y=x, data=finaldf,\n",
    "            label=\"Total\", palette=sns.color_palette('viridis', n_colors=21), edgecolor='black', order=df.sort_values('Salary',ascending = False).Education))\n",
    "ax.bar_label(ax.containers[0])\n",
    "plt.title('CRISIS Abuse Issues Co-occuring with CRISIS Issue - Suicide', fontsize=15, fontstyle='oblique')\n",
    "plt.ylabel('Concern')\n",
    "plt.xlabel('% of SI Calls Issue Occured On');"
   ]
  },
  {
   "cell_type": "code",
   "execution_count": null,
   "id": "31574889",
   "metadata": {},
   "outputs": [],
   "source": [
    "plt.subplots(figsize=(10, 8))\n",
    "plt.scatter(x, y, s=y, alpha=0.5)\n",
    "plt.show()"
   ]
  },
  {
   "cell_type": "code",
   "execution_count": null,
   "id": "5e3dacbb",
   "metadata": {},
   "outputs": [],
   "source": []
  }
 ],
 "metadata": {
  "kernelspec": {
   "display_name": "Python 3 (ipykernel)",
   "language": "python",
   "name": "python3"
  },
  "language_info": {
   "codemirror_mode": {
    "name": "ipython",
    "version": 3
   },
   "file_extension": ".py",
   "mimetype": "text/x-python",
   "name": "python",
   "nbconvert_exporter": "python",
   "pygments_lexer": "ipython3",
   "version": "3.9.7"
  }
 },
 "nbformat": 4,
 "nbformat_minor": 5
}
