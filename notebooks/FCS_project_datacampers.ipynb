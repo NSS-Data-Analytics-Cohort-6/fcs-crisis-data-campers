{
 "cells": [
  {
   "cell_type": "markdown",
   "id": "f3127035",
   "metadata": {},
   "source": [
    "# Family and Children's Services Crisis Project by DataCampers\n",
    "### Objective 2: Analyze trends in call content by looking for which issues are most frequent and what is the average count of issues per call.\n",
    "- *For the second objective, the columns that contain the information about the documented issues are those that begin with CRISIS Issues. When calls come in, call takers use a form to indicate the various issues the individual is experiencing.*\n",
    "- *If an individual is experiencing multiple issues, the issues can be grouped together into a single cell, which makes understanding individual issues difficult. For this project you will parse the data from the different CRISIS Issues columns to allow deeper investigation of each individual issue.*"
   ]
  },
  {
   "cell_type": "markdown",
   "id": "1d9b031f",
   "metadata": {},
   "source": [
    "## Self EDA"
   ]
  },
  {
   "cell_type": "markdown",
   "id": "77781384",
   "metadata": {},
   "source": [
    "#### Read in the relevant data"
   ]
  },
  {
   "cell_type": "code",
   "execution_count": 1,
   "id": "cc5e5506",
   "metadata": {},
   "outputs": [],
   "source": [
    "import pandas as pd\n",
    "pd.set_option('display.max_rows', 500)\n",
    "pd.set_option('display.max_columns', 500)\n",
    "pd.set_option('display.width', 1000)\n",
    "import numpy as np\n",
    "import matplotlib.pyplot as plt\n",
    "%matplotlib inline\n",
    "import seaborn as sns\n",
    "import requests as re"
   ]
  },
  {
   "cell_type": "code",
   "execution_count": 2,
   "id": "6fda423a",
   "metadata": {},
   "outputs": [],
   "source": [
    "df1 = pd.read_excel('../data/NSSCrisisv_1.xlsx') # 2020-2021\n",
    "df2 = pd.read_excel('../data/NSSCrisisv_2.xlsx') # 2022\n",
    "# df_2020 = pd.read_excel('../data/2020callcenter.xlsx')\n",
    "# df_2021 = pd.read_excel('../data/2021callcenter.xlsx')\n",
    "# df_2022 = pd.read_excel('../data/2022callcenter.xlsx')"
   ]
  },
  {
   "cell_type": "code",
   "execution_count": 15,
   "id": "08ed6311",
   "metadata": {},
   "outputs": [],
   "source": [
    "# Rob: Change name of CRISIS Subjective in v2 to CRISIS Issues to match v1\n",
    "labels = list()\n",
    "for col in df2.columns:\n",
    "    labels.append(col.replace('Subjective', 'Issues'))\n",
    "df2.columns = labels"
   ]
  },
  {
   "cell_type": "code",
   "execution_count": 16,
   "id": "04471bce",
   "metadata": {},
   "outputs": [],
   "source": [
    "# Rob: Drops columns that contain only NaN\n",
    "df1.dropna(how='all', axis=1, inplace=True)\n",
    "df2.dropna(how='all', axis=1, inplace=True)"
   ]
  },
  {
   "cell_type": "code",
   "execution_count": null,
   "id": "aa8cb4e8",
   "metadata": {},
   "outputs": [],
   "source": [
    "# Rob: Drop columns whose entire values are 98% NaN\n",
    "# pct_null = df1.isnull().sum() / len(df1)\n",
    "# missing_features = pct_null[pct_null > 0.98].index\n",
    "# df1.drop(missing_features, axis=1, inplace=True)"
   ]
  },
  {
   "cell_type": "code",
   "execution_count": null,
   "id": "a795dc15",
   "metadata": {},
   "outputs": [],
   "source": [
    "# pct_null = df1.isnull().sum() / len(df1)\n",
    "# missing_features = pct_null[pct_null > 0.98].index\n",
    "# df2.drop(missing_features, axis=1, inplace=True)"
   ]
  },
  {
   "cell_type": "code",
   "execution_count": null,
   "id": "5c76506b",
   "metadata": {},
   "outputs": [],
   "source": [
    "# Maggie: Find the columns that are the same in both dfs\n",
    "samecolumnsdf = pd.DataFrame(df1.columns.intersection(df2.columns))\n",
    "samecolumnsdf"
   ]
  },
  {
   "cell_type": "markdown",
   "id": "4a5925c6",
   "metadata": {},
   "source": [
    "## Group EDA\n",
    "We are using these columns in addition to the CRISIS Issues columns:\n",
    "- CallReportNum, CallDateAndTimeStart, CallDateAndTimeEnd, CallLength, CallerNum"
   ]
  },
  {
   "cell_type": "code",
   "execution_count": 25,
   "id": "b08692e5",
   "metadata": {},
   "outputs": [],
   "source": [
    "# Rob: Loop that grabs columns we want and puts it into one df\n",
    "filter_col1 = [col for col in df1 if col.startswith('CRISIS Issues') or col.startswith('Call')]\n",
    "df1_ci = df1[filter_col1]"
   ]
  },
  {
   "cell_type": "code",
   "execution_count": 26,
   "id": "e4b6f523",
   "metadata": {},
   "outputs": [],
   "source": [
    "# Rob: Loop that grabs columns we want and puts it into one df\n",
    "filter_col2 = [col for col in df2 if col.startswith('CRISIS Issues') or col.startswith('Call')]\n",
    "df2_ci = df2[filter_col2]"
   ]
  },
  {
   "cell_type": "markdown",
   "id": "d90ccf61",
   "metadata": {},
   "source": [
    "### THIS IS THE MASTER DATAFRAME"
   ]
  },
  {
   "cell_type": "code",
   "execution_count": null,
   "id": "45acd151",
   "metadata": {
    "scrolled": false
   },
   "outputs": [],
   "source": [
    "all_ci = pd.concat([df1_ci, df2_ci])\n",
    "all_ci"
   ]
  },
  {
   "cell_type": "markdown",
   "id": "74002c3a",
   "metadata": {},
   "source": [
    "Refresher: ..... **what is the average count of issues per call.**"
   ]
  },
  {
   "cell_type": "markdown",
   "id": "3267d8d6",
   "metadata": {},
   "source": [
    "Example CRISIS column cell: A/B; C; D\n",
    "- There are 4 issues within that cell\n",
    "- Each issue can be separated by a / or ;\n",
    "- Therefore count of issues should be count of ('/|;')+1 for cells that have ('/|;')"
   ]
  },
  {
   "cell_type": "markdown",
   "id": "135e7bbc",
   "metadata": {},
   "source": [
    "## ROB'S CODE TO COUNT ISSUES (Abusive Behavior)\n",
    "- This is actually really informative, append a bunch of columns with the issue count of that row/category to the end of the DataFrame and calculate the average of that?"
   ]
  },
  {
   "cell_type": "code",
   "execution_count": 64,
   "id": "77b9faa5",
   "metadata": {},
   "outputs": [],
   "source": [
    "ab = all_ci['CRISIS Issues - Abusive Behavior'].notnull()"
   ]
  },
  {
   "cell_type": "code",
   "execution_count": 65,
   "id": "c6efc289",
   "metadata": {},
   "outputs": [],
   "source": [
    "ab = all_ci[ab]"
   ]
  },
  {
   "cell_type": "code",
   "execution_count": 67,
   "id": "8810bc49",
   "metadata": {},
   "outputs": [],
   "source": [
    "count = []\n",
    "\n",
    "for x in ab['CRISIS Issues - Abusive Behavior']:\n",
    "    counter0 = x.count(\";\")+1\n",
    "    counter = counter0\n",
    "    count.append(counter)"
   ]
  },
  {
   "cell_type": "code",
   "execution_count": null,
   "id": "f11134c3",
   "metadata": {
    "scrolled": false
   },
   "outputs": [],
   "source": [
    "ab['AB_Issues_Count'] = count"
   ]
  },
  {
   "cell_type": "code",
   "execution_count": 69,
   "id": "b2ee60de",
   "metadata": {},
   "outputs": [
    {
     "data": {
      "text/plain": [
       "3656"
      ]
     },
     "execution_count": 69,
     "metadata": {},
     "output_type": "execute_result"
    }
   ],
   "source": [
    "sum_ab = ab['AB_Issues_Count'].sum()\n",
    "sum_ab"
   ]
  },
  {
   "cell_type": "markdown",
   "id": "1164275e",
   "metadata": {},
   "source": [
    "## MY CODE TO COUNT ISSUES (Abusive Behavior) = SAME AS ROB'S!!!"
   ]
  },
  {
   "cell_type": "code",
   "execution_count": 70,
   "id": "b0cb02b2",
   "metadata": {},
   "outputs": [
    {
     "data": {
      "text/plain": [
       "3656.0"
      ]
     },
     "execution_count": 70,
     "metadata": {},
     "output_type": "execute_result"
    }
   ],
   "source": [
    "# Total number of abusive behavior issues\n",
    "ab = all_ci['CRISIS Issues - Abusive Behavior'].str.count(';')+1\n",
    "ab.sum()"
   ]
  },
  {
   "cell_type": "code",
   "execution_count": 76,
   "id": "ebe69783",
   "metadata": {},
   "outputs": [
    {
     "data": {
      "text/plain": [
       "41546"
      ]
     },
     "execution_count": 76,
     "metadata": {},
     "output_type": "execute_result"
    }
   ],
   "source": [
    "sum_mh = mh['MH_Issues_Count'].sum()\n",
    "sum_mh"
   ]
  },
  {
   "cell_type": "markdown",
   "id": "30ebbb96",
   "metadata": {},
   "source": [
    "## Below are the total number of issues per CRISIS column (13)"
   ]
  },
  {
   "cell_type": "code",
   "execution_count": 94,
   "id": "01d23d60",
   "metadata": {},
   "outputs": [
    {
     "data": {
      "text/plain": [
       "3656.0"
      ]
     },
     "execution_count": 94,
     "metadata": {},
     "output_type": "execute_result"
    }
   ],
   "source": [
    "# Total number of abusive behavior issues\n",
    "ab = all_ci['CRISIS Issues - Abusive Behavior'].str.count(';')+1\n",
    "total_ab = ab.sum()\n",
    "total_ab"
   ]
  },
  {
   "cell_type": "code",
   "execution_count": 95,
   "id": "935f7f5c",
   "metadata": {},
   "outputs": [
    {
     "data": {
      "text/plain": [
       "98606.0"
      ]
     },
     "execution_count": 95,
     "metadata": {},
     "output_type": "execute_result"
    }
   ],
   "source": [
    "# Total number of emotional state issues\n",
    "es = all_ci['CRISIS Issues - Emotional State'].str.count(';')+1\n",
    "total_es = es.sum()\n",
    "total_es"
   ]
  },
  {
   "cell_type": "code",
   "execution_count": 96,
   "id": "816ff3f1",
   "metadata": {},
   "outputs": [
    {
     "data": {
      "text/plain": [
       "3523.0"
      ]
     },
     "execution_count": 96,
     "metadata": {},
     "output_type": "execute_result"
    }
   ],
   "source": [
    "# Total number of Financial/Basic Needs issues\n",
    "fbn = all_ci['CRISIS Issues - Financial/Basic Needs'].str.count(';')+1\n",
    "total_fbn = fbn.sum()\n",
    "total_fbn"
   ]
  },
  {
   "cell_type": "code",
   "execution_count": 97,
   "id": "04263896",
   "metadata": {},
   "outputs": [
    {
     "data": {
      "text/plain": [
       "7594.0"
      ]
     },
     "execution_count": 97,
     "metadata": {},
     "output_type": "execute_result"
    }
   ],
   "source": [
    "# Total number of Health/Physical issues\n",
    "hp = all_ci['CRISIS Issues - Health/Physical'].str.count(';')+1\n",
    "total_hp = hp.sum()\n",
    "total_hp"
   ]
  },
  {
   "cell_type": "code",
   "execution_count": 98,
   "id": "a217872b",
   "metadata": {},
   "outputs": [
    {
     "data": {
      "text/plain": [
       "72.0"
      ]
     },
     "execution_count": 98,
     "metadata": {},
     "output_type": "execute_result"
    }
   ],
   "source": [
    "# Total number of Health/Physical issues\n",
    "hom = all_ci['CRISIS Issues - Homicide'].str.count(';')+1\n",
    "total_hom = hom.sum()\n",
    "total_hom"
   ]
  },
  {
   "cell_type": "code",
   "execution_count": 99,
   "id": "7082fe60",
   "metadata": {},
   "outputs": [
    {
     "data": {
      "text/plain": [
       "2541.0"
      ]
     },
     "execution_count": 99,
     "metadata": {},
     "output_type": "execute_result"
    }
   ],
   "source": [
    "# Total number of Information or Services Needed issues\n",
    "isn = all_ci['CRISIS Issues - Information or Services Needed'].str.count(';')+1\n",
    "total_isn = isn.sum()\n",
    "total_isn"
   ]
  },
  {
   "cell_type": "code",
   "execution_count": 100,
   "id": "ba044021",
   "metadata": {},
   "outputs": [
    {
     "data": {
      "text/plain": [
       "41546.0"
      ]
     },
     "execution_count": 100,
     "metadata": {},
     "output_type": "execute_result"
    }
   ],
   "source": [
    "# Total number of mental health issues\n",
    "mh = all_ci['CRISIS Issues - Mental Health'].str.count(';')+1\n",
    "total_mh = mh.sum()\n",
    "total_mh"
   ]
  },
  {
   "cell_type": "code",
   "execution_count": 101,
   "id": "15ce19fd",
   "metadata": {},
   "outputs": [
    {
     "data": {
      "text/plain": [
       "1521.0"
      ]
     },
     "execution_count": 101,
     "metadata": {},
     "output_type": "execute_result"
    }
   ],
   "source": [
    "# Total number of No Issue Call issues\n",
    "nic = all_ci['CRISIS Issues - No Issue Call'].str.count(';')+1\n",
    "total_nic = nic.sum()\n",
    "total_nic"
   ]
  },
  {
   "cell_type": "code",
   "execution_count": 102,
   "id": "bb4dddb3",
   "metadata": {},
   "outputs": [
    {
     "data": {
      "text/plain": [
       "3477.0"
      ]
     },
     "execution_count": 102,
     "metadata": {},
     "output_type": "execute_result"
    }
   ],
   "source": [
    "# Total number of Other Description issues\n",
    "od = all_ci['CRISIS Issues - Other Description'].str.count(';')+1\n",
    "total_od = od.sum()\n",
    "total_od"
   ]
  },
  {
   "cell_type": "code",
   "execution_count": 103,
   "id": "da327e09",
   "metadata": {},
   "outputs": [
    {
     "data": {
      "text/plain": [
       "61546.0"
      ]
     },
     "execution_count": 103,
     "metadata": {},
     "output_type": "execute_result"
    }
   ],
   "source": [
    "# Total number of Relationships issues\n",
    "rel = all_ci['CRISIS Issues - Relationships'].str.count(';')+1\n",
    "total_rel = rel.sum()\n",
    "total_rel"
   ]
  },
  {
   "cell_type": "code",
   "execution_count": 104,
   "id": "4aedad02",
   "metadata": {},
   "outputs": [
    {
     "data": {
      "text/plain": [
       "3901.0"
      ]
     },
     "execution_count": 104,
     "metadata": {},
     "output_type": "execute_result"
    }
   ],
   "source": [
    "# Total number of Substances issues\n",
    "sub = all_ci['CRISIS Issues - Substances'].str.count(';')+1\n",
    "total_sub = sub.sum()\n",
    "total_sub"
   ]
  },
  {
   "cell_type": "code",
   "execution_count": 105,
   "id": "eb9e94b7",
   "metadata": {},
   "outputs": [
    {
     "data": {
      "text/plain": [
       "6514.0"
      ]
     },
     "execution_count": 105,
     "metadata": {},
     "output_type": "execute_result"
    }
   ],
   "source": [
    "# Total number of Suicide issues\n",
    "sui = all_ci['CRISIS Issues - Suicide'].str.count(';')+1\n",
    "total_sui = sui.sum()\n",
    "total_sui"
   ]
  },
  {
   "cell_type": "code",
   "execution_count": 109,
   "id": "875377f6",
   "metadata": {},
   "outputs": [
    {
     "data": {
      "text/plain": [
       "234.0"
      ]
     },
     "execution_count": 109,
     "metadata": {},
     "output_type": "execute_result"
    }
   ],
   "source": [
    "# Total number of No presenting problems issues\n",
    "npp = all_ci['CRISIS Issues - No presenting problems'].str.count(';')+1\n",
    "total_npp = npp.sum()\n",
    "total_npp"
   ]
  },
  {
   "cell_type": "code",
   "execution_count": 131,
   "id": "76fddd1f",
   "metadata": {},
   "outputs": [
    {
     "data": {
      "text/html": [
       "<div>\n",
       "<style scoped>\n",
       "    .dataframe tbody tr th:only-of-type {\n",
       "        vertical-align: middle;\n",
       "    }\n",
       "\n",
       "    .dataframe tbody tr th {\n",
       "        vertical-align: top;\n",
       "    }\n",
       "\n",
       "    .dataframe thead th {\n",
       "        text-align: right;\n",
       "    }\n",
       "</style>\n",
       "<table border=\"1\" class=\"dataframe\">\n",
       "  <thead>\n",
       "    <tr style=\"text-align: right;\">\n",
       "      <th></th>\n",
       "      <th>CRISIS_Issue</th>\n",
       "      <th>Number_of_Issues</th>\n",
       "    </tr>\n",
       "  </thead>\n",
       "  <tbody>\n",
       "    <tr>\n",
       "      <th>0</th>\n",
       "      <td>Abusive Behavior</td>\n",
       "      <td>3656.0</td>\n",
       "    </tr>\n",
       "    <tr>\n",
       "      <th>1</th>\n",
       "      <td>Emotional State</td>\n",
       "      <td>98606.0</td>\n",
       "    </tr>\n",
       "    <tr>\n",
       "      <th>2</th>\n",
       "      <td>Financial/Basic Needs</td>\n",
       "      <td>3523.0</td>\n",
       "    </tr>\n",
       "    <tr>\n",
       "      <th>3</th>\n",
       "      <td>Health/Physical</td>\n",
       "      <td>7594.0</td>\n",
       "    </tr>\n",
       "    <tr>\n",
       "      <th>4</th>\n",
       "      <td>Homicide</td>\n",
       "      <td>72.0</td>\n",
       "    </tr>\n",
       "    <tr>\n",
       "      <th>5</th>\n",
       "      <td>Info/Service Needed</td>\n",
       "      <td>2541.0</td>\n",
       "    </tr>\n",
       "    <tr>\n",
       "      <th>6</th>\n",
       "      <td>Mental Health</td>\n",
       "      <td>41546.0</td>\n",
       "    </tr>\n",
       "    <tr>\n",
       "      <th>7</th>\n",
       "      <td>No Issue</td>\n",
       "      <td>1521.0</td>\n",
       "    </tr>\n",
       "    <tr>\n",
       "      <th>8</th>\n",
       "      <td>Other</td>\n",
       "      <td>3477.0</td>\n",
       "    </tr>\n",
       "    <tr>\n",
       "      <th>9</th>\n",
       "      <td>Relationships</td>\n",
       "      <td>61546.0</td>\n",
       "    </tr>\n",
       "    <tr>\n",
       "      <th>10</th>\n",
       "      <td>Substances</td>\n",
       "      <td>3901.0</td>\n",
       "    </tr>\n",
       "    <tr>\n",
       "      <th>11</th>\n",
       "      <td>Suicide</td>\n",
       "      <td>6514.0</td>\n",
       "    </tr>\n",
       "    <tr>\n",
       "      <th>12</th>\n",
       "      <td>No Presenting Problems</td>\n",
       "      <td>234.0</td>\n",
       "    </tr>\n",
       "  </tbody>\n",
       "</table>\n",
       "</div>"
      ],
      "text/plain": [
       "              CRISIS_Issue  Number_of_Issues\n",
       "0         Abusive Behavior            3656.0\n",
       "1          Emotional State           98606.0\n",
       "2    Financial/Basic Needs            3523.0\n",
       "3          Health/Physical            7594.0\n",
       "4                 Homicide              72.0\n",
       "5      Info/Service Needed            2541.0\n",
       "6            Mental Health           41546.0\n",
       "7                 No Issue            1521.0\n",
       "8                    Other            3477.0\n",
       "9            Relationships           61546.0\n",
       "10              Substances            3901.0\n",
       "11                 Suicide            6514.0\n",
       "12  No Presenting Problems             234.0"
      ]
     },
     "execution_count": 131,
     "metadata": {},
     "output_type": "execute_result"
    }
   ],
   "source": [
    "# Making the DataFrame\n",
    "num_issues_list = [total_ab, total_es, total_fbn, total_hp, total_hom, total_isn, total_mh, total_nic, total_od, total_rel, total_sub, total_sui, total_npp]\n",
    "cri_issues_list = ['Abusive Behavior', 'Emotional State', 'Financial/Basic Needs', 'Health/Physical', 'Homicide', 'Info/Service Needed', 'Mental Health', 'No Issue', 'Other', 'Relationships', 'Substances', 'Suicide', 'No Presenting Problems']\n",
    "issue_count_df = pd.DataFrame(list(zip(cri_issues_list, num_issues_list)),\n",
    "    columns =['CRISIS_Issue', 'Number_of_Issues'])\n",
    "issue_count_df"
   ]
  },
  {
   "cell_type": "code",
   "execution_count": 132,
   "id": "578c2e75",
   "metadata": {},
   "outputs": [
    {
     "data": {
      "text/html": [
       "<div>\n",
       "<style scoped>\n",
       "    .dataframe tbody tr th:only-of-type {\n",
       "        vertical-align: middle;\n",
       "    }\n",
       "\n",
       "    .dataframe tbody tr th {\n",
       "        vertical-align: top;\n",
       "    }\n",
       "\n",
       "    .dataframe thead th {\n",
       "        text-align: right;\n",
       "    }\n",
       "</style>\n",
       "<table border=\"1\" class=\"dataframe\">\n",
       "  <thead>\n",
       "    <tr style=\"text-align: right;\">\n",
       "      <th></th>\n",
       "      <th>CRISIS_Issue</th>\n",
       "      <th>Number_of_Issues</th>\n",
       "    </tr>\n",
       "  </thead>\n",
       "  <tbody>\n",
       "    <tr>\n",
       "      <th>4</th>\n",
       "      <td>Homicide</td>\n",
       "      <td>72.0</td>\n",
       "    </tr>\n",
       "    <tr>\n",
       "      <th>12</th>\n",
       "      <td>No Presenting Problems</td>\n",
       "      <td>234.0</td>\n",
       "    </tr>\n",
       "    <tr>\n",
       "      <th>7</th>\n",
       "      <td>No Issue</td>\n",
       "      <td>1521.0</td>\n",
       "    </tr>\n",
       "    <tr>\n",
       "      <th>5</th>\n",
       "      <td>Info/Service Needed</td>\n",
       "      <td>2541.0</td>\n",
       "    </tr>\n",
       "    <tr>\n",
       "      <th>8</th>\n",
       "      <td>Other</td>\n",
       "      <td>3477.0</td>\n",
       "    </tr>\n",
       "    <tr>\n",
       "      <th>2</th>\n",
       "      <td>Financial/Basic Needs</td>\n",
       "      <td>3523.0</td>\n",
       "    </tr>\n",
       "    <tr>\n",
       "      <th>0</th>\n",
       "      <td>Abusive Behavior</td>\n",
       "      <td>3656.0</td>\n",
       "    </tr>\n",
       "    <tr>\n",
       "      <th>10</th>\n",
       "      <td>Substances</td>\n",
       "      <td>3901.0</td>\n",
       "    </tr>\n",
       "    <tr>\n",
       "      <th>11</th>\n",
       "      <td>Suicide</td>\n",
       "      <td>6514.0</td>\n",
       "    </tr>\n",
       "    <tr>\n",
       "      <th>3</th>\n",
       "      <td>Health/Physical</td>\n",
       "      <td>7594.0</td>\n",
       "    </tr>\n",
       "    <tr>\n",
       "      <th>6</th>\n",
       "      <td>Mental Health</td>\n",
       "      <td>41546.0</td>\n",
       "    </tr>\n",
       "    <tr>\n",
       "      <th>9</th>\n",
       "      <td>Relationships</td>\n",
       "      <td>61546.0</td>\n",
       "    </tr>\n",
       "    <tr>\n",
       "      <th>1</th>\n",
       "      <td>Emotional State</td>\n",
       "      <td>98606.0</td>\n",
       "    </tr>\n",
       "  </tbody>\n",
       "</table>\n",
       "</div>"
      ],
      "text/plain": [
       "              CRISIS_Issue  Number_of_Issues\n",
       "4                 Homicide              72.0\n",
       "12  No Presenting Problems             234.0\n",
       "7                 No Issue            1521.0\n",
       "5      Info/Service Needed            2541.0\n",
       "8                    Other            3477.0\n",
       "2    Financial/Basic Needs            3523.0\n",
       "0         Abusive Behavior            3656.0\n",
       "10              Substances            3901.0\n",
       "11                 Suicide            6514.0\n",
       "3          Health/Physical            7594.0\n",
       "6            Mental Health           41546.0\n",
       "9            Relationships           61546.0\n",
       "1          Emotional State           98606.0"
      ]
     },
     "execution_count": 132,
     "metadata": {},
     "output_type": "execute_result"
    }
   ],
   "source": [
    "issue_count_df = issue_count_df.sort_values('Number_of_Issues', ascending=True)\n",
    "issue_count_df"
   ]
  },
  {
   "cell_type": "code",
   "execution_count": 146,
   "id": "2e80f5c0",
   "metadata": {},
   "outputs": [
    {
     "data": {
      "image/png": "[encoded data removed]",
      "text/plain": [
       "<Figure size 1152x720 with 1 Axes>"
      ]
     },
     "metadata": {
      "needs_background": "light"
     },
     "output_type": "display_data"
    }
   ],
   "source": [
    "plt.figure(figsize=(16, 10))\n",
    "plt.barh(issue_count_df.CRISIS_Issue, issue_count_df.Number_of_Issues)\n",
    "plt.xticks(rotation = 0, fontsize=16)\n",
    "plt.xlabel('Number of Issues', fontsize=18)\n",
    "plt.yticks(fontsize=16)\n",
    "plt.title('Number of CRISIS Issues Per Category', fontsize=30);"
   ]
  },
  {
   "cell_type": "markdown",
   "id": "88bff617",
   "metadata": {},
   "source": [
    "There are different kinds of issues within each CRISIS category (Y-axis) -- this plot shows the count of all those issues."
   ]
  },
  {
   "cell_type": "code",
   "execution_count": 149,
   "id": "3eb0d563",
   "metadata": {},
   "outputs": [
    {
     "data": {
      "image/png": "[encoded data removed]",
      "text/plain": [
       "<Figure size 432x288 with 1 Axes>"
      ]
     },
     "metadata": {
      "needs_background": "light"
     },
     "output_type": "display_data"
    }
   ],
   "source": [
    "# Redoing above plot in seaborn, I'll play around with this on my own time\n",
    "sns.barplot(x = issue_count_df.Number_of_Issues,\n",
    "            y = issue_count_df.CRISIS_Issue,\n",
    "            data = issue_count_df,\n",
    "            palette = \"Blues\");\n",
    "# Lol it's flipped"
   ]
  },
  {
   "cell_type": "code",
   "execution_count": null,
   "id": "763121f2",
   "metadata": {},
   "outputs": [],
   "source": [
    "# Rob: Use Seaborn to get column values\n",
    "# ax.bar_label(ax.containers[0], fmt = '%d', \n",
    "#              padding=2, \n",
    "#               label_type='edge', \n",
    "#               color='black', \n",
    "#               fontweight='bold'\n",
    "#             )"
   ]
  },
  {
   "cell_type": "markdown",
   "id": "092acb1e",
   "metadata": {},
   "source": [
    "## Moving forward, I'll start using Rob's code to append issue counts per row to the master DataFrame. Then the average count of issues per call can be calculated from the overall total and (perhaps more insightfully) from each issue category."
   ]
  }
 ],
 "metadata": {
  "kernelspec": {
   "display_name": "Python 3 (ipykernel)",
   "language": "python",
   "name": "python3"
  },
  "language_info": {
   "codemirror_mode": {
    "name": "ipython",
    "version": 3
   },
   "file_extension": ".py",
   "mimetype": "text/x-python",
   "name": "python",
   "nbconvert_exporter": "python",
   "pygments_lexer": "ipython3",
   "version": "3.9.7"
  }
 },
 "nbformat": 4,
 "nbformat_minor": 5
}
