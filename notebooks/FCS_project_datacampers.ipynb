{
 "cells": [
  {
   "cell_type": "markdown",
   "id": "f3127035",
   "metadata": {},
   "source": [
    "# Family and Children's Services Crisis Project by DataCampers\n",
    "### Objective 2: Analyze trends in call content by looking for which issues are most frequent and what is the average count of issues per call.\n",
    "- *For the second objective, the columns that contain the information about the documented issues are those that begin with CRISIS Issues. When calls come in, call takers use a form to indicate the various issues the individual is experiencing.*\n",
    "- *If an individual is experiencing multiple issues, the issues can be grouped together into a single cell, which makes understanding individual issues difficult. For this project you will parse the data from the different CRISIS Issues columns to allow deeper investigation of each individual issue.*\n",
    "\n",
    "### To do: CRISIS Issues per call (partitioned by CRISIS Issue column) calculated, need to chart these values"
   ]
  },
  {
   "cell_type": "markdown",
   "id": "e58e9003",
   "metadata": {},
   "source": [
    "## Self EDA"
   ]
  },
  {
   "cell_type": "markdown",
   "id": "77781384",
   "metadata": {},
   "source": [
    "#### Read in the relevant data"
   ]
  },
  {
   "cell_type": "code",
   "execution_count": 1,
   "id": "cc5e5506",
   "metadata": {},
   "outputs": [],
   "source": [
    "import pandas as pd\n",
    "pd.set_option('display.max_rows', 500)\n",
    "pd.set_option('display.max_columns', 500)\n",
    "pd.set_option('display.width', 1000)\n",
    "import numpy as np\n",
    "import matplotlib.pyplot as plt\n",
    "%matplotlib inline\n",
    "import seaborn as sns\n",
    "import requests as re"
   ]
  },
  {
   "cell_type": "code",
   "execution_count": 2,
   "id": "6fda423a",
   "metadata": {},
   "outputs": [],
   "source": [
    "df1 = pd.read_excel('../data/NSSCrisisv_1.xlsx') # 2020-2021\n",
    "df2 = pd.read_excel('../data/NSSCrisisv_2.xlsx') # 2022\n",
    "# df_2020 = pd.read_excel('../data/2020callcenter.xlsx')\n",
    "# df_2021 = pd.read_excel('../data/2021callcenter.xlsx')\n",
    "# df_2022 = pd.read_excel('../data/2022callcenter.xlsx')"
   ]
  },
  {
   "cell_type": "code",
   "execution_count": 3,
   "id": "9253a4af",
   "metadata": {},
   "outputs": [],
   "source": [
    "# Rob: Change name of CRISIS Subjective in v2 to CRISIS Issues to match v1\n",
    "labels = list()\n",
    "for col in df2.columns:\n",
    "    labels.append(col.replace('Subjective', 'Issues'))\n",
    "df2.columns = labels"
   ]
  },
  {
   "cell_type": "code",
   "execution_count": 4,
   "id": "3a808108",
   "metadata": {},
   "outputs": [],
   "source": [
    "# Rob: Drops columns that contain only NaN\n",
    "df1.dropna(how='all', axis=1, inplace=True)\n",
    "df2.dropna(how='all', axis=1, inplace=True)"
   ]
  },
  {
   "cell_type": "code",
   "execution_count": 5,
   "id": "cf0a061e",
   "metadata": {},
   "outputs": [],
   "source": [
    "# Rob: Drop columns whose entire values are 98% NaN\n",
    "# pct_null = df1.isnull().sum() / len(df1)\n",
    "# missing_features = pct_null[pct_null > 0.98].index\n",
    "# df1.drop(missing_features, axis=1, inplace=True)"
   ]
  },
  {
   "cell_type": "code",
   "execution_count": 6,
   "id": "5cfde052",
   "metadata": {},
   "outputs": [],
   "source": [
    "# pct_null = df1.isnull().sum() / len(df1)\n",
    "# missing_features = pct_null[pct_null > 0.98].index\n",
    "# df2.drop(missing_features, axis=1, inplace=True)"
   ]
  },
  {
   "cell_type": "code",
   "execution_count": null,
   "id": "bf1bc587",
   "metadata": {},
   "outputs": [],
   "source": [
    "# Maggie: Find the columns that are the same in both dfs\n",
    "samecolumnsdf = pd.DataFrame(df1.columns.intersection(df2.columns))\n",
    "samecolumnsdf"
   ]
  },
  {
   "cell_type": "markdown",
   "id": "936924a9",
   "metadata": {},
   "source": [
    "## Group EDA\n",
    "We are using these columns in addition to the CRISIS Issues columns:\n",
    "- CallReportNum, CallDateAndTimeStart, CallDateAndTimeEnd, CallLength, CallerNum"
   ]
  },
  {
   "cell_type": "code",
   "execution_count": 8,
   "id": "41c6a743",
   "metadata": {},
   "outputs": [],
   "source": [
    "# Rob: Loop that grabs columns we want and puts it into one df\n",
    "filter_col1 = [col for col in df1 if col.startswith('CRISIS Issues') or col.startswith('Call')]\n",
    "df1_ci = df1[filter_col1]"
   ]
  },
  {
   "cell_type": "code",
   "execution_count": 9,
   "id": "e935d873",
   "metadata": {},
   "outputs": [],
   "source": [
    "# Rob: Loop that grabs columns we want and puts it into one df\n",
    "filter_col2 = [col for col in df2 if col.startswith('CRISIS Issues') or col.startswith('Call')]\n",
    "df2_ci = df2[filter_col2]"
   ]
  },
  {
   "cell_type": "markdown",
   "id": "fd7874ce",
   "metadata": {},
   "source": [
    "### THIS IS THE MASTER DATAFRAME"
   ]
  },
  {
   "cell_type": "code",
   "execution_count": null,
   "id": "3c81f702",
   "metadata": {
    "scrolled": false
   },
   "outputs": [],
   "source": [
    "all_ci = pd.concat([df1_ci, df2_ci])\n",
    "all_ci"
   ]
  },
  {
   "cell_type": "markdown",
   "id": "65058645",
   "metadata": {},
   "source": [
    "Refresher: ..... **what is the average count of issues per call.**"
   ]
  },
  {
   "cell_type": "markdown",
   "id": "1b6d60aa",
   "metadata": {},
   "source": [
    "## ROB'S CODE TO COUNT ISSUES\n",
    "- I am using this to find the issue count of each cell corresponding to that issue category. Then we can find the average count of issues per call (eg. PARTITION BY all CRISIS Issues) and the average count of each category issue per call (eg. PARTITION BY CRISIS Issue - Abusive Behavior, etc).\n",
    "- **Run each section from the top to refresh the variables!!**\n",
    "- lens show how many of those category rows exist (eg. 2505 Abusive Behavior rows out of 63,254)\n",
    "- sums show total count of the issues count column for that category, will always be >= to lens\n",
    "- Need to divide these sums by 63,254 to get the avg number of issues for that category per call"
   ]
  },
  {
   "cell_type": "markdown",
   "id": "32d86251",
   "metadata": {},
   "source": [
    "1. CRISIS Issues - Abusive Behavior"
   ]
  },
  {
   "cell_type": "code",
   "execution_count": 11,
   "id": "a2159b6b",
   "metadata": {},
   "outputs": [],
   "source": [
    "ci_counts = all_ci['CRISIS Issues - Abusive Behavior'].notnull()"
   ]
  },
  {
   "cell_type": "code",
   "execution_count": 12,
   "id": "5d58393c",
   "metadata": {},
   "outputs": [],
   "source": [
    "ci_counts = all_ci[ci_counts]"
   ]
  },
  {
   "cell_type": "code",
   "execution_count": 13,
   "id": "7fa16278",
   "metadata": {},
   "outputs": [],
   "source": [
    "count = []\n",
    "\n",
    "for x in ci_counts['CRISIS Issues - Abusive Behavior']:\n",
    "    counter = x.count(\";\")+1\n",
    "    count.append(counter)"
   ]
  },
  {
   "cell_type": "code",
   "execution_count": 14,
   "id": "bb2bb7f4",
   "metadata": {
    "scrolled": false
   },
   "outputs": [
    {
     "name": "stderr",
     "output_type": "stream",
     "text": [
      "C:\\Users\\Jasmine\\AppData\\Local\\Temp/ipykernel_4632/4004364910.py:1: SettingWithCopyWarning: \n",
      "A value is trying to be set on a copy of a slice from a DataFrame.\n",
      "Try using .loc[row_indexer,col_indexer] = value instead\n",
      "\n",
      "See the caveats in the documentation: https://pandas.pydata.org/pandas-docs/stable/user_guide/indexing.html#returning-a-view-versus-a-copy\n",
      "  ci_counts['Issues_Count_AB'] = count\n"
     ]
    }
   ],
   "source": [
    "ci_counts['Issues_Count_AB'] = count"
   ]
  },
  {
   "cell_type": "code",
   "execution_count": 15,
   "id": "a9a8bfb7",
   "metadata": {},
   "outputs": [
    {
     "data": {
      "text/plain": [
       "2505"
      ]
     },
     "execution_count": 15,
     "metadata": {},
     "output_type": "execute_result"
    }
   ],
   "source": [
    "len(ci_counts.index)"
   ]
  },
  {
   "cell_type": "code",
   "execution_count": 16,
   "id": "d3c81c39",
   "metadata": {},
   "outputs": [
    {
     "data": {
      "text/plain": [
       "3656"
      ]
     },
     "execution_count": 16,
     "metadata": {},
     "output_type": "execute_result"
    }
   ],
   "source": [
    "ci_counts['Issues_Count_AB'].sum()"
   ]
  },
  {
   "cell_type": "code",
   "execution_count": 17,
   "id": "46e0ac39",
   "metadata": {},
   "outputs": [],
   "source": [
    "a=3656/63254 # 0.06 Abusive behavior issues per call"
   ]
  },
  {
   "cell_type": "markdown",
   "id": "8f1b0e35",
   "metadata": {},
   "source": [
    "2. CRISIS Issues - Emotional State"
   ]
  },
  {
   "cell_type": "code",
   "execution_count": 18,
   "id": "2f7776d4",
   "metadata": {},
   "outputs": [],
   "source": [
    "ci_counts = all_ci['CRISIS Issues - Emotional State'].notnull()"
   ]
  },
  {
   "cell_type": "code",
   "execution_count": 19,
   "id": "d37aea6e",
   "metadata": {},
   "outputs": [],
   "source": [
    "ci_counts = all_ci[ci_counts]"
   ]
  },
  {
   "cell_type": "code",
   "execution_count": 20,
   "id": "29c7dca4",
   "metadata": {},
   "outputs": [],
   "source": [
    "count = []\n",
    "\n",
    "for x in ci_counts['CRISIS Issues - Emotional State']:\n",
    "    counter = x.count(\";\")+1\n",
    "    count.append(counter)"
   ]
  },
  {
   "cell_type": "code",
   "execution_count": 21,
   "id": "fd5e0b2f",
   "metadata": {
    "scrolled": true
   },
   "outputs": [
    {
     "name": "stderr",
     "output_type": "stream",
     "text": [
      "C:\\Users\\Jasmine\\AppData\\Local\\Temp/ipykernel_4632/4273064899.py:1: SettingWithCopyWarning: \n",
      "A value is trying to be set on a copy of a slice from a DataFrame.\n",
      "Try using .loc[row_indexer,col_indexer] = value instead\n",
      "\n",
      "See the caveats in the documentation: https://pandas.pydata.org/pandas-docs/stable/user_guide/indexing.html#returning-a-view-versus-a-copy\n",
      "  ci_counts['Issues_Count_ES'] = count\n"
     ]
    }
   ],
   "source": [
    "ci_counts['Issues_Count_ES'] = count"
   ]
  },
  {
   "cell_type": "code",
   "execution_count": 22,
   "id": "d2384b10",
   "metadata": {},
   "outputs": [
    {
     "data": {
      "text/plain": [
       "42713"
      ]
     },
     "execution_count": 22,
     "metadata": {},
     "output_type": "execute_result"
    }
   ],
   "source": [
    "len(ci_counts.index)"
   ]
  },
  {
   "cell_type": "code",
   "execution_count": 23,
   "id": "9c3ae467",
   "metadata": {},
   "outputs": [
    {
     "data": {
      "text/plain": [
       "98606"
      ]
     },
     "execution_count": 23,
     "metadata": {},
     "output_type": "execute_result"
    }
   ],
   "source": [
    "ci_counts['Issues_Count_ES'].sum()"
   ]
  },
  {
   "cell_type": "code",
   "execution_count": 24,
   "id": "8aa825e3",
   "metadata": {},
   "outputs": [],
   "source": [
    "b=98606/63254 # 1.56 Emotional state issues per call"
   ]
  },
  {
   "cell_type": "markdown",
   "id": "5c76e2ee",
   "metadata": {},
   "source": [
    "3. CRISIS Issues - Financial/Basic Needs"
   ]
  },
  {
   "cell_type": "code",
   "execution_count": 25,
   "id": "fe6455d2",
   "metadata": {},
   "outputs": [],
   "source": [
    "ci_counts = all_ci['CRISIS Issues - Financial/Basic Needs'].notnull()"
   ]
  },
  {
   "cell_type": "code",
   "execution_count": 26,
   "id": "97c7c3e6",
   "metadata": {},
   "outputs": [],
   "source": [
    "ci_counts = all_ci[ci_counts]"
   ]
  },
  {
   "cell_type": "code",
   "execution_count": 27,
   "id": "7c44a2b0",
   "metadata": {},
   "outputs": [],
   "source": [
    "count = []\n",
    "\n",
    "for x in ci_counts['CRISIS Issues - Financial/Basic Needs']:\n",
    "    counter = x.count(\";\")+1\n",
    "    count.append(counter)"
   ]
  },
  {
   "cell_type": "code",
   "execution_count": 28,
   "id": "e3e30ea2",
   "metadata": {},
   "outputs": [
    {
     "name": "stderr",
     "output_type": "stream",
     "text": [
      "C:\\Users\\Jasmine\\AppData\\Local\\Temp/ipykernel_4632/1554597162.py:1: SettingWithCopyWarning: \n",
      "A value is trying to be set on a copy of a slice from a DataFrame.\n",
      "Try using .loc[row_indexer,col_indexer] = value instead\n",
      "\n",
      "See the caveats in the documentation: https://pandas.pydata.org/pandas-docs/stable/user_guide/indexing.html#returning-a-view-versus-a-copy\n",
      "  ci_counts['Issues_Count_FBN'] = count\n"
     ]
    }
   ],
   "source": [
    "ci_counts['Issues_Count_FBN'] = count"
   ]
  },
  {
   "cell_type": "code",
   "execution_count": 29,
   "id": "7ffe2018",
   "metadata": {},
   "outputs": [
    {
     "data": {
      "text/plain": [
       "2515"
      ]
     },
     "execution_count": 29,
     "metadata": {},
     "output_type": "execute_result"
    }
   ],
   "source": [
    "len(ci_counts.index)"
   ]
  },
  {
   "cell_type": "code",
   "execution_count": 30,
   "id": "b5fd8735",
   "metadata": {},
   "outputs": [
    {
     "data": {
      "text/plain": [
       "3523"
      ]
     },
     "execution_count": 30,
     "metadata": {},
     "output_type": "execute_result"
    }
   ],
   "source": [
    "ci_counts['Issues_Count_FBN'].sum()"
   ]
  },
  {
   "cell_type": "code",
   "execution_count": 31,
   "id": "f69f6457",
   "metadata": {},
   "outputs": [],
   "source": [
    "c=3523/63254 # 0.06 Financial/Basic Needs issues per call"
   ]
  },
  {
   "cell_type": "markdown",
   "id": "4187af2a",
   "metadata": {},
   "source": [
    "4. CRISIS Issues - Health/Physical"
   ]
  },
  {
   "cell_type": "code",
   "execution_count": 32,
   "id": "9578015d",
   "metadata": {},
   "outputs": [],
   "source": [
    "ci_counts = all_ci['CRISIS Issues - Health/Physical'].notnull()"
   ]
  },
  {
   "cell_type": "code",
   "execution_count": 33,
   "id": "54976fdf",
   "metadata": {},
   "outputs": [],
   "source": [
    "ci_counts = all_ci[ci_counts]"
   ]
  },
  {
   "cell_type": "code",
   "execution_count": 34,
   "id": "4e66f7a4",
   "metadata": {},
   "outputs": [],
   "source": [
    "count = []\n",
    "\n",
    "for x in ci_counts['CRISIS Issues - Health/Physical']:\n",
    "    counter = x.count(\";\")+1\n",
    "    count.append(counter)"
   ]
  },
  {
   "cell_type": "code",
   "execution_count": 35,
   "id": "2009cdd3",
   "metadata": {},
   "outputs": [
    {
     "name": "stderr",
     "output_type": "stream",
     "text": [
      "C:\\Users\\Jasmine\\AppData\\Local\\Temp/ipykernel_4632/3637456233.py:1: SettingWithCopyWarning: \n",
      "A value is trying to be set on a copy of a slice from a DataFrame.\n",
      "Try using .loc[row_indexer,col_indexer] = value instead\n",
      "\n",
      "See the caveats in the documentation: https://pandas.pydata.org/pandas-docs/stable/user_guide/indexing.html#returning-a-view-versus-a-copy\n",
      "  ci_counts['Issues_Count_HP'] = count\n"
     ]
    }
   ],
   "source": [
    "ci_counts['Issues_Count_HP'] = count"
   ]
  },
  {
   "cell_type": "code",
   "execution_count": 36,
   "id": "b969fac1",
   "metadata": {},
   "outputs": [
    {
     "data": {
      "text/plain": [
       "5736"
      ]
     },
     "execution_count": 36,
     "metadata": {},
     "output_type": "execute_result"
    }
   ],
   "source": [
    "len(ci_counts.index)"
   ]
  },
  {
   "cell_type": "code",
   "execution_count": 37,
   "id": "0139385e",
   "metadata": {},
   "outputs": [
    {
     "data": {
      "text/plain": [
       "7594"
      ]
     },
     "execution_count": 37,
     "metadata": {},
     "output_type": "execute_result"
    }
   ],
   "source": [
    "ci_counts['Issues_Count_HP'].sum()"
   ]
  },
  {
   "cell_type": "code",
   "execution_count": 38,
   "id": "274d2ed2",
   "metadata": {},
   "outputs": [],
   "source": [
    "d=7594/63254 # 0.12 Health/Physical issues per call"
   ]
  },
  {
   "cell_type": "markdown",
   "id": "23d27ecf",
   "metadata": {},
   "source": [
    "5. CRISIS Issues - Homicide"
   ]
  },
  {
   "cell_type": "code",
   "execution_count": 39,
   "id": "168528e2",
   "metadata": {},
   "outputs": [],
   "source": [
    "ci_counts = all_ci['CRISIS Issues - Homicide'].notnull()"
   ]
  },
  {
   "cell_type": "code",
   "execution_count": 40,
   "id": "61781479",
   "metadata": {},
   "outputs": [],
   "source": [
    "ci_counts = all_ci[ci_counts]"
   ]
  },
  {
   "cell_type": "code",
   "execution_count": 41,
   "id": "4b519690",
   "metadata": {},
   "outputs": [],
   "source": [
    "count = []\n",
    "\n",
    "for x in ci_counts['CRISIS Issues - Homicide']:\n",
    "    counter = x.count(\";\")+1\n",
    "    count.append(counter)"
   ]
  },
  {
   "cell_type": "code",
   "execution_count": 42,
   "id": "24074bf5",
   "metadata": {},
   "outputs": [
    {
     "name": "stderr",
     "output_type": "stream",
     "text": [
      "C:\\Users\\Jasmine\\AppData\\Local\\Temp/ipykernel_4632/819893445.py:1: SettingWithCopyWarning: \n",
      "A value is trying to be set on a copy of a slice from a DataFrame.\n",
      "Try using .loc[row_indexer,col_indexer] = value instead\n",
      "\n",
      "See the caveats in the documentation: https://pandas.pydata.org/pandas-docs/stable/user_guide/indexing.html#returning-a-view-versus-a-copy\n",
      "  ci_counts['Issues_Count_Hom'] = count\n"
     ]
    }
   ],
   "source": [
    "ci_counts['Issues_Count_Hom'] = count"
   ]
  },
  {
   "cell_type": "code",
   "execution_count": 43,
   "id": "fe2bca95",
   "metadata": {},
   "outputs": [
    {
     "data": {
      "text/plain": [
       "58"
      ]
     },
     "execution_count": 43,
     "metadata": {},
     "output_type": "execute_result"
    }
   ],
   "source": [
    "len(ci_counts.index)"
   ]
  },
  {
   "cell_type": "code",
   "execution_count": 44,
   "id": "b39b2fe3",
   "metadata": {},
   "outputs": [
    {
     "data": {
      "text/plain": [
       "72"
      ]
     },
     "execution_count": 44,
     "metadata": {},
     "output_type": "execute_result"
    }
   ],
   "source": [
    "ci_counts['Issues_Count_Hom'].sum()"
   ]
  },
  {
   "cell_type": "code",
   "execution_count": 45,
   "id": "9da73d74",
   "metadata": {},
   "outputs": [],
   "source": [
    "e=72/63254 # 0.001 Homicide issues per call"
   ]
  },
  {
   "cell_type": "markdown",
   "id": "c6bdbf64",
   "metadata": {},
   "source": [
    "6. CRISIS Issues - Information or Services Needed"
   ]
  },
  {
   "cell_type": "code",
   "execution_count": 46,
   "id": "26d696c2",
   "metadata": {},
   "outputs": [],
   "source": [
    "ci_counts = all_ci['CRISIS Issues - Information or Services Needed'].notnull()"
   ]
  },
  {
   "cell_type": "code",
   "execution_count": 47,
   "id": "da585131",
   "metadata": {},
   "outputs": [],
   "source": [
    "ci_counts = all_ci[ci_counts]"
   ]
  },
  {
   "cell_type": "code",
   "execution_count": 48,
   "id": "186323fe",
   "metadata": {},
   "outputs": [],
   "source": [
    "count = []\n",
    "\n",
    "for x in ci_counts['CRISIS Issues - Information or Services Needed']:\n",
    "    counter = x.count(\";\")+1\n",
    "    count.append(counter)"
   ]
  },
  {
   "cell_type": "code",
   "execution_count": 49,
   "id": "b591a3af",
   "metadata": {},
   "outputs": [
    {
     "name": "stderr",
     "output_type": "stream",
     "text": [
      "C:\\Users\\Jasmine\\AppData\\Local\\Temp/ipykernel_4632/137537728.py:1: SettingWithCopyWarning: \n",
      "A value is trying to be set on a copy of a slice from a DataFrame.\n",
      "Try using .loc[row_indexer,col_indexer] = value instead\n",
      "\n",
      "See the caveats in the documentation: https://pandas.pydata.org/pandas-docs/stable/user_guide/indexing.html#returning-a-view-versus-a-copy\n",
      "  ci_counts['Issues_Count_ISN'] = count\n"
     ]
    }
   ],
   "source": [
    "ci_counts['Issues_Count_ISN'] = count"
   ]
  },
  {
   "cell_type": "code",
   "execution_count": 50,
   "id": "c18a172b",
   "metadata": {},
   "outputs": [
    {
     "data": {
      "text/plain": [
       "2041"
      ]
     },
     "execution_count": 50,
     "metadata": {},
     "output_type": "execute_result"
    }
   ],
   "source": [
    "len(ci_counts.index)"
   ]
  },
  {
   "cell_type": "code",
   "execution_count": 51,
   "id": "4cf78e99",
   "metadata": {},
   "outputs": [
    {
     "data": {
      "text/plain": [
       "2541"
      ]
     },
     "execution_count": 51,
     "metadata": {},
     "output_type": "execute_result"
    }
   ],
   "source": [
    "ci_counts['Issues_Count_ISN'].sum()"
   ]
  },
  {
   "cell_type": "code",
   "execution_count": 52,
   "id": "3e0fd75d",
   "metadata": {},
   "outputs": [],
   "source": [
    "f=2541/63254 # 0.04 Information or Services Needed issues per call"
   ]
  },
  {
   "cell_type": "markdown",
   "id": "4319279a",
   "metadata": {},
   "source": [
    "7. CRISIS Issues - Mental Health"
   ]
  },
  {
   "cell_type": "code",
   "execution_count": 53,
   "id": "6af05f3a",
   "metadata": {},
   "outputs": [],
   "source": [
    "ci_counts = all_ci['CRISIS Issues - Mental Health'].notnull()"
   ]
  },
  {
   "cell_type": "code",
   "execution_count": 54,
   "id": "b68cb495",
   "metadata": {},
   "outputs": [],
   "source": [
    "ci_counts = all_ci[ci_counts]"
   ]
  },
  {
   "cell_type": "code",
   "execution_count": 55,
   "id": "15048456",
   "metadata": {},
   "outputs": [],
   "source": [
    "count = []\n",
    "\n",
    "for x in ci_counts['CRISIS Issues - Mental Health']:\n",
    "    counter = x.count(\";\")+1\n",
    "    count.append(counter)"
   ]
  },
  {
   "cell_type": "code",
   "execution_count": 56,
   "id": "304a4ddb",
   "metadata": {},
   "outputs": [
    {
     "name": "stderr",
     "output_type": "stream",
     "text": [
      "C:\\Users\\Jasmine\\AppData\\Local\\Temp/ipykernel_4632/928731095.py:1: SettingWithCopyWarning: \n",
      "A value is trying to be set on a copy of a slice from a DataFrame.\n",
      "Try using .loc[row_indexer,col_indexer] = value instead\n",
      "\n",
      "See the caveats in the documentation: https://pandas.pydata.org/pandas-docs/stable/user_guide/indexing.html#returning-a-view-versus-a-copy\n",
      "  ci_counts['Issues_Count_MH'] = count\n"
     ]
    }
   ],
   "source": [
    "ci_counts['Issues_Count_MH'] = count"
   ]
  },
  {
   "cell_type": "code",
   "execution_count": 57,
   "id": "e472abf2",
   "metadata": {
    "scrolled": true
   },
   "outputs": [
    {
     "data": {
      "text/plain": [
       "22253"
      ]
     },
     "execution_count": 57,
     "metadata": {},
     "output_type": "execute_result"
    }
   ],
   "source": [
    "len(ci_counts.index)"
   ]
  },
  {
   "cell_type": "code",
   "execution_count": 58,
   "id": "7328cc8b",
   "metadata": {},
   "outputs": [
    {
     "data": {
      "text/plain": [
       "41546"
      ]
     },
     "execution_count": 58,
     "metadata": {},
     "output_type": "execute_result"
    }
   ],
   "source": [
    "ci_counts['Issues_Count_MH'].sum()"
   ]
  },
  {
   "cell_type": "code",
   "execution_count": 59,
   "id": "39f136ae",
   "metadata": {},
   "outputs": [],
   "source": [
    "g=41546/63254 # 0.66 Mental Health issues per call"
   ]
  },
  {
   "cell_type": "markdown",
   "id": "faae0966",
   "metadata": {},
   "source": [
    "8. CRISIS Issues - No Issue Call"
   ]
  },
  {
   "cell_type": "code",
   "execution_count": 60,
   "id": "37834f48",
   "metadata": {},
   "outputs": [],
   "source": [
    "ci_counts = all_ci['CRISIS Issues - No Issue Call'].notnull()"
   ]
  },
  {
   "cell_type": "code",
   "execution_count": 61,
   "id": "17cf4deb",
   "metadata": {},
   "outputs": [],
   "source": [
    "ci_counts = all_ci[ci_counts]"
   ]
  },
  {
   "cell_type": "code",
   "execution_count": 62,
   "id": "8dc638be",
   "metadata": {},
   "outputs": [],
   "source": [
    "count = []\n",
    "\n",
    "for x in ci_counts['CRISIS Issues - No Issue Call']:\n",
    "    counter = x.count(\";\")+1\n",
    "    count.append(counter)"
   ]
  },
  {
   "cell_type": "code",
   "execution_count": 63,
   "id": "2a155a0f",
   "metadata": {},
   "outputs": [
    {
     "name": "stderr",
     "output_type": "stream",
     "text": [
      "C:\\Users\\Jasmine\\AppData\\Local\\Temp/ipykernel_4632/12750776.py:1: SettingWithCopyWarning: \n",
      "A value is trying to be set on a copy of a slice from a DataFrame.\n",
      "Try using .loc[row_indexer,col_indexer] = value instead\n",
      "\n",
      "See the caveats in the documentation: https://pandas.pydata.org/pandas-docs/stable/user_guide/indexing.html#returning-a-view-versus-a-copy\n",
      "  ci_counts['Issues_Count_NIC'] = count\n"
     ]
    }
   ],
   "source": [
    "ci_counts['Issues_Count_NIC'] = count"
   ]
  },
  {
   "cell_type": "code",
   "execution_count": 64,
   "id": "b3ec6f76",
   "metadata": {},
   "outputs": [
    {
     "data": {
      "text/plain": [
       "1519"
      ]
     },
     "execution_count": 64,
     "metadata": {},
     "output_type": "execute_result"
    }
   ],
   "source": [
    "len(ci_counts.index)"
   ]
  },
  {
   "cell_type": "code",
   "execution_count": 65,
   "id": "03abeba9",
   "metadata": {},
   "outputs": [
    {
     "data": {
      "text/plain": [
       "1521"
      ]
     },
     "execution_count": 65,
     "metadata": {},
     "output_type": "execute_result"
    }
   ],
   "source": [
    "ci_counts['Issues_Count_NIC'].sum()"
   ]
  },
  {
   "cell_type": "code",
   "execution_count": 66,
   "id": "4796c933",
   "metadata": {},
   "outputs": [],
   "source": [
    "h=1521/63254 # 0.02 No Issue Call issues per call"
   ]
  },
  {
   "cell_type": "markdown",
   "id": "81a76195",
   "metadata": {},
   "source": [
    "9. CRISIS Issues - Other Description"
   ]
  },
  {
   "cell_type": "code",
   "execution_count": 67,
   "id": "b8c3850f",
   "metadata": {},
   "outputs": [],
   "source": [
    "ci_counts = all_ci['CRISIS Issues - Other Description'].notnull()"
   ]
  },
  {
   "cell_type": "code",
   "execution_count": 68,
   "id": "80b8fd8c",
   "metadata": {},
   "outputs": [],
   "source": [
    "ci_counts = all_ci[ci_counts]"
   ]
  },
  {
   "cell_type": "code",
   "execution_count": 69,
   "id": "8d1018df",
   "metadata": {},
   "outputs": [],
   "source": [
    "count = []\n",
    "\n",
    "for x in ci_counts['CRISIS Issues - Other Description']:\n",
    "    counter = x.count(\";\")+1\n",
    "    count.append(counter)"
   ]
  },
  {
   "cell_type": "code",
   "execution_count": 70,
   "id": "0d1d2696",
   "metadata": {},
   "outputs": [
    {
     "name": "stderr",
     "output_type": "stream",
     "text": [
      "C:\\Users\\Jasmine\\AppData\\Local\\Temp/ipykernel_4632/2871519774.py:1: SettingWithCopyWarning: \n",
      "A value is trying to be set on a copy of a slice from a DataFrame.\n",
      "Try using .loc[row_indexer,col_indexer] = value instead\n",
      "\n",
      "See the caveats in the documentation: https://pandas.pydata.org/pandas-docs/stable/user_guide/indexing.html#returning-a-view-versus-a-copy\n",
      "  ci_counts['Issues_Count_Other'] = count\n"
     ]
    }
   ],
   "source": [
    "ci_counts['Issues_Count_Other'] = count"
   ]
  },
  {
   "cell_type": "code",
   "execution_count": 71,
   "id": "53e4d5d5",
   "metadata": {},
   "outputs": [
    {
     "data": {
      "text/plain": [
       "3407"
      ]
     },
     "execution_count": 71,
     "metadata": {},
     "output_type": "execute_result"
    }
   ],
   "source": [
    "len(ci_counts.index)"
   ]
  },
  {
   "cell_type": "code",
   "execution_count": 72,
   "id": "83ef0a71",
   "metadata": {},
   "outputs": [
    {
     "data": {
      "text/plain": [
       "3477"
      ]
     },
     "execution_count": 72,
     "metadata": {},
     "output_type": "execute_result"
    }
   ],
   "source": [
    "ci_counts['Issues_Count_Other'].sum()"
   ]
  },
  {
   "cell_type": "code",
   "execution_count": 73,
   "id": "fcc44529",
   "metadata": {},
   "outputs": [],
   "source": [
    "i=3477/63254 # 0.05 Other Description issues per call"
   ]
  },
  {
   "cell_type": "markdown",
   "id": "2d1720a2",
   "metadata": {},
   "source": [
    "10. CRISIS Issues - Relationships"
   ]
  },
  {
   "cell_type": "code",
   "execution_count": 74,
   "id": "a7889f7d",
   "metadata": {},
   "outputs": [],
   "source": [
    "ci_counts = all_ci['CRISIS Issues - Relationships'].notnull()"
   ]
  },
  {
   "cell_type": "code",
   "execution_count": 75,
   "id": "59e59acd",
   "metadata": {},
   "outputs": [],
   "source": [
    "ci_counts = all_ci[ci_counts]"
   ]
  },
  {
   "cell_type": "code",
   "execution_count": 76,
   "id": "54b0885d",
   "metadata": {},
   "outputs": [],
   "source": [
    "count = []\n",
    "\n",
    "for x in ci_counts['CRISIS Issues - Relationships']:\n",
    "    counter = x.count(\";\")+1\n",
    "    count.append(counter)"
   ]
  },
  {
   "cell_type": "code",
   "execution_count": 77,
   "id": "23227e28",
   "metadata": {},
   "outputs": [
    {
     "name": "stderr",
     "output_type": "stream",
     "text": [
      "C:\\Users\\Jasmine\\AppData\\Local\\Temp/ipykernel_4632/3899193224.py:1: SettingWithCopyWarning: \n",
      "A value is trying to be set on a copy of a slice from a DataFrame.\n",
      "Try using .loc[row_indexer,col_indexer] = value instead\n",
      "\n",
      "See the caveats in the documentation: https://pandas.pydata.org/pandas-docs/stable/user_guide/indexing.html#returning-a-view-versus-a-copy\n",
      "  ci_counts['Issues_Count_Rel'] = count\n"
     ]
    }
   ],
   "source": [
    "ci_counts['Issues_Count_Rel'] = count"
   ]
  },
  {
   "cell_type": "code",
   "execution_count": 78,
   "id": "8d765636",
   "metadata": {},
   "outputs": [
    {
     "data": {
      "text/plain": [
       "27843"
      ]
     },
     "execution_count": 78,
     "metadata": {},
     "output_type": "execute_result"
    }
   ],
   "source": [
    "len(ci_counts.index)"
   ]
  },
  {
   "cell_type": "code",
   "execution_count": 79,
   "id": "5ec0efbd",
   "metadata": {},
   "outputs": [
    {
     "data": {
      "text/plain": [
       "61546"
      ]
     },
     "execution_count": 79,
     "metadata": {},
     "output_type": "execute_result"
    }
   ],
   "source": [
    "ci_counts['Issues_Count_Rel'].sum()"
   ]
  },
  {
   "cell_type": "code",
   "execution_count": 80,
   "id": "a2fad4c0",
   "metadata": {},
   "outputs": [],
   "source": [
    "j=61546/63254 # 0.97 Relationships issues per call"
   ]
  },
  {
   "cell_type": "markdown",
   "id": "7ca4631e",
   "metadata": {},
   "source": [
    "11. CRISIS Issues - Substances"
   ]
  },
  {
   "cell_type": "code",
   "execution_count": 81,
   "id": "217dcc2e",
   "metadata": {},
   "outputs": [],
   "source": [
    "ci_counts = all_ci['CRISIS Issues - Substances'].notnull()"
   ]
  },
  {
   "cell_type": "code",
   "execution_count": 82,
   "id": "db4f6a1a",
   "metadata": {},
   "outputs": [],
   "source": [
    "ci_counts = all_ci[ci_counts]"
   ]
  },
  {
   "cell_type": "code",
   "execution_count": 83,
   "id": "42060a27",
   "metadata": {},
   "outputs": [],
   "source": [
    "count = []\n",
    "\n",
    "for x in ci_counts['CRISIS Issues - Substances']:\n",
    "    counter = x.count(\";\")+1\n",
    "    count.append(counter)"
   ]
  },
  {
   "cell_type": "code",
   "execution_count": 84,
   "id": "a94b23c5",
   "metadata": {},
   "outputs": [
    {
     "name": "stderr",
     "output_type": "stream",
     "text": [
      "C:\\Users\\Jasmine\\AppData\\Local\\Temp/ipykernel_4632/4281212156.py:1: SettingWithCopyWarning: \n",
      "A value is trying to be set on a copy of a slice from a DataFrame.\n",
      "Try using .loc[row_indexer,col_indexer] = value instead\n",
      "\n",
      "See the caveats in the documentation: https://pandas.pydata.org/pandas-docs/stable/user_guide/indexing.html#returning-a-view-versus-a-copy\n",
      "  ci_counts['Issues_Count_Sub'] = count\n"
     ]
    }
   ],
   "source": [
    "ci_counts['Issues_Count_Sub'] = count"
   ]
  },
  {
   "cell_type": "code",
   "execution_count": 85,
   "id": "21396683",
   "metadata": {
    "scrolled": true
   },
   "outputs": [
    {
     "data": {
      "text/plain": [
       "3081"
      ]
     },
     "execution_count": 85,
     "metadata": {},
     "output_type": "execute_result"
    }
   ],
   "source": [
    "len(ci_counts.index)"
   ]
  },
  {
   "cell_type": "code",
   "execution_count": 86,
   "id": "e1ac661a",
   "metadata": {},
   "outputs": [
    {
     "data": {
      "text/plain": [
       "3901"
      ]
     },
     "execution_count": 86,
     "metadata": {},
     "output_type": "execute_result"
    }
   ],
   "source": [
    "ci_counts['Issues_Count_Sub'].sum()"
   ]
  },
  {
   "cell_type": "code",
   "execution_count": 87,
   "id": "6f05bc91",
   "metadata": {},
   "outputs": [],
   "source": [
    "k=3901/63254 # 0.06 Substances issues per call"
   ]
  },
  {
   "cell_type": "markdown",
   "id": "0c742540",
   "metadata": {},
   "source": [
    "12. CRISIS Issues - Suicide"
   ]
  },
  {
   "cell_type": "code",
   "execution_count": 88,
   "id": "488a5046",
   "metadata": {},
   "outputs": [],
   "source": [
    "ci_counts = all_ci['CRISIS Issues - Suicide'].notnull()"
   ]
  },
  {
   "cell_type": "code",
   "execution_count": 89,
   "id": "33e2aaca",
   "metadata": {},
   "outputs": [],
   "source": [
    "ci_counts = all_ci[ci_counts]"
   ]
  },
  {
   "cell_type": "code",
   "execution_count": 90,
   "id": "2531fc1b",
   "metadata": {},
   "outputs": [],
   "source": [
    "count = []\n",
    "\n",
    "for x in ci_counts['CRISIS Issues - Suicide']:\n",
    "    counter = x.count(\";\")+1\n",
    "    count.append(counter)"
   ]
  },
  {
   "cell_type": "code",
   "execution_count": 91,
   "id": "bac98f58",
   "metadata": {},
   "outputs": [
    {
     "name": "stderr",
     "output_type": "stream",
     "text": [
      "C:\\Users\\Jasmine\\AppData\\Local\\Temp/ipykernel_4632/502423700.py:1: SettingWithCopyWarning: \n",
      "A value is trying to be set on a copy of a slice from a DataFrame.\n",
      "Try using .loc[row_indexer,col_indexer] = value instead\n",
      "\n",
      "See the caveats in the documentation: https://pandas.pydata.org/pandas-docs/stable/user_guide/indexing.html#returning-a-view-versus-a-copy\n",
      "  ci_counts['Issues_Count_Sui'] = count\n"
     ]
    }
   ],
   "source": [
    "ci_counts['Issues_Count_Sui'] = count"
   ]
  },
  {
   "cell_type": "code",
   "execution_count": 92,
   "id": "e43ab2c2",
   "metadata": {},
   "outputs": [
    {
     "data": {
      "text/plain": [
       "5151"
      ]
     },
     "execution_count": 92,
     "metadata": {},
     "output_type": "execute_result"
    }
   ],
   "source": [
    "len(ci_counts.index)"
   ]
  },
  {
   "cell_type": "code",
   "execution_count": 93,
   "id": "310fb465",
   "metadata": {},
   "outputs": [
    {
     "data": {
      "text/plain": [
       "6514"
      ]
     },
     "execution_count": 93,
     "metadata": {},
     "output_type": "execute_result"
    }
   ],
   "source": [
    "ci_counts['Issues_Count_Sui'].sum()"
   ]
  },
  {
   "cell_type": "code",
   "execution_count": 94,
   "id": "9d071c88",
   "metadata": {},
   "outputs": [],
   "source": [
    "l=6514/63254 # 0.10 Suicide issues per call"
   ]
  },
  {
   "cell_type": "markdown",
   "id": "ab5e974a",
   "metadata": {},
   "source": [
    "13. CRISIS Issues - No presenting problems"
   ]
  },
  {
   "cell_type": "code",
   "execution_count": 95,
   "id": "41e91445",
   "metadata": {},
   "outputs": [],
   "source": [
    "ci_counts = all_ci['CRISIS Issues - No presenting problems'].notnull()"
   ]
  },
  {
   "cell_type": "code",
   "execution_count": 96,
   "id": "662d684d",
   "metadata": {},
   "outputs": [],
   "source": [
    "ci_counts = all_ci[ci_counts]"
   ]
  },
  {
   "cell_type": "code",
   "execution_count": 97,
   "id": "69b8afbb",
   "metadata": {},
   "outputs": [],
   "source": [
    "count = []\n",
    "\n",
    "for x in ci_counts['CRISIS Issues - No presenting problems']:\n",
    "    counter = x.count(\";\")+1\n",
    "    count.append(counter)"
   ]
  },
  {
   "cell_type": "code",
   "execution_count": 98,
   "id": "a0062321",
   "metadata": {},
   "outputs": [
    {
     "name": "stderr",
     "output_type": "stream",
     "text": [
      "C:\\Users\\Jasmine\\AppData\\Local\\Temp/ipykernel_4632/2370888896.py:1: SettingWithCopyWarning: \n",
      "A value is trying to be set on a copy of a slice from a DataFrame.\n",
      "Try using .loc[row_indexer,col_indexer] = value instead\n",
      "\n",
      "See the caveats in the documentation: https://pandas.pydata.org/pandas-docs/stable/user_guide/indexing.html#returning-a-view-versus-a-copy\n",
      "  ci_counts['Issues_Count_NPP'] = count\n"
     ]
    }
   ],
   "source": [
    "ci_counts['Issues_Count_NPP'] = count"
   ]
  },
  {
   "cell_type": "code",
   "execution_count": 99,
   "id": "8f546e25",
   "metadata": {},
   "outputs": [
    {
     "data": {
      "text/plain": [
       "234"
      ]
     },
     "execution_count": 99,
     "metadata": {},
     "output_type": "execute_result"
    }
   ],
   "source": [
    "len(ci_counts.index)"
   ]
  },
  {
   "cell_type": "code",
   "execution_count": 100,
   "id": "f01c7c32",
   "metadata": {},
   "outputs": [
    {
     "data": {
      "text/plain": [
       "234"
      ]
     },
     "execution_count": 100,
     "metadata": {},
     "output_type": "execute_result"
    }
   ],
   "source": [
    "ci_counts['Issues_Count_NPP'].sum()"
   ]
  },
  {
   "cell_type": "code",
   "execution_count": 101,
   "id": "6eab8c3f",
   "metadata": {},
   "outputs": [],
   "source": [
    "m=234/63254 # 0.004 No presenting problems issues per call"
   ]
  },
  {
   "cell_type": "markdown",
   "id": "7b708d08",
   "metadata": {},
   "source": [
    "Making a DataFrame to plot number of CRISIS issues per call by category"
   ]
  },
  {
   "cell_type": "code",
   "execution_count": null,
   "id": "b981a19b",
   "metadata": {},
   "outputs": [],
   "source": [
    "CRISIS_Issues = ['Abusive Behavior', 'Emotional State','Financial/Basic Needs','Health/Physical','Homicide','Information or Services Needed','Mental Health','No Issue Call','Other Description','Relationships','Substances','Suicide','No Presenting Problems']\n",
    "issue_count_by_col = [a,b,c,d,e,f,g,h,i,j,k,l,m]\n",
    "\n",
    "# icbc = issue count by category\n",
    "icbc = pd.DataFrame(list(zip(CRISIS_Issues, issue_count_by_col)),\n",
    "                   columns=['Issue_Category','Number_of_Issues_Per_Call'])\n",
    "icbc_sorted = icbc.sort_values('Number_of_Issues_Per_Call', ascending=True)\n",
    "icbc_sorted"
   ]
  },
  {
   "cell_type": "code",
   "execution_count": 186,
   "id": "a37ae03a",
   "metadata": {},
   "outputs": [
    {
     "data": {
      "image/png": "[encoded data removed]",
      "text/plain": [
       "<Figure size 720x432 with 1 Axes>"
      ]
     },
     "metadata": {
      "needs_background": "light"
     },
     "output_type": "display_data"
    }
   ],
   "source": [
    "plt.figure(figsize=(10, 6))\n",
    "sns.barplot(y=CRISIS_Issues,\n",
    "            x=issue_count_by_col,\n",
    "            data=icbc_sorted)\n",
    "plt.xlabel('Number of Issues Per Call')\n",
    "#plt.ylabel('CRISIS Issue Category')\n",
    "plt.title('Number of CRISIS Issues Per Call (by Category)');\n",
    "# Tried to sort desc but it didn't work"
   ]
  },
  {
   "cell_type": "code",
   "execution_count": 187,
   "id": "4d1aa03e",
   "metadata": {},
   "outputs": [
    {
     "data": {
      "image/png": "[encoded data removed]",
      "text/plain": [
       "<Figure size 1152x720 with 1 Axes>"
      ]
     },
     "metadata": {
      "needs_background": "light"
     },
     "output_type": "display_data"
    }
   ],
   "source": [
    "plt.figure(figsize=(16, 10))\n",
    "plt.barh(icbc_sorted.Issue_Category, icbc_sorted.Number_of_Issues_Per_Call)\n",
    "plt.xticks(rotation = 0, fontsize=16)\n",
    "plt.xlabel('Number of Issues Per Call', fontsize=18)\n",
    "#plt.ylabel('CRISIS Issue Category', fontsize=18)\n",
    "plt.yticks(fontsize=16)\n",
    "plt.title('Number of CRISIS Issues Per Call (by Category)', fontsize=30);"
   ]
  },
  {
   "cell_type": "markdown",
   "id": "8f5deee3",
   "metadata": {},
   "source": [
    "## COUNT OF ISSUES (for CRISIS columns only) = checks out with Rob's .sum()"
   ]
  },
  {
   "cell_type": "code",
   "execution_count": 103,
   "id": "ac925be1",
   "metadata": {},
   "outputs": [
    {
     "data": {
      "text/plain": [
       "3656.0"
      ]
     },
     "execution_count": 103,
     "metadata": {},
     "output_type": "execute_result"
    }
   ],
   "source": [
    "# Total number of abusive behavior issues\n",
    "ab = all_ci['CRISIS Issues - Abusive Behavior'].str.count(';')+1\n",
    "ab.sum()"
   ]
  },
  {
   "cell_type": "markdown",
   "id": "4f584770",
   "metadata": {},
   "source": [
    "## Below are the total number of issues per CRISIS column (13)"
   ]
  },
  {
   "cell_type": "code",
   "execution_count": 104,
   "id": "c7eb6468",
   "metadata": {},
   "outputs": [
    {
     "data": {
      "text/plain": [
       "3656.0"
      ]
     },
     "execution_count": 104,
     "metadata": {},
     "output_type": "execute_result"
    }
   ],
   "source": [
    "# Total number of abusive behavior issues\n",
    "ab = all_ci['CRISIS Issues - Abusive Behavior'].str.count(';')+1\n",
    "total_ab = ab.sum()\n",
    "total_ab"
   ]
  },
  {
   "cell_type": "code",
   "execution_count": 105,
   "id": "2d2c7c96",
   "metadata": {},
   "outputs": [
    {
     "data": {
      "text/plain": [
       "98606.0"
      ]
     },
     "execution_count": 105,
     "metadata": {},
     "output_type": "execute_result"
    }
   ],
   "source": [
    "# Total number of emotional state issues\n",
    "es = all_ci['CRISIS Issues - Emotional State'].str.count(';')+1\n",
    "total_es = es.sum()\n",
    "total_es"
   ]
  },
  {
   "cell_type": "code",
   "execution_count": 106,
   "id": "4102f1a9",
   "metadata": {},
   "outputs": [
    {
     "data": {
      "text/plain": [
       "3523.0"
      ]
     },
     "execution_count": 106,
     "metadata": {},
     "output_type": "execute_result"
    }
   ],
   "source": [
    "# Total number of Financial/Basic Needs issues\n",
    "fbn = all_ci['CRISIS Issues - Financial/Basic Needs'].str.count(';')+1\n",
    "total_fbn = fbn.sum()\n",
    "total_fbn"
   ]
  },
  {
   "cell_type": "code",
   "execution_count": 107,
   "id": "7025a8f1",
   "metadata": {},
   "outputs": [
    {
     "data": {
      "text/plain": [
       "7594.0"
      ]
     },
     "execution_count": 107,
     "metadata": {},
     "output_type": "execute_result"
    }
   ],
   "source": [
    "# Total number of Health/Physical issues\n",
    "hp = all_ci['CRISIS Issues - Health/Physical'].str.count(';')+1\n",
    "total_hp = hp.sum()\n",
    "total_hp"
   ]
  },
  {
   "cell_type": "code",
   "execution_count": 108,
   "id": "a7c7f44a",
   "metadata": {},
   "outputs": [
    {
     "data": {
      "text/plain": [
       "72.0"
      ]
     },
     "execution_count": 108,
     "metadata": {},
     "output_type": "execute_result"
    }
   ],
   "source": [
    "# Total number of Health/Physical issues\n",
    "hom = all_ci['CRISIS Issues - Homicide'].str.count(';')+1\n",
    "total_hom = hom.sum()\n",
    "total_hom"
   ]
  },
  {
   "cell_type": "code",
   "execution_count": 109,
   "id": "16e5665e",
   "metadata": {},
   "outputs": [
    {
     "data": {
      "text/plain": [
       "2541.0"
      ]
     },
     "execution_count": 109,
     "metadata": {},
     "output_type": "execute_result"
    }
   ],
   "source": [
    "# Total number of Information or Services Needed issues\n",
    "isn = all_ci['CRISIS Issues - Information or Services Needed'].str.count(';')+1\n",
    "total_isn = isn.sum()\n",
    "total_isn"
   ]
  },
  {
   "cell_type": "code",
   "execution_count": 110,
   "id": "ba4ab6a1",
   "metadata": {},
   "outputs": [
    {
     "data": {
      "text/plain": [
       "41546.0"
      ]
     },
     "execution_count": 110,
     "metadata": {},
     "output_type": "execute_result"
    }
   ],
   "source": [
    "# Total number of mental health issues\n",
    "mh = all_ci['CRISIS Issues - Mental Health'].str.count(';')+1\n",
    "total_mh = mh.sum()\n",
    "total_mh"
   ]
  },
  {
   "cell_type": "code",
   "execution_count": 111,
   "id": "9a44aa55",
   "metadata": {},
   "outputs": [
    {
     "data": {
      "text/plain": [
       "1521.0"
      ]
     },
     "execution_count": 111,
     "metadata": {},
     "output_type": "execute_result"
    }
   ],
   "source": [
    "# Total number of No Issue Call issues\n",
    "nic = all_ci['CRISIS Issues - No Issue Call'].str.count(';')+1\n",
    "total_nic = nic.sum()\n",
    "total_nic"
   ]
  },
  {
   "cell_type": "code",
   "execution_count": 112,
   "id": "1d9b90e6",
   "metadata": {},
   "outputs": [
    {
     "data": {
      "text/plain": [
       "3477.0"
      ]
     },
     "execution_count": 112,
     "metadata": {},
     "output_type": "execute_result"
    }
   ],
   "source": [
    "# Total number of Other Description issues\n",
    "od = all_ci['CRISIS Issues - Other Description'].str.count(';')+1\n",
    "total_od = od.sum()\n",
    "total_od"
   ]
  },
  {
   "cell_type": "code",
   "execution_count": 113,
   "id": "c92ec5e1",
   "metadata": {},
   "outputs": [
    {
     "data": {
      "text/plain": [
       "61546.0"
      ]
     },
     "execution_count": 113,
     "metadata": {},
     "output_type": "execute_result"
    }
   ],
   "source": [
    "# Total number of Relationships issues\n",
    "rel = all_ci['CRISIS Issues - Relationships'].str.count(';')+1\n",
    "total_rel = rel.sum()\n",
    "total_rel"
   ]
  },
  {
   "cell_type": "code",
   "execution_count": 114,
   "id": "681ce477",
   "metadata": {},
   "outputs": [
    {
     "data": {
      "text/plain": [
       "3901.0"
      ]
     },
     "execution_count": 114,
     "metadata": {},
     "output_type": "execute_result"
    }
   ],
   "source": [
    "# Total number of Substances issues\n",
    "sub = all_ci['CRISIS Issues - Substances'].str.count(';')+1\n",
    "total_sub = sub.sum()\n",
    "total_sub"
   ]
  },
  {
   "cell_type": "code",
   "execution_count": 115,
   "id": "0c9da563",
   "metadata": {},
   "outputs": [
    {
     "data": {
      "text/plain": [
       "6514.0"
      ]
     },
     "execution_count": 115,
     "metadata": {},
     "output_type": "execute_result"
    }
   ],
   "source": [
    "# Total number of Suicide issues\n",
    "sui = all_ci['CRISIS Issues - Suicide'].str.count(';')+1\n",
    "total_sui = sui.sum()\n",
    "total_sui"
   ]
  },
  {
   "cell_type": "code",
   "execution_count": 116,
   "id": "a9b83b26",
   "metadata": {},
   "outputs": [
    {
     "data": {
      "text/plain": [
       "234.0"
      ]
     },
     "execution_count": 116,
     "metadata": {},
     "output_type": "execute_result"
    }
   ],
   "source": [
    "# Total number of No presenting problems issues\n",
    "npp = all_ci['CRISIS Issues - No presenting problems'].str.count(';')+1\n",
    "total_npp = npp.sum()\n",
    "total_npp"
   ]
  },
  {
   "cell_type": "code",
   "execution_count": null,
   "id": "f1ba3d0e",
   "metadata": {},
   "outputs": [],
   "source": [
    "# Making the DataFrame\n",
    "num_issues_list = [total_ab, total_es, total_fbn, total_hp, total_hom, total_isn, total_mh, total_nic, total_od, total_rel, total_sub, total_sui, total_npp]\n",
    "cri_issues_list = ['Abusive Behavior', 'Emotional State', 'Financial/Basic Needs', 'Health/Physical', 'Homicide', 'Info/Service Needed', 'Mental Health', 'No Issue', 'Other', 'Relationships', 'Substances', 'Suicide', 'No Presenting Problems']\n",
    "issue_count_df = pd.DataFrame(list(zip(cri_issues_list, num_issues_list)),\n",
    "    columns =['CRISIS_Issue', 'Number_of_Issues'])\n",
    "issue_count_df"
   ]
  },
  {
   "cell_type": "code",
   "execution_count": null,
   "id": "7059d1f1",
   "metadata": {},
   "outputs": [],
   "source": [
    "issue_count_df = issue_count_df.sort_values('Number_of_Issues', ascending=True)\n",
    "issue_count_df"
   ]
  },
  {
   "cell_type": "code",
   "execution_count": 183,
   "id": "6d012bf8",
   "metadata": {},
   "outputs": [
    {
     "data": {
      "image/png": "[encoded data removed]",
      "text/plain": [
       "<Figure size 1152x720 with 1 Axes>"
      ]
     },
     "metadata": {
      "needs_background": "light"
     },
     "output_type": "display_data"
    }
   ],
   "source": [
    "plt.figure(figsize=(16, 10))\n",
    "plt.barh(issue_count_df.CRISIS_Issue, issue_count_df.Number_of_Issues)\n",
    "plt.xticks(rotation = 0, fontsize=16)\n",
    "plt.xlabel('Number of Issues', fontsize=18)\n",
    "plt.ylabel('CRISIS Issue Category', fontsize=18)\n",
    "plt.yticks(fontsize=16)\n",
    "plt.title('Number of CRISIS Issues by Category', fontsize=30);"
   ]
  },
  {
   "cell_type": "markdown",
   "id": "f73b3505",
   "metadata": {},
   "source": [
    "There are different kinds of issues within each CRISIS category (Y-axis) -- this plot shows the count of all those issues."
   ]
  },
  {
   "cell_type": "code",
   "execution_count": 184,
   "id": "ff93040e",
   "metadata": {},
   "outputs": [
    {
     "data": {
      "image/png": "[encoded data removed]",
      "text/plain": [
       "<Figure size 432x288 with 1 Axes>"
      ]
     },
     "metadata": {
      "needs_background": "light"
     },
     "output_type": "display_data"
    }
   ],
   "source": [
    "# Barh is gonna be flipped between plt and sns when using the same df\n",
    "sns.barplot(x = issue_count_df.Number_of_Issues,\n",
    "            y = issue_count_df.CRISIS_Issue,\n",
    "            data = issue_count_df);"
   ]
  },
  {
   "cell_type": "code",
   "execution_count": 121,
   "id": "8d0c7064",
   "metadata": {},
   "outputs": [],
   "source": [
    "# Rob: Use Seaborn to get column values\n",
    "# ax.bar_label(ax.containers[0], fmt = '%d', \n",
    "#              padding=2, \n",
    "#               label_type='edge', \n",
    "#               color='black', \n",
    "#               fontweight='bold'\n",
    "#             )"
   ]
  }
 ],
 "metadata": {
  "kernelspec": {
   "display_name": "Python 3 (ipykernel)",
   "language": "python",
   "name": "python3"
  },
  "language_info": {
   "codemirror_mode": {
    "name": "ipython",
    "version": 3
   },
   "file_extension": ".py",
   "mimetype": "text/x-python",
   "name": "python",
   "nbconvert_exporter": "python",
   "pygments_lexer": "ipython3",
   "version": "3.9.7"
  }
 },
 "nbformat": 4,
 "nbformat_minor": 5
}
