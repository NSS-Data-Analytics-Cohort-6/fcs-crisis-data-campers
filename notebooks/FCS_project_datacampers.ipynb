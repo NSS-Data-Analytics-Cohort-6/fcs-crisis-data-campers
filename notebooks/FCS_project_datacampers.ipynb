{
 "cells": [
  {
   "cell_type": "markdown",
   "id": "f3127035",
   "metadata": {},
   "source": [
    "# Family and Children's Services Crisis Project by DataCampers\n",
    "### Objective 2: Analyze trends in call content by looking for which issues are most frequent and what is the average count of issues per call.\n",
    "- *For the second objective, the columns that contain the information about the documented issues are those that begin with CRISIS Issues. When calls come in, call takers use a form to indicate the various issues the individual is experiencing.*\n",
    "- *If an individual is experiencing multiple issues, the issues can be grouped together into a single cell, which makes understanding individual issues difficult. For this project you will parse the data from the different CRISIS Issues columns to allow deeper investigation of each individual issue.*"
   ]
  },
  {
   "cell_type": "markdown",
   "id": "e58e9003",
   "metadata": {},
   "source": [
    "## Self EDA"
   ]
  },
  {
   "cell_type": "markdown",
   "id": "77781384",
   "metadata": {},
   "source": [
    "#### Read in the relevant data"
   ]
  },
  {
   "cell_type": "code",
   "execution_count": 1,
   "id": "cc5e5506",
   "metadata": {},
   "outputs": [],
   "source": [
    "import pandas as pd\n",
    "pd.set_option('display.max_rows', 500)\n",
    "pd.set_option('display.max_columns', 500)\n",
    "pd.set_option('display.width', 1000)\n",
    "import numpy as np\n",
    "import matplotlib.pyplot as plt\n",
    "%matplotlib inline\n",
    "import seaborn as sns\n",
    "sns.set_style('white')\n",
    "import requests as re"
   ]
  },
  {
   "cell_type": "code",
   "execution_count": 2,
   "id": "6fda423a",
   "metadata": {},
   "outputs": [],
   "source": [
    "df1 = pd.read_excel('../data/NSSCrisisv_1.xlsx') # 2020-2021\n",
    "df2 = pd.read_excel('../data/NSSCrisisv_2.xlsx') # 2022\n",
    "# df_2020 = pd.read_excel('../data/2020callcenter.xlsx')\n",
    "# df_2021 = pd.read_excel('../data/2021callcenter.xlsx')\n",
    "# df_2022 = pd.read_excel('../data/2022callcenter.xlsx')"
   ]
  },
  {
   "cell_type": "code",
   "execution_count": 3,
   "id": "9253a4af",
   "metadata": {},
   "outputs": [],
   "source": [
    "# Rob: Change name of CRISIS Subjective in v2 to CRISIS Issues to match v1\n",
    "labels = list()\n",
    "for col in df2.columns:\n",
    "    labels.append(col.replace('Subjective', 'Issues'))\n",
    "df2.columns = labels"
   ]
  },
  {
   "cell_type": "code",
   "execution_count": 4,
   "id": "3a808108",
   "metadata": {},
   "outputs": [],
   "source": [
    "# Rob: Drops columns that contain only NaN\n",
    "df1.dropna(how='all', axis=1, inplace=True)\n",
    "df2.dropna(how='all', axis=1, inplace=True)"
   ]
  },
  {
   "cell_type": "code",
   "execution_count": 5,
   "id": "cf0a061e",
   "metadata": {},
   "outputs": [],
   "source": [
    "# Rob: Drop columns whose entire values are 98% NaN\n",
    "# pct_null = df1.isnull().sum() / len(df1)\n",
    "# missing_features = pct_null[pct_null > 0.98].index\n",
    "# df1.drop(missing_features, axis=1, inplace=True)"
   ]
  },
  {
   "cell_type": "code",
   "execution_count": 6,
   "id": "5cfde052",
   "metadata": {},
   "outputs": [],
   "source": [
    "# pct_null = df1.isnull().sum() / len(df1)\n",
    "# missing_features = pct_null[pct_null > 0.98].index\n",
    "# df2.drop(missing_features, axis=1, inplace=True)"
   ]
  },
  {
   "cell_type": "code",
   "execution_count": null,
   "id": "bf1bc587",
   "metadata": {},
   "outputs": [],
   "source": [
    "# Maggie: Find the columns that are the same in both dfs\n",
    "samecolumnsdf = pd.DataFrame(df1.columns.intersection(df2.columns))\n",
    "samecolumnsdf"
   ]
  },
  {
   "cell_type": "markdown",
   "id": "936924a9",
   "metadata": {},
   "source": [
    "## Group EDA\n",
    "We are using these columns in addition to the CRISIS Issues columns:\n",
    "- CallReportNum, CallDateAndTimeStart, CallDateAndTimeEnd, CallLength, CallerNum"
   ]
  },
  {
   "cell_type": "code",
   "execution_count": 8,
   "id": "41c6a743",
   "metadata": {},
   "outputs": [],
   "source": [
    "# Rob: Loop that grabs columns we want and puts it into one df\n",
    "filter_col1 = [col for col in df1 if col.startswith('CRISIS Issues') or col.startswith('Call')]\n",
    "df1_ci = df1[filter_col1]"
   ]
  },
  {
   "cell_type": "code",
   "execution_count": 9,
   "id": "e935d873",
   "metadata": {},
   "outputs": [],
   "source": [
    "# Rob: Loop that grabs columns we want and puts it into one df\n",
    "filter_col2 = [col for col in df2 if col.startswith('CRISIS Issues') or col.startswith('Call')]\n",
    "df2_ci = df2[filter_col2]"
   ]
  },
  {
   "cell_type": "markdown",
   "id": "fd7874ce",
   "metadata": {},
   "source": [
    "### THIS IS THE MASTER DATAFRAME"
   ]
  },
  {
   "cell_type": "code",
   "execution_count": null,
   "id": "3c81f702",
   "metadata": {
    "scrolled": false
   },
   "outputs": [],
   "source": [
    "all_ci = pd.concat([df1_ci, df2_ci])\n",
    "all_ci"
   ]
  },
  {
   "cell_type": "markdown",
   "id": "65058645",
   "metadata": {},
   "source": [
    "Refresher: ..... **what is the average count of issues per call.**"
   ]
  },
  {
   "cell_type": "markdown",
   "id": "1b6d60aa",
   "metadata": {},
   "source": [
    "## Average number of issues per call (by CRISIS category)\n",
    "- For loop credit: Rob\n",
    "- I am using this to find the issue count of each cell corresponding to that issue category. Then we can find the average count of issues per call (eg. PARTITION BY all CRISIS Issues) and the average count of each category issue per call (eg. PARTITION BY CRISIS Issue - Abusive Behavior, etc).\n",
    "- **Run each section from the top to refresh the variables!!**\n",
    "- lens show how many of those category rows exist (eg. 2505 Abusive Behavior rows out of 63,254)\n",
    "- sums show total count of the issues count column for that category, will always be >= to lens\n",
    "- Need to divide these sums by 63,254 to get the avg number of issues for that category per call"
   ]
  },
  {
   "cell_type": "markdown",
   "id": "32d86251",
   "metadata": {},
   "source": [
    "1. CRISIS Issues - Abusive Behavior"
   ]
  },
  {
   "cell_type": "code",
   "execution_count": null,
   "id": "a2159b6b",
   "metadata": {},
   "outputs": [],
   "source": [
    "ci_counts = all_ci['CRISIS Issues - Abusive Behavior'].notnull()"
   ]
  },
  {
   "cell_type": "code",
   "execution_count": null,
   "id": "5d58393c",
   "metadata": {},
   "outputs": [],
   "source": [
    "ci_counts = all_ci[ci_counts]"
   ]
  },
  {
   "cell_type": "code",
   "execution_count": null,
   "id": "7fa16278",
   "metadata": {},
   "outputs": [],
   "source": [
    "count = []\n",
    "\n",
    "for x in ci_counts['CRISIS Issues - Abusive Behavior']:\n",
    "    counter = x.count(\";\")+1\n",
    "    count.append(counter)"
   ]
  },
  {
   "cell_type": "code",
   "execution_count": null,
   "id": "bb2bb7f4",
   "metadata": {
    "scrolled": false
   },
   "outputs": [],
   "source": [
    "ci_counts['Issues_Count_AB'] = count"
   ]
  },
  {
   "cell_type": "code",
   "execution_count": null,
   "id": "a9a8bfb7",
   "metadata": {},
   "outputs": [],
   "source": [
    "len(ci_counts.index)"
   ]
  },
  {
   "cell_type": "code",
   "execution_count": null,
   "id": "d3c81c39",
   "metadata": {},
   "outputs": [],
   "source": [
    "ci_counts['Issues_Count_AB'].sum()"
   ]
  },
  {
   "cell_type": "code",
   "execution_count": null,
   "id": "46e0ac39",
   "metadata": {},
   "outputs": [],
   "source": [
    "a=3656/63254 # 0.06 Abusive behavior issues per call"
   ]
  },
  {
   "cell_type": "markdown",
   "id": "8f1b0e35",
   "metadata": {},
   "source": [
    "2. CRISIS Issues - Emotional State"
   ]
  },
  {
   "cell_type": "code",
   "execution_count": null,
   "id": "2f7776d4",
   "metadata": {},
   "outputs": [],
   "source": [
    "ci_counts = all_ci['CRISIS Issues - Emotional State'].notnull()"
   ]
  },
  {
   "cell_type": "code",
   "execution_count": null,
   "id": "d37aea6e",
   "metadata": {},
   "outputs": [],
   "source": [
    "ci_counts = all_ci[ci_counts]"
   ]
  },
  {
   "cell_type": "code",
   "execution_count": null,
   "id": "29c7dca4",
   "metadata": {},
   "outputs": [],
   "source": [
    "count = []\n",
    "\n",
    "for x in ci_counts['CRISIS Issues - Emotional State']:\n",
    "    counter = x.count(\";\")+1\n",
    "    count.append(counter)"
   ]
  },
  {
   "cell_type": "code",
   "execution_count": null,
   "id": "fd5e0b2f",
   "metadata": {
    "scrolled": true
   },
   "outputs": [],
   "source": [
    "ci_counts['Issues_Count_ES'] = count"
   ]
  },
  {
   "cell_type": "code",
   "execution_count": null,
   "id": "d2384b10",
   "metadata": {},
   "outputs": [],
   "source": [
    "len(ci_counts.index)"
   ]
  },
  {
   "cell_type": "code",
   "execution_count": null,
   "id": "9c3ae467",
   "metadata": {},
   "outputs": [],
   "source": [
    "ci_counts['Issues_Count_ES'].sum()"
   ]
  },
  {
   "cell_type": "code",
   "execution_count": null,
   "id": "8aa825e3",
   "metadata": {},
   "outputs": [],
   "source": [
    "b=98606/63254 # 1.56 Emotional state issues per call"
   ]
  },
  {
   "cell_type": "markdown",
   "id": "5c76e2ee",
   "metadata": {},
   "source": [
    "3. CRISIS Issues - Financial/Basic Needs"
   ]
  },
  {
   "cell_type": "code",
   "execution_count": null,
   "id": "fe6455d2",
   "metadata": {},
   "outputs": [],
   "source": [
    "ci_counts = all_ci['CRISIS Issues - Financial/Basic Needs'].notnull()"
   ]
  },
  {
   "cell_type": "code",
   "execution_count": null,
   "id": "97c7c3e6",
   "metadata": {},
   "outputs": [],
   "source": [
    "ci_counts = all_ci[ci_counts]"
   ]
  },
  {
   "cell_type": "code",
   "execution_count": null,
   "id": "7c44a2b0",
   "metadata": {},
   "outputs": [],
   "source": [
    "count = []\n",
    "\n",
    "for x in ci_counts['CRISIS Issues - Financial/Basic Needs']:\n",
    "    counter = x.count(\";\")+1\n",
    "    count.append(counter)"
   ]
  },
  {
   "cell_type": "code",
   "execution_count": null,
   "id": "e3e30ea2",
   "metadata": {},
   "outputs": [],
   "source": [
    "ci_counts['Issues_Count_FBN'] = count"
   ]
  },
  {
   "cell_type": "code",
   "execution_count": null,
   "id": "7ffe2018",
   "metadata": {},
   "outputs": [],
   "source": [
    "len(ci_counts.index)"
   ]
  },
  {
   "cell_type": "code",
   "execution_count": null,
   "id": "b5fd8735",
   "metadata": {},
   "outputs": [],
   "source": [
    "ci_counts['Issues_Count_FBN'].sum()"
   ]
  },
  {
   "cell_type": "code",
   "execution_count": null,
   "id": "f69f6457",
   "metadata": {},
   "outputs": [],
   "source": [
    "c=3523/63254 # 0.06 Financial/Basic Needs issues per call"
   ]
  },
  {
   "cell_type": "markdown",
   "id": "4187af2a",
   "metadata": {},
   "source": [
    "4. CRISIS Issues - Health/Physical"
   ]
  },
  {
   "cell_type": "code",
   "execution_count": null,
   "id": "9578015d",
   "metadata": {},
   "outputs": [],
   "source": [
    "ci_counts = all_ci['CRISIS Issues - Health/Physical'].notnull()"
   ]
  },
  {
   "cell_type": "code",
   "execution_count": null,
   "id": "54976fdf",
   "metadata": {},
   "outputs": [],
   "source": [
    "ci_counts = all_ci[ci_counts]"
   ]
  },
  {
   "cell_type": "code",
   "execution_count": null,
   "id": "4e66f7a4",
   "metadata": {},
   "outputs": [],
   "source": [
    "count = []\n",
    "\n",
    "for x in ci_counts['CRISIS Issues - Health/Physical']:\n",
    "    counter = x.count(\";\")+1\n",
    "    count.append(counter)"
   ]
  },
  {
   "cell_type": "code",
   "execution_count": null,
   "id": "2009cdd3",
   "metadata": {},
   "outputs": [],
   "source": [
    "ci_counts['Issues_Count_HP'] = count"
   ]
  },
  {
   "cell_type": "code",
   "execution_count": null,
   "id": "b969fac1",
   "metadata": {},
   "outputs": [],
   "source": [
    "len(ci_counts.index)"
   ]
  },
  {
   "cell_type": "code",
   "execution_count": null,
   "id": "0139385e",
   "metadata": {},
   "outputs": [],
   "source": [
    "ci_counts['Issues_Count_HP'].sum()"
   ]
  },
  {
   "cell_type": "code",
   "execution_count": null,
   "id": "274d2ed2",
   "metadata": {},
   "outputs": [],
   "source": [
    "d=7594/63254 # 0.12 Health/Physical issues per call"
   ]
  },
  {
   "cell_type": "markdown",
   "id": "23d27ecf",
   "metadata": {},
   "source": [
    "5. CRISIS Issues - Homicide"
   ]
  },
  {
   "cell_type": "code",
   "execution_count": null,
   "id": "168528e2",
   "metadata": {},
   "outputs": [],
   "source": [
    "ci_counts = all_ci['CRISIS Issues - Homicide'].notnull()"
   ]
  },
  {
   "cell_type": "code",
   "execution_count": null,
   "id": "61781479",
   "metadata": {},
   "outputs": [],
   "source": [
    "ci_counts = all_ci[ci_counts]"
   ]
  },
  {
   "cell_type": "code",
   "execution_count": null,
   "id": "4b519690",
   "metadata": {},
   "outputs": [],
   "source": [
    "count = []\n",
    "\n",
    "for x in ci_counts['CRISIS Issues - Homicide']:\n",
    "    counter = x.count(\";\")+1\n",
    "    count.append(counter)"
   ]
  },
  {
   "cell_type": "code",
   "execution_count": null,
   "id": "24074bf5",
   "metadata": {},
   "outputs": [],
   "source": [
    "ci_counts['Issues_Count_Hom'] = count"
   ]
  },
  {
   "cell_type": "code",
   "execution_count": null,
   "id": "fe2bca95",
   "metadata": {},
   "outputs": [],
   "source": [
    "len(ci_counts.index)"
   ]
  },
  {
   "cell_type": "code",
   "execution_count": null,
   "id": "b39b2fe3",
   "metadata": {},
   "outputs": [],
   "source": [
    "ci_counts['Issues_Count_Hom'].sum()"
   ]
  },
  {
   "cell_type": "code",
   "execution_count": null,
   "id": "9da73d74",
   "metadata": {},
   "outputs": [],
   "source": [
    "e=72/63254 # 0.001 Homicide issues per call"
   ]
  },
  {
   "cell_type": "markdown",
   "id": "c6bdbf64",
   "metadata": {},
   "source": [
    "6. CRISIS Issues - Information or Services Needed"
   ]
  },
  {
   "cell_type": "code",
   "execution_count": null,
   "id": "26d696c2",
   "metadata": {},
   "outputs": [],
   "source": [
    "ci_counts = all_ci['CRISIS Issues - Information or Services Needed'].notnull()"
   ]
  },
  {
   "cell_type": "code",
   "execution_count": null,
   "id": "da585131",
   "metadata": {},
   "outputs": [],
   "source": [
    "ci_counts = all_ci[ci_counts]"
   ]
  },
  {
   "cell_type": "code",
   "execution_count": null,
   "id": "186323fe",
   "metadata": {},
   "outputs": [],
   "source": [
    "count = []\n",
    "\n",
    "for x in ci_counts['CRISIS Issues - Information or Services Needed']:\n",
    "    counter = x.count(\";\")+1\n",
    "    count.append(counter)"
   ]
  },
  {
   "cell_type": "code",
   "execution_count": null,
   "id": "b591a3af",
   "metadata": {},
   "outputs": [],
   "source": [
    "ci_counts['Issues_Count_ISN'] = count"
   ]
  },
  {
   "cell_type": "code",
   "execution_count": null,
   "id": "c18a172b",
   "metadata": {},
   "outputs": [],
   "source": [
    "len(ci_counts.index)"
   ]
  },
  {
   "cell_type": "code",
   "execution_count": null,
   "id": "4cf78e99",
   "metadata": {},
   "outputs": [],
   "source": [
    "ci_counts['Issues_Count_ISN'].sum()"
   ]
  },
  {
   "cell_type": "code",
   "execution_count": null,
   "id": "3e0fd75d",
   "metadata": {},
   "outputs": [],
   "source": [
    "f=2541/63254 # 0.04 Information or Services Needed issues per call"
   ]
  },
  {
   "cell_type": "markdown",
   "id": "4319279a",
   "metadata": {},
   "source": [
    "7. CRISIS Issues - Mental Health"
   ]
  },
  {
   "cell_type": "code",
   "execution_count": null,
   "id": "6af05f3a",
   "metadata": {},
   "outputs": [],
   "source": [
    "ci_counts = all_ci['CRISIS Issues - Mental Health'].notnull()"
   ]
  },
  {
   "cell_type": "code",
   "execution_count": null,
   "id": "b68cb495",
   "metadata": {},
   "outputs": [],
   "source": [
    "ci_counts = all_ci[ci_counts]"
   ]
  },
  {
   "cell_type": "code",
   "execution_count": null,
   "id": "15048456",
   "metadata": {},
   "outputs": [],
   "source": [
    "count = []\n",
    "\n",
    "for x in ci_counts['CRISIS Issues - Mental Health']:\n",
    "    counter = x.count(\";\")+1\n",
    "    count.append(counter)"
   ]
  },
  {
   "cell_type": "code",
   "execution_count": null,
   "id": "304a4ddb",
   "metadata": {},
   "outputs": [],
   "source": [
    "ci_counts['Issues_Count_MH'] = count"
   ]
  },
  {
   "cell_type": "code",
   "execution_count": null,
   "id": "e472abf2",
   "metadata": {
    "scrolled": true
   },
   "outputs": [],
   "source": [
    "len(ci_counts.index)"
   ]
  },
  {
   "cell_type": "code",
   "execution_count": null,
   "id": "7328cc8b",
   "metadata": {},
   "outputs": [],
   "source": [
    "ci_counts['Issues_Count_MH'].sum()"
   ]
  },
  {
   "cell_type": "code",
   "execution_count": null,
   "id": "39f136ae",
   "metadata": {},
   "outputs": [],
   "source": [
    "g=41546/63254 # 0.66 Mental Health issues per call"
   ]
  },
  {
   "cell_type": "markdown",
   "id": "faae0966",
   "metadata": {},
   "source": [
    "8. CRISIS Issues - No Issue Call"
   ]
  },
  {
   "cell_type": "code",
   "execution_count": null,
   "id": "37834f48",
   "metadata": {},
   "outputs": [],
   "source": [
    "ci_counts = all_ci['CRISIS Issues - No Issue Call'].notnull()"
   ]
  },
  {
   "cell_type": "code",
   "execution_count": null,
   "id": "17cf4deb",
   "metadata": {},
   "outputs": [],
   "source": [
    "ci_counts = all_ci[ci_counts]"
   ]
  },
  {
   "cell_type": "code",
   "execution_count": null,
   "id": "8dc638be",
   "metadata": {},
   "outputs": [],
   "source": [
    "count = []\n",
    "\n",
    "for x in ci_counts['CRISIS Issues - No Issue Call']:\n",
    "    counter = x.count(\";\")+1\n",
    "    count.append(counter)"
   ]
  },
  {
   "cell_type": "code",
   "execution_count": null,
   "id": "2a155a0f",
   "metadata": {},
   "outputs": [],
   "source": [
    "ci_counts['Issues_Count_NIC'] = count"
   ]
  },
  {
   "cell_type": "code",
   "execution_count": null,
   "id": "b3ec6f76",
   "metadata": {},
   "outputs": [],
   "source": [
    "len(ci_counts.index)"
   ]
  },
  {
   "cell_type": "code",
   "execution_count": null,
   "id": "03abeba9",
   "metadata": {},
   "outputs": [],
   "source": [
    "ci_counts['Issues_Count_NIC'].sum()"
   ]
  },
  {
   "cell_type": "code",
   "execution_count": null,
   "id": "4796c933",
   "metadata": {},
   "outputs": [],
   "source": [
    "h=1521/63254 # 0.02 No Issue Call issues per call"
   ]
  },
  {
   "cell_type": "markdown",
   "id": "81a76195",
   "metadata": {},
   "source": [
    "9. CRISIS Issues - Other Description"
   ]
  },
  {
   "cell_type": "code",
   "execution_count": null,
   "id": "b8c3850f",
   "metadata": {},
   "outputs": [],
   "source": [
    "ci_counts = all_ci['CRISIS Issues - Other Description'].notnull()"
   ]
  },
  {
   "cell_type": "code",
   "execution_count": null,
   "id": "80b8fd8c",
   "metadata": {},
   "outputs": [],
   "source": [
    "ci_counts = all_ci[ci_counts]"
   ]
  },
  {
   "cell_type": "code",
   "execution_count": null,
   "id": "8d1018df",
   "metadata": {},
   "outputs": [],
   "source": [
    "count = []\n",
    "\n",
    "for x in ci_counts['CRISIS Issues - Other Description']:\n",
    "    counter = x.count(\";\")+1\n",
    "    count.append(counter)"
   ]
  },
  {
   "cell_type": "code",
   "execution_count": null,
   "id": "0d1d2696",
   "metadata": {},
   "outputs": [],
   "source": [
    "ci_counts['Issues_Count_Other'] = count"
   ]
  },
  {
   "cell_type": "code",
   "execution_count": null,
   "id": "53e4d5d5",
   "metadata": {},
   "outputs": [],
   "source": [
    "len(ci_counts.index)"
   ]
  },
  {
   "cell_type": "code",
   "execution_count": null,
   "id": "83ef0a71",
   "metadata": {},
   "outputs": [],
   "source": [
    "ci_counts['Issues_Count_Other'].sum()"
   ]
  },
  {
   "cell_type": "code",
   "execution_count": null,
   "id": "fcc44529",
   "metadata": {},
   "outputs": [],
   "source": [
    "i=3477/63254 # 0.05 Other Description issues per call"
   ]
  },
  {
   "cell_type": "markdown",
   "id": "2d1720a2",
   "metadata": {},
   "source": [
    "10. CRISIS Issues - Relationships"
   ]
  },
  {
   "cell_type": "code",
   "execution_count": null,
   "id": "a7889f7d",
   "metadata": {},
   "outputs": [],
   "source": [
    "ci_counts = all_ci['CRISIS Issues - Relationships'].notnull()"
   ]
  },
  {
   "cell_type": "code",
   "execution_count": null,
   "id": "59e59acd",
   "metadata": {},
   "outputs": [],
   "source": [
    "ci_counts = all_ci[ci_counts]"
   ]
  },
  {
   "cell_type": "code",
   "execution_count": null,
   "id": "54b0885d",
   "metadata": {},
   "outputs": [],
   "source": [
    "count = []\n",
    "\n",
    "for x in ci_counts['CRISIS Issues - Relationships']:\n",
    "    counter = x.count(\";\")+1\n",
    "    count.append(counter)"
   ]
  },
  {
   "cell_type": "code",
   "execution_count": null,
   "id": "23227e28",
   "metadata": {},
   "outputs": [],
   "source": [
    "ci_counts['Issues_Count_Rel'] = count"
   ]
  },
  {
   "cell_type": "code",
   "execution_count": null,
   "id": "8d765636",
   "metadata": {},
   "outputs": [],
   "source": [
    "len(ci_counts.index)"
   ]
  },
  {
   "cell_type": "code",
   "execution_count": null,
   "id": "5ec0efbd",
   "metadata": {},
   "outputs": [],
   "source": [
    "ci_counts['Issues_Count_Rel'].sum()"
   ]
  },
  {
   "cell_type": "code",
   "execution_count": null,
   "id": "a2fad4c0",
   "metadata": {},
   "outputs": [],
   "source": [
    "j=61546/63254 # 0.97 Relationships issues per call"
   ]
  },
  {
   "cell_type": "markdown",
   "id": "7ca4631e",
   "metadata": {},
   "source": [
    "11. CRISIS Issues - Substances"
   ]
  },
  {
   "cell_type": "code",
   "execution_count": null,
   "id": "217dcc2e",
   "metadata": {},
   "outputs": [],
   "source": [
    "ci_counts = all_ci['CRISIS Issues - Substances'].notnull()"
   ]
  },
  {
   "cell_type": "code",
   "execution_count": null,
   "id": "db4f6a1a",
   "metadata": {},
   "outputs": [],
   "source": [
    "ci_counts = all_ci[ci_counts]"
   ]
  },
  {
   "cell_type": "code",
   "execution_count": null,
   "id": "42060a27",
   "metadata": {},
   "outputs": [],
   "source": [
    "count = []\n",
    "\n",
    "for x in ci_counts['CRISIS Issues - Substances']:\n",
    "    counter = x.count(\";\")+1\n",
    "    count.append(counter)"
   ]
  },
  {
   "cell_type": "code",
   "execution_count": null,
   "id": "a94b23c5",
   "metadata": {},
   "outputs": [],
   "source": [
    "ci_counts['Issues_Count_Sub'] = count"
   ]
  },
  {
   "cell_type": "code",
   "execution_count": null,
   "id": "21396683",
   "metadata": {
    "scrolled": true
   },
   "outputs": [],
   "source": [
    "len(ci_counts.index)"
   ]
  },
  {
   "cell_type": "code",
   "execution_count": null,
   "id": "e1ac661a",
   "metadata": {},
   "outputs": [],
   "source": [
    "ci_counts['Issues_Count_Sub'].sum()"
   ]
  },
  {
   "cell_type": "code",
   "execution_count": null,
   "id": "6f05bc91",
   "metadata": {},
   "outputs": [],
   "source": [
    "k=3901/63254 # 0.06 Substances issues per call"
   ]
  },
  {
   "cell_type": "markdown",
   "id": "0c742540",
   "metadata": {},
   "source": [
    "12. CRISIS Issues - Suicide"
   ]
  },
  {
   "cell_type": "code",
   "execution_count": null,
   "id": "488a5046",
   "metadata": {},
   "outputs": [],
   "source": [
    "ci_counts = all_ci['CRISIS Issues - Suicide'].notnull()"
   ]
  },
  {
   "cell_type": "code",
   "execution_count": null,
   "id": "33e2aaca",
   "metadata": {},
   "outputs": [],
   "source": [
    "ci_counts = all_ci[ci_counts]"
   ]
  },
  {
   "cell_type": "code",
   "execution_count": null,
   "id": "2531fc1b",
   "metadata": {},
   "outputs": [],
   "source": [
    "count = []\n",
    "\n",
    "for x in ci_counts['CRISIS Issues - Suicide']:\n",
    "    counter = x.count(\";\")+1\n",
    "    count.append(counter)"
   ]
  },
  {
   "cell_type": "code",
   "execution_count": null,
   "id": "bac98f58",
   "metadata": {},
   "outputs": [],
   "source": [
    "ci_counts['Issues_Count_Sui'] = count"
   ]
  },
  {
   "cell_type": "code",
   "execution_count": null,
   "id": "e43ab2c2",
   "metadata": {},
   "outputs": [],
   "source": [
    "len(ci_counts.index)"
   ]
  },
  {
   "cell_type": "code",
   "execution_count": null,
   "id": "310fb465",
   "metadata": {},
   "outputs": [],
   "source": [
    "ci_counts['Issues_Count_Sui'].sum()"
   ]
  },
  {
   "cell_type": "code",
   "execution_count": null,
   "id": "9d071c88",
   "metadata": {},
   "outputs": [],
   "source": [
    "l=6514/63254 # 0.10 Suicide issues per call"
   ]
  },
  {
   "cell_type": "markdown",
   "id": "ab5e974a",
   "metadata": {},
   "source": [
    "13. CRISIS Issues - No presenting problems"
   ]
  },
  {
   "cell_type": "code",
   "execution_count": null,
   "id": "41e91445",
   "metadata": {},
   "outputs": [],
   "source": [
    "ci_counts = all_ci['CRISIS Issues - No presenting problems'].notnull()"
   ]
  },
  {
   "cell_type": "code",
   "execution_count": null,
   "id": "662d684d",
   "metadata": {},
   "outputs": [],
   "source": [
    "ci_counts = all_ci[ci_counts]"
   ]
  },
  {
   "cell_type": "code",
   "execution_count": null,
   "id": "69b8afbb",
   "metadata": {},
   "outputs": [],
   "source": [
    "count = []\n",
    "\n",
    "for x in ci_counts['CRISIS Issues - No presenting problems']:\n",
    "    counter = x.count(\";\")+1\n",
    "    count.append(counter)"
   ]
  },
  {
   "cell_type": "code",
   "execution_count": null,
   "id": "a0062321",
   "metadata": {},
   "outputs": [],
   "source": [
    "ci_counts['Issues_Count_NPP'] = count"
   ]
  },
  {
   "cell_type": "code",
   "execution_count": null,
   "id": "8f546e25",
   "metadata": {},
   "outputs": [],
   "source": [
    "len(ci_counts.index)"
   ]
  },
  {
   "cell_type": "code",
   "execution_count": null,
   "id": "f01c7c32",
   "metadata": {},
   "outputs": [],
   "source": [
    "ci_counts['Issues_Count_NPP'].sum()"
   ]
  },
  {
   "cell_type": "code",
   "execution_count": null,
   "id": "6eab8c3f",
   "metadata": {},
   "outputs": [],
   "source": [
    "m=234/63254 # 0.004 No presenting problems issues per call"
   ]
  },
  {
   "cell_type": "markdown",
   "id": "99290736",
   "metadata": {},
   "source": [
    "Making a DataFrame to plot number of CRISIS issues per call by category"
   ]
  },
  {
   "cell_type": "code",
   "execution_count": null,
   "id": "8d8de08b",
   "metadata": {
    "scrolled": true
   },
   "outputs": [],
   "source": [
    "CRISIS_Issues = ['Abusive Behavior', 'Emotional State','Financial/Basic Needs','Health/Physical','Homicide','Information/Services Needed','Mental Health','No Issue Call','Other Description','Relationships','Substances','Suicide','No Presenting Problems']\n",
    "issue_count_by_col = [a,b,c,d,e,f,g,h,i,j,k,l,m]\n",
    "\n",
    "# icbc = issue count by category\n",
    "icbc = pd.DataFrame(list(zip(CRISIS_Issues, issue_count_by_col)),\n",
    "                   columns=['Issue_Category','Number_of_Issues_Per_Call'])\n",
    "icbc_sorted = icbc.sort_values('Number_of_Issues_Per_Call', ascending=False)\n",
    "icbc_sorted"
   ]
  },
  {
   "cell_type": "code",
   "execution_count": null,
   "id": "ac51c527",
   "metadata": {},
   "outputs": [],
   "source": [
    "# https://waldyrious.net/viridis-palette-generator/\n",
    "plt.figure(figsize=(16, 10))\n",
    "plt.barh(icbc_sorted.Issue_Category, icbc_sorted.Number_of_Issues_Per_Call, color=['#bddf26', '#fde725', '#440154','#482475', '#414487', '#355f8d', '#2a788e', '#21918c', '#22a884', '#44bf70', '#7ad151'])\n",
    "plt.xticks(rotation = 0, fontsize=16)\n",
    "plt.xlabel('Number of Issues Per Call', fontsize=18)\n",
    "#plt.ylabel('CRISIS Issue Category', fontsize=18)\n",
    "plt.yticks(fontsize=16)\n",
    "plt.title('Average Number of CRISIS Issues Per Call (by Category)', fontsize=30);"
   ]
  },
  {
   "cell_type": "code",
   "execution_count": 104,
   "id": "4f8654f2",
   "metadata": {
    "scrolled": false
   },
   "outputs": [
    {
     "data": {
      "image/png": "[encoded data removed]",
      "text/plain": [
       "<Figure size 1152x576 with 1 Axes>"
      ]
     },
     "metadata": {},
     "output_type": "display_data"
    }
   ],
   "source": [
    "# Above plot but in seaborn\n",
    "sns.set(font_scale=1.2)\n",
    "plt.figure(figsize=(16, 8))\n",
    "ax = sns.barplot(x=icbc_sorted.Number_of_Issues_Per_Call.round(3), y=icbc_sorted.Issue_Category, data=icbc_sorted,\n",
    "            palette=sns.color_palette('viridis', n_colors=13))\n",
    "ax.bar_label(ax.containers[0])\n",
    "plt.title('Average Number of CRISIS Issues Per Call (by Category)', fontsize=22)\n",
    "plt.xlabel('Number of Issues Per Call', fontsize=16)\n",
    "plt.ylabel('');"
   ]
  },
  {
   "cell_type": "markdown",
   "id": "4f584770",
   "metadata": {},
   "source": [
    "## Number of CRISIS Issues (per CRISIS column, 13 total)"
   ]
  },
  {
   "cell_type": "code",
   "execution_count": null,
   "id": "c7eb6468",
   "metadata": {},
   "outputs": [],
   "source": [
    "# Total number of abusive behavior issues\n",
    "ab = all_ci['CRISIS Issues - Abusive Behavior'].str.count(';')+1\n",
    "total_ab = ab.sum()\n",
    "total_ab"
   ]
  },
  {
   "cell_type": "code",
   "execution_count": null,
   "id": "2d2c7c96",
   "metadata": {},
   "outputs": [],
   "source": [
    "# Total number of emotional state issues\n",
    "es = all_ci['CRISIS Issues - Emotional State'].str.count(';')+1\n",
    "total_es = es.sum()\n",
    "total_es"
   ]
  },
  {
   "cell_type": "code",
   "execution_count": null,
   "id": "4102f1a9",
   "metadata": {},
   "outputs": [],
   "source": [
    "# Total number of Financial/Basic Needs issues\n",
    "fbn = all_ci['CRISIS Issues - Financial/Basic Needs'].str.count(';')+1\n",
    "total_fbn = fbn.sum()\n",
    "total_fbn"
   ]
  },
  {
   "cell_type": "code",
   "execution_count": null,
   "id": "7025a8f1",
   "metadata": {},
   "outputs": [],
   "source": [
    "# Total number of Health/Physical issues\n",
    "hp = all_ci['CRISIS Issues - Health/Physical'].str.count(';')+1\n",
    "total_hp = hp.sum()\n",
    "total_hp"
   ]
  },
  {
   "cell_type": "code",
   "execution_count": null,
   "id": "a7c7f44a",
   "metadata": {},
   "outputs": [],
   "source": [
    "# Total number of Health/Physical issues\n",
    "hom = all_ci['CRISIS Issues - Homicide'].str.count(';')+1\n",
    "total_hom = hom.sum()\n",
    "total_hom"
   ]
  },
  {
   "cell_type": "code",
   "execution_count": null,
   "id": "16e5665e",
   "metadata": {},
   "outputs": [],
   "source": [
    "# Total number of Information or Services Needed issues\n",
    "isn = all_ci['CRISIS Issues - Information or Services Needed'].str.count(';')+1\n",
    "total_isn = isn.sum()\n",
    "total_isn"
   ]
  },
  {
   "cell_type": "code",
   "execution_count": null,
   "id": "ba4ab6a1",
   "metadata": {},
   "outputs": [],
   "source": [
    "# Total number of mental health issues\n",
    "mh = all_ci['CRISIS Issues - Mental Health'].str.count(';')+1\n",
    "total_mh = mh.sum()\n",
    "total_mh"
   ]
  },
  {
   "cell_type": "code",
   "execution_count": null,
   "id": "9a44aa55",
   "metadata": {},
   "outputs": [],
   "source": [
    "# Total number of No Issue Call issues\n",
    "nic = all_ci['CRISIS Issues - No Issue Call'].str.count(';')+1\n",
    "total_nic = nic.sum()\n",
    "total_nic"
   ]
  },
  {
   "cell_type": "code",
   "execution_count": null,
   "id": "1d9b90e6",
   "metadata": {},
   "outputs": [],
   "source": [
    "# Total number of Other Description issues\n",
    "od = all_ci['CRISIS Issues - Other Description'].str.count(';')+1\n",
    "total_od = od.sum()\n",
    "total_od"
   ]
  },
  {
   "cell_type": "code",
   "execution_count": null,
   "id": "c92ec5e1",
   "metadata": {},
   "outputs": [],
   "source": [
    "# Total number of Relationships issues\n",
    "rel = all_ci['CRISIS Issues - Relationships'].str.count(';')+1\n",
    "total_rel = rel.sum()\n",
    "total_rel"
   ]
  },
  {
   "cell_type": "code",
   "execution_count": null,
   "id": "681ce477",
   "metadata": {},
   "outputs": [],
   "source": [
    "# Total number of Substances issues\n",
    "sub = all_ci['CRISIS Issues - Substances'].str.count(';')+1\n",
    "total_sub = sub.sum()\n",
    "total_sub"
   ]
  },
  {
   "cell_type": "code",
   "execution_count": null,
   "id": "0c9da563",
   "metadata": {},
   "outputs": [],
   "source": [
    "# Total number of Suicide issues\n",
    "sui = all_ci['CRISIS Issues - Suicide'].str.count(';')+1\n",
    "total_sui = sui.sum()\n",
    "total_sui"
   ]
  },
  {
   "cell_type": "code",
   "execution_count": null,
   "id": "a9b83b26",
   "metadata": {},
   "outputs": [],
   "source": [
    "# Total number of No presenting problems issues\n",
    "npp = all_ci['CRISIS Issues - No presenting problems'].str.count(';')+1\n",
    "total_npp = npp.sum()\n",
    "total_npp"
   ]
  },
  {
   "cell_type": "code",
   "execution_count": null,
   "id": "f1ba3d0e",
   "metadata": {
    "scrolled": true
   },
   "outputs": [],
   "source": [
    "# Making the DataFrame\n",
    "num_issues_list = [total_ab, total_es, total_fbn, total_hp, total_hom, total_isn, total_mh, total_nic, total_od, total_rel, total_sub, total_sui, total_npp]\n",
    "cri_issues_list = ['Abusive Behavior', 'Emotional State', 'Financial/Basic Needs', 'Health/Physical', 'Homicide', 'Info/Service Needed', 'Mental Health', 'No Issue', 'Other', 'Relationships', 'Substances', 'Suicide', 'No Presenting Problems']\n",
    "issue_count_df = pd.DataFrame(list(zip(cri_issues_list, num_issues_list)),\n",
    "    columns =['CRISIS_Issue', 'Number_of_Issues'])\n",
    "issue_count_df"
   ]
  },
  {
   "cell_type": "code",
   "execution_count": null,
   "id": "7059d1f1",
   "metadata": {},
   "outputs": [],
   "source": [
    "issue_count_df = issue_count_df.sort_values('Number_of_Issues', ascending=True)\n",
    "issue_count_df"
   ]
  },
  {
   "cell_type": "code",
   "execution_count": null,
   "id": "6d012bf8",
   "metadata": {},
   "outputs": [],
   "source": [
    "# DO NOT USE THIS\n",
    "plt.figure(figsize=(16, 10))\n",
    "plt.barh(issue_count_df.CRISIS_Issue, issue_count_df.Number_of_Issues)\n",
    "plt.xticks(rotation = 0, fontsize=16)\n",
    "plt.xlabel('Number of Issues', fontsize=18)\n",
    "plt.ylabel('CRISIS Issue Category', fontsize=18)\n",
    "plt.yticks(fontsize=16)\n",
    "plt.title('Number of CRISIS Issues by Category', fontsize=30);"
   ]
  },
  {
   "cell_type": "markdown",
   "id": "f73b3505",
   "metadata": {},
   "source": [
    "There are different kinds of issues within each CRISIS category (Y-axis) -- this plot shows the count of all those issues."
   ]
  },
  {
   "cell_type": "code",
   "execution_count": null,
   "id": "ff93040e",
   "metadata": {},
   "outputs": [],
   "source": [
    "# DO NOT USE THIS\n",
    "# Barh is gonna be flipped between plt and sns when using the same df\n",
    "sns.barplot(x = issue_count_df.Number_of_Issues,\n",
    "            y = issue_count_df.CRISIS_Issue,\n",
    "            data = issue_count_df);"
   ]
  },
  {
   "cell_type": "markdown",
   "id": "d7b14c72",
   "metadata": {},
   "source": [
    "## Investigating \"Content\" calls"
   ]
  },
  {
   "cell_type": "code",
   "execution_count": 122,
   "id": "bb2ba72f",
   "metadata": {},
   "outputs": [],
   "source": [
    "# Make a df with all the rows where 'CRISIS Issues - Emotional State' is not null (ie. has values)\n",
    "all_ci_content = all_ci['CRISIS Issues - Emotional State'].notnull()"
   ]
  },
  {
   "cell_type": "code",
   "execution_count": 123,
   "id": "1187437b",
   "metadata": {},
   "outputs": [],
   "source": [
    "# Print to check, run this AFTER the above\n",
    "all_ci_content = all_ci[all_ci_content]"
   ]
  },
  {
   "cell_type": "code",
   "execution_count": 124,
   "id": "1f194aad",
   "metadata": {},
   "outputs": [],
   "source": [
    "# Filter rows to only those that only contain 'Content' in the Emotional State column\n",
    "content = all_ci_content.loc[all_ci_content['CRISIS Issues - Emotional State'].isin(['Content'])]"
   ]
  },
  {
   "cell_type": "code",
   "execution_count": null,
   "id": "5a986640",
   "metadata": {},
   "outputs": [],
   "source": [
    "callnum = content['CallerNum'].value_counts()[:10].sort_values(ascending=False)\n",
    "callnum\n",
    "# Content callers: More repeat callers than random (-1)"
   ]
  },
  {
   "cell_type": "code",
   "execution_count": null,
   "id": "635942f6",
   "metadata": {},
   "outputs": [],
   "source": [
    "call_num = pd.DataFrame({'CallerID':callnum.index, 'Count':callnum.values})\n",
    "call_num = call_num\n",
    "call_num"
   ]
  },
  {
   "cell_type": "code",
   "execution_count": 143,
   "id": "c96471ea",
   "metadata": {},
   "outputs": [
    {
     "data": {
      "image/png": "[encoded data removed]",
      "text/plain": [
       "<Figure size 1152x576 with 1 Axes>"
      ]
     },
     "metadata": {},
     "output_type": "display_data"
    }
   ],
   "source": [
    "plt.figure(figsize=(16, 8))\n",
    "sns.set(font_scale=1.2)\n",
    "ax = sns.barplot(x=call_num.CallerID, y=call_num.Count, data=call_num,\n",
    "            palette=sns.color_palette('viridis', n_colors=10))\n",
    "ax.bar_label(ax.containers[0])\n",
    "plt.title(\"Number of Calls per Caller ID\", fontsize=22)\n",
    "plt.xlabel('Caller ID', fontsize=16)\n",
    "plt.ylabel('Number of Calls');"
   ]
  },
  {
   "cell_type": "code",
   "execution_count": null,
   "id": "db9c45ac",
   "metadata": {},
   "outputs": [],
   "source": [
    "content['CRISIS Issues - Relationships'].value_counts()[:10].sort_values(ascending=False)\n",
    "# Content callers: Most reported relationship is family"
   ]
  },
  {
   "cell_type": "code",
   "execution_count": null,
   "id": "473b91be",
   "metadata": {},
   "outputs": [],
   "source": [
    "content_length = content['CallLength'].value_counts()[:10].sort_values(ascending=False)\n",
    "content_length\n",
    "# Content callers: 10 min calls top the list"
   ]
  },
  {
   "cell_type": "code",
   "execution_count": null,
   "id": "fb67faae",
   "metadata": {},
   "outputs": [],
   "source": [
    "con_len = pd.DataFrame({'CallLength':content_length.index, 'Count':content_length.values})\n",
    "con_len"
   ]
  },
  {
   "cell_type": "code",
   "execution_count": 142,
   "id": "31805a5b",
   "metadata": {},
   "outputs": [
    {
     "data": {
      "image/png": "[encoded data removed]",
      "text/plain": [
       "<Figure size 1152x576 with 1 Axes>"
      ]
     },
     "metadata": {},
     "output_type": "display_data"
    }
   ],
   "source": [
    "plt.figure(figsize=(16, 8))\n",
    "sns.set(font_scale=1.2)\n",
    "ax = sns.barplot(x=con_len.CallLength, y=con_len.Count, data=con_len,\n",
    "            palette=sns.color_palette('viridis', n_colors=10))\n",
    "ax.bar_label(ax.containers[0])\n",
    "plt.title(\"Call Length of 'Content' (Emotional State) Callers\", fontsize=22)\n",
    "plt.xlabel('Call Length (minutes)', fontsize=16)\n",
    "plt.ylabel('Number of Calls');"
   ]
  },
  {
   "cell_type": "code",
   "execution_count": null,
   "id": "23dacf65",
   "metadata": {},
   "outputs": [],
   "source": [
    "content_mh = content['CRISIS Issues - Mental Health'].value_counts()[:10].sort_values(ascending=False)\n",
    "content_mh\n",
    "# Content callers: Other Mental Health tops the list, perhaps good?"
   ]
  },
  {
   "cell_type": "code",
   "execution_count": 133,
   "id": "1f7c6e75",
   "metadata": {
    "scrolled": false
   },
   "outputs": [
    {
     "data": {
      "image/png": "[encoded data removed]",
      "text/plain": [
       "<Figure size 720x432 with 1 Axes>"
      ]
     },
     "metadata": {},
     "output_type": "display_data"
    }
   ],
   "source": [
    "# DO NOT USE this exists solely for me to practice making a pie chart in plt\n",
    "labels = 'Other Mental Health', 'Medical Related Anxiety', 'Anxiety/Panic'\n",
    "sizes = np.array([73, 16, 11])\n",
    "colors = ['#22a884', '#7ad151', '#fde725']\n",
    "\n",
    "def absolute_value(val):\n",
    "    a  = np.round(val/100.*sizes.sum(), 0)\n",
    "    return a\n",
    "plt.figure(figsize=(10, 6))\n",
    "plt.pie(sizes, labels=labels, colors=colors,\n",
    "        autopct=absolute_value)\n",
    "plt.title(\"Top 3 Mental Health Issues of 'Content' Calls\", fontsize=20)\n",
    "plt.axis('equal');"
   ]
  },
  {
   "cell_type": "code",
   "execution_count": null,
   "id": "35556b22",
   "metadata": {},
   "outputs": [],
   "source": [
    "conval = pd.DataFrame({'Issue':content_mh.index, 'Count':content_mh.values})\n",
    "conval"
   ]
  },
  {
   "cell_type": "code",
   "execution_count": 135,
   "id": "944e7449",
   "metadata": {
    "scrolled": false
   },
   "outputs": [
    {
     "data": {
      "image/png": "[encoded data removed]",
      "text/plain": [
       "<Figure size 1152x576 with 1 Axes>"
      ]
     },
     "metadata": {},
     "output_type": "display_data"
    }
   ],
   "source": [
    "# Above plot but in seaborn\n",
    "plt.figure(figsize=(16, 8))\n",
    "sns.set(font_scale=1.2)\n",
    "ax = sns.barplot(x=conval.Count, y=conval.Issue, data=conval,\n",
    "            palette=sns.color_palette('viridis', n_colors=10))\n",
    "ax.bar_label(ax.containers[0])\n",
    "plt.title(\"Mental Health of 'Content' (Emotional State) Callers\", fontsize=22)\n",
    "plt.xlabel('Number of Issues', fontsize=16)\n",
    "plt.ylabel('');"
   ]
  },
  {
   "cell_type": "markdown",
   "id": "c45009e4",
   "metadata": {},
   "source": [
    "## Investigating top Emotional State issues"
   ]
  },
  {
   "cell_type": "code",
   "execution_count": null,
   "id": "8c543485",
   "metadata": {},
   "outputs": [],
   "source": [
    "# Melt test to extract individual issue values in the column, credit Maggie\n",
    "emos = all_ci['CRISIS Issues - Emotional State'].str.split('; ', expand=True) # split with the space!\n",
    "emos_issues = emos.melt().value.value_counts()\n",
    "emos_issues"
   ]
  },
  {
   "cell_type": "code",
   "execution_count": null,
   "id": "e3ef882f",
   "metadata": {},
   "outputs": [],
   "source": [
    "# Extract top 4 into a df\n",
    "tei_df = pd.DataFrame({'Issue':emos_issues.index, 'Count':emos_issues.values})\n",
    "tei_df = tei_df[:5]\n",
    "tei_df"
   ]
  },
  {
   "cell_type": "code",
   "execution_count": null,
   "id": "8a994821",
   "metadata": {},
   "outputs": [],
   "source": [
    "plt.figure(figsize=(16, 10))\n",
    "plt.barh(tei_df.Issue, tei_df.Count)\n",
    "plt.xticks(rotation = 0, fontsize=16)\n",
    "plt.xlabel('Number of Issues', fontsize=18)\n",
    "plt.yticks(fontsize=16)\n",
    "plt.title('Top 5 Emotional State Issues', fontsize=30);"
   ]
  },
  {
   "cell_type": "code",
   "execution_count": 141,
   "id": "74ad1ea0",
   "metadata": {},
   "outputs": [
    {
     "data": {
      "image/png": "[encoded data removed]",
      "text/plain": [
       "<Figure size 1152x576 with 1 Axes>"
      ]
     },
     "metadata": {},
     "output_type": "display_data"
    }
   ],
   "source": [
    "# Above plot but in seaborn\n",
    "plt.figure(figsize=(16, 8))\n",
    "sns.set(font_scale=1.2)\n",
    "ax = sns.barplot(x=tei_df.Count, y=tei_df.Issue, data=tei_df,\n",
    "            palette=sns.color_palette('viridis', n_colors=5))\n",
    "ax.bar_label(ax.containers[0])\n",
    "plt.title('Top 5 Emotional State Issues', fontsize=22)\n",
    "plt.xlabel('Number of Issues', fontsize=16)\n",
    "plt.ylabel('');"
   ]
  },
  {
   "cell_type": "code",
   "execution_count": null,
   "id": "cf09c8f5",
   "metadata": {},
   "outputs": [],
   "source": []
  }
 ],
 "metadata": {
  "kernelspec": {
   "display_name": "Python 3 (ipykernel)",
   "language": "python",
   "name": "python3"
  },
  "language_info": {
   "codemirror_mode": {
    "name": "ipython",
    "version": 3
   },
   "file_extension": ".py",
   "mimetype": "text/x-python",
   "name": "python",
   "nbconvert_exporter": "python",
   "pygments_lexer": "ipython3",
   "version": "3.9.7"
  }
 },
 "nbformat": 4,
 "nbformat_minor": 5
}
