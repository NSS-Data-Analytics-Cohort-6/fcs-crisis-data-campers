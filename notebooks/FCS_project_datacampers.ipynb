{
 "cells": [
  {
   "cell_type": "markdown",
   "id": "f3127035",
   "metadata": {},
   "source": [
    "# Family and Children's Services Crisis Project by DataCampers\n",
    "### Objective 2: Analyze trends in call content by looking for which issues are most frequent and what is the average count of issues per call.\n",
    "- *For the second objective, the columns that contain the information about the documented issues are those that begin with CRISIS Issues. When calls come in, call takers use a form to indicate the various issues the individual is experiencing.*\n",
    "- *If an individual is experiencing multiple issues, the issues can be grouped together into a single cell, which makes understanding individual issues difficult. For this project you will parse the data from the different CRISIS Issues columns to allow deeper investigation of each individual issue.*\n",
    "\n",
    "### To do: CRISIS Issues per call (partitioned by CRISIS Issue column) calculated, need to chart these values"
   ]
  },
  {
   "cell_type": "markdown",
   "id": "e58e9003",
   "metadata": {},
   "source": [
    "## Self EDA"
   ]
  },
  {
   "cell_type": "markdown",
   "id": "77781384",
   "metadata": {},
   "source": [
    "#### Read in the relevant data"
   ]
  },
  {
   "cell_type": "code",
   "execution_count": 1,
   "id": "cc5e5506",
   "metadata": {},
   "outputs": [],
   "source": [
    "import pandas as pd\n",
    "pd.set_option('display.max_rows', 500)\n",
    "pd.set_option('display.max_columns', 500)\n",
    "pd.set_option('display.width', 1000)\n",
    "import numpy as np\n",
    "import matplotlib.pyplot as plt\n",
    "%matplotlib inline\n",
    "import seaborn as sns\n",
    "import requests as re"
   ]
  },
  {
   "cell_type": "code",
   "execution_count": 2,
   "id": "6fda423a",
   "metadata": {},
   "outputs": [],
   "source": [
    "df1 = pd.read_excel('../data/NSSCrisisv_1.xlsx') # 2020-2021\n",
    "df2 = pd.read_excel('../data/NSSCrisisv_2.xlsx') # 2022\n",
    "# df_2020 = pd.read_excel('../data/2020callcenter.xlsx')\n",
    "# df_2021 = pd.read_excel('../data/2021callcenter.xlsx')\n",
    "# df_2022 = pd.read_excel('../data/2022callcenter.xlsx')"
   ]
  },
  {
   "cell_type": "code",
   "execution_count": 3,
   "id": "9253a4af",
   "metadata": {},
   "outputs": [],
   "source": [
    "# Rob: Change name of CRISIS Subjective in v2 to CRISIS Issues to match v1\n",
    "labels = list()\n",
    "for col in df2.columns:\n",
    "    labels.append(col.replace('Subjective', 'Issues'))\n",
    "df2.columns = labels"
   ]
  },
  {
   "cell_type": "code",
   "execution_count": 4,
   "id": "3a808108",
   "metadata": {},
   "outputs": [],
   "source": [
    "# Rob: Drops columns that contain only NaN\n",
    "df1.dropna(how='all', axis=1, inplace=True)\n",
    "df2.dropna(how='all', axis=1, inplace=True)"
   ]
  },
  {
   "cell_type": "code",
   "execution_count": 5,
   "id": "cf0a061e",
   "metadata": {},
   "outputs": [],
   "source": [
    "# Rob: Drop columns whose entire values are 98% NaN\n",
    "# pct_null = df1.isnull().sum() / len(df1)\n",
    "# missing_features = pct_null[pct_null > 0.98].index\n",
    "# df1.drop(missing_features, axis=1, inplace=True)"
   ]
  },
  {
   "cell_type": "code",
   "execution_count": 6,
   "id": "5cfde052",
   "metadata": {},
   "outputs": [],
   "source": [
    "# pct_null = df1.isnull().sum() / len(df1)\n",
    "# missing_features = pct_null[pct_null > 0.98].index\n",
    "# df2.drop(missing_features, axis=1, inplace=True)"
   ]
  },
  {
   "cell_type": "code",
   "execution_count": 7,
   "id": "bf1bc587",
   "metadata": {},
   "outputs": [
    {
     "data": {
      "text/html": [
       "<div>\n",
       "<style scoped>\n",
       "    .dataframe tbody tr th:only-of-type {\n",
       "        vertical-align: middle;\n",
       "    }\n",
       "\n",
       "    .dataframe tbody tr th {\n",
       "        vertical-align: top;\n",
       "    }\n",
       "\n",
       "    .dataframe thead th {\n",
       "        text-align: right;\n",
       "    }\n",
       "</style>\n",
       "<table border=\"1\" class=\"dataframe\">\n",
       "  <thead>\n",
       "    <tr style=\"text-align: right;\">\n",
       "      <th></th>\n",
       "      <th>0</th>\n",
       "    </tr>\n",
       "  </thead>\n",
       "  <tbody>\n",
       "    <tr>\n",
       "      <th>0</th>\n",
       "      <td>CallReportNum</td>\n",
       "    </tr>\n",
       "    <tr>\n",
       "      <th>1</th>\n",
       "      <td>ReportVersion</td>\n",
       "    </tr>\n",
       "    <tr>\n",
       "      <th>2</th>\n",
       "      <td>LinkedToCallReportNum</td>\n",
       "    </tr>\n",
       "    <tr>\n",
       "      <th>3</th>\n",
       "      <td>CallDateAndTimeStart</td>\n",
       "    </tr>\n",
       "    <tr>\n",
       "      <th>4</th>\n",
       "      <td>CallDateAndTimeEnd</td>\n",
       "    </tr>\n",
       "    <tr>\n",
       "      <th>5</th>\n",
       "      <td>CallLength</td>\n",
       "    </tr>\n",
       "    <tr>\n",
       "      <th>6</th>\n",
       "      <td>CallerNum</td>\n",
       "    </tr>\n",
       "    <tr>\n",
       "      <th>7</th>\n",
       "      <td>PhoneWorkerNum</td>\n",
       "    </tr>\n",
       "    <tr>\n",
       "      <th>8</th>\n",
       "      <td>PhoneWorkerName</td>\n",
       "    </tr>\n",
       "    <tr>\n",
       "      <th>9</th>\n",
       "      <td>PostalCode</td>\n",
       "    </tr>\n",
       "    <tr>\n",
       "      <th>10</th>\n",
       "      <td>PhoneType</td>\n",
       "    </tr>\n",
       "    <tr>\n",
       "      <th>11</th>\n",
       "      <td>ThirdPartyName</td>\n",
       "    </tr>\n",
       "    <tr>\n",
       "      <th>12</th>\n",
       "      <td>ThirdPartyOrganization</td>\n",
       "    </tr>\n",
       "    <tr>\n",
       "      <th>13</th>\n",
       "      <td>ThirdPartyPhoneNumber</td>\n",
       "    </tr>\n",
       "    <tr>\n",
       "      <th>14</th>\n",
       "      <td>ThirdPartyAddress</td>\n",
       "    </tr>\n",
       "    <tr>\n",
       "      <th>15</th>\n",
       "      <td>ThirdPartyStateProvince</td>\n",
       "    </tr>\n",
       "    <tr>\n",
       "      <th>16</th>\n",
       "      <td>Narrative</td>\n",
       "    </tr>\n",
       "    <tr>\n",
       "      <th>17</th>\n",
       "      <td>VolunteerComments</td>\n",
       "    </tr>\n",
       "    <tr>\n",
       "      <th>18</th>\n",
       "      <td>Feedback</td>\n",
       "    </tr>\n",
       "    <tr>\n",
       "      <th>19</th>\n",
       "      <td>CallersFeedback</td>\n",
       "    </tr>\n",
       "    <tr>\n",
       "      <th>20</th>\n",
       "      <td>EnteredByWorkerNum</td>\n",
       "    </tr>\n",
       "    <tr>\n",
       "      <th>21</th>\n",
       "      <td>EnteredByName</td>\n",
       "    </tr>\n",
       "    <tr>\n",
       "      <th>22</th>\n",
       "      <td>EnteredOn</td>\n",
       "    </tr>\n",
       "    <tr>\n",
       "      <th>23</th>\n",
       "      <td>Reviewed</td>\n",
       "    </tr>\n",
       "    <tr>\n",
       "      <th>24</th>\n",
       "      <td>FeedbackStatus</td>\n",
       "    </tr>\n",
       "    <tr>\n",
       "      <th>25</th>\n",
       "      <td>FeedbackFromPhoneWorkerNum</td>\n",
       "    </tr>\n",
       "    <tr>\n",
       "      <th>26</th>\n",
       "      <td>FeedbackFromPhoneWorkerName</td>\n",
       "    </tr>\n",
       "    <tr>\n",
       "      <th>27</th>\n",
       "      <td>ReferralsMade</td>\n",
       "    </tr>\n",
       "    <tr>\n",
       "      <th>28</th>\n",
       "      <td>OrgNum</td>\n",
       "    </tr>\n",
       "    <tr>\n",
       "      <th>29</th>\n",
       "      <td>SUI AX Note Corrections - ADMIN ONLY - Staff q...</td>\n",
       "    </tr>\n",
       "    <tr>\n",
       "      <th>30</th>\n",
       "      <td>CRISIS Call Information - Call Type</td>\n",
       "    </tr>\n",
       "    <tr>\n",
       "      <th>31</th>\n",
       "      <td>CRISIS Call Information - Caller not reached</td>\n",
       "    </tr>\n",
       "    <tr>\n",
       "      <th>32</th>\n",
       "      <td>CRISIS Call Information - Phone Line</td>\n",
       "    </tr>\n",
       "    <tr>\n",
       "      <th>33</th>\n",
       "      <td>CRISIS Demographics - Age</td>\n",
       "    </tr>\n",
       "    <tr>\n",
       "      <th>34</th>\n",
       "      <td>CRISIS Demographics - Gender Identity</td>\n",
       "    </tr>\n",
       "    <tr>\n",
       "      <th>35</th>\n",
       "      <td>CRISIS Demographics - Military</td>\n",
       "    </tr>\n",
       "    <tr>\n",
       "      <th>36</th>\n",
       "      <td>CRISIS Issues - Abusive Behavior</td>\n",
       "    </tr>\n",
       "    <tr>\n",
       "      <th>37</th>\n",
       "      <td>CRISIS Issues - Emotional State</td>\n",
       "    </tr>\n",
       "    <tr>\n",
       "      <th>38</th>\n",
       "      <td>CRISIS Issues - Financial/Basic Needs</td>\n",
       "    </tr>\n",
       "    <tr>\n",
       "      <th>39</th>\n",
       "      <td>CRISIS Issues - Health/Physical</td>\n",
       "    </tr>\n",
       "    <tr>\n",
       "      <th>40</th>\n",
       "      <td>CRISIS Issues - Homicide</td>\n",
       "    </tr>\n",
       "    <tr>\n",
       "      <th>41</th>\n",
       "      <td>CRISIS Issues - Information or Services Needed</td>\n",
       "    </tr>\n",
       "    <tr>\n",
       "      <th>42</th>\n",
       "      <td>CRISIS Issues - Mental Health</td>\n",
       "    </tr>\n",
       "    <tr>\n",
       "      <th>43</th>\n",
       "      <td>CRISIS Issues - Other Description</td>\n",
       "    </tr>\n",
       "    <tr>\n",
       "      <th>44</th>\n",
       "      <td>CRISIS Issues - Relationships</td>\n",
       "    </tr>\n",
       "    <tr>\n",
       "      <th>45</th>\n",
       "      <td>CRISIS Issues - Substances</td>\n",
       "    </tr>\n",
       "    <tr>\n",
       "      <th>46</th>\n",
       "      <td>CRISIS Issues - Suicide</td>\n",
       "    </tr>\n",
       "    <tr>\n",
       "      <th>47</th>\n",
       "      <td>CRISIS PQI (Admin Only) - Correction Type Needed</td>\n",
       "    </tr>\n",
       "    <tr>\n",
       "      <th>48</th>\n",
       "      <td>CRISIS PQI (Admin Only) - Correction(s) Checke...</td>\n",
       "    </tr>\n",
       "    <tr>\n",
       "      <th>49</th>\n",
       "      <td>CRISIS PQI (Admin Only) - Was silent monitorin...</td>\n",
       "    </tr>\n",
       "    <tr>\n",
       "      <th>50</th>\n",
       "      <td>HOM AX Call Information - Call Type</td>\n",
       "    </tr>\n",
       "    <tr>\n",
       "      <th>51</th>\n",
       "      <td>HOM AX Call Information - Phone Line</td>\n",
       "    </tr>\n",
       "    <tr>\n",
       "      <th>52</th>\n",
       "      <td>HOM AX Note Corrections - ADMIN ONLY - Correct...</td>\n",
       "    </tr>\n",
       "    <tr>\n",
       "      <th>53</th>\n",
       "      <td>HOM AX Profile of the Caller - Alcohol/drug abuse</td>\n",
       "    </tr>\n",
       "    <tr>\n",
       "      <th>54</th>\n",
       "      <td>HOM AX Profile of the Caller - Any related men...</td>\n",
       "    </tr>\n",
       "    <tr>\n",
       "      <th>55</th>\n",
       "      <td>HOM AX Profile of the Caller - Availability of...</td>\n",
       "    </tr>\n",
       "    <tr>\n",
       "      <th>56</th>\n",
       "      <td>HOM AX Profile of the Caller - Chance of Inter...</td>\n",
       "    </tr>\n",
       "    <tr>\n",
       "      <th>57</th>\n",
       "      <td>HOM AX Profile of the Caller - Degree of Hope</td>\n",
       "    </tr>\n",
       "    <tr>\n",
       "      <th>58</th>\n",
       "      <td>HOM AX Profile of the Caller - External stressors</td>\n",
       "    </tr>\n",
       "    <tr>\n",
       "      <th>59</th>\n",
       "      <td>HOM AX Profile of the Caller - Frequency of vi...</td>\n",
       "    </tr>\n",
       "    <tr>\n",
       "      <th>60</th>\n",
       "      <td>HOM AX Profile of the Caller - History of viol...</td>\n",
       "    </tr>\n",
       "    <tr>\n",
       "      <th>61</th>\n",
       "      <td>HOM AX Profile of the Caller - Lethality of Plan</td>\n",
       "    </tr>\n",
       "    <tr>\n",
       "      <th>62</th>\n",
       "      <td>HOM AX Profile of the Caller - Method Available</td>\n",
       "    </tr>\n",
       "    <tr>\n",
       "      <th>63</th>\n",
       "      <td>HOM AX Profile of the Caller - Prior Attempts/...</td>\n",
       "    </tr>\n",
       "    <tr>\n",
       "      <th>64</th>\n",
       "      <td>HOM AX Profile of the Caller - Social Supports</td>\n",
       "    </tr>\n",
       "    <tr>\n",
       "      <th>65</th>\n",
       "      <td>HOM AX Profile of the Caller - Specific person...</td>\n",
       "    </tr>\n",
       "    <tr>\n",
       "      <th>66</th>\n",
       "      <td>HOM AX Profile of the Caller - Support Network</td>\n",
       "    </tr>\n",
       "    <tr>\n",
       "      <th>67</th>\n",
       "      <td>HOM AX Profile of the Caller - When/Time</td>\n",
       "    </tr>\n",
       "    <tr>\n",
       "      <th>68</th>\n",
       "      <td>HOM AX Profile of the Caller - Where</td>\n",
       "    </tr>\n",
       "    <tr>\n",
       "      <th>69</th>\n",
       "      <td>HOM AX Risk Assessment - What is homicide risk...</td>\n",
       "    </tr>\n",
       "    <tr>\n",
       "      <th>70</th>\n",
       "      <td>SUI AX Assessment - Suicide Risk Assessment</td>\n",
       "    </tr>\n",
       "    <tr>\n",
       "      <th>71</th>\n",
       "      <td>SUI AX Buffers and Connectedness - Ambivalence...</td>\n",
       "    </tr>\n",
       "    <tr>\n",
       "      <th>72</th>\n",
       "      <td>SUI AX Buffers and Connectedness - Core Values...</td>\n",
       "    </tr>\n",
       "    <tr>\n",
       "      <th>73</th>\n",
       "      <td>SUI AX Buffers and Connectedness - Engagement ...</td>\n",
       "    </tr>\n",
       "    <tr>\n",
       "      <th>74</th>\n",
       "      <td>SUI AX Buffers and Connectedness - Future Plans</td>\n",
       "    </tr>\n",
       "    <tr>\n",
       "      <th>75</th>\n",
       "      <td>SUI AX Buffers and Connectedness - Immediate S...</td>\n",
       "    </tr>\n",
       "    <tr>\n",
       "      <th>76</th>\n",
       "      <td>SUI AX Buffers and Connectedness - Sense of Pu...</td>\n",
       "    </tr>\n",
       "    <tr>\n",
       "      <th>77</th>\n",
       "      <td>SUI AX Buffers and Connectedness - Social Supp...</td>\n",
       "    </tr>\n",
       "    <tr>\n",
       "      <th>78</th>\n",
       "      <td>SUI AX Call Information - Call Type</td>\n",
       "    </tr>\n",
       "    <tr>\n",
       "      <th>79</th>\n",
       "      <td>SUI AX Call Information - Phone Line</td>\n",
       "    </tr>\n",
       "    <tr>\n",
       "      <th>80</th>\n",
       "      <td>SUI AX Capability - Anxiety</td>\n",
       "    </tr>\n",
       "    <tr>\n",
       "      <th>81</th>\n",
       "      <td>SUI AX Capability - Availability of Means</td>\n",
       "    </tr>\n",
       "    <tr>\n",
       "      <th>82</th>\n",
       "      <td>SUI AX Capability - Currently Intoxicated</td>\n",
       "    </tr>\n",
       "    <tr>\n",
       "      <th>83</th>\n",
       "      <td>SUI AX Capability - Decreased sleep</td>\n",
       "    </tr>\n",
       "    <tr>\n",
       "      <th>84</th>\n",
       "      <td>SUI AX Capability - Exposure to someone elses ...</td>\n",
       "    </tr>\n",
       "    <tr>\n",
       "      <th>85</th>\n",
       "      <td>SUI AX Capability - Mood Change</td>\n",
       "    </tr>\n",
       "    <tr>\n",
       "      <th>86</th>\n",
       "      <td>SUI AX Capability - Out of Touch</td>\n",
       "    </tr>\n",
       "    <tr>\n",
       "      <th>87</th>\n",
       "      <td>SUI AX Capability - Previous Attempt</td>\n",
       "    </tr>\n",
       "    <tr>\n",
       "      <th>88</th>\n",
       "      <td>SUI AX Capability - Substance Abuse</td>\n",
       "    </tr>\n",
       "    <tr>\n",
       "      <th>89</th>\n",
       "      <td>SUI AX Capability - Violence</td>\n",
       "    </tr>\n",
       "    <tr>\n",
       "      <th>90</th>\n",
       "      <td>SUI Ax Contact overview - Are you thinking of ...</td>\n",
       "    </tr>\n",
       "    <tr>\n",
       "      <th>91</th>\n",
       "      <td>SUI Ax Contact overview - Do you own any weapons?</td>\n",
       "    </tr>\n",
       "    <tr>\n",
       "      <th>92</th>\n",
       "      <td>SUI Ax Contact overview - Have you ever attemp...</td>\n",
       "    </tr>\n",
       "    <tr>\n",
       "      <th>93</th>\n",
       "      <td>SUI Ax Contact overview - Suicide in progress</td>\n",
       "    </tr>\n",
       "    <tr>\n",
       "      <th>94</th>\n",
       "      <td>SUI AX Desire - Feeling Alone</td>\n",
       "    </tr>\n",
       "    <tr>\n",
       "      <th>95</th>\n",
       "      <td>SUI AX Desire - Feeling Trapped</td>\n",
       "    </tr>\n",
       "    <tr>\n",
       "      <th>96</th>\n",
       "      <td>SUI AX Desire - Helplessness</td>\n",
       "    </tr>\n",
       "    <tr>\n",
       "      <th>97</th>\n",
       "      <td>SUI AX Desire - Hopelessness</td>\n",
       "    </tr>\n",
       "    <tr>\n",
       "      <th>98</th>\n",
       "      <td>SUI AX Desire - Perceived Burden</td>\n",
       "    </tr>\n",
       "    <tr>\n",
       "      <th>99</th>\n",
       "      <td>SUI AX Desire - Psychological Pain</td>\n",
       "    </tr>\n",
       "    <tr>\n",
       "      <th>100</th>\n",
       "      <td>SUI AX Desire - Suicidal Ideation</td>\n",
       "    </tr>\n",
       "    <tr>\n",
       "      <th>101</th>\n",
       "      <td>SUI AX Follow-up - Best time to call</td>\n",
       "    </tr>\n",
       "    <tr>\n",
       "      <th>102</th>\n",
       "      <td>SUI AX Intent - Expressed Intent to Die</td>\n",
       "    </tr>\n",
       "    <tr>\n",
       "      <th>103</th>\n",
       "      <td>SUI AX Intent - Preparatory Behaviors</td>\n",
       "    </tr>\n",
       "    <tr>\n",
       "      <th>104</th>\n",
       "      <td>SUI AX Intent - Suicide Plan</td>\n",
       "    </tr>\n",
       "    <tr>\n",
       "      <th>105</th>\n",
       "      <td>SUI AX Note Corrections - ADMIN ONLY - Correct...</td>\n",
       "    </tr>\n",
       "    <tr>\n",
       "      <th>106</th>\n",
       "      <td>SUI AX Note Corrections - ADMIN ONLY - Correct...</td>\n",
       "    </tr>\n",
       "    <tr>\n",
       "      <th>107</th>\n",
       "      <td>SUI AX Note Corrections - ADMIN ONLY - Correct...</td>\n",
       "    </tr>\n",
       "  </tbody>\n",
       "</table>\n",
       "</div>"
      ],
      "text/plain": [
       "                                                     0\n",
       "0                                        CallReportNum\n",
       "1                                        ReportVersion\n",
       "2                                LinkedToCallReportNum\n",
       "3                                 CallDateAndTimeStart\n",
       "4                                   CallDateAndTimeEnd\n",
       "5                                           CallLength\n",
       "6                                            CallerNum\n",
       "7                                       PhoneWorkerNum\n",
       "8                                      PhoneWorkerName\n",
       "9                                           PostalCode\n",
       "10                                           PhoneType\n",
       "11                                      ThirdPartyName\n",
       "12                              ThirdPartyOrganization\n",
       "13                               ThirdPartyPhoneNumber\n",
       "14                                   ThirdPartyAddress\n",
       "15                             ThirdPartyStateProvince\n",
       "16                                           Narrative\n",
       "17                                   VolunteerComments\n",
       "18                                            Feedback\n",
       "19                                     CallersFeedback\n",
       "20                                  EnteredByWorkerNum\n",
       "21                                       EnteredByName\n",
       "22                                           EnteredOn\n",
       "23                                            Reviewed\n",
       "24                                      FeedbackStatus\n",
       "25                          FeedbackFromPhoneWorkerNum\n",
       "26                         FeedbackFromPhoneWorkerName\n",
       "27                                       ReferralsMade\n",
       "28                                              OrgNum\n",
       "29   SUI AX Note Corrections - ADMIN ONLY - Staff q...\n",
       "30                 CRISIS Call Information - Call Type\n",
       "31        CRISIS Call Information - Caller not reached\n",
       "32                CRISIS Call Information - Phone Line\n",
       "33                           CRISIS Demographics - Age\n",
       "34               CRISIS Demographics - Gender Identity\n",
       "35                      CRISIS Demographics - Military\n",
       "36                    CRISIS Issues - Abusive Behavior\n",
       "37                     CRISIS Issues - Emotional State\n",
       "38               CRISIS Issues - Financial/Basic Needs\n",
       "39                     CRISIS Issues - Health/Physical\n",
       "40                            CRISIS Issues - Homicide\n",
       "41      CRISIS Issues - Information or Services Needed\n",
       "42                       CRISIS Issues - Mental Health\n",
       "43                   CRISIS Issues - Other Description\n",
       "44                       CRISIS Issues - Relationships\n",
       "45                          CRISIS Issues - Substances\n",
       "46                             CRISIS Issues - Suicide\n",
       "47    CRISIS PQI (Admin Only) - Correction Type Needed\n",
       "48   CRISIS PQI (Admin Only) - Correction(s) Checke...\n",
       "49   CRISIS PQI (Admin Only) - Was silent monitorin...\n",
       "50                 HOM AX Call Information - Call Type\n",
       "51                HOM AX Call Information - Phone Line\n",
       "52   HOM AX Note Corrections - ADMIN ONLY - Correct...\n",
       "53   HOM AX Profile of the Caller - Alcohol/drug abuse\n",
       "54   HOM AX Profile of the Caller - Any related men...\n",
       "55   HOM AX Profile of the Caller - Availability of...\n",
       "56   HOM AX Profile of the Caller - Chance of Inter...\n",
       "57       HOM AX Profile of the Caller - Degree of Hope\n",
       "58   HOM AX Profile of the Caller - External stressors\n",
       "59   HOM AX Profile of the Caller - Frequency of vi...\n",
       "60   HOM AX Profile of the Caller - History of viol...\n",
       "61    HOM AX Profile of the Caller - Lethality of Plan\n",
       "62     HOM AX Profile of the Caller - Method Available\n",
       "63   HOM AX Profile of the Caller - Prior Attempts/...\n",
       "64      HOM AX Profile of the Caller - Social Supports\n",
       "65   HOM AX Profile of the Caller - Specific person...\n",
       "66      HOM AX Profile of the Caller - Support Network\n",
       "67            HOM AX Profile of the Caller - When/Time\n",
       "68                HOM AX Profile of the Caller - Where\n",
       "69   HOM AX Risk Assessment - What is homicide risk...\n",
       "70         SUI AX Assessment - Suicide Risk Assessment\n",
       "71   SUI AX Buffers and Connectedness - Ambivalence...\n",
       "72   SUI AX Buffers and Connectedness - Core Values...\n",
       "73   SUI AX Buffers and Connectedness - Engagement ...\n",
       "74     SUI AX Buffers and Connectedness - Future Plans\n",
       "75   SUI AX Buffers and Connectedness - Immediate S...\n",
       "76   SUI AX Buffers and Connectedness - Sense of Pu...\n",
       "77   SUI AX Buffers and Connectedness - Social Supp...\n",
       "78                 SUI AX Call Information - Call Type\n",
       "79                SUI AX Call Information - Phone Line\n",
       "80                         SUI AX Capability - Anxiety\n",
       "81           SUI AX Capability - Availability of Means\n",
       "82           SUI AX Capability - Currently Intoxicated\n",
       "83                 SUI AX Capability - Decreased sleep\n",
       "84   SUI AX Capability - Exposure to someone elses ...\n",
       "85                     SUI AX Capability - Mood Change\n",
       "86                    SUI AX Capability - Out of Touch\n",
       "87                SUI AX Capability - Previous Attempt\n",
       "88                 SUI AX Capability - Substance Abuse\n",
       "89                        SUI AX Capability - Violence\n",
       "90   SUI Ax Contact overview - Are you thinking of ...\n",
       "91   SUI Ax Contact overview - Do you own any weapons?\n",
       "92   SUI Ax Contact overview - Have you ever attemp...\n",
       "93       SUI Ax Contact overview - Suicide in progress\n",
       "94                       SUI AX Desire - Feeling Alone\n",
       "95                     SUI AX Desire - Feeling Trapped\n",
       "96                        SUI AX Desire - Helplessness\n",
       "97                        SUI AX Desire - Hopelessness\n",
       "98                    SUI AX Desire - Perceived Burden\n",
       "99                  SUI AX Desire - Psychological Pain\n",
       "100                  SUI AX Desire - Suicidal Ideation\n",
       "101               SUI AX Follow-up - Best time to call\n",
       "102            SUI AX Intent - Expressed Intent to Die\n",
       "103              SUI AX Intent - Preparatory Behaviors\n",
       "104                       SUI AX Intent - Suicide Plan\n",
       "105  SUI AX Note Corrections - ADMIN ONLY - Correct...\n",
       "106  SUI AX Note Corrections - ADMIN ONLY - Correct...\n",
       "107  SUI AX Note Corrections - ADMIN ONLY - Correct..."
      ]
     },
     "execution_count": 7,
     "metadata": {},
     "output_type": "execute_result"
    }
   ],
   "source": [
    "# Maggie: Find the columns that are the same in both dfs\n",
    "samecolumnsdf = pd.DataFrame(df1.columns.intersection(df2.columns))\n",
    "samecolumnsdf"
   ]
  },
  {
   "cell_type": "markdown",
   "id": "936924a9",
   "metadata": {},
   "source": [
    "## Group EDA\n",
    "We are using these columns in addition to the CRISIS Issues columns:\n",
    "- CallReportNum, CallDateAndTimeStart, CallDateAndTimeEnd, CallLength, CallerNum"
   ]
  },
  {
   "cell_type": "code",
   "execution_count": 8,
   "id": "41c6a743",
   "metadata": {},
   "outputs": [],
   "source": [
    "# Rob: Loop that grabs columns we want and puts it into one df\n",
    "filter_col1 = [col for col in df1 if col.startswith('CRISIS Issues') or col.startswith('Call')]\n",
    "df1_ci = df1[filter_col1]"
   ]
  },
  {
   "cell_type": "code",
   "execution_count": 9,
   "id": "e935d873",
   "metadata": {},
   "outputs": [],
   "source": [
    "# Rob: Loop that grabs columns we want and puts it into one df\n",
    "filter_col2 = [col for col in df2 if col.startswith('CRISIS Issues') or col.startswith('Call')]\n",
    "df2_ci = df2[filter_col2]"
   ]
  },
  {
   "cell_type": "markdown",
   "id": "fd7874ce",
   "metadata": {},
   "source": [
    "### THIS IS THE MASTER DATAFRAME"
   ]
  },
  {
   "cell_type": "code",
   "execution_count": 10,
   "id": "3c81f702",
   "metadata": {
    "scrolled": false
   },
   "outputs": [
    {
     "data": {
      "text/html": [
       "<div>\n",
       "<style scoped>\n",
       "    .dataframe tbody tr th:only-of-type {\n",
       "        vertical-align: middle;\n",
       "    }\n",
       "\n",
       "    .dataframe tbody tr th {\n",
       "        vertical-align: top;\n",
       "    }\n",
       "\n",
       "    .dataframe thead th {\n",
       "        text-align: right;\n",
       "    }\n",
       "</style>\n",
       "<table border=\"1\" class=\"dataframe\">\n",
       "  <thead>\n",
       "    <tr style=\"text-align: right;\">\n",
       "      <th></th>\n",
       "      <th>CallReportNum</th>\n",
       "      <th>CallDateAndTimeStart</th>\n",
       "      <th>CallDateAndTimeEnd</th>\n",
       "      <th>CallLength</th>\n",
       "      <th>CallerNum</th>\n",
       "      <th>CallersFeedback</th>\n",
       "      <th>CRISIS Issues - Abusive Behavior</th>\n",
       "      <th>CRISIS Issues - Emotional State</th>\n",
       "      <th>CRISIS Issues - Financial/Basic Needs</th>\n",
       "      <th>CRISIS Issues - Health/Physical</th>\n",
       "      <th>CRISIS Issues - Homicide</th>\n",
       "      <th>CRISIS Issues - Information or Services Needed</th>\n",
       "      <th>CRISIS Issues - Mental Health</th>\n",
       "      <th>CRISIS Issues - No Issue Call</th>\n",
       "      <th>CRISIS Issues - Other Description</th>\n",
       "      <th>CRISIS Issues - Relationships</th>\n",
       "      <th>CRISIS Issues - Substances</th>\n",
       "      <th>CRISIS Issues - Suicide</th>\n",
       "      <th>CRISIS Issues - No presenting problems</th>\n",
       "    </tr>\n",
       "  </thead>\n",
       "  <tbody>\n",
       "    <tr>\n",
       "      <th>0</th>\n",
       "      <td>96627022</td>\n",
       "      <td>2021-12-31 23:35:00</td>\n",
       "      <td>2021-12-31 23:58:00</td>\n",
       "      <td>23</td>\n",
       "      <td>-1</td>\n",
       "      <td>NaN</td>\n",
       "      <td>NaN</td>\n",
       "      <td>Anxious/Stressed; Financial Stress</td>\n",
       "      <td>Employment/Job Placement</td>\n",
       "      <td>NaN</td>\n",
       "      <td>NaN</td>\n",
       "      <td>NaN</td>\n",
       "      <td>Depression ; Anxiety/Panic</td>\n",
       "      <td>NaN</td>\n",
       "      <td>Politics</td>\n",
       "      <td>Male-Female</td>\n",
       "      <td>NaN</td>\n",
       "      <td>NaN</td>\n",
       "      <td>NaN</td>\n",
       "    </tr>\n",
       "    <tr>\n",
       "      <th>1</th>\n",
       "      <td>96626934</td>\n",
       "      <td>2021-12-31 23:29:00</td>\n",
       "      <td>2021-12-31 23:35:00</td>\n",
       "      <td>6</td>\n",
       "      <td>-1</td>\n",
       "      <td>NaN</td>\n",
       "      <td>NaN</td>\n",
       "      <td>Anxious/Stressed; Holiday Stress</td>\n",
       "      <td>NaN</td>\n",
       "      <td>NaN</td>\n",
       "      <td>NaN</td>\n",
       "      <td>NaN</td>\n",
       "      <td>Anxiety/Panic</td>\n",
       "      <td>NaN</td>\n",
       "      <td>NaN</td>\n",
       "      <td>NaN</td>\n",
       "      <td>NaN</td>\n",
       "      <td>NaN</td>\n",
       "      <td>NaN</td>\n",
       "    </tr>\n",
       "    <tr>\n",
       "      <th>2</th>\n",
       "      <td>96626654</td>\n",
       "      <td>2021-12-31 23:07:00</td>\n",
       "      <td>2021-12-31 23:28:00</td>\n",
       "      <td>21</td>\n",
       "      <td>1030262</td>\n",
       "      <td>NaN</td>\n",
       "      <td>NaN</td>\n",
       "      <td>Holiday Stress</td>\n",
       "      <td>NaN</td>\n",
       "      <td>NaN</td>\n",
       "      <td>NaN</td>\n",
       "      <td>NaN</td>\n",
       "      <td>Grief</td>\n",
       "      <td>NaN</td>\n",
       "      <td>NaN</td>\n",
       "      <td>Peer Group/Friend; Therapist/Medical Doctor</td>\n",
       "      <td>NaN</td>\n",
       "      <td>NaN</td>\n",
       "      <td>NaN</td>\n",
       "    </tr>\n",
       "    <tr>\n",
       "      <th>3</th>\n",
       "      <td>96626370</td>\n",
       "      <td>2021-12-31 22:45:00</td>\n",
       "      <td>2021-12-31 22:55:00</td>\n",
       "      <td>10</td>\n",
       "      <td>2479348</td>\n",
       "      <td>NaN</td>\n",
       "      <td>NaN</td>\n",
       "      <td>Anxious/Stressed</td>\n",
       "      <td>NaN</td>\n",
       "      <td>NaN</td>\n",
       "      <td>NaN</td>\n",
       "      <td>NaN</td>\n",
       "      <td>Anxiety/Panic</td>\n",
       "      <td>NaN</td>\n",
       "      <td>NaN</td>\n",
       "      <td>Neighbor/Landlord; Animal/Pet</td>\n",
       "      <td>NaN</td>\n",
       "      <td>NaN</td>\n",
       "      <td>NaN</td>\n",
       "    </tr>\n",
       "    <tr>\n",
       "      <th>4</th>\n",
       "      <td>96625909</td>\n",
       "      <td>2021-12-31 22:15:00</td>\n",
       "      <td>2021-12-31 22:44:00</td>\n",
       "      <td>29</td>\n",
       "      <td>-1</td>\n",
       "      <td>NaN</td>\n",
       "      <td>NaN</td>\n",
       "      <td>NaN</td>\n",
       "      <td>Employment/Job Placement</td>\n",
       "      <td>NaN</td>\n",
       "      <td>NaN</td>\n",
       "      <td>NaN</td>\n",
       "      <td>Depression ; Anxiety/Panic; Medical Related An...</td>\n",
       "      <td>NaN</td>\n",
       "      <td>NaN</td>\n",
       "      <td>NaN</td>\n",
       "      <td>NaN</td>\n",
       "      <td>NaN</td>\n",
       "      <td>NaN</td>\n",
       "    </tr>\n",
       "    <tr>\n",
       "      <th>...</th>\n",
       "      <td>...</td>\n",
       "      <td>...</td>\n",
       "      <td>...</td>\n",
       "      <td>...</td>\n",
       "      <td>...</td>\n",
       "      <td>...</td>\n",
       "      <td>...</td>\n",
       "      <td>...</td>\n",
       "      <td>...</td>\n",
       "      <td>...</td>\n",
       "      <td>...</td>\n",
       "      <td>...</td>\n",
       "      <td>...</td>\n",
       "      <td>...</td>\n",
       "      <td>...</td>\n",
       "      <td>...</td>\n",
       "      <td>...</td>\n",
       "      <td>...</td>\n",
       "      <td>...</td>\n",
       "    </tr>\n",
       "    <tr>\n",
       "      <th>10643</th>\n",
       "      <td>96673255</td>\n",
       "      <td>2022-01-01 20:34:00</td>\n",
       "      <td>2022-01-01 20:58:00</td>\n",
       "      <td>24</td>\n",
       "      <td>-1</td>\n",
       "      <td>NaN</td>\n",
       "      <td>NaN</td>\n",
       "      <td>NaN</td>\n",
       "      <td>NaN</td>\n",
       "      <td>NaN</td>\n",
       "      <td>NaN</td>\n",
       "      <td>NaN</td>\n",
       "      <td>NaN</td>\n",
       "      <td>NaN</td>\n",
       "      <td>NaN</td>\n",
       "      <td>NaN</td>\n",
       "      <td>NaN</td>\n",
       "      <td>NaN</td>\n",
       "      <td>NaN</td>\n",
       "    </tr>\n",
       "    <tr>\n",
       "      <th>10644</th>\n",
       "      <td>96645142</td>\n",
       "      <td>2022-01-01 18:27:00</td>\n",
       "      <td>2022-01-01 19:12:00</td>\n",
       "      <td>45</td>\n",
       "      <td>-1</td>\n",
       "      <td>NaN</td>\n",
       "      <td>NaN</td>\n",
       "      <td>NaN</td>\n",
       "      <td>NaN</td>\n",
       "      <td>NaN</td>\n",
       "      <td>NaN</td>\n",
       "      <td>NaN</td>\n",
       "      <td>NaN</td>\n",
       "      <td>NaN</td>\n",
       "      <td>NaN</td>\n",
       "      <td>NaN</td>\n",
       "      <td>NaN</td>\n",
       "      <td>NaN</td>\n",
       "      <td>NaN</td>\n",
       "    </tr>\n",
       "    <tr>\n",
       "      <th>10645</th>\n",
       "      <td>96640741</td>\n",
       "      <td>2022-01-01 14:44:00</td>\n",
       "      <td>2022-01-01 15:19:00</td>\n",
       "      <td>35</td>\n",
       "      <td>-1</td>\n",
       "      <td>NaN</td>\n",
       "      <td>NaN</td>\n",
       "      <td>NaN</td>\n",
       "      <td>NaN</td>\n",
       "      <td>NaN</td>\n",
       "      <td>NaN</td>\n",
       "      <td>NaN</td>\n",
       "      <td>NaN</td>\n",
       "      <td>NaN</td>\n",
       "      <td>NaN</td>\n",
       "      <td>NaN</td>\n",
       "      <td>NaN</td>\n",
       "      <td>NaN</td>\n",
       "      <td>NaN</td>\n",
       "    </tr>\n",
       "    <tr>\n",
       "      <th>10646</th>\n",
       "      <td>96849680</td>\n",
       "      <td>2022-01-01 12:09:00</td>\n",
       "      <td>2022-01-01 12:10:00</td>\n",
       "      <td>1</td>\n",
       "      <td>-1</td>\n",
       "      <td>NaN</td>\n",
       "      <td>NaN</td>\n",
       "      <td>NaN</td>\n",
       "      <td>NaN</td>\n",
       "      <td>NaN</td>\n",
       "      <td>NaN</td>\n",
       "      <td>NaN</td>\n",
       "      <td>NaN</td>\n",
       "      <td>NaN</td>\n",
       "      <td>NaN</td>\n",
       "      <td>NaN</td>\n",
       "      <td>NaN</td>\n",
       "      <td>Information about SOSL support group</td>\n",
       "      <td>NaN</td>\n",
       "    </tr>\n",
       "    <tr>\n",
       "      <th>10647</th>\n",
       "      <td>97267704</td>\n",
       "      <td>2022-01-01 02:30:00</td>\n",
       "      <td>2022-01-01 03:10:00</td>\n",
       "      <td>40</td>\n",
       "      <td>-1</td>\n",
       "      <td>NaN</td>\n",
       "      <td>NaN</td>\n",
       "      <td>NaN</td>\n",
       "      <td>NaN</td>\n",
       "      <td>NaN</td>\n",
       "      <td>NaN</td>\n",
       "      <td>NaN</td>\n",
       "      <td>NaN</td>\n",
       "      <td>NaN</td>\n",
       "      <td>NaN</td>\n",
       "      <td>NaN</td>\n",
       "      <td>NaN</td>\n",
       "      <td>NaN</td>\n",
       "      <td>NaN</td>\n",
       "    </tr>\n",
       "  </tbody>\n",
       "</table>\n",
       "<p>63524 rows × 19 columns</p>\n",
       "</div>"
      ],
      "text/plain": [
       "       CallReportNum CallDateAndTimeStart  CallDateAndTimeEnd  CallLength  CallerNum CallersFeedback CRISIS Issues - Abusive Behavior     CRISIS Issues - Emotional State CRISIS Issues - Financial/Basic Needs CRISIS Issues - Health/Physical CRISIS Issues - Homicide CRISIS Issues - Information or Services Needed                      CRISIS Issues - Mental Health CRISIS Issues - No Issue Call CRISIS Issues - Other Description                CRISIS Issues - Relationships CRISIS Issues - Substances               CRISIS Issues - Suicide CRISIS Issues - No presenting problems\n",
       "0           96627022  2021-12-31 23:35:00 2021-12-31 23:58:00          23         -1             NaN                              NaN  Anxious/Stressed; Financial Stress              Employment/Job Placement                             NaN                      NaN                                            NaN                         Depression ; Anxiety/Panic                           NaN                          Politics                                  Male-Female                        NaN                                   NaN                                    NaN\n",
       "1           96626934  2021-12-31 23:29:00 2021-12-31 23:35:00           6         -1             NaN                              NaN    Anxious/Stressed; Holiday Stress                                   NaN                             NaN                      NaN                                            NaN                                      Anxiety/Panic                           NaN                               NaN                                          NaN                        NaN                                   NaN                                    NaN\n",
       "2           96626654  2021-12-31 23:07:00 2021-12-31 23:28:00          21    1030262             NaN                              NaN                      Holiday Stress                                   NaN                             NaN                      NaN                                            NaN                                              Grief                           NaN                               NaN  Peer Group/Friend; Therapist/Medical Doctor                        NaN                                   NaN                                    NaN\n",
       "3           96626370  2021-12-31 22:45:00 2021-12-31 22:55:00          10    2479348             NaN                              NaN                    Anxious/Stressed                                   NaN                             NaN                      NaN                                            NaN                                      Anxiety/Panic                           NaN                               NaN                Neighbor/Landlord; Animal/Pet                        NaN                                   NaN                                    NaN\n",
       "4           96625909  2021-12-31 22:15:00 2021-12-31 22:44:00          29         -1             NaN                              NaN                                 NaN              Employment/Job Placement                             NaN                      NaN                                            NaN  Depression ; Anxiety/Panic; Medical Related An...                           NaN                               NaN                                          NaN                        NaN                                   NaN                                    NaN\n",
       "...              ...                  ...                 ...         ...        ...             ...                              ...                                 ...                                   ...                             ...                      ...                                            ...                                                ...                           ...                               ...                                          ...                        ...                                   ...                                    ...\n",
       "10643       96673255  2022-01-01 20:34:00 2022-01-01 20:58:00          24         -1             NaN                              NaN                                 NaN                                   NaN                             NaN                      NaN                                            NaN                                                NaN                           NaN                               NaN                                          NaN                        NaN                                   NaN                                    NaN\n",
       "10644       96645142  2022-01-01 18:27:00 2022-01-01 19:12:00          45         -1             NaN                              NaN                                 NaN                                   NaN                             NaN                      NaN                                            NaN                                                NaN                           NaN                               NaN                                          NaN                        NaN                                   NaN                                    NaN\n",
       "10645       96640741  2022-01-01 14:44:00 2022-01-01 15:19:00          35         -1             NaN                              NaN                                 NaN                                   NaN                             NaN                      NaN                                            NaN                                                NaN                           NaN                               NaN                                          NaN                        NaN                                   NaN                                    NaN\n",
       "10646       96849680  2022-01-01 12:09:00 2022-01-01 12:10:00           1         -1             NaN                              NaN                                 NaN                                   NaN                             NaN                      NaN                                            NaN                                                NaN                           NaN                               NaN                                          NaN                        NaN  Information about SOSL support group                                    NaN\n",
       "10647       97267704  2022-01-01 02:30:00 2022-01-01 03:10:00          40         -1             NaN                              NaN                                 NaN                                   NaN                             NaN                      NaN                                            NaN                                                NaN                           NaN                               NaN                                          NaN                        NaN                                   NaN                                    NaN\n",
       "\n",
       "[63524 rows x 19 columns]"
      ]
     },
     "execution_count": 10,
     "metadata": {},
     "output_type": "execute_result"
    }
   ],
   "source": [
    "all_ci = pd.concat([df1_ci, df2_ci])\n",
    "all_ci"
   ]
  },
  {
   "cell_type": "markdown",
   "id": "65058645",
   "metadata": {},
   "source": [
    "Refresher: ..... **what is the average count of issues per call.**"
   ]
  },
  {
   "cell_type": "markdown",
   "id": "1b6d60aa",
   "metadata": {},
   "source": [
    "## Average number of issues per call (by CRISIS category)\n",
    "- For loop credit: Rob\n",
    "- I am using this to find the issue count of each cell corresponding to that issue category. Then we can find the average count of issues per call (eg. PARTITION BY all CRISIS Issues) and the average count of each category issue per call (eg. PARTITION BY CRISIS Issue - Abusive Behavior, etc).\n",
    "- **Run each section from the top to refresh the variables!!**\n",
    "- lens show how many of those category rows exist (eg. 2505 Abusive Behavior rows out of 63,254)\n",
    "- sums show total count of the issues count column for that category, will always be >= to lens\n",
    "- Need to divide these sums by 63,254 to get the avg number of issues for that category per call"
   ]
  },
  {
   "cell_type": "markdown",
   "id": "32d86251",
   "metadata": {},
   "source": [
    "1. CRISIS Issues - Abusive Behavior"
   ]
  },
  {
   "cell_type": "code",
   "execution_count": 11,
   "id": "a2159b6b",
   "metadata": {},
   "outputs": [],
   "source": [
    "ci_counts = all_ci['CRISIS Issues - Abusive Behavior'].notnull()"
   ]
  },
  {
   "cell_type": "code",
   "execution_count": 12,
   "id": "5d58393c",
   "metadata": {},
   "outputs": [],
   "source": [
    "ci_counts = all_ci[ci_counts]"
   ]
  },
  {
   "cell_type": "code",
   "execution_count": 13,
   "id": "7fa16278",
   "metadata": {},
   "outputs": [],
   "source": [
    "count = []\n",
    "\n",
    "for x in ci_counts['CRISIS Issues - Abusive Behavior']:\n",
    "    counter = x.count(\";\")+1\n",
    "    count.append(counter)"
   ]
  },
  {
   "cell_type": "code",
   "execution_count": 14,
   "id": "bb2bb7f4",
   "metadata": {
    "scrolled": false
   },
   "outputs": [
    {
     "name": "stderr",
     "output_type": "stream",
     "text": [
      "C:\\Users\\Jasmine\\AppData\\Local\\Temp/ipykernel_13004/4004364910.py:1: SettingWithCopyWarning: \n",
      "A value is trying to be set on a copy of a slice from a DataFrame.\n",
      "Try using .loc[row_indexer,col_indexer] = value instead\n",
      "\n",
      "See the caveats in the documentation: https://pandas.pydata.org/pandas-docs/stable/user_guide/indexing.html#returning-a-view-versus-a-copy\n",
      "  ci_counts['Issues_Count_AB'] = count\n"
     ]
    }
   ],
   "source": [
    "ci_counts['Issues_Count_AB'] = count"
   ]
  },
  {
   "cell_type": "code",
   "execution_count": 15,
   "id": "a9a8bfb7",
   "metadata": {},
   "outputs": [
    {
     "data": {
      "text/plain": [
       "2505"
      ]
     },
     "execution_count": 15,
     "metadata": {},
     "output_type": "execute_result"
    }
   ],
   "source": [
    "len(ci_counts.index)"
   ]
  },
  {
   "cell_type": "code",
   "execution_count": 16,
   "id": "d3c81c39",
   "metadata": {},
   "outputs": [
    {
     "data": {
      "text/plain": [
       "3656"
      ]
     },
     "execution_count": 16,
     "metadata": {},
     "output_type": "execute_result"
    }
   ],
   "source": [
    "ci_counts['Issues_Count_AB'].sum()"
   ]
  },
  {
   "cell_type": "code",
   "execution_count": 17,
   "id": "46e0ac39",
   "metadata": {},
   "outputs": [],
   "source": [
    "a=3656/63254 # 0.06 Abusive behavior issues per call"
   ]
  },
  {
   "cell_type": "markdown",
   "id": "8f1b0e35",
   "metadata": {},
   "source": [
    "2. CRISIS Issues - Emotional State"
   ]
  },
  {
   "cell_type": "code",
   "execution_count": 18,
   "id": "2f7776d4",
   "metadata": {},
   "outputs": [],
   "source": [
    "ci_counts = all_ci['CRISIS Issues - Emotional State'].notnull()"
   ]
  },
  {
   "cell_type": "code",
   "execution_count": 19,
   "id": "d37aea6e",
   "metadata": {},
   "outputs": [],
   "source": [
    "ci_counts = all_ci[ci_counts]"
   ]
  },
  {
   "cell_type": "code",
   "execution_count": 20,
   "id": "29c7dca4",
   "metadata": {},
   "outputs": [],
   "source": [
    "count = []\n",
    "\n",
    "for x in ci_counts['CRISIS Issues - Emotional State']:\n",
    "    counter = x.count(\";\")+1\n",
    "    count.append(counter)"
   ]
  },
  {
   "cell_type": "code",
   "execution_count": 21,
   "id": "fd5e0b2f",
   "metadata": {
    "scrolled": true
   },
   "outputs": [
    {
     "name": "stderr",
     "output_type": "stream",
     "text": [
      "C:\\Users\\Jasmine\\AppData\\Local\\Temp/ipykernel_13004/4273064899.py:1: SettingWithCopyWarning: \n",
      "A value is trying to be set on a copy of a slice from a DataFrame.\n",
      "Try using .loc[row_indexer,col_indexer] = value instead\n",
      "\n",
      "See the caveats in the documentation: https://pandas.pydata.org/pandas-docs/stable/user_guide/indexing.html#returning-a-view-versus-a-copy\n",
      "  ci_counts['Issues_Count_ES'] = count\n"
     ]
    }
   ],
   "source": [
    "ci_counts['Issues_Count_ES'] = count"
   ]
  },
  {
   "cell_type": "code",
   "execution_count": 22,
   "id": "d2384b10",
   "metadata": {},
   "outputs": [
    {
     "data": {
      "text/plain": [
       "42713"
      ]
     },
     "execution_count": 22,
     "metadata": {},
     "output_type": "execute_result"
    }
   ],
   "source": [
    "len(ci_counts.index)"
   ]
  },
  {
   "cell_type": "code",
   "execution_count": 23,
   "id": "9c3ae467",
   "metadata": {},
   "outputs": [
    {
     "data": {
      "text/plain": [
       "98606"
      ]
     },
     "execution_count": 23,
     "metadata": {},
     "output_type": "execute_result"
    }
   ],
   "source": [
    "ci_counts['Issues_Count_ES'].sum()"
   ]
  },
  {
   "cell_type": "code",
   "execution_count": 24,
   "id": "8aa825e3",
   "metadata": {},
   "outputs": [],
   "source": [
    "b=98606/63254 # 1.56 Emotional state issues per call"
   ]
  },
  {
   "cell_type": "markdown",
   "id": "5c76e2ee",
   "metadata": {},
   "source": [
    "3. CRISIS Issues - Financial/Basic Needs"
   ]
  },
  {
   "cell_type": "code",
   "execution_count": 25,
   "id": "fe6455d2",
   "metadata": {},
   "outputs": [],
   "source": [
    "ci_counts = all_ci['CRISIS Issues - Financial/Basic Needs'].notnull()"
   ]
  },
  {
   "cell_type": "code",
   "execution_count": 26,
   "id": "97c7c3e6",
   "metadata": {},
   "outputs": [],
   "source": [
    "ci_counts = all_ci[ci_counts]"
   ]
  },
  {
   "cell_type": "code",
   "execution_count": 27,
   "id": "7c44a2b0",
   "metadata": {},
   "outputs": [],
   "source": [
    "count = []\n",
    "\n",
    "for x in ci_counts['CRISIS Issues - Financial/Basic Needs']:\n",
    "    counter = x.count(\";\")+1\n",
    "    count.append(counter)"
   ]
  },
  {
   "cell_type": "code",
   "execution_count": 28,
   "id": "e3e30ea2",
   "metadata": {},
   "outputs": [
    {
     "name": "stderr",
     "output_type": "stream",
     "text": [
      "C:\\Users\\Jasmine\\AppData\\Local\\Temp/ipykernel_13004/1554597162.py:1: SettingWithCopyWarning: \n",
      "A value is trying to be set on a copy of a slice from a DataFrame.\n",
      "Try using .loc[row_indexer,col_indexer] = value instead\n",
      "\n",
      "See the caveats in the documentation: https://pandas.pydata.org/pandas-docs/stable/user_guide/indexing.html#returning-a-view-versus-a-copy\n",
      "  ci_counts['Issues_Count_FBN'] = count\n"
     ]
    }
   ],
   "source": [
    "ci_counts['Issues_Count_FBN'] = count"
   ]
  },
  {
   "cell_type": "code",
   "execution_count": 29,
   "id": "7ffe2018",
   "metadata": {},
   "outputs": [
    {
     "data": {
      "text/plain": [
       "2515"
      ]
     },
     "execution_count": 29,
     "metadata": {},
     "output_type": "execute_result"
    }
   ],
   "source": [
    "len(ci_counts.index)"
   ]
  },
  {
   "cell_type": "code",
   "execution_count": 30,
   "id": "b5fd8735",
   "metadata": {},
   "outputs": [
    {
     "data": {
      "text/plain": [
       "3523"
      ]
     },
     "execution_count": 30,
     "metadata": {},
     "output_type": "execute_result"
    }
   ],
   "source": [
    "ci_counts['Issues_Count_FBN'].sum()"
   ]
  },
  {
   "cell_type": "code",
   "execution_count": 31,
   "id": "f69f6457",
   "metadata": {},
   "outputs": [],
   "source": [
    "c=3523/63254 # 0.06 Financial/Basic Needs issues per call"
   ]
  },
  {
   "cell_type": "markdown",
   "id": "4187af2a",
   "metadata": {},
   "source": [
    "4. CRISIS Issues - Health/Physical"
   ]
  },
  {
   "cell_type": "code",
   "execution_count": 32,
   "id": "9578015d",
   "metadata": {},
   "outputs": [],
   "source": [
    "ci_counts = all_ci['CRISIS Issues - Health/Physical'].notnull()"
   ]
  },
  {
   "cell_type": "code",
   "execution_count": 33,
   "id": "54976fdf",
   "metadata": {},
   "outputs": [],
   "source": [
    "ci_counts = all_ci[ci_counts]"
   ]
  },
  {
   "cell_type": "code",
   "execution_count": 34,
   "id": "4e66f7a4",
   "metadata": {},
   "outputs": [],
   "source": [
    "count = []\n",
    "\n",
    "for x in ci_counts['CRISIS Issues - Health/Physical']:\n",
    "    counter = x.count(\";\")+1\n",
    "    count.append(counter)"
   ]
  },
  {
   "cell_type": "code",
   "execution_count": 35,
   "id": "2009cdd3",
   "metadata": {},
   "outputs": [
    {
     "name": "stderr",
     "output_type": "stream",
     "text": [
      "C:\\Users\\Jasmine\\AppData\\Local\\Temp/ipykernel_13004/3637456233.py:1: SettingWithCopyWarning: \n",
      "A value is trying to be set on a copy of a slice from a DataFrame.\n",
      "Try using .loc[row_indexer,col_indexer] = value instead\n",
      "\n",
      "See the caveats in the documentation: https://pandas.pydata.org/pandas-docs/stable/user_guide/indexing.html#returning-a-view-versus-a-copy\n",
      "  ci_counts['Issues_Count_HP'] = count\n"
     ]
    }
   ],
   "source": [
    "ci_counts['Issues_Count_HP'] = count"
   ]
  },
  {
   "cell_type": "code",
   "execution_count": 36,
   "id": "b969fac1",
   "metadata": {},
   "outputs": [
    {
     "data": {
      "text/plain": [
       "5736"
      ]
     },
     "execution_count": 36,
     "metadata": {},
     "output_type": "execute_result"
    }
   ],
   "source": [
    "len(ci_counts.index)"
   ]
  },
  {
   "cell_type": "code",
   "execution_count": 37,
   "id": "0139385e",
   "metadata": {},
   "outputs": [
    {
     "data": {
      "text/plain": [
       "7594"
      ]
     },
     "execution_count": 37,
     "metadata": {},
     "output_type": "execute_result"
    }
   ],
   "source": [
    "ci_counts['Issues_Count_HP'].sum()"
   ]
  },
  {
   "cell_type": "code",
   "execution_count": 38,
   "id": "274d2ed2",
   "metadata": {},
   "outputs": [],
   "source": [
    "d=7594/63254 # 0.12 Health/Physical issues per call"
   ]
  },
  {
   "cell_type": "markdown",
   "id": "23d27ecf",
   "metadata": {},
   "source": [
    "5. CRISIS Issues - Homicide"
   ]
  },
  {
   "cell_type": "code",
   "execution_count": 39,
   "id": "168528e2",
   "metadata": {},
   "outputs": [],
   "source": [
    "ci_counts = all_ci['CRISIS Issues - Homicide'].notnull()"
   ]
  },
  {
   "cell_type": "code",
   "execution_count": 40,
   "id": "61781479",
   "metadata": {},
   "outputs": [],
   "source": [
    "ci_counts = all_ci[ci_counts]"
   ]
  },
  {
   "cell_type": "code",
   "execution_count": 41,
   "id": "4b519690",
   "metadata": {},
   "outputs": [],
   "source": [
    "count = []\n",
    "\n",
    "for x in ci_counts['CRISIS Issues - Homicide']:\n",
    "    counter = x.count(\";\")+1\n",
    "    count.append(counter)"
   ]
  },
  {
   "cell_type": "code",
   "execution_count": 42,
   "id": "24074bf5",
   "metadata": {},
   "outputs": [
    {
     "name": "stderr",
     "output_type": "stream",
     "text": [
      "C:\\Users\\Jasmine\\AppData\\Local\\Temp/ipykernel_13004/819893445.py:1: SettingWithCopyWarning: \n",
      "A value is trying to be set on a copy of a slice from a DataFrame.\n",
      "Try using .loc[row_indexer,col_indexer] = value instead\n",
      "\n",
      "See the caveats in the documentation: https://pandas.pydata.org/pandas-docs/stable/user_guide/indexing.html#returning-a-view-versus-a-copy\n",
      "  ci_counts['Issues_Count_Hom'] = count\n"
     ]
    }
   ],
   "source": [
    "ci_counts['Issues_Count_Hom'] = count"
   ]
  },
  {
   "cell_type": "code",
   "execution_count": 43,
   "id": "fe2bca95",
   "metadata": {},
   "outputs": [
    {
     "data": {
      "text/plain": [
       "58"
      ]
     },
     "execution_count": 43,
     "metadata": {},
     "output_type": "execute_result"
    }
   ],
   "source": [
    "len(ci_counts.index)"
   ]
  },
  {
   "cell_type": "code",
   "execution_count": 44,
   "id": "b39b2fe3",
   "metadata": {},
   "outputs": [
    {
     "data": {
      "text/plain": [
       "72"
      ]
     },
     "execution_count": 44,
     "metadata": {},
     "output_type": "execute_result"
    }
   ],
   "source": [
    "ci_counts['Issues_Count_Hom'].sum()"
   ]
  },
  {
   "cell_type": "code",
   "execution_count": 45,
   "id": "9da73d74",
   "metadata": {},
   "outputs": [],
   "source": [
    "e=72/63254 # 0.001 Homicide issues per call"
   ]
  },
  {
   "cell_type": "markdown",
   "id": "c6bdbf64",
   "metadata": {},
   "source": [
    "6. CRISIS Issues - Information or Services Needed"
   ]
  },
  {
   "cell_type": "code",
   "execution_count": 46,
   "id": "26d696c2",
   "metadata": {},
   "outputs": [],
   "source": [
    "ci_counts = all_ci['CRISIS Issues - Information or Services Needed'].notnull()"
   ]
  },
  {
   "cell_type": "code",
   "execution_count": 47,
   "id": "da585131",
   "metadata": {},
   "outputs": [],
   "source": [
    "ci_counts = all_ci[ci_counts]"
   ]
  },
  {
   "cell_type": "code",
   "execution_count": 48,
   "id": "186323fe",
   "metadata": {},
   "outputs": [],
   "source": [
    "count = []\n",
    "\n",
    "for x in ci_counts['CRISIS Issues - Information or Services Needed']:\n",
    "    counter = x.count(\";\")+1\n",
    "    count.append(counter)"
   ]
  },
  {
   "cell_type": "code",
   "execution_count": 49,
   "id": "b591a3af",
   "metadata": {},
   "outputs": [
    {
     "name": "stderr",
     "output_type": "stream",
     "text": [
      "C:\\Users\\Jasmine\\AppData\\Local\\Temp/ipykernel_13004/137537728.py:1: SettingWithCopyWarning: \n",
      "A value is trying to be set on a copy of a slice from a DataFrame.\n",
      "Try using .loc[row_indexer,col_indexer] = value instead\n",
      "\n",
      "See the caveats in the documentation: https://pandas.pydata.org/pandas-docs/stable/user_guide/indexing.html#returning-a-view-versus-a-copy\n",
      "  ci_counts['Issues_Count_ISN'] = count\n"
     ]
    }
   ],
   "source": [
    "ci_counts['Issues_Count_ISN'] = count"
   ]
  },
  {
   "cell_type": "code",
   "execution_count": 50,
   "id": "c18a172b",
   "metadata": {},
   "outputs": [
    {
     "data": {
      "text/plain": [
       "2041"
      ]
     },
     "execution_count": 50,
     "metadata": {},
     "output_type": "execute_result"
    }
   ],
   "source": [
    "len(ci_counts.index)"
   ]
  },
  {
   "cell_type": "code",
   "execution_count": 51,
   "id": "4cf78e99",
   "metadata": {},
   "outputs": [
    {
     "data": {
      "text/plain": [
       "2541"
      ]
     },
     "execution_count": 51,
     "metadata": {},
     "output_type": "execute_result"
    }
   ],
   "source": [
    "ci_counts['Issues_Count_ISN'].sum()"
   ]
  },
  {
   "cell_type": "code",
   "execution_count": 52,
   "id": "3e0fd75d",
   "metadata": {},
   "outputs": [],
   "source": [
    "f=2541/63254 # 0.04 Information or Services Needed issues per call"
   ]
  },
  {
   "cell_type": "markdown",
   "id": "4319279a",
   "metadata": {},
   "source": [
    "7. CRISIS Issues - Mental Health"
   ]
  },
  {
   "cell_type": "code",
   "execution_count": 53,
   "id": "6af05f3a",
   "metadata": {},
   "outputs": [],
   "source": [
    "ci_counts = all_ci['CRISIS Issues - Mental Health'].notnull()"
   ]
  },
  {
   "cell_type": "code",
   "execution_count": 54,
   "id": "b68cb495",
   "metadata": {},
   "outputs": [],
   "source": [
    "ci_counts = all_ci[ci_counts]"
   ]
  },
  {
   "cell_type": "code",
   "execution_count": 55,
   "id": "15048456",
   "metadata": {},
   "outputs": [],
   "source": [
    "count = []\n",
    "\n",
    "for x in ci_counts['CRISIS Issues - Mental Health']:\n",
    "    counter = x.count(\";\")+1\n",
    "    count.append(counter)"
   ]
  },
  {
   "cell_type": "code",
   "execution_count": 56,
   "id": "304a4ddb",
   "metadata": {},
   "outputs": [
    {
     "name": "stderr",
     "output_type": "stream",
     "text": [
      "C:\\Users\\Jasmine\\AppData\\Local\\Temp/ipykernel_13004/928731095.py:1: SettingWithCopyWarning: \n",
      "A value is trying to be set on a copy of a slice from a DataFrame.\n",
      "Try using .loc[row_indexer,col_indexer] = value instead\n",
      "\n",
      "See the caveats in the documentation: https://pandas.pydata.org/pandas-docs/stable/user_guide/indexing.html#returning-a-view-versus-a-copy\n",
      "  ci_counts['Issues_Count_MH'] = count\n"
     ]
    }
   ],
   "source": [
    "ci_counts['Issues_Count_MH'] = count"
   ]
  },
  {
   "cell_type": "code",
   "execution_count": 57,
   "id": "e472abf2",
   "metadata": {
    "scrolled": true
   },
   "outputs": [
    {
     "data": {
      "text/plain": [
       "22253"
      ]
     },
     "execution_count": 57,
     "metadata": {},
     "output_type": "execute_result"
    }
   ],
   "source": [
    "len(ci_counts.index)"
   ]
  },
  {
   "cell_type": "code",
   "execution_count": 58,
   "id": "7328cc8b",
   "metadata": {},
   "outputs": [
    {
     "data": {
      "text/plain": [
       "41546"
      ]
     },
     "execution_count": 58,
     "metadata": {},
     "output_type": "execute_result"
    }
   ],
   "source": [
    "ci_counts['Issues_Count_MH'].sum()"
   ]
  },
  {
   "cell_type": "code",
   "execution_count": 59,
   "id": "39f136ae",
   "metadata": {},
   "outputs": [],
   "source": [
    "g=41546/63254 # 0.66 Mental Health issues per call"
   ]
  },
  {
   "cell_type": "markdown",
   "id": "faae0966",
   "metadata": {},
   "source": [
    "8. CRISIS Issues - No Issue Call"
   ]
  },
  {
   "cell_type": "code",
   "execution_count": 60,
   "id": "37834f48",
   "metadata": {},
   "outputs": [],
   "source": [
    "ci_counts = all_ci['CRISIS Issues - No Issue Call'].notnull()"
   ]
  },
  {
   "cell_type": "code",
   "execution_count": 61,
   "id": "17cf4deb",
   "metadata": {},
   "outputs": [],
   "source": [
    "ci_counts = all_ci[ci_counts]"
   ]
  },
  {
   "cell_type": "code",
   "execution_count": 62,
   "id": "8dc638be",
   "metadata": {},
   "outputs": [],
   "source": [
    "count = []\n",
    "\n",
    "for x in ci_counts['CRISIS Issues - No Issue Call']:\n",
    "    counter = x.count(\";\")+1\n",
    "    count.append(counter)"
   ]
  },
  {
   "cell_type": "code",
   "execution_count": 63,
   "id": "2a155a0f",
   "metadata": {},
   "outputs": [
    {
     "name": "stderr",
     "output_type": "stream",
     "text": [
      "C:\\Users\\Jasmine\\AppData\\Local\\Temp/ipykernel_13004/12750776.py:1: SettingWithCopyWarning: \n",
      "A value is trying to be set on a copy of a slice from a DataFrame.\n",
      "Try using .loc[row_indexer,col_indexer] = value instead\n",
      "\n",
      "See the caveats in the documentation: https://pandas.pydata.org/pandas-docs/stable/user_guide/indexing.html#returning-a-view-versus-a-copy\n",
      "  ci_counts['Issues_Count_NIC'] = count\n"
     ]
    }
   ],
   "source": [
    "ci_counts['Issues_Count_NIC'] = count"
   ]
  },
  {
   "cell_type": "code",
   "execution_count": 64,
   "id": "b3ec6f76",
   "metadata": {},
   "outputs": [
    {
     "data": {
      "text/plain": [
       "1519"
      ]
     },
     "execution_count": 64,
     "metadata": {},
     "output_type": "execute_result"
    }
   ],
   "source": [
    "len(ci_counts.index)"
   ]
  },
  {
   "cell_type": "code",
   "execution_count": 65,
   "id": "03abeba9",
   "metadata": {},
   "outputs": [
    {
     "data": {
      "text/plain": [
       "1521"
      ]
     },
     "execution_count": 65,
     "metadata": {},
     "output_type": "execute_result"
    }
   ],
   "source": [
    "ci_counts['Issues_Count_NIC'].sum()"
   ]
  },
  {
   "cell_type": "code",
   "execution_count": 66,
   "id": "4796c933",
   "metadata": {},
   "outputs": [],
   "source": [
    "h=1521/63254 # 0.02 No Issue Call issues per call"
   ]
  },
  {
   "cell_type": "markdown",
   "id": "81a76195",
   "metadata": {},
   "source": [
    "9. CRISIS Issues - Other Description"
   ]
  },
  {
   "cell_type": "code",
   "execution_count": 67,
   "id": "b8c3850f",
   "metadata": {},
   "outputs": [],
   "source": [
    "ci_counts = all_ci['CRISIS Issues - Other Description'].notnull()"
   ]
  },
  {
   "cell_type": "code",
   "execution_count": 68,
   "id": "80b8fd8c",
   "metadata": {},
   "outputs": [],
   "source": [
    "ci_counts = all_ci[ci_counts]"
   ]
  },
  {
   "cell_type": "code",
   "execution_count": 69,
   "id": "8d1018df",
   "metadata": {},
   "outputs": [],
   "source": [
    "count = []\n",
    "\n",
    "for x in ci_counts['CRISIS Issues - Other Description']:\n",
    "    counter = x.count(\";\")+1\n",
    "    count.append(counter)"
   ]
  },
  {
   "cell_type": "code",
   "execution_count": 70,
   "id": "0d1d2696",
   "metadata": {},
   "outputs": [
    {
     "name": "stderr",
     "output_type": "stream",
     "text": [
      "C:\\Users\\Jasmine\\AppData\\Local\\Temp/ipykernel_13004/2871519774.py:1: SettingWithCopyWarning: \n",
      "A value is trying to be set on a copy of a slice from a DataFrame.\n",
      "Try using .loc[row_indexer,col_indexer] = value instead\n",
      "\n",
      "See the caveats in the documentation: https://pandas.pydata.org/pandas-docs/stable/user_guide/indexing.html#returning-a-view-versus-a-copy\n",
      "  ci_counts['Issues_Count_Other'] = count\n"
     ]
    }
   ],
   "source": [
    "ci_counts['Issues_Count_Other'] = count"
   ]
  },
  {
   "cell_type": "code",
   "execution_count": 71,
   "id": "53e4d5d5",
   "metadata": {},
   "outputs": [
    {
     "data": {
      "text/plain": [
       "3407"
      ]
     },
     "execution_count": 71,
     "metadata": {},
     "output_type": "execute_result"
    }
   ],
   "source": [
    "len(ci_counts.index)"
   ]
  },
  {
   "cell_type": "code",
   "execution_count": 72,
   "id": "83ef0a71",
   "metadata": {},
   "outputs": [
    {
     "data": {
      "text/plain": [
       "3477"
      ]
     },
     "execution_count": 72,
     "metadata": {},
     "output_type": "execute_result"
    }
   ],
   "source": [
    "ci_counts['Issues_Count_Other'].sum()"
   ]
  },
  {
   "cell_type": "code",
   "execution_count": 73,
   "id": "fcc44529",
   "metadata": {},
   "outputs": [],
   "source": [
    "i=3477/63254 # 0.05 Other Description issues per call"
   ]
  },
  {
   "cell_type": "markdown",
   "id": "2d1720a2",
   "metadata": {},
   "source": [
    "10. CRISIS Issues - Relationships"
   ]
  },
  {
   "cell_type": "code",
   "execution_count": 74,
   "id": "a7889f7d",
   "metadata": {},
   "outputs": [],
   "source": [
    "ci_counts = all_ci['CRISIS Issues - Relationships'].notnull()"
   ]
  },
  {
   "cell_type": "code",
   "execution_count": 75,
   "id": "59e59acd",
   "metadata": {},
   "outputs": [],
   "source": [
    "ci_counts = all_ci[ci_counts]"
   ]
  },
  {
   "cell_type": "code",
   "execution_count": 76,
   "id": "54b0885d",
   "metadata": {},
   "outputs": [],
   "source": [
    "count = []\n",
    "\n",
    "for x in ci_counts['CRISIS Issues - Relationships']:\n",
    "    counter = x.count(\";\")+1\n",
    "    count.append(counter)"
   ]
  },
  {
   "cell_type": "code",
   "execution_count": 77,
   "id": "23227e28",
   "metadata": {},
   "outputs": [
    {
     "name": "stderr",
     "output_type": "stream",
     "text": [
      "C:\\Users\\Jasmine\\AppData\\Local\\Temp/ipykernel_13004/3899193224.py:1: SettingWithCopyWarning: \n",
      "A value is trying to be set on a copy of a slice from a DataFrame.\n",
      "Try using .loc[row_indexer,col_indexer] = value instead\n",
      "\n",
      "See the caveats in the documentation: https://pandas.pydata.org/pandas-docs/stable/user_guide/indexing.html#returning-a-view-versus-a-copy\n",
      "  ci_counts['Issues_Count_Rel'] = count\n"
     ]
    }
   ],
   "source": [
    "ci_counts['Issues_Count_Rel'] = count"
   ]
  },
  {
   "cell_type": "code",
   "execution_count": 78,
   "id": "8d765636",
   "metadata": {},
   "outputs": [
    {
     "data": {
      "text/plain": [
       "27843"
      ]
     },
     "execution_count": 78,
     "metadata": {},
     "output_type": "execute_result"
    }
   ],
   "source": [
    "len(ci_counts.index)"
   ]
  },
  {
   "cell_type": "code",
   "execution_count": 79,
   "id": "5ec0efbd",
   "metadata": {},
   "outputs": [
    {
     "data": {
      "text/plain": [
       "61546"
      ]
     },
     "execution_count": 79,
     "metadata": {},
     "output_type": "execute_result"
    }
   ],
   "source": [
    "ci_counts['Issues_Count_Rel'].sum()"
   ]
  },
  {
   "cell_type": "code",
   "execution_count": 80,
   "id": "a2fad4c0",
   "metadata": {},
   "outputs": [],
   "source": [
    "j=61546/63254 # 0.97 Relationships issues per call"
   ]
  },
  {
   "cell_type": "markdown",
   "id": "7ca4631e",
   "metadata": {},
   "source": [
    "11. CRISIS Issues - Substances"
   ]
  },
  {
   "cell_type": "code",
   "execution_count": 81,
   "id": "217dcc2e",
   "metadata": {},
   "outputs": [],
   "source": [
    "ci_counts = all_ci['CRISIS Issues - Substances'].notnull()"
   ]
  },
  {
   "cell_type": "code",
   "execution_count": 82,
   "id": "db4f6a1a",
   "metadata": {},
   "outputs": [],
   "source": [
    "ci_counts = all_ci[ci_counts]"
   ]
  },
  {
   "cell_type": "code",
   "execution_count": 83,
   "id": "42060a27",
   "metadata": {},
   "outputs": [],
   "source": [
    "count = []\n",
    "\n",
    "for x in ci_counts['CRISIS Issues - Substances']:\n",
    "    counter = x.count(\";\")+1\n",
    "    count.append(counter)"
   ]
  },
  {
   "cell_type": "code",
   "execution_count": 84,
   "id": "a94b23c5",
   "metadata": {},
   "outputs": [
    {
     "name": "stderr",
     "output_type": "stream",
     "text": [
      "C:\\Users\\Jasmine\\AppData\\Local\\Temp/ipykernel_13004/4281212156.py:1: SettingWithCopyWarning: \n",
      "A value is trying to be set on a copy of a slice from a DataFrame.\n",
      "Try using .loc[row_indexer,col_indexer] = value instead\n",
      "\n",
      "See the caveats in the documentation: https://pandas.pydata.org/pandas-docs/stable/user_guide/indexing.html#returning-a-view-versus-a-copy\n",
      "  ci_counts['Issues_Count_Sub'] = count\n"
     ]
    }
   ],
   "source": [
    "ci_counts['Issues_Count_Sub'] = count"
   ]
  },
  {
   "cell_type": "code",
   "execution_count": 85,
   "id": "21396683",
   "metadata": {
    "scrolled": true
   },
   "outputs": [
    {
     "data": {
      "text/plain": [
       "3081"
      ]
     },
     "execution_count": 85,
     "metadata": {},
     "output_type": "execute_result"
    }
   ],
   "source": [
    "len(ci_counts.index)"
   ]
  },
  {
   "cell_type": "code",
   "execution_count": 86,
   "id": "e1ac661a",
   "metadata": {},
   "outputs": [
    {
     "data": {
      "text/plain": [
       "3901"
      ]
     },
     "execution_count": 86,
     "metadata": {},
     "output_type": "execute_result"
    }
   ],
   "source": [
    "ci_counts['Issues_Count_Sub'].sum()"
   ]
  },
  {
   "cell_type": "code",
   "execution_count": 87,
   "id": "6f05bc91",
   "metadata": {},
   "outputs": [],
   "source": [
    "k=3901/63254 # 0.06 Substances issues per call"
   ]
  },
  {
   "cell_type": "markdown",
   "id": "0c742540",
   "metadata": {},
   "source": [
    "12. CRISIS Issues - Suicide"
   ]
  },
  {
   "cell_type": "code",
   "execution_count": 88,
   "id": "488a5046",
   "metadata": {},
   "outputs": [],
   "source": [
    "ci_counts = all_ci['CRISIS Issues - Suicide'].notnull()"
   ]
  },
  {
   "cell_type": "code",
   "execution_count": 89,
   "id": "33e2aaca",
   "metadata": {},
   "outputs": [],
   "source": [
    "ci_counts = all_ci[ci_counts]"
   ]
  },
  {
   "cell_type": "code",
   "execution_count": 90,
   "id": "2531fc1b",
   "metadata": {},
   "outputs": [],
   "source": [
    "count = []\n",
    "\n",
    "for x in ci_counts['CRISIS Issues - Suicide']:\n",
    "    counter = x.count(\";\")+1\n",
    "    count.append(counter)"
   ]
  },
  {
   "cell_type": "code",
   "execution_count": 91,
   "id": "bac98f58",
   "metadata": {},
   "outputs": [
    {
     "name": "stderr",
     "output_type": "stream",
     "text": [
      "C:\\Users\\Jasmine\\AppData\\Local\\Temp/ipykernel_13004/502423700.py:1: SettingWithCopyWarning: \n",
      "A value is trying to be set on a copy of a slice from a DataFrame.\n",
      "Try using .loc[row_indexer,col_indexer] = value instead\n",
      "\n",
      "See the caveats in the documentation: https://pandas.pydata.org/pandas-docs/stable/user_guide/indexing.html#returning-a-view-versus-a-copy\n",
      "  ci_counts['Issues_Count_Sui'] = count\n"
     ]
    }
   ],
   "source": [
    "ci_counts['Issues_Count_Sui'] = count"
   ]
  },
  {
   "cell_type": "code",
   "execution_count": 92,
   "id": "e43ab2c2",
   "metadata": {},
   "outputs": [
    {
     "data": {
      "text/plain": [
       "5151"
      ]
     },
     "execution_count": 92,
     "metadata": {},
     "output_type": "execute_result"
    }
   ],
   "source": [
    "len(ci_counts.index)"
   ]
  },
  {
   "cell_type": "code",
   "execution_count": 93,
   "id": "310fb465",
   "metadata": {},
   "outputs": [
    {
     "data": {
      "text/plain": [
       "6514"
      ]
     },
     "execution_count": 93,
     "metadata": {},
     "output_type": "execute_result"
    }
   ],
   "source": [
    "ci_counts['Issues_Count_Sui'].sum()"
   ]
  },
  {
   "cell_type": "code",
   "execution_count": 94,
   "id": "9d071c88",
   "metadata": {},
   "outputs": [],
   "source": [
    "l=6514/63254 # 0.10 Suicide issues per call"
   ]
  },
  {
   "cell_type": "markdown",
   "id": "ab5e974a",
   "metadata": {},
   "source": [
    "13. CRISIS Issues - No presenting problems"
   ]
  },
  {
   "cell_type": "code",
   "execution_count": 95,
   "id": "41e91445",
   "metadata": {},
   "outputs": [],
   "source": [
    "ci_counts = all_ci['CRISIS Issues - No presenting problems'].notnull()"
   ]
  },
  {
   "cell_type": "code",
   "execution_count": 96,
   "id": "662d684d",
   "metadata": {},
   "outputs": [],
   "source": [
    "ci_counts = all_ci[ci_counts]"
   ]
  },
  {
   "cell_type": "code",
   "execution_count": 97,
   "id": "69b8afbb",
   "metadata": {},
   "outputs": [],
   "source": [
    "count = []\n",
    "\n",
    "for x in ci_counts['CRISIS Issues - No presenting problems']:\n",
    "    counter = x.count(\";\")+1\n",
    "    count.append(counter)"
   ]
  },
  {
   "cell_type": "code",
   "execution_count": 98,
   "id": "a0062321",
   "metadata": {},
   "outputs": [
    {
     "name": "stderr",
     "output_type": "stream",
     "text": [
      "C:\\Users\\Jasmine\\AppData\\Local\\Temp/ipykernel_13004/2370888896.py:1: SettingWithCopyWarning: \n",
      "A value is trying to be set on a copy of a slice from a DataFrame.\n",
      "Try using .loc[row_indexer,col_indexer] = value instead\n",
      "\n",
      "See the caveats in the documentation: https://pandas.pydata.org/pandas-docs/stable/user_guide/indexing.html#returning-a-view-versus-a-copy\n",
      "  ci_counts['Issues_Count_NPP'] = count\n"
     ]
    }
   ],
   "source": [
    "ci_counts['Issues_Count_NPP'] = count"
   ]
  },
  {
   "cell_type": "code",
   "execution_count": 99,
   "id": "8f546e25",
   "metadata": {},
   "outputs": [
    {
     "data": {
      "text/plain": [
       "234"
      ]
     },
     "execution_count": 99,
     "metadata": {},
     "output_type": "execute_result"
    }
   ],
   "source": [
    "len(ci_counts.index)"
   ]
  },
  {
   "cell_type": "code",
   "execution_count": 100,
   "id": "f01c7c32",
   "metadata": {},
   "outputs": [
    {
     "data": {
      "text/plain": [
       "234"
      ]
     },
     "execution_count": 100,
     "metadata": {},
     "output_type": "execute_result"
    }
   ],
   "source": [
    "ci_counts['Issues_Count_NPP'].sum()"
   ]
  },
  {
   "cell_type": "code",
   "execution_count": 101,
   "id": "6eab8c3f",
   "metadata": {},
   "outputs": [],
   "source": [
    "m=234/63254 # 0.004 No presenting problems issues per call"
   ]
  },
  {
   "cell_type": "markdown",
   "id": "99290736",
   "metadata": {},
   "source": [
    "Making a DataFrame to plot number of CRISIS issues per call by category"
   ]
  },
  {
   "cell_type": "code",
   "execution_count": 124,
   "id": "8d8de08b",
   "metadata": {},
   "outputs": [
    {
     "data": {
      "text/html": [
       "<div>\n",
       "<style scoped>\n",
       "    .dataframe tbody tr th:only-of-type {\n",
       "        vertical-align: middle;\n",
       "    }\n",
       "\n",
       "    .dataframe tbody tr th {\n",
       "        vertical-align: top;\n",
       "    }\n",
       "\n",
       "    .dataframe thead th {\n",
       "        text-align: right;\n",
       "    }\n",
       "</style>\n",
       "<table border=\"1\" class=\"dataframe\">\n",
       "  <thead>\n",
       "    <tr style=\"text-align: right;\">\n",
       "      <th></th>\n",
       "      <th>Issue_Category</th>\n",
       "      <th>Number_of_Issues_Per_Call</th>\n",
       "    </tr>\n",
       "  </thead>\n",
       "  <tbody>\n",
       "    <tr>\n",
       "      <th>4</th>\n",
       "      <td>Homicide</td>\n",
       "      <td>0.001138</td>\n",
       "    </tr>\n",
       "    <tr>\n",
       "      <th>12</th>\n",
       "      <td>No Presenting Problems</td>\n",
       "      <td>0.003699</td>\n",
       "    </tr>\n",
       "    <tr>\n",
       "      <th>7</th>\n",
       "      <td>No Issue Call</td>\n",
       "      <td>0.024046</td>\n",
       "    </tr>\n",
       "    <tr>\n",
       "      <th>5</th>\n",
       "      <td>Information/Services Needed</td>\n",
       "      <td>0.040171</td>\n",
       "    </tr>\n",
       "    <tr>\n",
       "      <th>8</th>\n",
       "      <td>Other Description</td>\n",
       "      <td>0.054969</td>\n",
       "    </tr>\n",
       "    <tr>\n",
       "      <th>2</th>\n",
       "      <td>Financial/Basic Needs</td>\n",
       "      <td>0.055696</td>\n",
       "    </tr>\n",
       "    <tr>\n",
       "      <th>0</th>\n",
       "      <td>Abusive Behavior</td>\n",
       "      <td>0.057799</td>\n",
       "    </tr>\n",
       "    <tr>\n",
       "      <th>10</th>\n",
       "      <td>Substances</td>\n",
       "      <td>0.061672</td>\n",
       "    </tr>\n",
       "    <tr>\n",
       "      <th>11</th>\n",
       "      <td>Suicide</td>\n",
       "      <td>0.102982</td>\n",
       "    </tr>\n",
       "    <tr>\n",
       "      <th>3</th>\n",
       "      <td>Health/Physical</td>\n",
       "      <td>0.120056</td>\n",
       "    </tr>\n",
       "    <tr>\n",
       "      <th>6</th>\n",
       "      <td>Mental Health</td>\n",
       "      <td>0.656812</td>\n",
       "    </tr>\n",
       "    <tr>\n",
       "      <th>9</th>\n",
       "      <td>Relationships</td>\n",
       "      <td>0.972998</td>\n",
       "    </tr>\n",
       "    <tr>\n",
       "      <th>1</th>\n",
       "      <td>Emotional State</td>\n",
       "      <td>1.558890</td>\n",
       "    </tr>\n",
       "  </tbody>\n",
       "</table>\n",
       "</div>"
      ],
      "text/plain": [
       "                 Issue_Category  Number_of_Issues_Per_Call\n",
       "4                      Homicide                   0.001138\n",
       "12       No Presenting Problems                   0.003699\n",
       "7                 No Issue Call                   0.024046\n",
       "5   Information/Services Needed                   0.040171\n",
       "8             Other Description                   0.054969\n",
       "2         Financial/Basic Needs                   0.055696\n",
       "0              Abusive Behavior                   0.057799\n",
       "10                   Substances                   0.061672\n",
       "11                      Suicide                   0.102982\n",
       "3               Health/Physical                   0.120056\n",
       "6                 Mental Health                   0.656812\n",
       "9                 Relationships                   0.972998\n",
       "1               Emotional State                   1.558890"
      ]
     },
     "execution_count": 124,
     "metadata": {},
     "output_type": "execute_result"
    }
   ],
   "source": [
    "CRISIS_Issues = ['Abusive Behavior', 'Emotional State','Financial/Basic Needs','Health/Physical','Homicide','Information/Services Needed','Mental Health','No Issue Call','Other Description','Relationships','Substances','Suicide','No Presenting Problems']\n",
    "issue_count_by_col = [a,b,c,d,e,f,g,h,i,j,k,l,m]\n",
    "\n",
    "# icbc = issue count by category\n",
    "icbc = pd.DataFrame(list(zip(CRISIS_Issues, issue_count_by_col)),\n",
    "                   columns=['Issue_Category','Number_of_Issues_Per_Call'])\n",
    "icbc_sorted = icbc.sort_values('Number_of_Issues_Per_Call', ascending=True)\n",
    "icbc_sorted"
   ]
  },
  {
   "cell_type": "code",
   "execution_count": 125,
   "id": "626dd52e",
   "metadata": {},
   "outputs": [
    {
     "data": {
      "image/png": "[encoded data removed]",
      "text/plain": [
       "<Figure size 1152x720 with 1 Axes>"
      ]
     },
     "metadata": {
      "needs_background": "light"
     },
     "output_type": "display_data"
    }
   ],
   "source": [
    "plt.figure(figsize=(16, 10))\n",
    "sns.barplot(y=CRISIS_Issues,\n",
    "            x=issue_count_by_col,\n",
    "            data=icbc_sorted)\n",
    "plt.xlabel('Number of Issues Per Call')\n",
    "#plt.ylabel('CRISIS Issue Category')\n",
    "plt.title('Number of CRISIS Issues Per Call (by Category)');\n",
    "# Tried to sort desc but it didn't work"
   ]
  },
  {
   "cell_type": "code",
   "execution_count": 132,
   "id": "ac51c527",
   "metadata": {},
   "outputs": [
    {
     "data": {
      "image/png": "[encoded data removed]",
      "text/plain": [
       "<Figure size 1152x720 with 1 Axes>"
      ]
     },
     "metadata": {
      "needs_background": "light"
     },
     "output_type": "display_data"
    }
   ],
   "source": [
    "plt.figure(figsize=(16, 10))\n",
    "plt.barh(icbc_sorted.Issue_Category, icbc_sorted.Number_of_Issues_Per_Call)\n",
    "plt.xticks(rotation = 0, fontsize=16)\n",
    "plt.xlabel('Number of Issues Per Call', fontsize=18)\n",
    "#plt.ylabel('CRISIS Issue Category', fontsize=18)\n",
    "plt.yticks(fontsize=16)\n",
    "plt.title('Average Number of CRISIS Issues Per Call (by Category)', fontsize=30);"
   ]
  },
  {
   "cell_type": "markdown",
   "id": "4f584770",
   "metadata": {},
   "source": [
    "## Number of CRISIS Issues (per CRISIS column, 13 total)"
   ]
  },
  {
   "cell_type": "code",
   "execution_count": 106,
   "id": "c7eb6468",
   "metadata": {},
   "outputs": [
    {
     "data": {
      "text/plain": [
       "3656.0"
      ]
     },
     "execution_count": 106,
     "metadata": {},
     "output_type": "execute_result"
    }
   ],
   "source": [
    "# Total number of abusive behavior issues\n",
    "ab = all_ci['CRISIS Issues - Abusive Behavior'].str.count(';')+1\n",
    "total_ab = ab.sum()\n",
    "total_ab"
   ]
  },
  {
   "cell_type": "code",
   "execution_count": 107,
   "id": "2d2c7c96",
   "metadata": {},
   "outputs": [
    {
     "data": {
      "text/plain": [
       "98606.0"
      ]
     },
     "execution_count": 107,
     "metadata": {},
     "output_type": "execute_result"
    }
   ],
   "source": [
    "# Total number of emotional state issues\n",
    "es = all_ci['CRISIS Issues - Emotional State'].str.count(';')+1\n",
    "total_es = es.sum()\n",
    "total_es"
   ]
  },
  {
   "cell_type": "code",
   "execution_count": 108,
   "id": "4102f1a9",
   "metadata": {},
   "outputs": [
    {
     "data": {
      "text/plain": [
       "3523.0"
      ]
     },
     "execution_count": 108,
     "metadata": {},
     "output_type": "execute_result"
    }
   ],
   "source": [
    "# Total number of Financial/Basic Needs issues\n",
    "fbn = all_ci['CRISIS Issues - Financial/Basic Needs'].str.count(';')+1\n",
    "total_fbn = fbn.sum()\n",
    "total_fbn"
   ]
  },
  {
   "cell_type": "code",
   "execution_count": 109,
   "id": "7025a8f1",
   "metadata": {},
   "outputs": [
    {
     "data": {
      "text/plain": [
       "7594.0"
      ]
     },
     "execution_count": 109,
     "metadata": {},
     "output_type": "execute_result"
    }
   ],
   "source": [
    "# Total number of Health/Physical issues\n",
    "hp = all_ci['CRISIS Issues - Health/Physical'].str.count(';')+1\n",
    "total_hp = hp.sum()\n",
    "total_hp"
   ]
  },
  {
   "cell_type": "code",
   "execution_count": 110,
   "id": "a7c7f44a",
   "metadata": {},
   "outputs": [
    {
     "data": {
      "text/plain": [
       "72.0"
      ]
     },
     "execution_count": 110,
     "metadata": {},
     "output_type": "execute_result"
    }
   ],
   "source": [
    "# Total number of Health/Physical issues\n",
    "hom = all_ci['CRISIS Issues - Homicide'].str.count(';')+1\n",
    "total_hom = hom.sum()\n",
    "total_hom"
   ]
  },
  {
   "cell_type": "code",
   "execution_count": 111,
   "id": "16e5665e",
   "metadata": {},
   "outputs": [
    {
     "data": {
      "text/plain": [
       "2541.0"
      ]
     },
     "execution_count": 111,
     "metadata": {},
     "output_type": "execute_result"
    }
   ],
   "source": [
    "# Total number of Information or Services Needed issues\n",
    "isn = all_ci['CRISIS Issues - Information or Services Needed'].str.count(';')+1\n",
    "total_isn = isn.sum()\n",
    "total_isn"
   ]
  },
  {
   "cell_type": "code",
   "execution_count": 112,
   "id": "ba4ab6a1",
   "metadata": {},
   "outputs": [
    {
     "data": {
      "text/plain": [
       "41546.0"
      ]
     },
     "execution_count": 112,
     "metadata": {},
     "output_type": "execute_result"
    }
   ],
   "source": [
    "# Total number of mental health issues\n",
    "mh = all_ci['CRISIS Issues - Mental Health'].str.count(';')+1\n",
    "total_mh = mh.sum()\n",
    "total_mh"
   ]
  },
  {
   "cell_type": "code",
   "execution_count": 113,
   "id": "9a44aa55",
   "metadata": {},
   "outputs": [
    {
     "data": {
      "text/plain": [
       "1521.0"
      ]
     },
     "execution_count": 113,
     "metadata": {},
     "output_type": "execute_result"
    }
   ],
   "source": [
    "# Total number of No Issue Call issues\n",
    "nic = all_ci['CRISIS Issues - No Issue Call'].str.count(';')+1\n",
    "total_nic = nic.sum()\n",
    "total_nic"
   ]
  },
  {
   "cell_type": "code",
   "execution_count": 114,
   "id": "1d9b90e6",
   "metadata": {},
   "outputs": [
    {
     "data": {
      "text/plain": [
       "3477.0"
      ]
     },
     "execution_count": 114,
     "metadata": {},
     "output_type": "execute_result"
    }
   ],
   "source": [
    "# Total number of Other Description issues\n",
    "od = all_ci['CRISIS Issues - Other Description'].str.count(';')+1\n",
    "total_od = od.sum()\n",
    "total_od"
   ]
  },
  {
   "cell_type": "code",
   "execution_count": 115,
   "id": "c92ec5e1",
   "metadata": {},
   "outputs": [
    {
     "data": {
      "text/plain": [
       "61546.0"
      ]
     },
     "execution_count": 115,
     "metadata": {},
     "output_type": "execute_result"
    }
   ],
   "source": [
    "# Total number of Relationships issues\n",
    "rel = all_ci['CRISIS Issues - Relationships'].str.count(';')+1\n",
    "total_rel = rel.sum()\n",
    "total_rel"
   ]
  },
  {
   "cell_type": "code",
   "execution_count": 116,
   "id": "681ce477",
   "metadata": {},
   "outputs": [
    {
     "data": {
      "text/plain": [
       "3901.0"
      ]
     },
     "execution_count": 116,
     "metadata": {},
     "output_type": "execute_result"
    }
   ],
   "source": [
    "# Total number of Substances issues\n",
    "sub = all_ci['CRISIS Issues - Substances'].str.count(';')+1\n",
    "total_sub = sub.sum()\n",
    "total_sub"
   ]
  },
  {
   "cell_type": "code",
   "execution_count": 117,
   "id": "0c9da563",
   "metadata": {},
   "outputs": [
    {
     "data": {
      "text/plain": [
       "6514.0"
      ]
     },
     "execution_count": 117,
     "metadata": {},
     "output_type": "execute_result"
    }
   ],
   "source": [
    "# Total number of Suicide issues\n",
    "sui = all_ci['CRISIS Issues - Suicide'].str.count(';')+1\n",
    "total_sui = sui.sum()\n",
    "total_sui"
   ]
  },
  {
   "cell_type": "code",
   "execution_count": 118,
   "id": "a9b83b26",
   "metadata": {},
   "outputs": [
    {
     "data": {
      "text/plain": [
       "234.0"
      ]
     },
     "execution_count": 118,
     "metadata": {},
     "output_type": "execute_result"
    }
   ],
   "source": [
    "# Total number of No presenting problems issues\n",
    "npp = all_ci['CRISIS Issues - No presenting problems'].str.count(';')+1\n",
    "total_npp = npp.sum()\n",
    "total_npp"
   ]
  },
  {
   "cell_type": "code",
   "execution_count": 119,
   "id": "f1ba3d0e",
   "metadata": {},
   "outputs": [
    {
     "data": {
      "text/html": [
       "<div>\n",
       "<style scoped>\n",
       "    .dataframe tbody tr th:only-of-type {\n",
       "        vertical-align: middle;\n",
       "    }\n",
       "\n",
       "    .dataframe tbody tr th {\n",
       "        vertical-align: top;\n",
       "    }\n",
       "\n",
       "    .dataframe thead th {\n",
       "        text-align: right;\n",
       "    }\n",
       "</style>\n",
       "<table border=\"1\" class=\"dataframe\">\n",
       "  <thead>\n",
       "    <tr style=\"text-align: right;\">\n",
       "      <th></th>\n",
       "      <th>CRISIS_Issue</th>\n",
       "      <th>Number_of_Issues</th>\n",
       "    </tr>\n",
       "  </thead>\n",
       "  <tbody>\n",
       "    <tr>\n",
       "      <th>0</th>\n",
       "      <td>Abusive Behavior</td>\n",
       "      <td>3656.0</td>\n",
       "    </tr>\n",
       "    <tr>\n",
       "      <th>1</th>\n",
       "      <td>Emotional State</td>\n",
       "      <td>98606.0</td>\n",
       "    </tr>\n",
       "    <tr>\n",
       "      <th>2</th>\n",
       "      <td>Financial/Basic Needs</td>\n",
       "      <td>3523.0</td>\n",
       "    </tr>\n",
       "    <tr>\n",
       "      <th>3</th>\n",
       "      <td>Health/Physical</td>\n",
       "      <td>7594.0</td>\n",
       "    </tr>\n",
       "    <tr>\n",
       "      <th>4</th>\n",
       "      <td>Homicide</td>\n",
       "      <td>72.0</td>\n",
       "    </tr>\n",
       "    <tr>\n",
       "      <th>5</th>\n",
       "      <td>Info/Service Needed</td>\n",
       "      <td>2541.0</td>\n",
       "    </tr>\n",
       "    <tr>\n",
       "      <th>6</th>\n",
       "      <td>Mental Health</td>\n",
       "      <td>41546.0</td>\n",
       "    </tr>\n",
       "    <tr>\n",
       "      <th>7</th>\n",
       "      <td>No Issue</td>\n",
       "      <td>1521.0</td>\n",
       "    </tr>\n",
       "    <tr>\n",
       "      <th>8</th>\n",
       "      <td>Other</td>\n",
       "      <td>3477.0</td>\n",
       "    </tr>\n",
       "    <tr>\n",
       "      <th>9</th>\n",
       "      <td>Relationships</td>\n",
       "      <td>61546.0</td>\n",
       "    </tr>\n",
       "    <tr>\n",
       "      <th>10</th>\n",
       "      <td>Substances</td>\n",
       "      <td>3901.0</td>\n",
       "    </tr>\n",
       "    <tr>\n",
       "      <th>11</th>\n",
       "      <td>Suicide</td>\n",
       "      <td>6514.0</td>\n",
       "    </tr>\n",
       "    <tr>\n",
       "      <th>12</th>\n",
       "      <td>No Presenting Problems</td>\n",
       "      <td>234.0</td>\n",
       "    </tr>\n",
       "  </tbody>\n",
       "</table>\n",
       "</div>"
      ],
      "text/plain": [
       "              CRISIS_Issue  Number_of_Issues\n",
       "0         Abusive Behavior            3656.0\n",
       "1          Emotional State           98606.0\n",
       "2    Financial/Basic Needs            3523.0\n",
       "3          Health/Physical            7594.0\n",
       "4                 Homicide              72.0\n",
       "5      Info/Service Needed            2541.0\n",
       "6            Mental Health           41546.0\n",
       "7                 No Issue            1521.0\n",
       "8                    Other            3477.0\n",
       "9            Relationships           61546.0\n",
       "10              Substances            3901.0\n",
       "11                 Suicide            6514.0\n",
       "12  No Presenting Problems             234.0"
      ]
     },
     "execution_count": 119,
     "metadata": {},
     "output_type": "execute_result"
    }
   ],
   "source": [
    "# Making the DataFrame\n",
    "num_issues_list = [total_ab, total_es, total_fbn, total_hp, total_hom, total_isn, total_mh, total_nic, total_od, total_rel, total_sub, total_sui, total_npp]\n",
    "cri_issues_list = ['Abusive Behavior', 'Emotional State', 'Financial/Basic Needs', 'Health/Physical', 'Homicide', 'Info/Service Needed', 'Mental Health', 'No Issue', 'Other', 'Relationships', 'Substances', 'Suicide', 'No Presenting Problems']\n",
    "issue_count_df = pd.DataFrame(list(zip(cri_issues_list, num_issues_list)),\n",
    "    columns =['CRISIS_Issue', 'Number_of_Issues'])\n",
    "issue_count_df"
   ]
  },
  {
   "cell_type": "code",
   "execution_count": 120,
   "id": "7059d1f1",
   "metadata": {},
   "outputs": [
    {
     "data": {
      "text/html": [
       "<div>\n",
       "<style scoped>\n",
       "    .dataframe tbody tr th:only-of-type {\n",
       "        vertical-align: middle;\n",
       "    }\n",
       "\n",
       "    .dataframe tbody tr th {\n",
       "        vertical-align: top;\n",
       "    }\n",
       "\n",
       "    .dataframe thead th {\n",
       "        text-align: right;\n",
       "    }\n",
       "</style>\n",
       "<table border=\"1\" class=\"dataframe\">\n",
       "  <thead>\n",
       "    <tr style=\"text-align: right;\">\n",
       "      <th></th>\n",
       "      <th>CRISIS_Issue</th>\n",
       "      <th>Number_of_Issues</th>\n",
       "    </tr>\n",
       "  </thead>\n",
       "  <tbody>\n",
       "    <tr>\n",
       "      <th>4</th>\n",
       "      <td>Homicide</td>\n",
       "      <td>72.0</td>\n",
       "    </tr>\n",
       "    <tr>\n",
       "      <th>12</th>\n",
       "      <td>No Presenting Problems</td>\n",
       "      <td>234.0</td>\n",
       "    </tr>\n",
       "    <tr>\n",
       "      <th>7</th>\n",
       "      <td>No Issue</td>\n",
       "      <td>1521.0</td>\n",
       "    </tr>\n",
       "    <tr>\n",
       "      <th>5</th>\n",
       "      <td>Info/Service Needed</td>\n",
       "      <td>2541.0</td>\n",
       "    </tr>\n",
       "    <tr>\n",
       "      <th>8</th>\n",
       "      <td>Other</td>\n",
       "      <td>3477.0</td>\n",
       "    </tr>\n",
       "    <tr>\n",
       "      <th>2</th>\n",
       "      <td>Financial/Basic Needs</td>\n",
       "      <td>3523.0</td>\n",
       "    </tr>\n",
       "    <tr>\n",
       "      <th>0</th>\n",
       "      <td>Abusive Behavior</td>\n",
       "      <td>3656.0</td>\n",
       "    </tr>\n",
       "    <tr>\n",
       "      <th>10</th>\n",
       "      <td>Substances</td>\n",
       "      <td>3901.0</td>\n",
       "    </tr>\n",
       "    <tr>\n",
       "      <th>11</th>\n",
       "      <td>Suicide</td>\n",
       "      <td>6514.0</td>\n",
       "    </tr>\n",
       "    <tr>\n",
       "      <th>3</th>\n",
       "      <td>Health/Physical</td>\n",
       "      <td>7594.0</td>\n",
       "    </tr>\n",
       "    <tr>\n",
       "      <th>6</th>\n",
       "      <td>Mental Health</td>\n",
       "      <td>41546.0</td>\n",
       "    </tr>\n",
       "    <tr>\n",
       "      <th>9</th>\n",
       "      <td>Relationships</td>\n",
       "      <td>61546.0</td>\n",
       "    </tr>\n",
       "    <tr>\n",
       "      <th>1</th>\n",
       "      <td>Emotional State</td>\n",
       "      <td>98606.0</td>\n",
       "    </tr>\n",
       "  </tbody>\n",
       "</table>\n",
       "</div>"
      ],
      "text/plain": [
       "              CRISIS_Issue  Number_of_Issues\n",
       "4                 Homicide              72.0\n",
       "12  No Presenting Problems             234.0\n",
       "7                 No Issue            1521.0\n",
       "5      Info/Service Needed            2541.0\n",
       "8                    Other            3477.0\n",
       "2    Financial/Basic Needs            3523.0\n",
       "0         Abusive Behavior            3656.0\n",
       "10              Substances            3901.0\n",
       "11                 Suicide            6514.0\n",
       "3          Health/Physical            7594.0\n",
       "6            Mental Health           41546.0\n",
       "9            Relationships           61546.0\n",
       "1          Emotional State           98606.0"
      ]
     },
     "execution_count": 120,
     "metadata": {},
     "output_type": "execute_result"
    }
   ],
   "source": [
    "issue_count_df = issue_count_df.sort_values('Number_of_Issues', ascending=True)\n",
    "issue_count_df"
   ]
  },
  {
   "cell_type": "code",
   "execution_count": 121,
   "id": "6d012bf8",
   "metadata": {},
   "outputs": [
    {
     "data": {
      "image/png": "[encoded data removed]",
      "text/plain": [
       "<Figure size 1152x720 with 1 Axes>"
      ]
     },
     "metadata": {
      "needs_background": "light"
     },
     "output_type": "display_data"
    }
   ],
   "source": [
    "plt.figure(figsize=(16, 10))\n",
    "plt.barh(issue_count_df.CRISIS_Issue, issue_count_df.Number_of_Issues)\n",
    "plt.xticks(rotation = 0, fontsize=16)\n",
    "plt.xlabel('Number of Issues', fontsize=18)\n",
    "plt.ylabel('CRISIS Issue Category', fontsize=18)\n",
    "plt.yticks(fontsize=16)\n",
    "plt.title('Number of CRISIS Issues by Category', fontsize=30);"
   ]
  },
  {
   "cell_type": "markdown",
   "id": "f73b3505",
   "metadata": {},
   "source": [
    "There are different kinds of issues within each CRISIS category (Y-axis) -- this plot shows the count of all those issues."
   ]
  },
  {
   "cell_type": "code",
   "execution_count": 122,
   "id": "ff93040e",
   "metadata": {},
   "outputs": [
    {
     "data": {
      "image/png": "[encoded data removed]",
      "text/plain": [
       "<Figure size 432x288 with 1 Axes>"
      ]
     },
     "metadata": {
      "needs_background": "light"
     },
     "output_type": "display_data"
    }
   ],
   "source": [
    "# Barh is gonna be flipped between plt and sns when using the same df\n",
    "sns.barplot(x = issue_count_df.Number_of_Issues,\n",
    "            y = issue_count_df.CRISIS_Issue,\n",
    "            data = issue_count_df);"
   ]
  },
  {
   "cell_type": "markdown",
   "id": "0c0b6d0a",
   "metadata": {},
   "source": [
    "## Top 10 Emotional State issues:"
   ]
  },
  {
   "cell_type": "code",
   "execution_count": 138,
   "id": "a50b16fc",
   "metadata": {},
   "outputs": [
    {
     "data": {
      "text/plain": [
       "Anxious/Stressed                                4670\n",
       "Anxious/Stressed; Overwhelmed                   3067\n",
       "Content                                         2815\n",
       "Anxious/Stressed; Sad/Depressed                 1316\n",
       "Lonely                                          1177\n",
       "Anxious/Stressed; Lonely                        1027\n",
       "Anxious/Stressed; Sad/Depressed; Overwhelmed    1027\n",
       "Sad/Depressed                                    862\n",
       "Bored; Lonely                                    853\n",
       "Overwhelmed                                      821\n",
       "Name: CRISIS Issues - Emotional State, dtype: int64"
      ]
     },
     "execution_count": 138,
     "metadata": {},
     "output_type": "execute_result"
    }
   ],
   "source": [
    "all_ci['CRISIS Issues - Emotional State'].value_counts()[:10]"
   ]
  },
  {
   "cell_type": "markdown",
   "id": "ce0f6268",
   "metadata": {},
   "source": [
    "Breakdown of the Top 10 Emotional State issues:\n",
    "- Contains \"Anxious/Stressed\" - 11107\n",
    "- Contains \"Overwhelmed\" - 4915\n",
    "- Contains \"Content\" - 2815\n",
    "- Contains \"Sad/Depressed\" - 3206\n",
    "- Contains \"Lonely\" - 3057\n",
    "- Contains \"Bored\" - 853"
   ]
  },
  {
   "cell_type": "code",
   "execution_count": 139,
   "id": "7ffac17f",
   "metadata": {},
   "outputs": [
    {
     "data": {
      "text/html": [
       "<div>\n",
       "<style scoped>\n",
       "    .dataframe tbody tr th:only-of-type {\n",
       "        vertical-align: middle;\n",
       "    }\n",
       "\n",
       "    .dataframe tbody tr th {\n",
       "        vertical-align: top;\n",
       "    }\n",
       "\n",
       "    .dataframe thead th {\n",
       "        text-align: right;\n",
       "    }\n",
       "</style>\n",
       "<table border=\"1\" class=\"dataframe\">\n",
       "  <thead>\n",
       "    <tr style=\"text-align: right;\">\n",
       "      <th></th>\n",
       "      <th>Issue</th>\n",
       "      <th>Count</th>\n",
       "    </tr>\n",
       "  </thead>\n",
       "  <tbody>\n",
       "    <tr>\n",
       "      <th>0</th>\n",
       "      <td>Anxious/Stressed</td>\n",
       "      <td>11107</td>\n",
       "    </tr>\n",
       "    <tr>\n",
       "      <th>1</th>\n",
       "      <td>Overwhelmed</td>\n",
       "      <td>4915</td>\n",
       "    </tr>\n",
       "    <tr>\n",
       "      <th>2</th>\n",
       "      <td>Sad/Depressed</td>\n",
       "      <td>3206</td>\n",
       "    </tr>\n",
       "    <tr>\n",
       "      <th>3</th>\n",
       "      <td>Lonely</td>\n",
       "      <td>3057</td>\n",
       "    </tr>\n",
       "    <tr>\n",
       "      <th>4</th>\n",
       "      <td>Content</td>\n",
       "      <td>2815</td>\n",
       "    </tr>\n",
       "    <tr>\n",
       "      <th>5</th>\n",
       "      <td>Bored</td>\n",
       "      <td>853</td>\n",
       "    </tr>\n",
       "  </tbody>\n",
       "</table>\n",
       "</div>"
      ],
      "text/plain": [
       "              Issue  Count\n",
       "0  Anxious/Stressed  11107\n",
       "1       Overwhelmed   4915\n",
       "2     Sad/Depressed   3206\n",
       "3            Lonely   3057\n",
       "4           Content   2815\n",
       "5             Bored    853"
      ]
     },
     "execution_count": 139,
     "metadata": {},
     "output_type": "execute_result"
    }
   ],
   "source": [
    "emo_issues = ['Anxious/Stressed', 'Overwhelmed','Sad/Depressed','Lonely','Content','Bored']\n",
    "emo_count = [11107,4915,3206,3057,2815,853]\n",
    "\n",
    "emo_df = pd.DataFrame(list(zip(emo_issues, emo_count)),\n",
    "                   columns=['Issue','Count'])\n",
    "emo_df"
   ]
  },
  {
   "cell_type": "code",
   "execution_count": 144,
   "id": "282e813e",
   "metadata": {},
   "outputs": [
    {
     "data": {
      "image/png": "[encoded data removed]",
      "text/plain": [
       "<Figure size 1152x720 with 1 Axes>"
      ]
     },
     "metadata": {
      "needs_background": "light"
     },
     "output_type": "display_data"
    }
   ],
   "source": [
    "plt.figure(figsize=(16, 10))\n",
    "plt.barh(emo_df.Issue, emo_df.Count)\n",
    "plt.xticks(rotation = 0, fontsize=16)\n",
    "plt.xlabel('Number of Issues Containing Keyword', fontsize=18)\n",
    "plt.ylabel('Keyword', fontsize=18)\n",
    "plt.yticks(fontsize=16)\n",
    "plt.title('Emotional State Issues - Breakdown of Top 10', fontsize=30);"
   ]
  },
  {
   "cell_type": "markdown",
   "id": "faa24524",
   "metadata": {},
   "source": [
    "## Investigating \"Content\" calls"
   ]
  },
  {
   "cell_type": "code",
   "execution_count": 151,
   "id": "abb41e8e",
   "metadata": {},
   "outputs": [],
   "source": [
    "# Make a df with all the rows where 'CRISIS Issues - Emotional State' is not null (ie. has values)\n",
    "all_ci_content = all_ci['CRISIS Issues - Emotional State'].notnull()"
   ]
  },
  {
   "cell_type": "code",
   "execution_count": 152,
   "id": "22c5fdee",
   "metadata": {},
   "outputs": [
    {
     "data": {
      "text/html": [
       "<div>\n",
       "<style scoped>\n",
       "    .dataframe tbody tr th:only-of-type {\n",
       "        vertical-align: middle;\n",
       "    }\n",
       "\n",
       "    .dataframe tbody tr th {\n",
       "        vertical-align: top;\n",
       "    }\n",
       "\n",
       "    .dataframe thead th {\n",
       "        text-align: right;\n",
       "    }\n",
       "</style>\n",
       "<table border=\"1\" class=\"dataframe\">\n",
       "  <thead>\n",
       "    <tr style=\"text-align: right;\">\n",
       "      <th></th>\n",
       "      <th>CallReportNum</th>\n",
       "      <th>CallDateAndTimeStart</th>\n",
       "      <th>CallDateAndTimeEnd</th>\n",
       "      <th>CallLength</th>\n",
       "      <th>CallerNum</th>\n",
       "      <th>CallersFeedback</th>\n",
       "      <th>CRISIS Issues - Abusive Behavior</th>\n",
       "      <th>CRISIS Issues - Emotional State</th>\n",
       "      <th>CRISIS Issues - Financial/Basic Needs</th>\n",
       "      <th>CRISIS Issues - Health/Physical</th>\n",
       "      <th>CRISIS Issues - Homicide</th>\n",
       "      <th>CRISIS Issues - Information or Services Needed</th>\n",
       "      <th>CRISIS Issues - Mental Health</th>\n",
       "      <th>CRISIS Issues - No Issue Call</th>\n",
       "      <th>CRISIS Issues - Other Description</th>\n",
       "      <th>CRISIS Issues - Relationships</th>\n",
       "      <th>CRISIS Issues - Substances</th>\n",
       "      <th>CRISIS Issues - Suicide</th>\n",
       "      <th>CRISIS Issues - No presenting problems</th>\n",
       "    </tr>\n",
       "  </thead>\n",
       "  <tbody>\n",
       "    <tr>\n",
       "      <th>0</th>\n",
       "      <td>96627022</td>\n",
       "      <td>2021-12-31 23:35:00</td>\n",
       "      <td>2021-12-31 23:58:00</td>\n",
       "      <td>23</td>\n",
       "      <td>-1</td>\n",
       "      <td>NaN</td>\n",
       "      <td>NaN</td>\n",
       "      <td>Anxious/Stressed; Financial Stress</td>\n",
       "      <td>Employment/Job Placement</td>\n",
       "      <td>NaN</td>\n",
       "      <td>NaN</td>\n",
       "      <td>NaN</td>\n",
       "      <td>Depression ; Anxiety/Panic</td>\n",
       "      <td>NaN</td>\n",
       "      <td>Politics</td>\n",
       "      <td>Male-Female</td>\n",
       "      <td>NaN</td>\n",
       "      <td>NaN</td>\n",
       "      <td>NaN</td>\n",
       "    </tr>\n",
       "    <tr>\n",
       "      <th>1</th>\n",
       "      <td>96626934</td>\n",
       "      <td>2021-12-31 23:29:00</td>\n",
       "      <td>2021-12-31 23:35:00</td>\n",
       "      <td>6</td>\n",
       "      <td>-1</td>\n",
       "      <td>NaN</td>\n",
       "      <td>NaN</td>\n",
       "      <td>Anxious/Stressed; Holiday Stress</td>\n",
       "      <td>NaN</td>\n",
       "      <td>NaN</td>\n",
       "      <td>NaN</td>\n",
       "      <td>NaN</td>\n",
       "      <td>Anxiety/Panic</td>\n",
       "      <td>NaN</td>\n",
       "      <td>NaN</td>\n",
       "      <td>NaN</td>\n",
       "      <td>NaN</td>\n",
       "      <td>NaN</td>\n",
       "      <td>NaN</td>\n",
       "    </tr>\n",
       "    <tr>\n",
       "      <th>2</th>\n",
       "      <td>96626654</td>\n",
       "      <td>2021-12-31 23:07:00</td>\n",
       "      <td>2021-12-31 23:28:00</td>\n",
       "      <td>21</td>\n",
       "      <td>1030262</td>\n",
       "      <td>NaN</td>\n",
       "      <td>NaN</td>\n",
       "      <td>Holiday Stress</td>\n",
       "      <td>NaN</td>\n",
       "      <td>NaN</td>\n",
       "      <td>NaN</td>\n",
       "      <td>NaN</td>\n",
       "      <td>Grief</td>\n",
       "      <td>NaN</td>\n",
       "      <td>NaN</td>\n",
       "      <td>Peer Group/Friend; Therapist/Medical Doctor</td>\n",
       "      <td>NaN</td>\n",
       "      <td>NaN</td>\n",
       "      <td>NaN</td>\n",
       "    </tr>\n",
       "    <tr>\n",
       "      <th>3</th>\n",
       "      <td>96626370</td>\n",
       "      <td>2021-12-31 22:45:00</td>\n",
       "      <td>2021-12-31 22:55:00</td>\n",
       "      <td>10</td>\n",
       "      <td>2479348</td>\n",
       "      <td>NaN</td>\n",
       "      <td>NaN</td>\n",
       "      <td>Anxious/Stressed</td>\n",
       "      <td>NaN</td>\n",
       "      <td>NaN</td>\n",
       "      <td>NaN</td>\n",
       "      <td>NaN</td>\n",
       "      <td>Anxiety/Panic</td>\n",
       "      <td>NaN</td>\n",
       "      <td>NaN</td>\n",
       "      <td>Neighbor/Landlord; Animal/Pet</td>\n",
       "      <td>NaN</td>\n",
       "      <td>NaN</td>\n",
       "      <td>NaN</td>\n",
       "    </tr>\n",
       "    <tr>\n",
       "      <th>5</th>\n",
       "      <td>96625698</td>\n",
       "      <td>2021-12-31 22:03:00</td>\n",
       "      <td>2021-12-31 22:15:00</td>\n",
       "      <td>12</td>\n",
       "      <td>-1</td>\n",
       "      <td>NaN</td>\n",
       "      <td>NaN</td>\n",
       "      <td>Anxious/Stressed; Financial Stress</td>\n",
       "      <td>Identity Theft/Fraud/Financial Crime</td>\n",
       "      <td>NaN</td>\n",
       "      <td>NaN</td>\n",
       "      <td>NaN</td>\n",
       "      <td>NaN</td>\n",
       "      <td>NaN</td>\n",
       "      <td>NaN</td>\n",
       "      <td>Family</td>\n",
       "      <td>NaN</td>\n",
       "      <td>NaN</td>\n",
       "      <td>NaN</td>\n",
       "    </tr>\n",
       "  </tbody>\n",
       "</table>\n",
       "</div>"
      ],
      "text/plain": [
       "   CallReportNum CallDateAndTimeStart  CallDateAndTimeEnd  CallLength  CallerNum CallersFeedback CRISIS Issues - Abusive Behavior     CRISIS Issues - Emotional State CRISIS Issues - Financial/Basic Needs CRISIS Issues - Health/Physical CRISIS Issues - Homicide CRISIS Issues - Information or Services Needed CRISIS Issues - Mental Health CRISIS Issues - No Issue Call CRISIS Issues - Other Description                CRISIS Issues - Relationships CRISIS Issues - Substances CRISIS Issues - Suicide CRISIS Issues - No presenting problems\n",
       "0       96627022  2021-12-31 23:35:00 2021-12-31 23:58:00          23         -1             NaN                              NaN  Anxious/Stressed; Financial Stress              Employment/Job Placement                             NaN                      NaN                                            NaN    Depression ; Anxiety/Panic                           NaN                          Politics                                  Male-Female                        NaN                     NaN                                    NaN\n",
       "1       96626934  2021-12-31 23:29:00 2021-12-31 23:35:00           6         -1             NaN                              NaN    Anxious/Stressed; Holiday Stress                                   NaN                             NaN                      NaN                                            NaN                 Anxiety/Panic                           NaN                               NaN                                          NaN                        NaN                     NaN                                    NaN\n",
       "2       96626654  2021-12-31 23:07:00 2021-12-31 23:28:00          21    1030262             NaN                              NaN                      Holiday Stress                                   NaN                             NaN                      NaN                                            NaN                         Grief                           NaN                               NaN  Peer Group/Friend; Therapist/Medical Doctor                        NaN                     NaN                                    NaN\n",
       "3       96626370  2021-12-31 22:45:00 2021-12-31 22:55:00          10    2479348             NaN                              NaN                    Anxious/Stressed                                   NaN                             NaN                      NaN                                            NaN                 Anxiety/Panic                           NaN                               NaN                Neighbor/Landlord; Animal/Pet                        NaN                     NaN                                    NaN\n",
       "5       96625698  2021-12-31 22:03:00 2021-12-31 22:15:00          12         -1             NaN                              NaN  Anxious/Stressed; Financial Stress  Identity Theft/Fraud/Financial Crime                             NaN                      NaN                                            NaN                           NaN                           NaN                               NaN                                       Family                        NaN                     NaN                                    NaN"
      ]
     },
     "execution_count": 152,
     "metadata": {},
     "output_type": "execute_result"
    }
   ],
   "source": [
    "# Print to check, run this AFTER the above\n",
    "all_ci_content = all_ci[all_ci_content]\n",
    "all_ci_content.head()"
   ]
  },
  {
   "cell_type": "code",
   "execution_count": 154,
   "id": "a3a47a77",
   "metadata": {},
   "outputs": [
    {
     "data": {
      "text/html": [
       "<div>\n",
       "<style scoped>\n",
       "    .dataframe tbody tr th:only-of-type {\n",
       "        vertical-align: middle;\n",
       "    }\n",
       "\n",
       "    .dataframe tbody tr th {\n",
       "        vertical-align: top;\n",
       "    }\n",
       "\n",
       "    .dataframe thead th {\n",
       "        text-align: right;\n",
       "    }\n",
       "</style>\n",
       "<table border=\"1\" class=\"dataframe\">\n",
       "  <thead>\n",
       "    <tr style=\"text-align: right;\">\n",
       "      <th></th>\n",
       "      <th>CallReportNum</th>\n",
       "      <th>CallDateAndTimeStart</th>\n",
       "      <th>CallDateAndTimeEnd</th>\n",
       "      <th>CallLength</th>\n",
       "      <th>CallerNum</th>\n",
       "      <th>CallersFeedback</th>\n",
       "      <th>CRISIS Issues - Abusive Behavior</th>\n",
       "      <th>CRISIS Issues - Emotional State</th>\n",
       "      <th>CRISIS Issues - Financial/Basic Needs</th>\n",
       "      <th>CRISIS Issues - Health/Physical</th>\n",
       "      <th>CRISIS Issues - Homicide</th>\n",
       "      <th>CRISIS Issues - Information or Services Needed</th>\n",
       "      <th>CRISIS Issues - Mental Health</th>\n",
       "      <th>CRISIS Issues - No Issue Call</th>\n",
       "      <th>CRISIS Issues - Other Description</th>\n",
       "      <th>CRISIS Issues - Relationships</th>\n",
       "      <th>CRISIS Issues - Substances</th>\n",
       "      <th>CRISIS Issues - Suicide</th>\n",
       "      <th>CRISIS Issues - No presenting problems</th>\n",
       "    </tr>\n",
       "  </thead>\n",
       "  <tbody>\n",
       "    <tr>\n",
       "      <th>24</th>\n",
       "      <td>96617923</td>\n",
       "      <td>2021-12-31 15:54:00</td>\n",
       "      <td>2021-12-31 16:09:00</td>\n",
       "      <td>15</td>\n",
       "      <td>-1</td>\n",
       "      <td>NaN</td>\n",
       "      <td>NaN</td>\n",
       "      <td>Content</td>\n",
       "      <td>NaN</td>\n",
       "      <td>NaN</td>\n",
       "      <td>NaN</td>\n",
       "      <td>NaN</td>\n",
       "      <td>Anger Management</td>\n",
       "      <td>NaN</td>\n",
       "      <td>NaN</td>\n",
       "      <td>Other Relationships</td>\n",
       "      <td>NaN</td>\n",
       "      <td>NaN</td>\n",
       "      <td>NaN</td>\n",
       "    </tr>\n",
       "    <tr>\n",
       "      <th>32</th>\n",
       "      <td>96612199</td>\n",
       "      <td>2021-12-31 12:59:00</td>\n",
       "      <td>2021-12-31 13:02:00</td>\n",
       "      <td>3</td>\n",
       "      <td>3620809</td>\n",
       "      <td>NaN</td>\n",
       "      <td>NaN</td>\n",
       "      <td>Content</td>\n",
       "      <td>NaN</td>\n",
       "      <td>NaN</td>\n",
       "      <td>NaN</td>\n",
       "      <td>NaN</td>\n",
       "      <td>Other Mental Health</td>\n",
       "      <td>NaN</td>\n",
       "      <td>NaN</td>\n",
       "      <td>Male-Female; Marital/Divorce; Peer Group/Friend</td>\n",
       "      <td>NaN</td>\n",
       "      <td>NaN</td>\n",
       "      <td>NaN</td>\n",
       "    </tr>\n",
       "    <tr>\n",
       "      <th>33</th>\n",
       "      <td>96612267</td>\n",
       "      <td>2021-12-31 12:59:00</td>\n",
       "      <td>2021-12-31 13:01:00</td>\n",
       "      <td>2</td>\n",
       "      <td>-1</td>\n",
       "      <td>NaN</td>\n",
       "      <td>NaN</td>\n",
       "      <td>Content</td>\n",
       "      <td>NaN</td>\n",
       "      <td>NaN</td>\n",
       "      <td>NaN</td>\n",
       "      <td>NaN</td>\n",
       "      <td>NaN</td>\n",
       "      <td>NaN</td>\n",
       "      <td>NaN</td>\n",
       "      <td>NaN</td>\n",
       "      <td>NaN</td>\n",
       "      <td>NaN</td>\n",
       "      <td>NaN</td>\n",
       "    </tr>\n",
       "    <tr>\n",
       "      <th>34</th>\n",
       "      <td>96611108</td>\n",
       "      <td>2021-12-31 12:26:00</td>\n",
       "      <td>2021-12-31 12:37:00</td>\n",
       "      <td>11</td>\n",
       "      <td>-1</td>\n",
       "      <td>NaN</td>\n",
       "      <td>NaN</td>\n",
       "      <td>Content</td>\n",
       "      <td>NaN</td>\n",
       "      <td>Disability/Handicap/Long-Term Illness</td>\n",
       "      <td>NaN</td>\n",
       "      <td>NaN</td>\n",
       "      <td>NaN</td>\n",
       "      <td>NaN</td>\n",
       "      <td>NaN</td>\n",
       "      <td>Family</td>\n",
       "      <td>NaN</td>\n",
       "      <td>NaN</td>\n",
       "      <td>NaN</td>\n",
       "    </tr>\n",
       "    <tr>\n",
       "      <th>37</th>\n",
       "      <td>96609198</td>\n",
       "      <td>2021-12-31 11:29:00</td>\n",
       "      <td>2021-12-31 11:48:00</td>\n",
       "      <td>19</td>\n",
       "      <td>1314449</td>\n",
       "      <td>NaN</td>\n",
       "      <td>NaN</td>\n",
       "      <td>Content</td>\n",
       "      <td>NaN</td>\n",
       "      <td>NaN</td>\n",
       "      <td>NaN</td>\n",
       "      <td>NaN</td>\n",
       "      <td>Other Mental Health; Trauma/PTSD</td>\n",
       "      <td>NaN</td>\n",
       "      <td>NaN</td>\n",
       "      <td>Family; Peer Group/Friend; Other Relationships</td>\n",
       "      <td>NaN</td>\n",
       "      <td>NaN</td>\n",
       "      <td>NaN</td>\n",
       "    </tr>\n",
       "  </tbody>\n",
       "</table>\n",
       "</div>"
      ],
      "text/plain": [
       "    CallReportNum CallDateAndTimeStart  CallDateAndTimeEnd  CallLength  CallerNum CallersFeedback CRISIS Issues - Abusive Behavior CRISIS Issues - Emotional State CRISIS Issues - Financial/Basic Needs        CRISIS Issues - Health/Physical CRISIS Issues - Homicide CRISIS Issues - Information or Services Needed     CRISIS Issues - Mental Health CRISIS Issues - No Issue Call CRISIS Issues - Other Description                    CRISIS Issues - Relationships CRISIS Issues - Substances CRISIS Issues - Suicide CRISIS Issues - No presenting problems\n",
       "24       96617923  2021-12-31 15:54:00 2021-12-31 16:09:00          15         -1             NaN                              NaN                         Content                                   NaN                                    NaN                      NaN                                            NaN                  Anger Management                           NaN                               NaN                              Other Relationships                        NaN                     NaN                                    NaN\n",
       "32       96612199  2021-12-31 12:59:00 2021-12-31 13:02:00           3    3620809             NaN                              NaN                         Content                                   NaN                                    NaN                      NaN                                            NaN               Other Mental Health                           NaN                               NaN  Male-Female; Marital/Divorce; Peer Group/Friend                        NaN                     NaN                                    NaN\n",
       "33       96612267  2021-12-31 12:59:00 2021-12-31 13:01:00           2         -1             NaN                              NaN                         Content                                   NaN                                    NaN                      NaN                                            NaN                               NaN                           NaN                               NaN                                              NaN                        NaN                     NaN                                    NaN\n",
       "34       96611108  2021-12-31 12:26:00 2021-12-31 12:37:00          11         -1             NaN                              NaN                         Content                                   NaN  Disability/Handicap/Long-Term Illness                      NaN                                            NaN                               NaN                           NaN                               NaN                                           Family                        NaN                     NaN                                    NaN\n",
       "37       96609198  2021-12-31 11:29:00 2021-12-31 11:48:00          19    1314449             NaN                              NaN                         Content                                   NaN                                    NaN                      NaN                                            NaN  Other Mental Health; Trauma/PTSD                           NaN                               NaN   Family; Peer Group/Friend; Other Relationships                        NaN                     NaN                                    NaN"
      ]
     },
     "execution_count": 154,
     "metadata": {},
     "output_type": "execute_result"
    }
   ],
   "source": [
    "# Filter rows to only those that only contain 'Content' in the Emotional State column\n",
    "content = all_ci_content.loc[all_ci_content['CRISIS Issues - Emotional State'].isin(['Content'])]\n",
    "content.head()"
   ]
  },
  {
   "cell_type": "code",
   "execution_count": 155,
   "id": "5e41d438",
   "metadata": {},
   "outputs": [
    {
     "data": {
      "text/plain": [
       "-1          1040\n",
       " 1155260     298\n",
       " 1033478     234\n",
       " 1031947     229\n",
       " 3620809     164\n",
       " 1025380     145\n",
       " 3346390     126\n",
       " 1802329      72\n",
       " 2270935      68\n",
       " 3769693      46\n",
       "Name: CallerNum, dtype: int64"
      ]
     },
     "execution_count": 155,
     "metadata": {},
     "output_type": "execute_result"
    }
   ],
   "source": [
    "content['CallerNum'].value_counts()[:10].sort_values(ascending=False)\n",
    "# There are more repeat callers than random"
   ]
  },
  {
   "cell_type": "code",
   "execution_count": null,
   "id": "ca671a15",
   "metadata": {},
   "outputs": [],
   "source": [
    "# Maggie's code to string split values in a cell\n",
    "content['CallerNum'].value_counts()[:10].sort_values(ascending=False)\n",
    "new_df=all_ci4['CRISIS Issues - Abusive Behavior'].str.split('; ', expand=True)"
   ]
  }
 ],
 "metadata": {
  "kernelspec": {
   "display_name": "Python 3 (ipykernel)",
   "language": "python",
   "name": "python3"
  },
  "language_info": {
   "codemirror_mode": {
    "name": "ipython",
    "version": 3
   },
   "file_extension": ".py",
   "mimetype": "text/x-python",
   "name": "python",
   "nbconvert_exporter": "python",
   "pygments_lexer": "ipython3",
   "version": "3.9.7"
  }
 },
 "nbformat": 4,
 "nbformat_minor": 5
}
