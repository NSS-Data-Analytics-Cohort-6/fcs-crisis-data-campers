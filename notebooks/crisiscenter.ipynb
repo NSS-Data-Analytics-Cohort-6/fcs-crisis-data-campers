{
 "cells": [
  {
   "cell_type": "code",
   "execution_count": null,
   "id": "29594b50",
   "metadata": {},
   "outputs": [],
   "source": [
    "import pandas as pd\n",
    "import numpy as np\n",
    "import matplotlib.pyplot as plt\n",
    "%matplotlib inline\n",
    "import seaborn as sns\n",
    "import requests as re\n",
    "pd.set_option('display.max_rows', 500)\n",
    "pd.set_option('display.max_columns', 500)\n",
    "pd.set_option('display.width', 1000)\n"
   ]
  },
  {
   "cell_type": "code",
   "execution_count": null,
   "id": "2e677d4c",
   "metadata": {},
   "outputs": [],
   "source": [
    "crisis1df=pd.read_excel('../data/NSSCrisisv.1.xlsx', 'in')"
   ]
  },
  {
   "cell_type": "code",
   "execution_count": null,
   "id": "2bbc9ae3",
   "metadata": {},
   "outputs": [],
   "source": [
    "crisis2df=pd.read_excel('../data/NSSCrisisv.2.xlsx', 'in')"
   ]
  },
  {
   "cell_type": "code",
   "execution_count": null,
   "id": "9880f3ed",
   "metadata": {},
   "outputs": [],
   "source": [
    "path=r'C:\\Users\\mdeca\\Documents\\NSS\\data\\2020volume.xlsx'\n",
    "volume2020=pd.read_excel(path)"
   ]
  },
  {
   "cell_type": "code",
   "execution_count": null,
   "id": "c1755bd0",
   "metadata": {},
   "outputs": [],
   "source": [
    "path2=r'C:\\Users\\mdeca\\Documents\\NSS\\data\\2021volume.xlsx'\n",
    "volume2021=pd.read_excel(path2)"
   ]
  },
  {
   "cell_type": "code",
   "execution_count": null,
   "id": "e93833ea",
   "metadata": {},
   "outputs": [],
   "source": [
    "path3=r'C:\\Users\\mdeca\\Documents\\NSS\\data\\2022volume.xlsx'\n",
    "volume2022=pd.read_excel(path3)"
   ]
  },
  {
   "cell_type": "code",
   "execution_count": null,
   "id": "3ce15aba",
   "metadata": {},
   "outputs": [],
   "source": [
    "pct_null1 = crisis1df.isnull().sum() / len(crisis1df) #dropping columns with more than 98% null\n",
    "missing_features = pct_null1[pct_null1 > 0.98].index\n",
    "crisis1df.drop(missing_features, axis=1, inplace=True)"
   ]
  },
  {
   "cell_type": "code",
   "execution_count": null,
   "id": "91c133fa",
   "metadata": {},
   "outputs": [],
   "source": [
    "pct_null2 = crisis2df.isnull().sum() / len(crisis2df)\n",
    "missing_features = pct_null2[pct_null2 > 0.98].index\n",
    "crisis2df.drop(missing_features, axis=1, inplace=True)"
   ]
  },
  {
   "cell_type": "code",
   "execution_count": null,
   "id": "78f23995",
   "metadata": {},
   "outputs": [],
   "source": [
    "crisis1df['month'] = pd.DatetimeIndex(crisis1df['CallDateAndTimeStart']).month #extract month and year of call\n",
    "crisis1df['year'] = pd.DatetimeIndex(crisis1df['CallDateAndTimeStart']).year"
   ]
  },
  {
   "cell_type": "code",
   "execution_count": null,
   "id": "9f1d4109",
   "metadata": {},
   "outputs": [],
   "source": [
    "crisis2df['month'] = pd.DatetimeIndex(crisis2df['CallDateAndTimeStart']).month #extract month and year of call\n",
    "crisis2df['year'] = pd.DatetimeIndex(crisis2df['CallDateAndTimeStart']).year"
   ]
  },
  {
   "cell_type": "code",
   "execution_count": null,
   "id": "8b68892b",
   "metadata": {},
   "outputs": [],
   "source": [
    "callsbymonth1=crisis1df.groupby(['month','year'], as_index=False).agg({'CallReportNum':'count','CallLength':'mean'}) "
   ]
  },
  {
   "cell_type": "code",
   "execution_count": null,
   "id": "073e15f9",
   "metadata": {},
   "outputs": [],
   "source": [
    "callsbymonth1"
   ]
  },
  {
   "cell_type": "code",
   "execution_count": null,
   "id": "408e1422",
   "metadata": {},
   "outputs": [],
   "source": [
    "callsbymonth2=crisis2df.groupby(['month','year'], as_index=False).agg({'CallReportNum':'count', 'CallLength':'mean'}) \n",
    "callsbymonth2"
   ]
  },
  {
   "cell_type": "code",
   "execution_count": null,
   "id": "3253e2b3",
   "metadata": {},
   "outputs": [],
   "source": [
    "frames=[callsbymonth1,callsbymonth2]\n",
    "callsbydate=pd.concat(frames,ignore_index=False)\n",
    "callsbydate.sort_values(by=['year', 'month'], ascending=True)"
   ]
  },
  {
   "cell_type": "code",
   "execution_count": null,
   "id": "369fff30",
   "metadata": {},
   "outputs": [],
   "source": [
    "samecolumnsdf=pd.DataFrame(crisis1df.columns.intersection(crisis2df.columns)) #finding columns in both dfs"
   ]
  },
  {
   "cell_type": "code",
   "execution_count": null,
   "id": "49880f0d",
   "metadata": {},
   "outputs": [],
   "source": [
    "samecolumnsdf#same columns in both dfs"
   ]
  },
  {
   "cell_type": "code",
   "execution_count": null,
   "id": "12a42bb4",
   "metadata": {},
   "outputs": [],
   "source": [
    "inv1=pd.DataFrame(crisis1df.columns.difference(crisis2df.columns))  #finding columns in v1 but not v2"
   ]
  },
  {
   "cell_type": "code",
   "execution_count": null,
   "id": "efa332e3",
   "metadata": {},
   "outputs": [],
   "source": [
    "inv2=pd.DataFrame(crisis2df.columns.difference(crisis1df.columns)) #finding columns in v2 but not v1"
   ]
  },
  {
   "cell_type": "code",
   "execution_count": null,
   "id": "a3ce4d03",
   "metadata": {},
   "outputs": [],
   "source": [
    "inv1"
   ]
  },
  {
   "cell_type": "code",
   "execution_count": null,
   "id": "ef448bb9",
   "metadata": {},
   "outputs": [],
   "source": [
    "inv2"
   ]
  },
  {
   "cell_type": "code",
   "execution_count": null,
   "id": "9e5bfa3e",
   "metadata": {},
   "outputs": [],
   "source": [
    "crisis1df.rename(columns={'CRISIS Demographics - Ethnicity': 'Ethnicity'}, inplace=True)\n",
    "crisis2df.rename(columns={'CRISIS Demographics - Race/Ethnicity': 'Ethnicity', 'VolunteerComments': 'Narrative'}, inplace=True)"
   ]
  },
  {
   "cell_type": "code",
   "execution_count": null,
   "id": "9eae16f0",
   "metadata": {},
   "outputs": [],
   "source": []
  }
 ],
 "metadata": {
  "kernelspec": {
   "display_name": "Python 3 (ipykernel)",
   "language": "python",
   "name": "python3"
  },
  "language_info": {
   "codemirror_mode": {
    "name": "ipython",
    "version": 3
   },
   "file_extension": ".py",
   "mimetype": "text/x-python",
   "name": "python",
   "nbconvert_exporter": "python",
   "pygments_lexer": "ipython3",
   "version": "3.9.7"
  }
 },
 "nbformat": 4,
 "nbformat_minor": 5
}
