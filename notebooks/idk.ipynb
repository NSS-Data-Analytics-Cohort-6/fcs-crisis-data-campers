{
 "cells": [
  {
   "cell_type": "code",
   "execution_count": null,
   "id": "db2ae375",
   "metadata": {},
   "outputs": [],
   "source": [
    "import pandas as pd\n",
    "import matplotlib as plt\n",
    "import re\n",
    "import seaborn as sns\n",
    "import numpy as np\n",
    "pd.set_option('display.max_rows', 500)\n",
    "pd.set_option('display.max_columns', 500)\n",
    "pd.set_option('display.width', 1000)"
   ]
  },
  {
   "cell_type": "code",
   "execution_count": null,
   "id": "ec8c20f8",
   "metadata": {},
   "outputs": [],
   "source": [
    "crisis1_df = pd.read_excel(\"C:/NSS/Projects/fcs-crisis-data-campers/data/NSSCrisisv.1.xlsx\")"
   ]
  },
  {
   "cell_type": "code",
   "execution_count": null,
   "id": "c7673793",
   "metadata": {},
   "outputs": [],
   "source": [
    "crisis2_df = pd.read_excel(\"C:/NSS/Projects/fcs-crisis-data-campers/data/NSSCrisisv.2.xlsx\")"
   ]
  },
  {
   "cell_type": "code",
   "execution_count": null,
   "id": "162e7ccb",
   "metadata": {},
   "outputs": [],
   "source": [
    "crisis1_df.head(100)"
   ]
  },
  {
   "cell_type": "code",
   "execution_count": null,
   "id": "57f5afd4",
   "metadata": {},
   "outputs": [],
   "source": [
    "crisis1_df.dropna(how='all', axis=1, inplace=True)"
   ]
  },
  {
   "cell_type": "code",
   "execution_count": null,
   "id": "b66f39d5",
   "metadata": {},
   "outputs": [],
   "source": [
    "crisis2_df.dropna(how='all', axis=1, inplace=True)"
   ]
  },
  {
   "cell_type": "code",
   "execution_count": null,
   "id": "79b1b64b",
   "metadata": {},
   "outputs": [],
   "source": [
    "crisis1_df.dtypes"
   ]
  },
  {
   "cell_type": "code",
   "execution_count": null,
   "id": "bb986b70",
   "metadata": {},
   "outputs": [],
   "source": [
    "crisis2_df.isnull().sum()"
   ]
  },
  {
   "cell_type": "code",
   "execution_count": null,
   "id": "ecd0a2c5",
   "metadata": {},
   "outputs": [],
   "source": [
    "crisis1_df.isnull().sum()"
   ]
  },
  {
   "cell_type": "markdown",
   "id": "b89dabb8",
   "metadata": {},
   "source": [
    "<!-- pct_null = crisis1_df.isnull().sum() / len(crisis1_df)\n",
    "missing_features = pct_null[pct_null > 0.98].index\n",
    "crisis1_df.drop(missing_features, axis=1, inplace=True) -->"
   ]
  },
  {
   "cell_type": "code",
   "execution_count": null,
   "id": "bda78f0d",
   "metadata": {},
   "outputs": [],
   "source": [
    "crisis1_df.info()"
   ]
  },
  {
   "cell_type": "markdown",
   "id": "2608e8e0",
   "metadata": {},
   "source": [
    "<!-- pct_null = crisis2_df.isnull().sum() / len(crisis2_df)\n",
    "missing_features = pct_null[pct_null > 0.98].index\n",
    "crisis2_df.drop(missing_features, axis=1, inplace=True) -->"
   ]
  },
  {
   "cell_type": "code",
   "execution_count": null,
   "id": "d4a7f2b6",
   "metadata": {},
   "outputs": [],
   "source": [
    "crisis1_df.info()"
   ]
  },
  {
   "cell_type": "code",
   "execution_count": null,
   "id": "86082c4d",
   "metadata": {},
   "outputs": [],
   "source": [
    "crisis1_df.rename(columns={'CRISIS Demographics - Ethnicity': 'Ethnicity'}, inplace=True)\n",
    "crisis2_df.rename(columns={'CRISIS Demographics - Race/Ethnicity': 'Ethnicity'}, inplace=True)"
   ]
  },
  {
   "cell_type": "code",
   "execution_count": null,
   "id": "183759cc",
   "metadata": {},
   "outputs": [],
   "source": [
    "crisis1_df.groupby(['CRISIS Demographics - Military'])['CallReportNum'].count().sort_values(ascending=False)"
   ]
  },
  {
   "cell_type": "code",
   "execution_count": null,
   "id": "97d8463d",
   "metadata": {},
   "outputs": [],
   "source": [
    "crisis1_df.groupby(['CRISIS Demographics - Age'])['CallReportNum'].count().sort_values(ascending=False)"
   ]
  },
  {
   "cell_type": "code",
   "execution_count": null,
   "id": "ca0526ba",
   "metadata": {},
   "outputs": [],
   "source": [
    "crisis1_df.groupby(['CallerNum'])['CallReportNum'].count().sort_values(ascending=False)"
   ]
  },
  {
   "cell_type": "code",
   "execution_count": null,
   "id": "ed3244cd",
   "metadata": {},
   "outputs": [],
   "source": [
    "crisis1_df.groupby(['CRISIS Demographics - Gender Identity'])['CallReportNum'].count().sort_values(ascending=False)"
   ]
  },
  {
   "cell_type": "code",
   "execution_count": null,
   "id": "9071e8d5",
   "metadata": {},
   "outputs": [],
   "source": [
    "crisis1_df.groupby(['CRISIS Issues - Emotional State'])['CallReportNum'].count().sort_values(ascending=False)"
   ]
  },
  {
   "cell_type": "code",
   "execution_count": null,
   "id": "651d6da4",
   "metadata": {},
   "outputs": [],
   "source": [
    "crisis1_df.groupby(['CRISIS Demographics - Occupation'])['CallReportNum'].count().sort_values(ascending=False)"
   ]
  },
  {
   "cell_type": "code",
   "execution_count": null,
   "id": "1a50fb4e",
   "metadata": {},
   "outputs": [],
   "source": [
    "crisis1_df.groupby(['CRISIS/LIFELINE Imminent Risk - 2. Was caller at imminent risk for suicide? '])['CallReportNum'].count().sort_values(ascending=False)"
   ]
  },
  {
   "cell_type": "code",
   "execution_count": null,
   "id": "ac4fae7e",
   "metadata": {},
   "outputs": [],
   "source": [
    "crisis1_df.groupby(['CRISIS Demographics - Marital Status'])['CallReportNum'].count().sort_values(ascending=False)"
   ]
  },
  {
   "cell_type": "code",
   "execution_count": null,
   "id": "e7ae9a27",
   "metadata": {},
   "outputs": [],
   "source": [
    "caller = crisis1_df['CallerNum'].isin([1155260])"
   ]
  },
  {
   "cell_type": "code",
   "execution_count": null,
   "id": "8c84b4de",
   "metadata": {},
   "outputs": [],
   "source": [
    "print(crisis1_df['CallLength'].describe())"
   ]
  },
  {
   "cell_type": "code",
   "execution_count": null,
   "id": "b75a7734",
   "metadata": {},
   "outputs": [],
   "source": [
    "crisis1_df.head(100)"
   ]
  },
  {
   "cell_type": "code",
   "execution_count": null,
   "id": "e2a1f96a",
   "metadata": {},
   "outputs": [],
   "source": [
    "crisis1_df.columns[174]"
   ]
  },
  {
   "cell_type": "code",
   "execution_count": null,
   "id": "eb2fd15e",
   "metadata": {},
   "outputs": [],
   "source": [
    "crisis2_df.columns[155]"
   ]
  },
  {
   "cell_type": "code",
   "execution_count": null,
   "id": "b1b8231b",
   "metadata": {},
   "outputs": [],
   "source": [
    "i=0\n",
    "while i < len(crisis1_df.columns):\n",
    "    #print(i)\n",
    "    print(crisis1_df.columns[i])\n",
    "    i=i+1"
   ]
  },
  {
   "cell_type": "code",
   "execution_count": null,
   "id": "bd565920",
   "metadata": {},
   "outputs": [],
   "source": [
    "i=0\n",
    "#x=len(crisis2_df.columns)\n",
    "while i < len(crisis2_df.columns):\n",
    "    #print(i)\n",
    "    print(crisis2_df.columns[i])\n",
    "    i=i+1"
   ]
  },
  {
   "cell_type": "code",
   "execution_count": null,
   "id": "570757dc",
   "metadata": {},
   "outputs": [],
   "source": [
    "filter_col = [col for col in crisis2_df if col.startswith('CRISIS Issues') or col.startswith('Call')]\n",
    "updated_df2 = crisis2_df[filter_col]"
   ]
  },
  {
   "cell_type": "code",
   "execution_count": null,
   "id": "9e6bb4c4",
   "metadata": {},
   "outputs": [],
   "source": [
    "labels = list()\n",
    "\n",
    "for col in crisis2_df.columns:\n",
    "    labels.append(col.replace('Subjective', 'Issues'))\n",
    "\n",
    "crisis2_df.columns = labels"
   ]
  },
  {
   "cell_type": "code",
   "execution_count": null,
   "id": "17d6dcee",
   "metadata": {},
   "outputs": [],
   "source": [
    "filter_col = [col for col in crisis1_df if col.startswith('CRISIS Issues') or col.startswith('Call')]\n",
    "updated_df1 = crisis1_df[filter_col]"
   ]
  },
  {
   "cell_type": "code",
   "execution_count": null,
   "id": "37232576",
   "metadata": {},
   "outputs": [],
   "source": [
    "frames = [updated_df1, updated_df2]\n",
    "  \n",
    "all_ci = pd.concat(frames)"
   ]
  },
  {
   "cell_type": "code",
   "execution_count": null,
   "id": "a21c1713",
   "metadata": {},
   "outputs": [],
   "source": [
    "all_ci.info()"
   ]
  },
  {
   "cell_type": "code",
   "execution_count": null,
   "id": "5bb54f74",
   "metadata": {},
   "outputs": [],
   "source": [
    "all_ci.head(100)"
   ]
  },
  {
   "cell_type": "code",
   "execution_count": null,
   "id": "5907d69a",
   "metadata": {},
   "outputs": [],
   "source": [
    "mental_health_df = all_ci['CRISIS Issues - Mental Health'].notnull()"
   ]
  },
  {
   "cell_type": "code",
   "execution_count": null,
   "id": "81681ab7",
   "metadata": {},
   "outputs": [],
   "source": [
    "mental_health_df = all_ci[mental_health_df]"
   ]
  },
  {
   "cell_type": "code",
   "execution_count": null,
   "id": "f7dbd37a",
   "metadata": {},
   "outputs": [],
   "source": [
    "mental_health_df.head(100)"
   ]
  },
  {
   "cell_type": "code",
   "execution_count": null,
   "id": "d96acfef",
   "metadata": {},
   "outputs": [],
   "source": [
    "mental_health_df.head()"
   ]
  },
  {
   "cell_type": "code",
   "execution_count": null,
   "id": "434da862",
   "metadata": {},
   "outputs": [],
   "source": [
    "mental_health_df.groupby(['CRISIS Issues - Mental Health'])['CallReportNum'].count().sort_values(ascending=False)"
   ]
  },
  {
   "cell_type": "code",
   "execution_count": null,
   "id": "62390de0",
   "metadata": {},
   "outputs": [],
   "source": [
    "count = []\n",
    "# depression = []\n",
    "# Anxiety_Panic = []\n",
    "# Other_Mental_Health = []\n",
    "# Medical_Related_Anxiety = []\n",
    "# Trauma_PTSD = []\n",
    "depression_sum = 0\n",
    "anxiety_sum = 0\n",
    "other_sum = 0\n",
    "medical_sum = 0\n",
    "ptsd_sum = 0\n",
    "moral_sum = 0\n",
    "self_esteem_sum = 0\n",
    "anger_sum = 0\n",
    "social_sum = 0\n",
    "hallucination_sum = 0\n",
    "schizo_sum = 0\n",
    "issues_sum = 0\n",
    "for x in mental_health_df['CRISIS Issues - Mental Health']:\n",
    "    counter0 = x.count(\";\") + 1\n",
    "    issues_sum = issues_sum + counter0\n",
    "    depression_c = x.count(\"Depression\")\n",
    "    depression_sum = depression_sum + depression_c\n",
    "    anxiety = x.count(\"Anxiety/Panic\")\n",
    "    anxiety_sum = anxiety_sum + anxiety\n",
    "    other = x.count(\"Other Mental Health\")\n",
    "    other_sum = other_sum + other\n",
    "    medical = x.count(\"Medical Related Anxiety\")\n",
    "    medical_sum = medical_sum + medical\n",
    "    ptsd = x.count(\"Trauma/PTSD\")\n",
    "    ptsd_sum = ptsd_sum + ptsd\n",
    "    moral = x.count(\"Moral/Religious Issues\")\n",
    "    moral_sum = moral_sum + moral\n",
    "    self_esteem = x.count(\"Self-Esteem\")\n",
    "    self_esteem_sum = self_esteem_sum + self_esteem\n",
    "    anger = x.count(\"Anger Management\")\n",
    "    anger_sum = anger_sum + anger\n",
    "    social = x.count(\"Social Injustice\")\n",
    "    social_sum = social_sum + social\n",
    "    hallucination = x.count(\"Auditory/Visual Hallucinations\")\n",
    "    hallucination_sum = hallucination_sum + hallucination\n",
    "    schizo = x.count(\"Schizophrenia/Schizoaffective Disorder\")\n",
    "    schizo_sum = schizo_sum + schizo\n",
    "    count.append(counter0)\n",
    "    \n",
    "Mental_Health_Sum_df = {'Issues': ['Depression',\n",
    "                            'Anxiety/Panic',\n",
    "                            'Other Mental Health',\n",
    "                            'Medical Related Anxiety',\n",
    "                            'Trauma/PTSD',\n",
    "                            'Moral/Religious Issues',\n",
    "                            'Self-Esteem',\n",
    "                            'Anger Management',\n",
    "                            'Social Injustice',\n",
    "                            'Auditory/Visual Hallucinations',\n",
    "                            'Schizophrenia/Schizoaffective Disorder'],\n",
    "                         'Sum': [depression_sum, \n",
    "                                 anxiety_sum, \n",
    "                                 other_sum, \n",
    "                                 medical_sum, \n",
    "                                 ptsd_sum, \n",
    "                                 moral_sum, \n",
    "                                 self_esteem_sum,\n",
    "                                 anger_sum,\n",
    "                                 social_sum,\n",
    "                                 hallucination_sum,\n",
    "                                 schizo_sum],\n",
    "                         'Percent': [(depression_sum/issues_sum)*100, \n",
    "                                 (anxiety_sum/issues_sum)*100, \n",
    "                                 (other_sum/issues_sum)*100, \n",
    "                                 (medical_sum/issues_sum)*100, \n",
    "                                 (ptsd_sum/issues_sum)*100, \n",
    "                                 (moral_sum/issues_sum)*100, \n",
    "                                 (self_esteem_sum/issues_sum)*100,\n",
    "                                 (anger_sum/issues_sum)*100,\n",
    "                                 (social_sum/issues_sum)*100,\n",
    "                                 (hallucination_sum/issues_sum)*100,\n",
    "                                 (schizo_sum/issues_sum)*100]}\n",
    "                                 #issues_sum]}\n",
    "Mental_Health_Sum_df = pd.DataFrame(Mental_Health_Sum_df)\n",
    "#     depression.append(depression_c)\n",
    "#     Anxiety_Panic.append(anxiety)\n",
    "#     Other_Mental_Health.append(other)\n",
    "#     Medical_Related_Anxiety.append(medical)\n",
    "#     Trauma_PTSD.append(ptsd)"
   ]
  },
  {
   "cell_type": "code",
   "execution_count": null,
   "id": "4c7705dc",
   "metadata": {},
   "outputs": [],
   "source": [
    "Mental_Health_Sum_df = Mental_Health_Sum_df.sort_values(by='Sum', ascending=False)"
   ]
  },
  {
   "cell_type": "code",
   "execution_count": null,
   "id": "715f7ce5",
   "metadata": {},
   "outputs": [],
   "source": [
    "Mental_Health_Sum_df"
   ]
  },
  {
   "cell_type": "code",
   "execution_count": null,
   "id": "cc846c77",
   "metadata": {},
   "outputs": [],
   "source": [
    "ax = sns.barplot(x='Issues', y='Sum', data=Mental_Health_Sum_df, palette=\"Greys_r\", edgecolor='none')\n",
    "ax.ticklabel_format(style='plain', axis=\"y\")\n",
    "ax.set_xticklabels(ax.get_xticklabels(),rotation = 75)\n",
    "# plt.ylabel('Streams', fontweight='bold', fontsize=11)\n",
    "# plt.xlabel('Record Lables',fontweight='bold',fontsize=11, labelpad=12)\n",
    "# plt.title(label='Pandora Recording Labels Missing Songwriter Info',\n",
    "#           fontsize=12,\n",
    "#           backgroundcolor=\"whitesmoke\",\n",
    "#           pad='12.0',\n",
    "#           color=\"black\",\n",
    "#           fontweight='bold')\n",
    "ax.bar_label(ax.containers[0], fmt = '%d', \n",
    "             padding=2, \n",
    "              label_type='edge', \n",
    "              color='black', \n",
    "              fontweight='bold'\n",
    "              )\n",
    "#ax.axis(\"off\")\n",
    "right_side = ax.spines[\"right\"]\n",
    "right_side.set_visible(False)\n",
    "left_side = ax.spines[\"left\"]\n",
    "left_side.set_visible(False)\n",
    "top_side = ax.spines[\"top\"]\n",
    "top_side.set_visible(False)\n",
    "bottom_side = ax.spines[\"bottom\"]\n",
    "bottom_side.set_visible(False)\n",
    "#plt.savefig('Pandora Rec Labels.png', transparent=False, bbox_inches=\"tight\")"
   ]
  },
  {
   "cell_type": "code",
   "execution_count": null,
   "id": "55db1d95",
   "metadata": {},
   "outputs": [],
   "source": [
    "issues = []\n",
    "\n",
    "for x in mental_health_df['CRISIS Issues - Mental Health']:\n",
    "    "
   ]
  },
  {
   "cell_type": "code",
   "execution_count": null,
   "id": "0663c210",
   "metadata": {},
   "outputs": [],
   "source": []
  }
 ],
 "metadata": {
  "kernelspec": {
   "display_name": "Python 3 (ipykernel)",
   "language": "python",
   "name": "python3"
  },
  "language_info": {
   "codemirror_mode": {
    "name": "ipython",
    "version": 3
   },
   "file_extension": ".py",
   "mimetype": "text/x-python",
   "name": "python",
   "nbconvert_exporter": "python",
   "pygments_lexer": "ipython3",
   "version": "3.9.7"
  }
 },
 "nbformat": 4,
 "nbformat_minor": 5
}
