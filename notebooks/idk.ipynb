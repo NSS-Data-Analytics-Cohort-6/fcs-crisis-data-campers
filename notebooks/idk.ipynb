{
 "cells": [
  {
   "cell_type": "code",
   "execution_count": null,
   "id": "eeb53c30",
   "metadata": {},
   "outputs": [],
   "source": [
    "import pandas as pd\n",
    "import matplotlib.pyplot as plt\n",
    "import re\n",
    "import seaborn as sns\n",
    "import numpy as np\n",
    "from matplotlib import cm\n",
    "pd.set_option('display.max_rows', 500)\n",
    "pd.set_option('display.max_columns', 500)\n",
    "pd.set_option('display.width', 1000)\n",
    "fig = plt.gcf()\n",
    "\n",
    "# Change seaborn plot size\n",
    "fig.set_size_inches(12, 8)"
   ]
  },
  {
   "cell_type": "code",
   "execution_count": null,
   "id": "7a88bd41",
   "metadata": {},
   "outputs": [],
   "source": [
    "crisis1_df = pd.read_excel(\"C:/NSS/Projects/fcs-crisis-data-campers/data/NSSCrisisv.1.xlsx\")"
   ]
  },
  {
   "cell_type": "code",
   "execution_count": null,
   "id": "df553a47",
   "metadata": {},
   "outputs": [],
   "source": [
    "crisis2_df = pd.read_excel(\"C:/NSS/Projects/fcs-crisis-data-campers/data/NSSCrisisv.2.xlsx\")"
   ]
  },
  {
   "cell_type": "code",
   "execution_count": null,
   "id": "1430ca46",
   "metadata": {},
   "outputs": [],
   "source": [
    "crisis1_df.head(100)"
   ]
  },
  {
   "cell_type": "code",
   "execution_count": null,
   "id": "a6001dfc",
   "metadata": {},
   "outputs": [],
   "source": [
    "crisis1_df.dropna(how='all', axis=1, inplace=True)"
   ]
  },
  {
   "cell_type": "code",
   "execution_count": null,
   "id": "05f209fa",
   "metadata": {},
   "outputs": [],
   "source": [
    "crisis2_df.dropna(how='all', axis=1, inplace=True)"
   ]
  },
  {
   "cell_type": "code",
   "execution_count": null,
   "id": "99bddb8a",
   "metadata": {},
   "outputs": [],
   "source": [
    "crisis1_df.dtypes"
   ]
  },
  {
   "cell_type": "code",
   "execution_count": null,
   "id": "44e936e8",
   "metadata": {},
   "outputs": [],
   "source": [
    "crisis2_df.isnull().sum()"
   ]
  },
  {
   "cell_type": "code",
   "execution_count": null,
   "id": "a661500d",
   "metadata": {},
   "outputs": [],
   "source": [
    "crisis1_df.isnull().sum()"
   ]
  },
  {
   "cell_type": "markdown",
   "id": "d631abb9",
   "metadata": {},
   "source": [
    "<!-- pct_null = crisis1_df.isnull().sum() / len(crisis1_df)\n",
    "missing_features = pct_null[pct_null > 0.98].index\n",
    "crisis1_df.drop(missing_features, axis=1, inplace=True) -->"
   ]
  },
  {
   "cell_type": "code",
   "execution_count": null,
   "id": "889060c7",
   "metadata": {},
   "outputs": [],
   "source": [
    "crisis1_df.info()"
   ]
  },
  {
   "cell_type": "markdown",
   "id": "76e5c781",
   "metadata": {},
   "source": [
    "<!-- pct_null = crisis2_df.isnull().sum() / len(crisis2_df)\n",
    "missing_features = pct_null[pct_null > 0.98].index\n",
    "crisis2_df.drop(missing_features, axis=1, inplace=True) -->"
   ]
  },
  {
   "cell_type": "code",
   "execution_count": null,
   "id": "358cfbbd",
   "metadata": {},
   "outputs": [],
   "source": [
    "crisis1_df.info()"
   ]
  },
  {
   "cell_type": "code",
   "execution_count": null,
   "id": "1b9cf77e",
   "metadata": {},
   "outputs": [],
   "source": [
    "crisis1_df.rename(columns={'CRISIS Demographics - Ethnicity': 'Ethnicity'}, inplace=True)\n",
    "crisis2_df.rename(columns={'CRISIS Demographics - Race/Ethnicity': 'Ethnicity'}, inplace=True)"
   ]
  },
  {
   "cell_type": "code",
   "execution_count": null,
   "id": "c91f0628",
   "metadata": {},
   "outputs": [],
   "source": [
    "crisis1_df.groupby(['CRISIS Demographics - Military'])['CallReportNum'].count().sort_values(ascending=False)"
   ]
  },
  {
   "cell_type": "code",
   "execution_count": null,
   "id": "558e2b48",
   "metadata": {},
   "outputs": [],
   "source": [
    "crisis1_df.groupby(['CRISIS Demographics - Age'])['CallReportNum'].count().sort_values(ascending=False)"
   ]
  },
  {
   "cell_type": "code",
   "execution_count": null,
   "id": "16793cf6",
   "metadata": {},
   "outputs": [],
   "source": [
    "crisis1_df.groupby(['CallerNum'])['CallReportNum'].count().sort_values(ascending=False)"
   ]
  },
  {
   "cell_type": "code",
   "execution_count": null,
   "id": "7bd5d824",
   "metadata": {},
   "outputs": [],
   "source": [
    "crisis1_df.groupby(['CRISIS Demographics - Gender Identity'])['CallReportNum'].count().sort_values(ascending=False)"
   ]
  },
  {
   "cell_type": "code",
   "execution_count": null,
   "id": "e369bd67",
   "metadata": {},
   "outputs": [],
   "source": [
    "crisis1_df.groupby(['CRISIS Issues - Emotional State'])['CallReportNum'].count().sort_values(ascending=False)"
   ]
  },
  {
   "cell_type": "code",
   "execution_count": null,
   "id": "7955edae",
   "metadata": {},
   "outputs": [],
   "source": [
    "crisis1_df.groupby(['CRISIS Demographics - Occupation'])['CallReportNum'].count().sort_values(ascending=False)"
   ]
  },
  {
   "cell_type": "code",
   "execution_count": null,
   "id": "82a1629c",
   "metadata": {},
   "outputs": [],
   "source": [
    "crisis1_df.groupby(['CRISIS/LIFELINE Imminent Risk - 2. Was caller at imminent risk for suicide? '])['CallReportNum'].count().sort_values(ascending=False)"
   ]
  },
  {
   "cell_type": "code",
   "execution_count": null,
   "id": "bb745984",
   "metadata": {},
   "outputs": [],
   "source": [
    "crisis1_df.groupby(['CRISIS Demographics - Marital Status'])['CallReportNum'].count().sort_values(ascending=False)"
   ]
  },
  {
   "cell_type": "code",
   "execution_count": null,
   "id": "4ca4b3b2",
   "metadata": {},
   "outputs": [],
   "source": [
    "caller = crisis1_df['CallerNum'].isin([1155260])"
   ]
  },
  {
   "cell_type": "code",
   "execution_count": null,
   "id": "dd7cf231",
   "metadata": {},
   "outputs": [],
   "source": [
    "print(crisis1_df['CallLength'].describe())"
   ]
  },
  {
   "cell_type": "code",
   "execution_count": null,
   "id": "d6ee3d9c",
   "metadata": {},
   "outputs": [],
   "source": [
    "crisis1_df.head(100)"
   ]
  },
  {
   "cell_type": "code",
   "execution_count": null,
   "id": "f08dae38",
   "metadata": {},
   "outputs": [],
   "source": [
    "crisis1_df.columns[174]"
   ]
  },
  {
   "cell_type": "code",
   "execution_count": null,
   "id": "a828b272",
   "metadata": {},
   "outputs": [],
   "source": [
    "crisis2_df.columns[155]"
   ]
  },
  {
   "cell_type": "code",
   "execution_count": null,
   "id": "b7ea5bc5",
   "metadata": {},
   "outputs": [],
   "source": [
    "i=0\n",
    "while i < len(crisis1_df.columns):\n",
    "    #print(i)\n",
    "    print(crisis1_df.columns[i])\n",
    "    i=i+1"
   ]
  },
  {
   "cell_type": "code",
   "execution_count": null,
   "id": "66c65ecf",
   "metadata": {},
   "outputs": [],
   "source": [
    "i=0\n",
    "#x=len(crisis2_df.columns)\n",
    "while i < len(crisis2_df.columns):\n",
    "    #print(i)\n",
    "    print(crisis2_df.columns[i])\n",
    "    i=i+1"
   ]
  },
  {
   "cell_type": "code",
   "execution_count": null,
   "id": "2796d21c",
   "metadata": {},
   "outputs": [],
   "source": [
    "filter_col = [col for col in crisis2_df if col.startswith('CRISIS Issues') or col.startswith('Call')]\n",
    "updated_df2 = crisis2_df[filter_col]"
   ]
  },
  {
   "cell_type": "code",
   "execution_count": null,
   "id": "8204c9b1",
   "metadata": {},
   "outputs": [],
   "source": [
    "labels = list()\n",
    "\n",
    "for col in crisis2_df.columns:\n",
    "    labels.append(col.replace('Subjective', 'Issues'))\n",
    "\n",
    "crisis2_df.columns = labels"
   ]
  },
  {
   "cell_type": "code",
   "execution_count": null,
   "id": "23fe641e",
   "metadata": {},
   "outputs": [],
   "source": [
    "filter_col = [col for col in crisis1_df if col.startswith('CRISIS Issues') or col.startswith('Call')]\n",
    "updated_df1 = crisis1_df[filter_col]"
   ]
  },
  {
   "cell_type": "code",
   "execution_count": null,
   "id": "5079c30a",
   "metadata": {},
   "outputs": [],
   "source": [
    "frames = [updated_df1, updated_df2]\n",
    "  \n",
    "all_ci = pd.concat(frames)"
   ]
  },
  {
   "cell_type": "code",
   "execution_count": null,
   "id": "b10ab3ba",
   "metadata": {},
   "outputs": [],
   "source": [
    "all_ci.info()"
   ]
  },
  {
   "cell_type": "code",
   "execution_count": null,
   "id": "e6d22cc6",
   "metadata": {},
   "outputs": [],
   "source": [
    "all_ci.head(100)"
   ]
  },
  {
   "cell_type": "code",
   "execution_count": null,
   "id": "02f964f4",
   "metadata": {},
   "outputs": [],
   "source": [
    "mental_health_df = all_ci['CRISIS Issues - Mental Health'].notnull()"
   ]
  },
  {
   "cell_type": "code",
   "execution_count": null,
   "id": "442ba81d",
   "metadata": {},
   "outputs": [],
   "source": [
    "substances_df = all_ci['CRISIS Issues - Substances'].notnull()\n",
    "substances_df = all_ci[substances_df]"
   ]
  },
  {
   "cell_type": "code",
   "execution_count": null,
   "id": "6be21cb8",
   "metadata": {},
   "outputs": [],
   "source": [
    "mental_health_df = all_ci[mental_health_df]"
   ]
  },
  {
   "cell_type": "code",
   "execution_count": null,
   "id": "b126e431",
   "metadata": {},
   "outputs": [],
   "source": [
    "mental_health_df.head(100)"
   ]
  },
  {
   "cell_type": "code",
   "execution_count": null,
   "id": "c17d458a",
   "metadata": {},
   "outputs": [],
   "source": [
    "mental_health_df.head()"
   ]
  },
  {
   "cell_type": "code",
   "execution_count": null,
   "id": "257c4653",
   "metadata": {},
   "outputs": [],
   "source": [
    "mental_health_df.groupby(['CRISIS Issues - Mental Health'])['CallReportNum'].count().sort_values(ascending=False)"
   ]
  },
  {
   "cell_type": "code",
   "execution_count": null,
   "id": "e4344c12",
   "metadata": {},
   "outputs": [],
   "source": [
    "count = []\n",
    "depression_sum = 0\n",
    "anxiety_sum = 0\n",
    "other_sum = 0\n",
    "medical_sum = 0\n",
    "ptsd_sum = 0\n",
    "moral_sum = 0\n",
    "self_esteem_sum = 0\n",
    "anger_sum = 0\n",
    "social_sum = 0\n",
    "hallucination_sum = 0\n",
    "schizo_sum = 0\n",
    "issues_sum = 0\n",
    "sex_addict_sum = 0\n",
    "eating_sum = 0\n",
    "autism_sum = 0\n",
    "sex_identity_sum = 0\n",
    "gambling_sum = 0\n",
    "psych_sum = 0\n",
    "self_injury_sum = 0\n",
    "paranoia_sum = 0\n",
    "codependency_sum = 0\n",
    "grief_sum = 0\n",
    "perfection_sum = 0\n",
    "personality_sum = 0\n",
    "grief_due_sum = 0\n",
    "emergency_sum = 0\n",
    "bipolar_sum = 0\n",
    "gender_sum = 0\n",
    "pet_sum = 0\n",
    "phobia_sum = 0\n",
    "for x in mental_health_df['CRISIS Issues - Mental Health']:\n",
    "    counter0 = x.count(\";\") + 1\n",
    "    issues_sum = issues_sum + counter0\n",
    "    depression_c = x.count(\"Depression\")\n",
    "    depression_sum = depression_sum + depression_c\n",
    "    anxiety = x.count(\"Anxiety/Panic\")\n",
    "    anxiety_sum = anxiety_sum + anxiety\n",
    "    other = x.count(\"Other Mental Health\")\n",
    "    other_sum = other_sum + other\n",
    "    medical = x.count(\"Medical Related Anxiety\")\n",
    "    medical_sum = medical_sum + medical\n",
    "    ptsd = x.count(\"Trauma/PTSD\")\n",
    "    ptsd_sum = ptsd_sum + ptsd\n",
    "    moral = x.count(\"Moral/Religious Issues\")\n",
    "    moral_sum = moral_sum + moral\n",
    "    self_esteem = x.count(\"Self-Esteem\")\n",
    "    self_esteem_sum = self_esteem_sum + self_esteem\n",
    "    anger = x.count(\"Anger Management\")\n",
    "    anger_sum = anger_sum + anger\n",
    "    social = x.count(\"Social Injustice\")\n",
    "    social_sum = social_sum + social\n",
    "    hallucination = x.count(\"Auditory/Visual Hallucinations\")\n",
    "    hallucination_sum = hallucination_sum + hallucination\n",
    "    schizo = x.count(\"Schizophrenia/Schizoaffective Disorder\")\n",
    "    schizo_sum = schizo_sum + schizo\n",
    "    sex = x.count(\"Sexual (Addiction Guilt etc.)\")\n",
    "    sex_addict_sum = sex_addict_sum + sex\n",
    "    eating = x.count(\"Eating Disorder\")\n",
    "    eating_sum = eating_sum + eating\n",
    "    autism = x.count(\"Autism Spectrum Disorder (diagnosed)\")\n",
    "    autism_sum = autism_sum + autism\n",
    "    sex_identity = x.count(\"Sexual Identity\")\n",
    "    sex_identity_sum = sex_identity_sum + sex_identity\n",
    "    gambling = x.count(\"Gambling/Compulsive Spending\")\n",
    "    gambling_sum = gambling_sum + gambling\n",
    "    psych = x.count(\"Recent psychiatric hospitalization\")\n",
    "    psych_sum = psych_sum + psych\n",
    "    self_injury = x.count(\"Non-Suicidal Self Injury\")\n",
    "    self_injury_sum = self_injury_sum + self_injury\n",
    "    paranoia = x.count(\"Paranoia\")\n",
    "    paranoia_sum = paranoia_sum + paranoia\n",
    "    codependency = x.count(\"Codependency\")\n",
    "    codependency_sum = codependency_sum + codependency\n",
    "    grief = x.count(\"Grief\")\n",
    "    grief_sum = grief_sum + grief\n",
    "    perfection = x.count(\"Perfectionism\")\n",
    "    perfection_sum = perfection_sum + perfection\n",
    "    personality = x.count(\"Personality disorder\")\n",
    "    personality_sum = personality_sum + personality\n",
    "    grief_due = x.count(\"Grief due to Suicide\")\n",
    "    grief_due_sum = grief_due_sum + grief_due\n",
    "    emergency = x.count(\"Emergency (Mental Health)\")\n",
    "    emergency_sum = emergency_sum + emergency\n",
    "    bipolar = x.count(\"Bipolar Disorder (diagnosed)\")\n",
    "    bipolar_sum = bipolar_sum + bipolar\n",
    "    gender = x.count(\"Gender Identity\")\n",
    "    gender_sum = gender_sum + gender\n",
    "    pet = x.count(\"Pet Grief\")\n",
    "    pet_sum = pet_sum + pet\n",
    "    phobia = x.count(\"Phobia\")\n",
    "    phobia_sum = phobia_sum + phobia\n",
    "    count.append(counter0)\n",
    "    \n",
    "Mental_Health_Sum_df = {'Issues': ['Depression',\n",
    "                            'Anxiety/Panic',\n",
    "                            'Other Mental Health',\n",
    "                            'Medical Related Anxiety',\n",
    "                            'Trauma/PTSD',\n",
    "                            'Moral/Religious Issues',\n",
    "                            'Self-Esteem',\n",
    "                            'Anger Management',\n",
    "                            'Social Injustice',\n",
    "                            'Auditory/Visual Hallucinations',\n",
    "                            'Sexual (Addiction Guilt etc.)',\n",
    "                            'Eating Disorder',\n",
    "                            'Autism Spectrum Disorder (diagnosed)',\n",
    "                            'Sexual Identity',\n",
    "                            'Gambling/Compulsive Spending',\n",
    "                            'Recent psychiatric hospitalization',\n",
    "                            'Non-Suicidal Self Injury',\n",
    "                            'Paranoia',\n",
    "                            'Codependency',\n",
    "                            'Grief',\n",
    "                            'Personality disorder',\n",
    "                            'Grief due to Suicide',\n",
    "                            'Perfectionism',\n",
    "                            'Emergency (Mental Health)',\n",
    "                            'Bipolar Disorder (diagnosed)',\n",
    "                            'Gender Identity',\n",
    "                            'Pet Grief',\n",
    "                            'Phobia',\n",
    "                            'Schizophrenia/Schizoaffective Disorder'],\n",
    "                         'Sum': [depression_sum, \n",
    "                                 anxiety_sum, \n",
    "                                 other_sum, \n",
    "                                 medical_sum, \n",
    "                                 ptsd_sum, \n",
    "                                 moral_sum, \n",
    "                                 self_esteem_sum,\n",
    "                                 anger_sum,\n",
    "                                 social_sum,\n",
    "                                 hallucination_sum,\n",
    "                                 sex_addict_sum,\n",
    "                                 eating_sum,\n",
    "                                 autism_sum,\n",
    "                                 sex_identity_sum,\n",
    "                                 gambling_sum,\n",
    "                                 psych_sum,\n",
    "                                 self_injury_sum,\n",
    "                                 paranoia_sum,\n",
    "                                 codependency_sum,\n",
    "                                 grief_sum,\n",
    "                                 personality_sum,\n",
    "                                 grief_due_sum,\n",
    "                                 perfection_sum,\n",
    "                                 emergency_sum,\n",
    "                                 bipolar_sum,\n",
    "                                 gender_sum,\n",
    "                                 pet_sum,\n",
    "                                 phobia_sum,\n",
    "                                 schizo_sum],\n",
    "                         'Percent': [(depression_sum/issues_sum)*100, \n",
    "                                 (anxiety_sum/issues_sum)*100, \n",
    "                                 (other_sum/issues_sum)*100, \n",
    "                                 (medical_sum/issues_sum)*100, \n",
    "                                 (ptsd_sum/issues_sum)*100, \n",
    "                                 (moral_sum/issues_sum)*100, \n",
    "                                 (self_esteem_sum/issues_sum)*100,\n",
    "                                 (anger_sum/issues_sum)*100,\n",
    "                                 (social_sum/issues_sum)*100,\n",
    "                                 (hallucination_sum/issues_sum)*100,\n",
    "                                 (sex_addict_sum/issues_sum)*100,\n",
    "                                 (eating_sum/issues_sum)*100,\n",
    "                                 (autism_sum/issues_sum)*100,\n",
    "                                 (sex_identity_sum/issues_sum)*100,\n",
    "                                 (gambling_sum/issues_sum)*100,\n",
    "                                 (psych_sum/issues_sum)*100,\n",
    "                                 (self_injury_sum/issues_sum)*100,\n",
    "                                 (paranoia_sum/issues_sum)*100,\n",
    "                                 (codependency_sum/issues_sum)*100,\n",
    "                                 (grief_sum/issues_sum)*100,\n",
    "                                 (personality_sum/issues_sum)*100,\n",
    "                                 (grief_due_sum/issues_sum)*100,\n",
    "                                 (perfection_sum/issues_sum)*100,\n",
    "                                 (emergency_sum/issues_sum)*100,\n",
    "                                 (bipolar_sum/issues_sum)*100,\n",
    "                                 (gender_sum/issues_sum)*100,\n",
    "                                 (pet_sum/issues_sum)*100,\n",
    "                                 (phobia_sum/issues_sum)*100,\n",
    "                                 (schizo_sum/issues_sum)*100]}\n",
    "                                 \n",
    "Mental_Health_Sum_df = pd.DataFrame(Mental_Health_Sum_df)\n",
    "Mental_Health_Sum_df = Mental_Health_Sum_df.sort_values(by='Sum', ascending=False).reset_index(drop=True)\n",
    "Mental_Health_Sum_df_10 = Mental_Health_Sum_df.nlargest(10, 'Sum').sort_values(by='Sum', ascending=False)\n",
    "Mental_Health_Sum_df"
   ]
  },
  {
   "cell_type": "code",
   "execution_count": null,
   "id": "897248a8",
   "metadata": {},
   "outputs": [],
   "source": [
    "ax = sns.barplot(x='Issues', y='Sum', data=Mental_Health_Sum_df_10, palette=\"Greys_r\", edgecolor='none')\n",
    "fig = plt.gcf()\n",
    "\n",
    "# Change seaborn plot size\n",
    "fig.set_size_inches(12, 8)\n",
    "ax.ticklabel_format(style='plain', axis=\"y\")\n",
    "ax.set_xticklabels(ax.get_xticklabels(),rotation = 82)\n",
    "plt.ylabel('Count', fontweight='bold', fontsize=11)\n",
    "plt.xlabel('Issues',fontweight='bold',fontsize=11, labelpad=12)\n",
    "plt.title(label='Top 10 Recorded Mental Health Issues',\n",
    "           fontsize=12,\n",
    "           backgroundcolor=\"whitesmoke\",\n",
    "           pad='12.0',\n",
    "           color=\"black\",\n",
    "           fontweight='bold')\n",
    "ax.bar_label(ax.containers[0], fmt = '%d', \n",
    "             padding=2, \n",
    "              label_type='edge', \n",
    "              color='black', \n",
    "              fontweight='bold'\n",
    "              )\n",
    "#ax.axis(\"off\")\n",
    "right_side = ax.spines[\"right\"]\n",
    "right_side.set_visible(False)\n",
    "left_side = ax.spines[\"left\"]\n",
    "left_side.set_visible(False)\n",
    "top_side = ax.spines[\"top\"]\n",
    "top_side.set_visible(False)\n",
    "bottom_side = ax.spines[\"bottom\"]\n",
    "bottom_side.set_visible(False)\n",
    "plt.savefig('Top 10 Mental Health Issues Transparent.png', transparent=True, bbox_inches=\"tight\")\n",
    "plt.savefig('Top 10 Mental Health Issues.png', transparent=False, bbox_inches=\"tight\")"
   ]
  },
  {
   "cell_type": "code",
   "execution_count": null,
   "id": "9834d1ae",
   "metadata": {},
   "outputs": [],
   "source": [
    "issues = []\n",
    "\n",
    "for x in mental_health_df['CRISIS Issues - Mental Health']:\n",
    "    issue = re.split(';', x)\n",
    "    issues.append(issue)\n",
    "\n",
    "flat_list=list()\n",
    "for sub_list in issues:\n",
    "    flat_list += sub_list\n",
    "issues = flat_list\n",
    "#issues = str(issues).text.replace(' ', '')\n",
    "new_val = set(issues)\n",
    "issues_distinct=list(new_val)"
   ]
  },
  {
   "cell_type": "code",
   "execution_count": null,
   "id": "016a7702",
   "metadata": {},
   "outputs": [],
   "source": [
    "new_list = []\n",
    "for x in issues_distinct:\n",
    "    item = str(x).strip()\n",
    "    new_list.append(item)"
   ]
  },
  {
   "cell_type": "code",
   "execution_count": null,
   "id": "95121da6",
   "metadata": {},
   "outputs": [],
   "source": [
    "new_val = set(new_list)\n",
    "issues_list=list(new_val)\n",
    "#len(new_list)\n",
    "issues_list"
   ]
  },
  {
   "cell_type": "code",
   "execution_count": null,
   "id": "ba67639f",
   "metadata": {},
   "outputs": [],
   "source": [
    "substances = []\n",
    "\n",
    "for x in substances_df['CRISIS Issues - Substances']:\n",
    "    substance = re.split(';', x)\n",
    "    substances.append(substance)\n",
    "\n",
    "flat_list=list()\n",
    "for sub_list in substances:\n",
    "    flat_list += sub_list\n",
    "substances = flat_list\n",
    "#issues = str(issues).text.replace(' ', '')\n",
    "new_val2 = set(substances)\n",
    "substances_distinct=list(new_val2)\n",
    "\n",
    "new_list2 = []\n",
    "for x in substances_distinct:\n",
    "    item = str(x).strip()\n",
    "    new_list2.append(item)\n",
    "new_val2 = set(new_list2)\n",
    "substances=list(new_val2)\n",
    "#len(new_list)\n",
    "substances"
   ]
  },
  {
   "cell_type": "code",
   "execution_count": null,
   "id": "1ad155e4",
   "metadata": {},
   "outputs": [],
   "source": [
    "new_mental_df=all_ci['CRISIS Issues - Mental Health'].str.split('; ', expand=True)\n",
    "melted=new_mental_df.melt().value.value_counts() #you may or may not meed the value.value_counts() \n",
    "melted = pd.DataFrame(melted)\n",
    "melted['Percent'] = (melted['value']/melted['value'].sum())*100\n",
    "melted.reset_index(inplace=True)\n",
    "melted\n",
    "\n",
    "#THANK YOU IULIA AND MAGGIE!!!!!!!! For loop above miscounted Grief because it showed up in other issues"
   ]
  },
  {
   "cell_type": "code",
   "execution_count": null,
   "id": "b56a4a9f",
   "metadata": {},
   "outputs": [],
   "source": [
    "melted_top_10 = melted.nlargest(10, 'value').sort_values(by='value', ascending=False)\n",
    "melted_top_10.reset_index(inplace=True)\n",
    "melted_top_10"
   ]
  },
  {
   "cell_type": "code",
   "execution_count": null,
   "id": "780db2a6",
   "metadata": {},
   "outputs": [],
   "source": [
    "ax = sns.barplot(x='index', y='value', data=melted_top_10, palette=\"Greys_r\", edgecolor='none')\n",
    "fig = plt.gcf()\n",
    "\n",
    "# Change seaborn plot size\n",
    "fig.set_size_inches(12, 8)\n",
    "ax.ticklabel_format(style='plain', axis=\"y\")\n",
    "ax.set_xticklabels(ax.get_xticklabels(),rotation = 82)\n",
    "plt.ylabel('Count', fontweight='bold', fontsize=11)\n",
    "plt.xlabel('Issues',fontweight='bold',fontsize=11, labelpad=12)\n",
    "plt.title(label='Top 10 Recorded Mental Health Issues',\n",
    "           fontsize=12,\n",
    "           backgroundcolor=\"whitesmoke\",\n",
    "           pad='12.0',\n",
    "           color=\"black\",\n",
    "           fontweight='bold')\n",
    "ax.bar_label(ax.containers[0], fmt = '%d', \n",
    "             padding=2, \n",
    "              label_type='edge', \n",
    "              color='black', \n",
    "              fontweight='bold'\n",
    "              )\n",
    "#ax.axis(\"off\")\n",
    "right_side = ax.spines[\"right\"]\n",
    "right_side.set_visible(False)\n",
    "left_side = ax.spines[\"left\"]\n",
    "left_side.set_visible(False)\n",
    "top_side = ax.spines[\"top\"]\n",
    "top_side.set_visible(False)\n",
    "bottom_side = ax.spines[\"bottom\"]\n",
    "bottom_side.set_visible(False)\n",
    "plt.savefig('Top 10 Mental Health Issues Transparent.png', transparent=True, bbox_inches=\"tight\")\n",
    "plt.savefig('Top 10 Mental Health Issues.png', transparent=False, bbox_inches=\"tight\")"
   ]
  },
  {
   "cell_type": "code",
   "execution_count": null,
   "id": "2a3506ed",
   "metadata": {},
   "outputs": [],
   "source": [
    "top_2_melted = melted.nlargest(2, 'value').sort_values(by='value', ascending=False)\n",
    "top_2_melted"
   ]
  },
  {
   "cell_type": "code",
   "execution_count": null,
   "id": "943a3e12",
   "metadata": {},
   "outputs": [],
   "source": [
    "smallest_melted = melted.nsmallest(27, 'value').sort_values(by='value', ascending=False)"
   ]
  },
  {
   "cell_type": "code",
   "execution_count": null,
   "id": "ebb8b05d",
   "metadata": {},
   "outputs": [],
   "source": [
    "top2 = top_2_melted['Percent'].sum()\n",
    "top2"
   ]
  },
  {
   "cell_type": "code",
   "execution_count": null,
   "id": "fbe5ba11",
   "metadata": {},
   "outputs": [],
   "source": [
    "bot = smallest_melted['Percent'].sum()\n",
    "bot"
   ]
  },
  {
   "cell_type": "code",
   "execution_count": null,
   "id": "f08c28ea",
   "metadata": {},
   "outputs": [],
   "source": [
    "data = [bot, top2]\n",
    "fig = plt.gcf()\n",
    "\n",
    "# Change seaborn plot size\n",
    "fig.set_size_inches(12, 8)\n",
    "explode = [0.3,0.02]\n",
    "labels = ['All other Issues','Anxiety/Panic & Depression']\n",
    "colors = sns.color_palette(\"viridis\")\n",
    "plt.pie(data,\n",
    "        labels=labels,\n",
    "        colors = colors,\n",
    "        autopct = '%0.0f%%',\n",
    "        explode = explode,\n",
    "        shadow = 'True',\n",
    "        startangle = 90,\n",
    "        textprops = {'color': 'black','fontsize':12, 'backgroundcolor': 'white', 'fontweight': 'bold'},\n",
    "        wedgeprops = {'linewidth': 6},\n",
    "        frame = 'false' ,\n",
    "        center = (0.1,0.1),\n",
    "        rotatelabels = 'true')\n",
    "\n",
    "ax = plt.gca()\n",
    "ax.axis(\"off\")\n",
    "plt.tick_params(left = False)\n",
    "ax.set_frame_on(False)\n",
    "plt.show()\n",
    "plt.savefig('AnxietyPanicDepressionPieChart_Transparent.png', transparent=True, bbox_inches=\"tight\")\n",
    "plt.savefig('AnxietyPanicDepressionPieChart.png', transparent=False, bbox_inches=\"tight\")"
   ]
  },
  {
   "cell_type": "code",
   "execution_count": null,
   "id": "7a18b945",
   "metadata": {},
   "outputs": [],
   "source": []
  }
 ],
 "metadata": {
  "kernelspec": {
   "display_name": "Python 3 (ipykernel)",
   "language": "python",
   "name": "python3"
  },
  "language_info": {
   "codemirror_mode": {
    "name": "ipython",
    "version": 3
   },
   "file_extension": ".py",
   "mimetype": "text/x-python",
   "name": "python",
   "nbconvert_exporter": "python",
   "pygments_lexer": "ipython3",
   "version": "3.9.7"
  }
 },
 "nbformat": 4,
 "nbformat_minor": 5
}
