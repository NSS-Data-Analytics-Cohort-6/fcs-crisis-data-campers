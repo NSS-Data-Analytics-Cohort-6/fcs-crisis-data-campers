{
 "cells": [
  {
   "cell_type": "code",
   "execution_count": null,
   "id": "95d8dd75",
   "metadata": {},
   "outputs": [],
   "source": [
    "import pandas as pd\n",
    "import matplotlib.pyplot as plt\n",
    "import re\n",
    "import seaborn as sns\n",
    "import numpy as np\n",
    "pd.set_option('display.max_rows', 500)\n",
    "pd.set_option('display.max_columns', 500)\n",
    "pd.set_option('display.width', 1000)\n",
    "fig = plt.gcf()\n",
    "\n",
    "# Change seaborn plot size\n",
    "fig.set_size_inches(12, 8)"
   ]
  },
  {
   "cell_type": "code",
   "execution_count": null,
   "id": "e9ba8074",
   "metadata": {},
   "outputs": [],
   "source": [
    "crisis1_df = pd.read_excel(\"C:/NSS/Projects/fcs-crisis-data-campers/data/NSSCrisisv.1.xlsx\")"
   ]
  },
  {
   "cell_type": "code",
   "execution_count": null,
   "id": "87d33a7b",
   "metadata": {},
   "outputs": [],
   "source": [
    "crisis2_df = pd.read_excel(\"C:/NSS/Projects/fcs-crisis-data-campers/data/NSSCrisisv.2.xlsx\")"
   ]
  },
  {
   "cell_type": "code",
   "execution_count": null,
   "id": "6bbb7604",
   "metadata": {},
   "outputs": [],
   "source": [
    "crisis1_df.head(100)"
   ]
  },
  {
   "cell_type": "code",
   "execution_count": null,
   "id": "591d4ffe",
   "metadata": {},
   "outputs": [],
   "source": [
    "crisis1_df.dropna(how='all', axis=1, inplace=True)"
   ]
  },
  {
   "cell_type": "code",
   "execution_count": null,
   "id": "50a5ab77",
   "metadata": {},
   "outputs": [],
   "source": [
    "crisis2_df.dropna(how='all', axis=1, inplace=True)"
   ]
  },
  {
   "cell_type": "code",
   "execution_count": null,
   "id": "ed1e7f95",
   "metadata": {},
   "outputs": [],
   "source": [
    "crisis1_df.dtypes"
   ]
  },
  {
   "cell_type": "code",
   "execution_count": null,
   "id": "0346cc62",
   "metadata": {},
   "outputs": [],
   "source": [
    "crisis2_df.isnull().sum()"
   ]
  },
  {
   "cell_type": "code",
   "execution_count": null,
   "id": "5f7e374f",
   "metadata": {},
   "outputs": [],
   "source": [
    "crisis1_df.isnull().sum()"
   ]
  },
  {
   "cell_type": "markdown",
   "id": "3580f22f",
   "metadata": {},
   "source": [
    "<!-- pct_null = crisis1_df.isnull().sum() / len(crisis1_df)\n",
    "missing_features = pct_null[pct_null > 0.98].index\n",
    "crisis1_df.drop(missing_features, axis=1, inplace=True) -->"
   ]
  },
  {
   "cell_type": "code",
   "execution_count": null,
   "id": "e8b1ee34",
   "metadata": {},
   "outputs": [],
   "source": [
    "crisis1_df.info()"
   ]
  },
  {
   "cell_type": "markdown",
   "id": "7336b7c2",
   "metadata": {},
   "source": [
    "<!-- pct_null = crisis2_df.isnull().sum() / len(crisis2_df)\n",
    "missing_features = pct_null[pct_null > 0.98].index\n",
    "crisis2_df.drop(missing_features, axis=1, inplace=True) -->"
   ]
  },
  {
   "cell_type": "code",
   "execution_count": null,
   "id": "083597ac",
   "metadata": {},
   "outputs": [],
   "source": [
    "crisis1_df.info()"
   ]
  },
  {
   "cell_type": "code",
   "execution_count": null,
   "id": "a67a9be4",
   "metadata": {},
   "outputs": [],
   "source": [
    "crisis1_df.rename(columns={'CRISIS Demographics - Ethnicity': 'Ethnicity'}, inplace=True)\n",
    "crisis2_df.rename(columns={'CRISIS Demographics - Race/Ethnicity': 'Ethnicity'}, inplace=True)"
   ]
  },
  {
   "cell_type": "code",
   "execution_count": null,
   "id": "63bd61f8",
   "metadata": {},
   "outputs": [],
   "source": [
    "crisis1_df.groupby(['CRISIS Demographics - Military'])['CallReportNum'].count().sort_values(ascending=False)"
   ]
  },
  {
   "cell_type": "code",
   "execution_count": null,
   "id": "211d6eac",
   "metadata": {},
   "outputs": [],
   "source": [
    "crisis1_df.groupby(['CRISIS Demographics - Age'])['CallReportNum'].count().sort_values(ascending=False)"
   ]
  },
  {
   "cell_type": "code",
   "execution_count": null,
   "id": "c263bd28",
   "metadata": {},
   "outputs": [],
   "source": [
    "crisis1_df.groupby(['CallerNum'])['CallReportNum'].count().sort_values(ascending=False)"
   ]
  },
  {
   "cell_type": "code",
   "execution_count": null,
   "id": "0acee777",
   "metadata": {},
   "outputs": [],
   "source": [
    "crisis1_df.groupby(['CRISIS Demographics - Gender Identity'])['CallReportNum'].count().sort_values(ascending=False)"
   ]
  },
  {
   "cell_type": "code",
   "execution_count": null,
   "id": "74a32f4d",
   "metadata": {},
   "outputs": [],
   "source": [
    "crisis1_df.groupby(['CRISIS Issues - Emotional State'])['CallReportNum'].count().sort_values(ascending=False)"
   ]
  },
  {
   "cell_type": "code",
   "execution_count": null,
   "id": "19e8858e",
   "metadata": {},
   "outputs": [],
   "source": [
    "crisis1_df.groupby(['CRISIS Demographics - Occupation'])['CallReportNum'].count().sort_values(ascending=False)"
   ]
  },
  {
   "cell_type": "code",
   "execution_count": null,
   "id": "3f100954",
   "metadata": {},
   "outputs": [],
   "source": [
    "crisis1_df.groupby(['CRISIS/LIFELINE Imminent Risk - 2. Was caller at imminent risk for suicide? '])['CallReportNum'].count().sort_values(ascending=False)"
   ]
  },
  {
   "cell_type": "code",
   "execution_count": null,
   "id": "cdeaa67c",
   "metadata": {},
   "outputs": [],
   "source": [
    "crisis1_df.groupby(['CRISIS Demographics - Marital Status'])['CallReportNum'].count().sort_values(ascending=False)"
   ]
  },
  {
   "cell_type": "code",
   "execution_count": null,
   "id": "a5a9f7f3",
   "metadata": {},
   "outputs": [],
   "source": [
    "caller = crisis1_df['CallerNum'].isin([1155260])"
   ]
  },
  {
   "cell_type": "code",
   "execution_count": null,
   "id": "cd58e00e",
   "metadata": {},
   "outputs": [],
   "source": [
    "print(crisis1_df['CallLength'].describe())"
   ]
  },
  {
   "cell_type": "code",
   "execution_count": null,
   "id": "5fcbecb4",
   "metadata": {},
   "outputs": [],
   "source": [
    "crisis1_df.head(100)"
   ]
  },
  {
   "cell_type": "code",
   "execution_count": null,
   "id": "41be5f30",
   "metadata": {},
   "outputs": [],
   "source": [
    "crisis1_df.columns[174]"
   ]
  },
  {
   "cell_type": "code",
   "execution_count": null,
   "id": "c4817868",
   "metadata": {},
   "outputs": [],
   "source": [
    "crisis2_df.columns[155]"
   ]
  },
  {
   "cell_type": "code",
   "execution_count": null,
   "id": "6f59c542",
   "metadata": {},
   "outputs": [],
   "source": [
    "i=0\n",
    "while i < len(crisis1_df.columns):\n",
    "    #print(i)\n",
    "    print(crisis1_df.columns[i])\n",
    "    i=i+1"
   ]
  },
  {
   "cell_type": "code",
   "execution_count": null,
   "id": "6dea0fcc",
   "metadata": {},
   "outputs": [],
   "source": [
    "i=0\n",
    "#x=len(crisis2_df.columns)\n",
    "while i < len(crisis2_df.columns):\n",
    "    #print(i)\n",
    "    print(crisis2_df.columns[i])\n",
    "    i=i+1"
   ]
  },
  {
   "cell_type": "code",
   "execution_count": null,
   "id": "f6523c17",
   "metadata": {},
   "outputs": [],
   "source": [
    "filter_col = [col for col in crisis2_df if col.startswith('CRISIS Issues') or col.startswith('Call')]\n",
    "updated_df2 = crisis2_df[filter_col]"
   ]
  },
  {
   "cell_type": "code",
   "execution_count": null,
   "id": "06ce0c14",
   "metadata": {},
   "outputs": [],
   "source": [
    "labels = list()\n",
    "\n",
    "for col in crisis2_df.columns:\n",
    "    labels.append(col.replace('Subjective', 'Issues'))\n",
    "\n",
    "crisis2_df.columns = labels"
   ]
  },
  {
   "cell_type": "code",
   "execution_count": null,
   "id": "ca7a0ab2",
   "metadata": {},
   "outputs": [],
   "source": [
    "filter_col = [col for col in crisis1_df if col.startswith('CRISIS Issues') or col.startswith('Call')]\n",
    "updated_df1 = crisis1_df[filter_col]"
   ]
  },
  {
   "cell_type": "code",
   "execution_count": null,
   "id": "d52d7f77",
   "metadata": {},
   "outputs": [],
   "source": [
    "frames = [updated_df1, updated_df2]\n",
    "  \n",
    "all_ci = pd.concat(frames)"
   ]
  },
  {
   "cell_type": "code",
   "execution_count": null,
   "id": "3f53d756",
   "metadata": {},
   "outputs": [],
   "source": [
    "all_ci.info()"
   ]
  },
  {
   "cell_type": "code",
   "execution_count": null,
   "id": "5bf64013",
   "metadata": {},
   "outputs": [],
   "source": [
    "all_ci.head(100)"
   ]
  },
  {
   "cell_type": "code",
   "execution_count": null,
   "id": "fea8173a",
   "metadata": {},
   "outputs": [],
   "source": [
    "mental_health_df = all_ci['CRISIS Issues - Mental Health'].notnull()"
   ]
  },
  {
   "cell_type": "code",
   "execution_count": null,
   "id": "0143b1bd",
   "metadata": {},
   "outputs": [],
   "source": [
    "substances_df = all_ci['CRISIS Issues - Substances'].notnull()\n",
    "substances_df = all_ci[substances_df]"
   ]
  },
  {
   "cell_type": "code",
   "execution_count": null,
   "id": "4bc96b8e",
   "metadata": {},
   "outputs": [],
   "source": [
    "mental_health_df = all_ci[mental_health_df]"
   ]
  },
  {
   "cell_type": "code",
   "execution_count": null,
   "id": "07072316",
   "metadata": {},
   "outputs": [],
   "source": [
    "mental_health_df.head(100)"
   ]
  },
  {
   "cell_type": "code",
   "execution_count": null,
   "id": "b8fbaef7",
   "metadata": {},
   "outputs": [],
   "source": [
    "mental_health_df.head()"
   ]
  },
  {
   "cell_type": "code",
   "execution_count": null,
   "id": "cd125778",
   "metadata": {},
   "outputs": [],
   "source": [
    "mental_health_df.groupby(['CRISIS Issues - Mental Health'])['CallReportNum'].count().sort_values(ascending=False)"
   ]
  },
  {
   "cell_type": "code",
   "execution_count": null,
   "id": "8cd11d01",
   "metadata": {},
   "outputs": [],
   "source": [
    "count = []\n",
    "depression_sum = 0\n",
    "anxiety_sum = 0\n",
    "other_sum = 0\n",
    "medical_sum = 0\n",
    "ptsd_sum = 0\n",
    "moral_sum = 0\n",
    "self_esteem_sum = 0\n",
    "anger_sum = 0\n",
    "social_sum = 0\n",
    "hallucination_sum = 0\n",
    "schizo_sum = 0\n",
    "issues_sum = 0\n",
    "sex_addict_sum = 0\n",
    "eating_sum = 0\n",
    "autism_sum = 0\n",
    "sex_identity_sum = 0\n",
    "gambling_sum = 0\n",
    "psych_sum = 0\n",
    "self_injury_sum = 0\n",
    "paranoia_sum = 0\n",
    "codependency_sum = 0\n",
    "grief_sum = 0\n",
    "perfection_sum = 0\n",
    "personality_sum = 0\n",
    "grief_due_sum = 0\n",
    "emergency_sum = 0\n",
    "bipolar_sum = 0\n",
    "gender_sum = 0\n",
    "pet_sum = 0\n",
    "phobia_sum = 0\n",
    "for x in mental_health_df['CRISIS Issues - Mental Health']:\n",
    "    counter0 = x.count(\";\") + 1\n",
    "    issues_sum = issues_sum + counter0\n",
    "    depression_c = x.count(\"Depression\")\n",
    "    depression_sum = depression_sum + depression_c\n",
    "    anxiety = x.count(\"Anxiety/Panic\")\n",
    "    anxiety_sum = anxiety_sum + anxiety\n",
    "    other = x.count(\"Other Mental Health\")\n",
    "    other_sum = other_sum + other\n",
    "    medical = x.count(\"Medical Related Anxiety\")\n",
    "    medical_sum = medical_sum + medical\n",
    "    ptsd = x.count(\"Trauma/PTSD\")\n",
    "    ptsd_sum = ptsd_sum + ptsd\n",
    "    moral = x.count(\"Moral/Religious Issues\")\n",
    "    moral_sum = moral_sum + moral\n",
    "    self_esteem = x.count(\"Self-Esteem\")\n",
    "    self_esteem_sum = self_esteem_sum + self_esteem\n",
    "    anger = x.count(\"Anger Management\")\n",
    "    anger_sum = anger_sum + anger\n",
    "    social = x.count(\"Social Injustice\")\n",
    "    social_sum = social_sum + social\n",
    "    hallucination = x.count(\"Auditory/Visual Hallucinations\")\n",
    "    hallucination_sum = hallucination_sum + hallucination\n",
    "    schizo = x.count(\"Schizophrenia/Schizoaffective Disorder\")\n",
    "    schizo_sum = schizo_sum + schizo\n",
    "    sex = x.count(\"Sexual (Addiction Guilt etc.)\")\n",
    "    sex_addict_sum = sex_addict_sum + sex\n",
    "    eating = x.count(\"Eating Disorder\")\n",
    "    eating_sum = eating_sum + eating\n",
    "    autism = x.count(\"Autism Spectrum Disorder (diagnosed)\")\n",
    "    autism_sum = autism_sum + autism\n",
    "    sex_identity = x.count(\"Sexual Identity\")\n",
    "    sex_identity_sum = sex_identity_sum + sex_identity\n",
    "    gambling = x.count(\"Gambling/Compulsive Spending\")\n",
    "    gambling_sum = gambling_sum + gambling\n",
    "    psych = x.count(\"Recent psychiatric hospitalization\")\n",
    "    psych_sum = psych_sum + psych\n",
    "    self_injury = x.count(\"Non-Suicidal Self Injury\")\n",
    "    self_injury_sum = self_injury_sum + self_injury\n",
    "    paranoia = x.count(\"Paranoia\")\n",
    "    paranoia_sum = paranoia_sum + paranoia\n",
    "    codependency = x.count(\"Codependency\")\n",
    "    codependency_sum = codependency_sum + codependency\n",
    "    grief = x.count(\"Grief\")\n",
    "    grief_sum = grief_sum + grief\n",
    "    perfection = x.count(\"Perfectionism\")\n",
    "    perfection_sum = perfection_sum + perfection\n",
    "    personality = x.count(\"Personality disorder\")\n",
    "    personality_sum = personality_sum + personality\n",
    "    grief_due = x.count(\"Grief due to Suicide\")\n",
    "    grief_due_sum = grief_due_sum + grief_due\n",
    "    emergency = x.count(\"Emergency (Mental Health)\")\n",
    "    emergency_sum = emergency_sum + emergency\n",
    "    bipolar = x.count(\"Bipolar Disorder (diagnosed)\")\n",
    "    bipolar_sum = bipolar_sum + bipolar\n",
    "    gender = x.count(\"Gender Identity\")\n",
    "    gender_sum = gender_sum + gender\n",
    "    pet = x.count(\"Pet Grief\")\n",
    "    pet_sum = pet_sum + pet\n",
    "    phobia = x.count(\"Phobia\")\n",
    "    phobia_sum = phobia_sum + phobia\n",
    "    count.append(counter0)\n",
    "    \n",
    "Mental_Health_Sum_df = {'Issues': ['Depression',\n",
    "                            'Anxiety/Panic',\n",
    "                            'Other Mental Health',\n",
    "                            'Medical Related Anxiety',\n",
    "                            'Trauma/PTSD',\n",
    "                            'Moral/Religious Issues',\n",
    "                            'Self-Esteem',\n",
    "                            'Anger Management',\n",
    "                            'Social Injustice',\n",
    "                            'Auditory/Visual Hallucinations',\n",
    "                            'Sexual (Addiction Guilt etc.)',\n",
    "                            'Eating Disorder',\n",
    "                            'Autism Spectrum Disorder (diagnosed)',\n",
    "                            'Sexual Identity',\n",
    "                            'Gambling/Compulsive Spending',\n",
    "                            'Recent psychiatric hospitalization',\n",
    "                            'Non-Suicidal Self Injury',\n",
    "                            'Paranoia',\n",
    "                            'Codependency',\n",
    "                            'Grief',\n",
    "                            'Personality disorder',\n",
    "                            'Grief due to Suicide',\n",
    "                            'Perfectionism',\n",
    "                            'Emergency (Mental Health)',\n",
    "                            'Bipolar Disorder (diagnosed)',\n",
    "                            'Gender Identity',\n",
    "                            'Pet Grief',\n",
    "                            'Phobia',\n",
    "                            'Schizophrenia/Schizoaffective Disorder'],\n",
    "                         'Sum': [depression_sum, \n",
    "                                 anxiety_sum, \n",
    "                                 other_sum, \n",
    "                                 medical_sum, \n",
    "                                 ptsd_sum, \n",
    "                                 moral_sum, \n",
    "                                 self_esteem_sum,\n",
    "                                 anger_sum,\n",
    "                                 social_sum,\n",
    "                                 hallucination_sum,\n",
    "                                 sex_addict_sum,\n",
    "                                 eating_sum,\n",
    "                                 autism_sum,\n",
    "                                 sex_identity_sum,\n",
    "                                 gambling_sum,\n",
    "                                 psych_sum,\n",
    "                                 self_injury_sum,\n",
    "                                 paranoia_sum,\n",
    "                                 codependency_sum,\n",
    "                                 grief_sum,\n",
    "                                 personality_sum,\n",
    "                                 grief_due_sum,\n",
    "                                 perfection_sum,\n",
    "                                 emergency_sum,\n",
    "                                 bipolar_sum,\n",
    "                                 gender_sum,\n",
    "                                 pet_sum,\n",
    "                                 phobia_sum,\n",
    "                                 schizo_sum],\n",
    "                         'Percent': [(depression_sum/issues_sum)*100, \n",
    "                                 (anxiety_sum/issues_sum)*100, \n",
    "                                 (other_sum/issues_sum)*100, \n",
    "                                 (medical_sum/issues_sum)*100, \n",
    "                                 (ptsd_sum/issues_sum)*100, \n",
    "                                 (moral_sum/issues_sum)*100, \n",
    "                                 (self_esteem_sum/issues_sum)*100,\n",
    "                                 (anger_sum/issues_sum)*100,\n",
    "                                 (social_sum/issues_sum)*100,\n",
    "                                 (hallucination_sum/issues_sum)*100,\n",
    "                                 (sex_addict_sum/issues_sum)*100,\n",
    "                                 (eating_sum/issues_sum)*100,\n",
    "                                 (autism_sum/issues_sum)*100,\n",
    "                                 (sex_identity_sum/issues_sum)*100,\n",
    "                                 (gambling_sum/issues_sum)*100,\n",
    "                                 (psych_sum/issues_sum)*100,\n",
    "                                 (self_injury_sum/issues_sum)*100,\n",
    "                                 (paranoia_sum/issues_sum)*100,\n",
    "                                 (codependency_sum/issues_sum)*100,\n",
    "                                 (grief_sum/issues_sum)*100,\n",
    "                                 (personality_sum/issues_sum)*100,\n",
    "                                 (grief_due_sum/issues_sum)*100,\n",
    "                                 (perfection_sum/issues_sum)*100,\n",
    "                                 (emergency_sum/issues_sum)*100,\n",
    "                                 (bipolar_sum/issues_sum)*100,\n",
    "                                 (gender_sum/issues_sum)*100,\n",
    "                                 (pet_sum/issues_sum)*100,\n",
    "                                 (phobia_sum/issues_sum)*100,\n",
    "                                 (schizo_sum/issues_sum)*100]}\n",
    "                                 \n",
    "Mental_Health_Sum_df = pd.DataFrame(Mental_Health_Sum_df)\n",
    "Mental_Health_Sum_df = Mental_Health_Sum_df.sort_values(by='Sum', ascending=False).reset_index(drop=True)\n",
    "Mental_Health_Sum_df_10 = Mental_Health_Sum_df.nlargest(10, 'Sum').sort_values(by='Sum', ascending=False)\n",
    "Mental_Health_Sum_df"
   ]
  },
  {
   "cell_type": "code",
   "execution_count": null,
   "id": "5104b0f2",
   "metadata": {},
   "outputs": [],
   "source": [
    "ax = sns.barplot(x='Issues', y='Sum', data=Mental_Health_Sum_df_10, palette=\"Greys_r\", edgecolor='none')\n",
    "fig = plt.gcf()\n",
    "\n",
    "# Change seaborn plot size\n",
    "fig.set_size_inches(12, 8)\n",
    "ax.ticklabel_format(style='plain', axis=\"y\")\n",
    "ax.set_xticklabels(ax.get_xticklabels(),rotation = 82)\n",
    "plt.ylabel('Count', fontweight='bold', fontsize=11)\n",
    "plt.xlabel('Issues',fontweight='bold',fontsize=11, labelpad=12)\n",
    "plt.title(label='Top 10 Recorded Mental Health Issues',\n",
    "           fontsize=12,\n",
    "           backgroundcolor=\"whitesmoke\",\n",
    "           pad='12.0',\n",
    "           color=\"black\",\n",
    "           fontweight='bold')\n",
    "ax.bar_label(ax.containers[0], fmt = '%d', \n",
    "             padding=2, \n",
    "              label_type='edge', \n",
    "              color='black', \n",
    "              fontweight='bold'\n",
    "              )\n",
    "#ax.axis(\"off\")\n",
    "right_side = ax.spines[\"right\"]\n",
    "right_side.set_visible(False)\n",
    "left_side = ax.spines[\"left\"]\n",
    "left_side.set_visible(False)\n",
    "top_side = ax.spines[\"top\"]\n",
    "top_side.set_visible(False)\n",
    "bottom_side = ax.spines[\"bottom\"]\n",
    "bottom_side.set_visible(False)\n",
    "plt.savefig('Top 10 Mental Health Issues Transparent.png', transparent=True, bbox_inches=\"tight\")\n",
    "plt.savefig('Top 10 Mental Health Issues.png', transparent=False, bbox_inches=\"tight\")"
   ]
  },
  {
   "cell_type": "code",
   "execution_count": null,
   "id": "87e2ae85",
   "metadata": {},
   "outputs": [],
   "source": [
    "issues = []\n",
    "\n",
    "for x in mental_health_df['CRISIS Issues - Mental Health']:\n",
    "    issue = re.split(';', x)\n",
    "    issues.append(issue)\n",
    "\n",
    "flat_list=list()\n",
    "for sub_list in issues:\n",
    "    flat_list += sub_list\n",
    "issues = flat_list\n",
    "#issues = str(issues).text.replace(' ', '')\n",
    "new_val = set(issues)\n",
    "issues_distinct=list(new_val)"
   ]
  },
  {
   "cell_type": "code",
   "execution_count": null,
   "id": "f984b1ad",
   "metadata": {},
   "outputs": [],
   "source": [
    "new_list = []\n",
    "for x in issues_distinct:\n",
    "    item = str(x).strip()\n",
    "    new_list.append(item)"
   ]
  },
  {
   "cell_type": "code",
   "execution_count": null,
   "id": "77c08507",
   "metadata": {},
   "outputs": [],
   "source": [
    "new_val = set(new_list)\n",
    "new_list=list(new_val)\n",
    "#len(new_list)\n",
    "new_list"
   ]
  },
  {
   "cell_type": "code",
   "execution_count": null,
   "id": "5ec05761",
   "metadata": {},
   "outputs": [],
   "source": [
    "substances = []\n",
    "\n",
    "for x in substances_df['CRISIS Issues - Substances']:\n",
    "    substance = re.split(';', x)\n",
    "    substances.append(substance)\n",
    "\n",
    "flat_list=list()\n",
    "for sub_list in substances:\n",
    "    flat_list += sub_list\n",
    "substances = flat_list\n",
    "#issues = str(issues).text.replace(' ', '')\n",
    "new_val = set(substances)\n",
    "substances_distinct=list(new_val)\n",
    "\n",
    "new_list = []\n",
    "for x in substances_distinct:\n",
    "    item = str(x).strip()\n",
    "    new_list.append(item)\n",
    "new_val = set(new_list)\n",
    "substances=list(new_val)\n",
    "#len(new_list)\n",
    "substances"
   ]
  },
  {
   "cell_type": "code",
   "execution_count": null,
   "id": "5148bbe5",
   "metadata": {},
   "outputs": [],
   "source": [
    "list=[]\n",
    "i=0\n",
    "for x in mental_health_df['CRISIS Issues - Mental Health']:\n",
    "    counter0 = x.count(s for s in substances if col.startswith('CRISIS Issues') or col.startswith('Call')) + 1\n",
    "    issues_sum = issues_sum + counter0"
   ]
  }
 ],
 "metadata": {
  "kernelspec": {
   "display_name": "Python 3 (ipykernel)",
   "language": "python",
   "name": "python3"
  },
  "language_info": {
   "codemirror_mode": {
    "name": "ipython",
    "version": 3
   },
   "file_extension": ".py",
   "mimetype": "text/x-python",
   "name": "python",
   "nbconvert_exporter": "python",
   "pygments_lexer": "ipython3",
   "version": "3.9.7"
  }
 },
 "nbformat": 4,
 "nbformat_minor": 5
}
