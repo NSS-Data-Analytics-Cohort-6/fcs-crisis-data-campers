{
 "cells": [
  {
   "cell_type": "code",
   "execution_count": null,
   "id": "10e33d68",
   "metadata": {},
   "outputs": [],
   "source": [
    "import pandas as pd\n",
    "import matplotlib as plt\n",
    "import re\n",
    "import seaborn as sns\n",
    "import numpy as np\n",
    "pd.set_option('display.max_rows', 500)\n",
    "pd.set_option('display.max_columns', 500)\n",
    "pd.set_option('display.width', 1000)"
   ]
  },
  {
   "cell_type": "code",
   "execution_count": null,
   "id": "cd8cd4ab",
   "metadata": {},
   "outputs": [],
   "source": [
    "crisis1_df = pd.read_excel(\"C:/NSS/Projects/fcs-crisis-data-campers/data/NSSCrisisv.1.xlsx\")"
   ]
  },
  {
   "cell_type": "code",
   "execution_count": null,
   "id": "bb877622",
   "metadata": {},
   "outputs": [],
   "source": [
    "crisis2_df = pd.read_excel(\"C:/NSS/Projects/fcs-crisis-data-campers/data/NSSCrisisv.2.xlsx\")"
   ]
  },
  {
   "cell_type": "code",
   "execution_count": null,
   "id": "046204a9",
   "metadata": {},
   "outputs": [],
   "source": [
    "crisis1_df.head(100)"
   ]
  },
  {
   "cell_type": "code",
   "execution_count": null,
   "id": "1ce31b0c",
   "metadata": {},
   "outputs": [],
   "source": [
    "crisis1_df.dropna(how='all', axis=1, inplace=True)"
   ]
  },
  {
   "cell_type": "code",
   "execution_count": null,
   "id": "9253a109",
   "metadata": {},
   "outputs": [],
   "source": [
    "crisis2_df.dropna(how='all', axis=1, inplace=True)"
   ]
  },
  {
   "cell_type": "code",
   "execution_count": null,
   "id": "0803c1fb",
   "metadata": {},
   "outputs": [],
   "source": [
    "crisis1_df.dtypes"
   ]
  },
  {
   "cell_type": "code",
   "execution_count": null,
   "id": "d565b3b0",
   "metadata": {},
   "outputs": [],
   "source": [
    "crisis2_df.isnull().sum()"
   ]
  },
  {
   "cell_type": "code",
   "execution_count": null,
   "id": "72843845",
   "metadata": {},
   "outputs": [],
   "source": [
    "crisis1_df.isnull().sum()"
   ]
  },
  {
   "cell_type": "markdown",
   "id": "2ed0888b",
   "metadata": {},
   "source": [
    "<!-- pct_null = crisis1_df.isnull().sum() / len(crisis1_df)\n",
    "missing_features = pct_null[pct_null > 0.98].index\n",
    "crisis1_df.drop(missing_features, axis=1, inplace=True) -->"
   ]
  },
  {
   "cell_type": "code",
   "execution_count": null,
   "id": "85cad007",
   "metadata": {},
   "outputs": [],
   "source": [
    "crisis1_df.info()"
   ]
  },
  {
   "cell_type": "markdown",
   "id": "17cedf3d",
   "metadata": {},
   "source": [
    "<!-- pct_null = crisis2_df.isnull().sum() / len(crisis2_df)\n",
    "missing_features = pct_null[pct_null > 0.98].index\n",
    "crisis2_df.drop(missing_features, axis=1, inplace=True) -->"
   ]
  },
  {
   "cell_type": "code",
   "execution_count": null,
   "id": "4c63a69a",
   "metadata": {},
   "outputs": [],
   "source": [
    "crisis1_df.info()"
   ]
  },
  {
   "cell_type": "code",
   "execution_count": null,
   "id": "3686c8f4",
   "metadata": {},
   "outputs": [],
   "source": [
    "crisis1_df.rename(columns={'CRISIS Demographics - Ethnicity': 'Ethnicity'}, inplace=True)\n",
    "crisis2_df.rename(columns={'CRISIS Demographics - Race/Ethnicity': 'Ethnicity'}, inplace=True)"
   ]
  },
  {
   "cell_type": "code",
   "execution_count": null,
   "id": "e48b358e",
   "metadata": {},
   "outputs": [],
   "source": [
    "crisis1_df.groupby(['CRISIS Demographics - Military'])['CallReportNum'].count().sort_values(ascending=False)"
   ]
  },
  {
   "cell_type": "code",
   "execution_count": null,
   "id": "4a224ff0",
   "metadata": {},
   "outputs": [],
   "source": [
    "crisis1_df.groupby(['CRISIS Demographics - Age'])['CallReportNum'].count().sort_values(ascending=False)"
   ]
  },
  {
   "cell_type": "code",
   "execution_count": null,
   "id": "9894413a",
   "metadata": {},
   "outputs": [],
   "source": [
    "crisis1_df.groupby(['CallerNum'])['CallReportNum'].count().sort_values(ascending=False)"
   ]
  },
  {
   "cell_type": "code",
   "execution_count": null,
   "id": "8cd2ef6c",
   "metadata": {},
   "outputs": [],
   "source": [
    "crisis1_df.groupby(['CRISIS Demographics - Gender Identity'])['CallReportNum'].count().sort_values(ascending=False)"
   ]
  },
  {
   "cell_type": "code",
   "execution_count": null,
   "id": "fef57e4b",
   "metadata": {},
   "outputs": [],
   "source": [
    "crisis1_df.groupby(['CRISIS Issues - Emotional State'])['CallReportNum'].count().sort_values(ascending=False)"
   ]
  },
  {
   "cell_type": "code",
   "execution_count": null,
   "id": "d2ef2e76",
   "metadata": {},
   "outputs": [],
   "source": [
    "crisis1_df.groupby(['CRISIS Demographics - Occupation'])['CallReportNum'].count().sort_values(ascending=False)"
   ]
  },
  {
   "cell_type": "code",
   "execution_count": null,
   "id": "69a41524",
   "metadata": {},
   "outputs": [],
   "source": [
    "crisis1_df.groupby(['CRISIS/LIFELINE Imminent Risk - 2. Was caller at imminent risk for suicide? '])['CallReportNum'].count().sort_values(ascending=False)"
   ]
  },
  {
   "cell_type": "code",
   "execution_count": null,
   "id": "ba614b9b",
   "metadata": {},
   "outputs": [],
   "source": [
    "crisis1_df.groupby(['CRISIS Demographics - Marital Status'])['CallReportNum'].count().sort_values(ascending=False)"
   ]
  },
  {
   "cell_type": "code",
   "execution_count": null,
   "id": "dfd6bb33",
   "metadata": {},
   "outputs": [],
   "source": [
    "caller = crisis1_df['CallerNum'].isin([1155260])"
   ]
  },
  {
   "cell_type": "code",
   "execution_count": null,
   "id": "43905a36",
   "metadata": {},
   "outputs": [],
   "source": [
    "print(crisis1_df['CallLength'].describe())"
   ]
  },
  {
   "cell_type": "code",
   "execution_count": null,
   "id": "9e42aa79",
   "metadata": {},
   "outputs": [],
   "source": [
    "crisis1_df.head(100)"
   ]
  },
  {
   "cell_type": "code",
   "execution_count": null,
   "id": "23716bf9",
   "metadata": {},
   "outputs": [],
   "source": [
    "crisis1_df.columns[174]"
   ]
  },
  {
   "cell_type": "code",
   "execution_count": null,
   "id": "a941ddba",
   "metadata": {},
   "outputs": [],
   "source": [
    "crisis2_df.columns[155]"
   ]
  },
  {
   "cell_type": "code",
   "execution_count": null,
   "id": "399cc521",
   "metadata": {},
   "outputs": [],
   "source": [
    "i=0\n",
    "while i < len(crisis1_df.columns):\n",
    "    #print(i)\n",
    "    print(crisis1_df.columns[i])\n",
    "    i=i+1"
   ]
  },
  {
   "cell_type": "code",
   "execution_count": null,
   "id": "23b4a92c",
   "metadata": {},
   "outputs": [],
   "source": [
    "i=0\n",
    "#x=len(crisis2_df.columns)\n",
    "while i < len(crisis2_df.columns):\n",
    "    #print(i)\n",
    "    print(crisis2_df.columns[i])\n",
    "    i=i+1"
   ]
  },
  {
   "cell_type": "code",
   "execution_count": null,
   "id": "5a7cf4f3",
   "metadata": {},
   "outputs": [],
   "source": [
    "filter_col = [col for col in crisis2_df if col.startswith('CRISIS Issues') or col.startswith('Call')]\n",
    "updated_df2 = crisis2_df[filter_col]"
   ]
  },
  {
   "cell_type": "code",
   "execution_count": null,
   "id": "38c959eb",
   "metadata": {},
   "outputs": [],
   "source": [
    "labels = list()\n",
    "\n",
    "for col in crisis2_df.columns:\n",
    "    labels.append(col.replace('Subjective', 'Issues'))\n",
    "\n",
    "crisis2_df.columns = labels"
   ]
  },
  {
   "cell_type": "code",
   "execution_count": null,
   "id": "e3798f10",
   "metadata": {},
   "outputs": [],
   "source": [
    "filter_col = [col for col in crisis1_df if col.startswith('CRISIS Issues') or col.startswith('Call')]\n",
    "updated_df1 = crisis1_df[filter_col]"
   ]
  },
  {
   "cell_type": "code",
   "execution_count": null,
   "id": "84ad9535",
   "metadata": {},
   "outputs": [],
   "source": [
    "frames = [updated_df1, updated_df2]\n",
    "  \n",
    "all_ci = pd.concat(frames)"
   ]
  },
  {
   "cell_type": "code",
   "execution_count": null,
   "id": "08bd77d2",
   "metadata": {},
   "outputs": [],
   "source": [
    "all_ci.info()"
   ]
  },
  {
   "cell_type": "code",
   "execution_count": null,
   "id": "a61d5c57",
   "metadata": {},
   "outputs": [],
   "source": [
    "all_ci.head(100)"
   ]
  },
  {
   "cell_type": "code",
   "execution_count": null,
   "id": "a24501e6",
   "metadata": {},
   "outputs": [],
   "source": [
    "mental_health_df = all_ci['CRISIS Issues - Mental Health'].notnull()"
   ]
  },
  {
   "cell_type": "code",
   "execution_count": null,
   "id": "d7322a34",
   "metadata": {},
   "outputs": [],
   "source": [
    "mental_health_df = all_ci[mental_health_df]"
   ]
  },
  {
   "cell_type": "code",
   "execution_count": null,
   "id": "8f5cd378",
   "metadata": {},
   "outputs": [],
   "source": [
    "mental_health_df.head(100)"
   ]
  },
  {
   "cell_type": "code",
   "execution_count": null,
   "id": "96e3132f",
   "metadata": {},
   "outputs": [],
   "source": [
    "mental_health_df.head()"
   ]
  },
  {
   "cell_type": "code",
   "execution_count": null,
   "id": "6562aa45",
   "metadata": {},
   "outputs": [],
   "source": [
    "mental_health_df.groupby(['CRISIS Issues - Mental Health'])['CallReportNum'].count().sort_values(ascending=False)"
   ]
  },
  {
   "cell_type": "code",
   "execution_count": null,
   "id": "3f3c9a4e",
   "metadata": {},
   "outputs": [],
   "source": [
    "count = []\n",
    "# depression = []\n",
    "# Anxiety_Panic = []\n",
    "# Other_Mental_Health = []\n",
    "# Medical_Related_Anxiety = []\n",
    "# Trauma_PTSD = []\n",
    "depression_sum = 0\n",
    "anxiety_sum = 0\n",
    "other_sum = 0\n",
    "medical_sum = 0\n",
    "ptsd_sum = 0\n",
    "moral_sum = 0\n",
    "self_esteem_sum = 0\n",
    "anger_sum = 0\n",
    "social_sum = 0\n",
    "hallucination_sum = 0\n",
    "schizo_sum = 0\n",
    "issues_sum = 0\n",
    "sex_addict_sum = 0\n",
    "eating_sum = 0\n",
    "autism_sum = 0\n",
    "sex_identity_sum = 0\n",
    "gambling_sum = 0\n",
    "psych_sum = 0\n",
    "self_injury_sum = 0\n",
    "paranoia_sum = 0\n",
    "codependency_sum = 0\n",
    "grief_sum = 0\n",
    "perfection_sum = 0\n",
    "personality_sum = 0\n",
    "grief_due_sum = 0\n",
    "emergency_sum = 0\n",
    "bipolar_sum = 0\n",
    "for x in mental_health_df['CRISIS Issues - Mental Health']:\n",
    "    counter0 = x.count(\";\") + 1\n",
    "    issues_sum = issues_sum + counter0\n",
    "    depression_c = x.count(\"Depression\")\n",
    "    depression_sum = depression_sum + depression_c\n",
    "    anxiety = x.count(\"Anxiety/Panic\")\n",
    "    anxiety_sum = anxiety_sum + anxiety\n",
    "    other = x.count(\"Other Mental Health\")\n",
    "    other_sum = other_sum + other\n",
    "    medical = x.count(\"Medical Related Anxiety\")\n",
    "    medical_sum = medical_sum + medical\n",
    "    ptsd = x.count(\"Trauma/PTSD\")\n",
    "    ptsd_sum = ptsd_sum + ptsd\n",
    "    moral = x.count(\"Moral/Religious Issues\")\n",
    "    moral_sum = moral_sum + moral\n",
    "    self_esteem = x.count(\"Self-Esteem\")\n",
    "    self_esteem_sum = self_esteem_sum + self_esteem\n",
    "    anger = x.count(\"Anger Management\")\n",
    "    anger_sum = anger_sum + anger\n",
    "    social = x.count(\"Social Injustice\")\n",
    "    social_sum = social_sum + social\n",
    "    hallucination = x.count(\"Auditory/Visual Hallucinations\")\n",
    "    hallucination_sum = hallucination_sum + hallucination\n",
    "    schizo = x.count(\"Schizophrenia/Schizoaffective Disorder\")\n",
    "    schizo_sum = schizo_sum + schizo\n",
    "    sex = x.count(\"Sexual (Addiction Guilt etc.)\")\n",
    "    sex_addict_sum = sex_addict_sum + sex\n",
    "    eating = x.count(\"Eating Disorder\")\n",
    "    eating_sum = eating_sum + eating\n",
    "    autism = x.count(\"Autism Spectrum Disorder (diagnosed)\")\n",
    "    autism_sum = autism_sum + autism\n",
    "    sex_identity = x.count(\"Sexual Identity\")\n",
    "    sex_identity_sum = sex_identity_sum + sex_identity\n",
    "    gambling = x.count(\"Gambling/Compulsive Spending\")\n",
    "    gambling_sum = gambling_sum + gambling\n",
    "    psych = x.count(\"Recent psychiatric hospitalization\")\n",
    "    psych_sum = psych_sum + psych\n",
    "    self_injury = x.count(\"Non-Suicidal Self Injury\")\n",
    "    self_injury_sum = self_injury_sum + self_injury\n",
    "    paranoia = x.count(\"Paranoia\")\n",
    "    paranoia_sum = paranoia_sum + paranoia\n",
    "    codependency = x.count(\"Codependency\")\n",
    "    codependency_sum = codependency_sum + codependency\n",
    "    grief = x.count(\"Grief\")\n",
    "    grief_sum = grief_sum + grief\n",
    "    perfection = x.count(\"Perfectionism\")\n",
    "    perfection_sum = perfection_sum + perfection\n",
    "    personality = x.count(\"Personality disorder\")\n",
    "    personality_sum = personality_sum + personality\n",
    "    grief_due = x.count(\"Grief due to Suicide\")\n",
    "    grief_due_sum = grief_due_sum + grief_due\n",
    "    emergency = x.count(\"Emergency (Mental Health)\")\n",
    "    emergency_sum = emergency_sum + emergency\n",
    "    bipolar = x.count(\"Bipolar Disorder (diagnosed)\")\n",
    "    bipolar_sum = bipolar_sum + bipolar\n",
    "    count.append(counter0)\n",
    "    \n",
    "Mental_Health_Sum_df = {'Issues': ['Depression',\n",
    "                            'Anxiety/Panic',\n",
    "                            'Other Mental Health',\n",
    "                            'Medical Related Anxiety',\n",
    "                            'Trauma/PTSD',\n",
    "                            'Moral/Religious Issues',\n",
    "                            'Self-Esteem',\n",
    "                            'Anger Management',\n",
    "                            'Social Injustice',\n",
    "                            'Auditory/Visual Hallucinations',\n",
    "                            'Sexual (Addiction Guilt etc.)',\n",
    "                            'Eating Disorder',\n",
    "                            'Autism Spectrum Disorder (diagnosed)',\n",
    "                            'Sexual Identity',\n",
    "                            'Gambling/Compulsive Spending',\n",
    "                            'Recent psychiatric hospitalization',\n",
    "                            'Non-Suicidal Self Injury',\n",
    "                            'Paranoia',\n",
    "                            'Codependency',\n",
    "                            'Grief',\n",
    "                            'Perfectionism',\n",
    "                            'Personality disorder',\n",
    "                            'Grief due to Suicide',\n",
    "                            'Emergency (Mental Health)',\n",
    "                            'Bipolar Disorder (diagnosed)',\n",
    "                            'Schizophrenia/Schizoaffective Disorder'],\n",
    "                         'Sum': [depression_sum, \n",
    "                                 anxiety_sum, \n",
    "                                 other_sum, \n",
    "                                 medical_sum, \n",
    "                                 ptsd_sum, \n",
    "                                 moral_sum, \n",
    "                                 self_esteem_sum,\n",
    "                                 anger_sum,\n",
    "                                 social_sum,\n",
    "                                 hallucination_sum,\n",
    "                                 sex_addict_sum,\n",
    "                                 eating_sum,\n",
    "                                 autism_sum,\n",
    "                                 sex_identity_sum,\n",
    "                                 gambling_sum,\n",
    "                                 psych_sum,\n",
    "                                 self_injury_sum,\n",
    "                                 paranoia_sum,\n",
    "                                 codependency_sum,\n",
    "                                 perfection_sum,\n",
    "                                 grief_sum,\n",
    "                                 personality_sum,\n",
    "                                 grief_due_sum,\n",
    "                                 emergency_sum,\n",
    "                                 bipolar_sum,\n",
    "                                 schizo_sum],\n",
    "                         'Percent': [(depression_sum/issues_sum)*100, \n",
    "                                 (anxiety_sum/issues_sum)*100, \n",
    "                                 (other_sum/issues_sum)*100, \n",
    "                                 (medical_sum/issues_sum)*100, \n",
    "                                 (ptsd_sum/issues_sum)*100, \n",
    "                                 (moral_sum/issues_sum)*100, \n",
    "                                 (self_esteem_sum/issues_sum)*100,\n",
    "                                 (anger_sum/issues_sum)*100,\n",
    "                                 (social_sum/issues_sum)*100,\n",
    "                                 (hallucination_sum/issues_sum)*100,\n",
    "                                 (sex_addict_sum/issues_sum)*100,\n",
    "                                 (eating_sum/issues_sum)*100,\n",
    "                                 (autism_sum/issues_sum)*100,\n",
    "                                 (sex_identity_sum/issues_sum)*100,\n",
    "                                 (gambling_sum/issues_sum)*100,\n",
    "                                 (psych_sum/issues_sum)*100,\n",
    "                                 (self_injury_sum/issues_sum)*100,\n",
    "                                 (paranoia_sum/issues_sum)*100,\n",
    "                                 (codependency_sum/issues_sum)*100,\n",
    "                                 (grief_sum/issues_sum)*100,\n",
    "                                 (perfection_sum/issues_sum)*100,\n",
    "                                 (personality_sum/issues_sum)*100,\n",
    "                                 (grief_due_sum/issues_sum)*100,\n",
    "                                 (emergency_sum/issues_sum)*100,\n",
    "                                 (bipolar_sum/issues_sum)*100,\n",
    "                                 (schizo_sum/issues_sum)*100]}\n",
    "                                 #issues_sum]}\n",
    "Mental_Health_Sum_df = pd.DataFrame(Mental_Health_Sum_df)\n",
    "#     depression.append(depression_c)\n",
    "#     Anxiety_Panic.append(anxiety)\n",
    "#     Other_Mental_Health.append(other)\n",
    "#     Medical_Related_Anxiety.append(medical)\n",
    "#     Trauma_PTSD.append(ptsd)"
   ]
  },
  {
   "cell_type": "code",
   "execution_count": null,
   "id": "2f50b614",
   "metadata": {},
   "outputs": [],
   "source": [
    "Mental_Health_Sum_df = Mental_Health_Sum_df.sort_values(by='Sum', ascending=False).reset_index()\n",
    "Mental_Health_Sum_df_10 = Mental_Health_Sum_df.nlargest(10, 'Sum').sort_values(by='Sum', ascending=False)"
   ]
  },
  {
   "cell_type": "code",
   "execution_count": null,
   "id": "06cb7ef8",
   "metadata": {
    "scrolled": true
   },
   "outputs": [],
   "source": [
    "Mental_Health_Sum_df"
   ]
  },
  {
   "cell_type": "code",
   "execution_count": null,
   "id": "3096c783",
   "metadata": {},
   "outputs": [],
   "source": [
    "ax = sns.barplot(x='Issues', y='Sum', data=Mental_Health_Sum_df_10, palette=\"Greys_r\", edgecolor='none')\n",
    "ax.ticklabel_format(style='plain', axis=\"y\")\n",
    "ax.set_xticklabels(ax.get_xticklabels(),rotation = 82)\n",
    "# plt.ylabel('Streams', fontweight='bold', fontsize=11)\n",
    "# plt.xlabel('Record Lables',fontweight='bold',fontsize=11, labelpad=12)\n",
    "# plt.title(label='Pandora Recording Labels Missing Songwriter Info',\n",
    "#           fontsize=12,\n",
    "#           backgroundcolor=\"whitesmoke\",\n",
    "#           pad='12.0',\n",
    "#           color=\"black\",\n",
    "#           fontweight='bold')\n",
    "ax.bar_label(ax.containers[0], fmt = '%d', \n",
    "             padding=2, \n",
    "              label_type='edge', \n",
    "              color='black', \n",
    "              fontweight='bold'\n",
    "              )\n",
    "#ax.axis(\"off\")\n",
    "right_side = ax.spines[\"right\"]\n",
    "right_side.set_visible(False)\n",
    "left_side = ax.spines[\"left\"]\n",
    "left_side.set_visible(False)\n",
    "top_side = ax.spines[\"top\"]\n",
    "top_side.set_visible(False)\n",
    "bottom_side = ax.spines[\"bottom\"]\n",
    "bottom_side.set_visible(False)\n",
    "#plt.savefig('Pandora Rec Labels.png', transparent=False, bbox_inches=\"tight\")"
   ]
  },
  {
   "cell_type": "code",
   "execution_count": null,
   "id": "1a31160b",
   "metadata": {},
   "outputs": [],
   "source": [
    "issues = []\n",
    "\n",
    "for x in mental_health_df['CRISIS Issues - Mental Health']:\n",
    "    issue = re.split(';', x)\n",
    "    issues.append(issue)\n",
    "\n",
    "flat_list=list()\n",
    "for sub_list in issues:\n",
    "    flat_list += sub_list\n",
    "issues = flat_list\n",
    "\n",
    "new_val = set(issues)\n",
    "issues_distinct=list(new_val)"
   ]
  },
  {
   "cell_type": "code",
   "execution_count": null,
   "id": "8b8aa136",
   "metadata": {},
   "outputs": [],
   "source": [
    "issues_distinct"
   ]
  },
  {
   "cell_type": "code",
   "execution_count": null,
   "id": "54c215ed",
   "metadata": {},
   "outputs": [],
   "source": [
    "i=0\n",
    "count=[]\n",
    "for x in mental_health_df['CRISIS Issues - Mental Health']:\n",
    "    for y in issues_distinct:\n",
    "        counter = y.count(issues_distinct[i])\n",
    "        count.append(counter)\n",
    "        i = i+1\n",
    "        print(i)\n",
    "    \n",
    "        "
   ]
  }
 ],
 "metadata": {
  "kernelspec": {
   "display_name": "Python 3 (ipykernel)",
   "language": "python",
   "name": "python3"
  },
  "language_info": {
   "codemirror_mode": {
    "name": "ipython",
    "version": 3
   },
   "file_extension": ".py",
   "mimetype": "text/x-python",
   "name": "python",
   "nbconvert_exporter": "python",
   "pygments_lexer": "ipython3",
   "version": "3.9.7"
  }
 },
 "nbformat": 4,
 "nbformat_minor": 5
}
