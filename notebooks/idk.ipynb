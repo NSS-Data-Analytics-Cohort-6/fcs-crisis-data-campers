{
 "cells": [
  {
   "cell_type": "code",
   "execution_count": null,
   "id": "06944753",
   "metadata": {},
   "outputs": [],
   "source": [
    "import pandas as pd\n",
    "import matplotlib as plt\n",
    "import re\n",
    "import seaborn as sns\n",
    "import numpy as np\n",
    "pd.set_option('display.max_rows', 500)\n",
    "pd.set_option('display.max_columns', 500)\n",
    "pd.set_option('display.width', 1000)"
   ]
  },
  {
   "cell_type": "code",
   "execution_count": null,
   "id": "259fac3e",
   "metadata": {},
   "outputs": [],
   "source": [
    "crisis1_df = pd.read_excel(\"C:/NSS/Projects/fcs-crisis-data-campers/data/NSSCrisisv.1.xlsx\")"
   ]
  },
  {
   "cell_type": "code",
   "execution_count": null,
   "id": "be9300d5",
   "metadata": {},
   "outputs": [],
   "source": [
    "crisis2_df = pd.read_excel(\"C:/NSS/Projects/fcs-crisis-data-campers/data/NSSCrisisv.2.xlsx\")"
   ]
  },
  {
   "cell_type": "code",
   "execution_count": null,
   "id": "bc3d8cce",
   "metadata": {},
   "outputs": [],
   "source": [
    "crisis1_df.head(100)"
   ]
  },
  {
   "cell_type": "code",
   "execution_count": null,
   "id": "d2d37242",
   "metadata": {},
   "outputs": [],
   "source": [
    "crisis1_df.dropna(how='all', axis=1, inplace=True)"
   ]
  },
  {
   "cell_type": "code",
   "execution_count": null,
   "id": "d496aa51",
   "metadata": {},
   "outputs": [],
   "source": [
    "crisis2_df.dropna(how='all', axis=1, inplace=True)"
   ]
  },
  {
   "cell_type": "code",
   "execution_count": null,
   "id": "abb58724",
   "metadata": {},
   "outputs": [],
   "source": [
    "crisis1_df.dtypes"
   ]
  },
  {
   "cell_type": "code",
   "execution_count": null,
   "id": "3072a258",
   "metadata": {},
   "outputs": [],
   "source": [
    "crisis2_df.isnull().sum()"
   ]
  },
  {
   "cell_type": "code",
   "execution_count": null,
   "id": "6c0d9fa1",
   "metadata": {},
   "outputs": [],
   "source": [
    "crisis1_df.isnull().sum()"
   ]
  },
  {
   "cell_type": "code",
   "execution_count": null,
   "id": "beb79678",
   "metadata": {},
   "outputs": [],
   "source": [
    "pct_null = crisis1_df.isnull().sum() / len(crisis1_df)\n",
    "missing_features = pct_null[pct_null > 0.98].index\n",
    "crisis1_df.drop(missing_features, axis=1, inplace=True)"
   ]
  },
  {
   "cell_type": "code",
   "execution_count": null,
   "id": "8dd2e4a3",
   "metadata": {},
   "outputs": [],
   "source": [
    "crisis1_df.info()"
   ]
  },
  {
   "cell_type": "code",
   "execution_count": null,
   "id": "72c2b174",
   "metadata": {},
   "outputs": [],
   "source": [
    "pct_null = crisis2_df.isnull().sum() / len(crisis2_df)\n",
    "missing_features = pct_null[pct_null > 0.98].index\n",
    "crisis2_df.drop(missing_features, axis=1, inplace=True)"
   ]
  },
  {
   "cell_type": "code",
   "execution_count": null,
   "id": "d8914908",
   "metadata": {},
   "outputs": [],
   "source": [
    "crisis1_df.info()"
   ]
  },
  {
   "cell_type": "code",
   "execution_count": null,
   "id": "c3c1d82b",
   "metadata": {},
   "outputs": [],
   "source": [
    "crisis1_df.rename(columns={'CRISIS Demographics - Ethnicity': 'Ethnicity'}, inplace=True)\n",
    "crisis2_df.rename(columns={'CRISIS Demographics - Race/Ethnicity': 'Ethnicity'}, inplace=True)"
   ]
  },
  {
   "cell_type": "code",
   "execution_count": null,
   "id": "409f080a",
   "metadata": {},
   "outputs": [],
   "source": [
    "crisis1_df.groupby(['CRISIS Demographics - Military'])['CallReportNum'].count().sort_values(ascending=False)"
   ]
  },
  {
   "cell_type": "code",
   "execution_count": null,
   "id": "3c526f99",
   "metadata": {},
   "outputs": [],
   "source": [
    "crisis1_df.groupby(['CRISIS Demographics - Age'])['CallReportNum'].count().sort_values(ascending=False)"
   ]
  },
  {
   "cell_type": "code",
   "execution_count": null,
   "id": "dbd3c09e",
   "metadata": {},
   "outputs": [],
   "source": [
    "crisis1_df.groupby(['CallerNum','PostalCode'])['CallReportNum'].count().sort_values(ascending=False)"
   ]
  },
  {
   "cell_type": "code",
   "execution_count": null,
   "id": "cc90d61f",
   "metadata": {},
   "outputs": [],
   "source": [
    "crisis1_df.groupby(['CRISIS Demographics - Gender Identity'])['CallReportNum'].count().sort_values(ascending=False)"
   ]
  },
  {
   "cell_type": "code",
   "execution_count": null,
   "id": "4623cfc9",
   "metadata": {},
   "outputs": [],
   "source": [
    "crisis1_df.groupby(['CRISIS Issues - Emotional State'])['CallReportNum'].count().sort_values(ascending=False)"
   ]
  },
  {
   "cell_type": "code",
   "execution_count": null,
   "id": "88c5e863",
   "metadata": {},
   "outputs": [],
   "source": [
    "crisis1_df.groupby(['CRISIS Demographics - Occupation'])['CallReportNum'].count().sort_values(ascending=False)"
   ]
  },
  {
   "cell_type": "code",
   "execution_count": null,
   "id": "7ff24b9a",
   "metadata": {},
   "outputs": [],
   "source": [
    "crisis1_df.groupby(['CRISIS/LIFELINE Imminent Risk - 2. Was caller at imminent risk for suicide? '])['CallReportNum'].count().sort_values(ascending=False)"
   ]
  },
  {
   "cell_type": "code",
   "execution_count": null,
   "id": "941bb447",
   "metadata": {},
   "outputs": [],
   "source": [
    "crisis1_df.groupby(['CRISIS Demographics - Marital Status'])['CallReportNum'].count().sort_values(ascending=False)"
   ]
  },
  {
   "cell_type": "code",
   "execution_count": null,
   "id": "ec62df24",
   "metadata": {},
   "outputs": [],
   "source": [
    "newsa = crisis1_df['CRISIS Demographics - Occupation'].isin(['News Anchor'])"
   ]
  },
  {
   "cell_type": "code",
   "execution_count": null,
   "id": "e7a08529",
   "metadata": {},
   "outputs": [],
   "source": [
    "crisis1_df[newsa]['Narrative']"
   ]
  },
  {
   "cell_type": "code",
   "execution_count": null,
   "id": "22b0c7e1",
   "metadata": {},
   "outputs": [],
   "source": []
  }
 ],
 "metadata": {
  "kernelspec": {
   "display_name": "Python 3 (ipykernel)",
   "language": "python",
   "name": "python3"
  },
  "language_info": {
   "codemirror_mode": {
    "name": "ipython",
    "version": 3
   },
   "file_extension": ".py",
   "mimetype": "text/x-python",
   "name": "python",
   "nbconvert_exporter": "python",
   "pygments_lexer": "ipython3",
   "version": "3.9.7"
  }
 },
 "nbformat": 4,
 "nbformat_minor": 5
}
