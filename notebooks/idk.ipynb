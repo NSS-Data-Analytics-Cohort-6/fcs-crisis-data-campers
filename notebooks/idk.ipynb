{
 "cells": [
  {
   "cell_type": "code",
   "execution_count": null,
   "id": "b8b882b3",
   "metadata": {},
   "outputs": [],
   "source": [
    "import pandas as pd\n",
    "import matplotlib as plt\n",
    "import re\n",
    "import seaborn as sns\n",
    "import numpy as np\n",
    "pd.set_option('display.max_rows', 500)\n",
    "pd.set_option('display.max_columns', 500)\n",
    "pd.set_option('display.width', 1000)"
   ]
  },
  {
   "cell_type": "code",
   "execution_count": null,
   "id": "ec0aa5ee",
   "metadata": {},
   "outputs": [],
   "source": [
    "crisis1_df = pd.read_excel(\"C:/NSS/Projects/fcs-crisis-data-campers/data/NSSCrisisv.1.xlsx\")"
   ]
  },
  {
   "cell_type": "code",
   "execution_count": null,
   "id": "d3ef5f5c",
   "metadata": {},
   "outputs": [],
   "source": [
    "crisis2_df = pd.read_excel(\"C:/NSS/Projects/fcs-crisis-data-campers/data/NSSCrisisv.2.xlsx\")"
   ]
  },
  {
   "cell_type": "code",
   "execution_count": null,
   "id": "33b25315",
   "metadata": {},
   "outputs": [],
   "source": [
    "crisis1_df.head(100)"
   ]
  },
  {
   "cell_type": "code",
   "execution_count": null,
   "id": "26a382c3",
   "metadata": {},
   "outputs": [],
   "source": [
    "crisis1_df.dropna(how='all', axis=1, inplace=True)"
   ]
  },
  {
   "cell_type": "code",
   "execution_count": null,
   "id": "3d3a77ec",
   "metadata": {},
   "outputs": [],
   "source": [
    "crisis2_df.dropna(how='all', axis=1, inplace=True)"
   ]
  },
  {
   "cell_type": "code",
   "execution_count": null,
   "id": "58e32db0",
   "metadata": {},
   "outputs": [],
   "source": [
    "crisis1_df.dtypes"
   ]
  },
  {
   "cell_type": "code",
   "execution_count": null,
   "id": "02e82a05",
   "metadata": {},
   "outputs": [],
   "source": [
    "crisis2_df.isnull().sum()"
   ]
  },
  {
   "cell_type": "code",
   "execution_count": null,
   "id": "179f6e8b",
   "metadata": {},
   "outputs": [],
   "source": [
    "crisis1_df.isnull().sum()"
   ]
  },
  {
   "cell_type": "code",
   "execution_count": null,
   "id": "9d8c017a",
   "metadata": {},
   "outputs": [],
   "source": [
    "pct_null = crisis1_df.isnull().sum() / len(crisis1_df)\n",
    "missing_features = pct_null[pct_null > 0.98].index\n",
    "crisis1_df.drop(missing_features, axis=1, inplace=True)"
   ]
  },
  {
   "cell_type": "code",
   "execution_count": null,
   "id": "8cb04b90",
   "metadata": {},
   "outputs": [],
   "source": [
    "crisis1_df.info()"
   ]
  },
  {
   "cell_type": "code",
   "execution_count": null,
   "id": "3a38b1b8",
   "metadata": {},
   "outputs": [],
   "source": [
    "pct_null = crisis2_df.isnull().sum() / len(crisis2_df)\n",
    "missing_features = pct_null[pct_null > 0.98].index\n",
    "crisis2_df.drop(missing_features, axis=1, inplace=True)"
   ]
  },
  {
   "cell_type": "code",
   "execution_count": null,
   "id": "89ab6039",
   "metadata": {},
   "outputs": [],
   "source": [
    "crisis2_df.info()"
   ]
  },
  {
   "cell_type": "code",
   "execution_count": null,
   "id": "81f5adfa",
   "metadata": {},
   "outputs": [],
   "source": [
    "crisis1_df.rename(columns={'CRISIS Demographics - Ethnicity': 'Ethnicity'}, inplace=True)\n",
    "crisis2_df.rename(columns={'CRISIS Demographics - Race/Ethnicity': 'Ethnicity'}, inplace=True)"
   ]
  },
  {
   "cell_type": "code",
   "execution_count": null,
   "id": "ebfde7a2",
   "metadata": {},
   "outputs": [],
   "source": []
  },
  {
   "cell_type": "code",
   "execution_count": null,
   "id": "429f80d5",
   "metadata": {},
   "outputs": [],
   "source": []
  }
 ],
 "metadata": {
  "kernelspec": {
   "display_name": "Python 3 (ipykernel)",
   "language": "python",
   "name": "python3"
  },
  "language_info": {
   "codemirror_mode": {
    "name": "ipython",
    "version": 3
   },
   "file_extension": ".py",
   "mimetype": "text/x-python",
   "name": "python",
   "nbconvert_exporter": "python",
   "pygments_lexer": "ipython3",
   "version": "3.9.7"
  }
 },
 "nbformat": 4,
 "nbformat_minor": 5
}
