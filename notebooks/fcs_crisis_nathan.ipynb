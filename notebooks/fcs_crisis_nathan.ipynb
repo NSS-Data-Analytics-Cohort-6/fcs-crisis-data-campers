{
 "cells": [
  {
   "cell_type": "code",
   "execution_count": null,
   "id": "4c2c7383",
   "metadata": {},
   "outputs": [],
   "source": [
    "import pandas as pd\n",
    "import numpy as np\n",
    "import matplotlib.pyplot as plt\n",
    "%matplotlib inline\n",
    "import seaborn as sns\n",
    "sns.set(style=\"darkgrid\") "
   ]
  },
  {
   "cell_type": "code",
   "execution_count": null,
   "id": "40b339a4",
   "metadata": {},
   "outputs": [],
   "source": [
    "crisis1 = pd.read_csv(\"../data/NSSCrisisv.1 (1).csv\")\n",
    "header_row = crisis1.iloc[1]\n",
    "crisis1 = pd.DataFrame(crisis1.values[2:], columns=header_row)\n",
    "crisis2 = pd.read_csv(\"../data/NSSCrisisv.2.csv\")\n",
    "header_row = crisis2.iloc[1]\n",
    "crisis2 = pd.DataFrame(crisis2.values[2:], columns=header_row)"
   ]
  },
  {
   "cell_type": "code",
   "execution_count": null,
   "id": "3a6cde58",
   "metadata": {},
   "outputs": [],
   "source": [
    "labels = list()\n",
    "for col in crisis2.columns:\n",
    "    labels.append(col.replace('Subjective', 'Issues'))\n",
    "crisis2.columns = labels"
   ]
  },
  {
   "cell_type": "code",
   "execution_count": null,
   "id": "36ea100d",
   "metadata": {},
   "outputs": [],
   "source": [
    "crisis1.dropna(how='all', axis=1, inplace=True)\n",
    "crisis2.dropna(how='all', axis=1, inplace=True)"
   ]
  },
  {
   "cell_type": "code",
   "execution_count": null,
   "id": "5039abd7",
   "metadata": {},
   "outputs": [],
   "source": [
    "crisis1['PostalCode'].value_counts()[:10].sort_values(ascending=False)"
   ]
  },
  {
   "cell_type": "code",
   "execution_count": null,
   "id": "4ae3d91e",
   "metadata": {},
   "outputs": [],
   "source": [
    "crisis1.rename(columns={'CRISIS Demographics - Ethnicity': 'Ethnicity'}, inplace=True)\n",
    "crisis2.rename(columns={'CRISIS Demographics - Race/Ethnicity': 'Ethnicity'}, inplace=True)\n"
   ]
  },
  {
   "cell_type": "code",
   "execution_count": null,
   "id": "789f20b5",
   "metadata": {},
   "outputs": [],
   "source": [
    "crisis1.dropna(how='all', axis=1, inplace=True)"
   ]
  },
  {
   "cell_type": "code",
   "execution_count": null,
   "id": "da5e18f0",
   "metadata": {},
   "outputs": [],
   "source": [
    "samecolumnsdf = pd.DataFrame(crisis1.columns.intersection(crisis2.columns))\n",
    "samecolumnsdf"
   ]
  },
  {
   "cell_type": "code",
   "execution_count": null,
   "id": "918f1f83",
   "metadata": {},
   "outputs": [],
   "source": [
    "filter_col1 = [col for col in crisis1 if col.startswith('CRISIS Issues') or col.startswith('Call')]\n",
    "crisis1_ci = crisis1[filter_col1]"
   ]
  },
  {
   "cell_type": "code",
   "execution_count": null,
   "id": "f5d28ccf",
   "metadata": {},
   "outputs": [],
   "source": [
    "filter_col2 = [col for col in crisis2 if col.startswith('CRISIS Issues') or col.startswith('Call')]\n",
    "crisis2_ci = crisis2[filter_col2]"
   ]
  },
  {
   "cell_type": "code",
   "execution_count": null,
   "id": "45099f53",
   "metadata": {},
   "outputs": [],
   "source": [
    "all_ci = pd.concat([crisis1_ci, crisis2_ci])"
   ]
  },
  {
   "cell_type": "code",
   "execution_count": null,
   "id": "fad72dbe",
   "metadata": {},
   "outputs": [],
   "source": [
    "all_ci.dropna(how='all', axis=0, inplace=True)\n"
   ]
  },
  {
   "cell_type": "code",
   "execution_count": null,
   "id": "0fd6642d",
   "metadata": {
    "scrolled": true
   },
   "outputs": [],
   "source": [
    "all_ci"
   ]
  },
  {
   "cell_type": "code",
   "execution_count": null,
   "id": "a1e92434",
   "metadata": {},
   "outputs": [],
   "source": [
    "mental_health_df = all_ci['CRISIS Issues - Mental Health'].notnull()\n"
   ]
  },
  {
   "cell_type": "code",
   "execution_count": null,
   "id": "044427b1",
   "metadata": {},
   "outputs": [],
   "source": [
    "mental_health_df = all_ci[mental_health_df]\n"
   ]
  },
  {
   "cell_type": "code",
   "execution_count": null,
   "id": "6f1acd17",
   "metadata": {},
   "outputs": [],
   "source": [
    "count = []\n",
    "\n",
    "for x in mental_health_df['CRISIS Issues - Mental Health']:\n",
    "    counter0 = x.count(\";\")+1\n",
    "    counter = counter0+counter1\n",
    "    count.append(counter0)\n"
   ]
  },
  {
   "cell_type": "code",
   "execution_count": null,
   "id": "747ecf99",
   "metadata": {},
   "outputs": [],
   "source": [
    "mental_health_df['MH_Issues_Count'] = count\n"
   ]
  },
  {
   "cell_type": "code",
   "execution_count": null,
   "id": "17f7a5cf",
   "metadata": {},
   "outputs": [],
   "source": [
    "mental_health_df.head()"
   ]
  },
  {
   "cell_type": "code",
   "execution_count": null,
   "id": "56279f55",
   "metadata": {},
   "outputs": [],
   "source": [
    "mental_health_df[\"CallLength\"] = mental_health_df[\"CallLength\"].astype(\"int64\")"
   ]
  },
  {
   "cell_type": "code",
   "execution_count": null,
   "id": "9316308b",
   "metadata": {},
   "outputs": [],
   "source": [
    "mental_health_df['CallLength'].max()"
   ]
  },
  {
   "cell_type": "code",
   "execution_count": null,
   "id": "f2f4eeed",
   "metadata": {},
   "outputs": [],
   "source": [
    "mental_health_df.info()"
   ]
  },
  {
   "cell_type": "markdown",
   "id": "fa988749",
   "metadata": {},
   "source": [
    "shortest call length chart"
   ]
  },
  {
   "cell_type": "code",
   "execution_count": null,
   "id": "f14d1b64",
   "metadata": {},
   "outputs": [],
   "source": [
    "length = mental_health_df[[('CallLength'), 'CRISIS Issues - Emotional State']].copy()"
   ]
  },
  {
   "cell_type": "code",
   "execution_count": null,
   "id": "71f8ad60",
   "metadata": {},
   "outputs": [],
   "source": [
    "large_length = length.nlargest(5, ['CallLength'])"
   ]
  },
  {
   "cell_type": "code",
   "execution_count": null,
   "id": "f377d75c",
   "metadata": {},
   "outputs": [],
   "source": [
    "large_length = large_length.replace('Anger/Hostility; Anxious/Stressed; Guilty; Sad/Depressed; Overwhelmed; Embarrassed; Emotional Abandonment', 'Anger; Guilty; Sad')\n",
    "large_length = large_length.replace('Anxious/Stressed; Overwhelmed; Scared', 'Anxious; Overwhelmed; Scared')\n",
    "large_length = large_length.replace('Anger/Hostility; Anxious/Stressed; Sad/Depressed', 'Anger; Anxious; Sad')\n",
    "large_length = large_length.replace('Anxious/Stressed; Sad/Depressed; Overwhelmed; Embarrassed', 'Anxious; Sad; Embarrassed')\n",
    "large_length = large_length.replace('Anxious/Stressed; Illness/Health Stress; Lonely ; Sad/Depressed; Overwhelmed', 'Anxious; Illness; Overwhelmed')"
   ]
  },
  {
   "cell_type": "code",
   "execution_count": null,
   "id": "dac97d92",
   "metadata": {},
   "outputs": [],
   "source": [
    "large_length.head()"
   ]
  },
  {
   "cell_type": "code",
   "execution_count": null,
   "id": "1196d7d5",
   "metadata": {},
   "outputs": [],
   "source": [
    "#large_length.plot.bar(x='CRISIS Issues - Emotional State', rot=0, figsize=(10, 8), color=['#25858e','#2d708e','#38588c','#433e85','#440154'])\n",
    "call = large_length['CallLength'].copy()\n",
    "crisis = large_length['CRISIS Issues - Emotional State'].copy()\n",
    "plt.subplots(figsize=(15, 10))\n",
    "plt.bar(crisis, call,  color=['#440154', '#433e85', '#38588c', '#2d708e','#25858e'], edgecolor = 'black')\n",
    "plt.title('Long Call Length', fontsize=20, fontstyle='oblique')\n",
    "plt.xlabel('Emotional State', fontsize=20, fontstyle='oblique')\n",
    "plt.xticks(rotation = 30)\n",
    "plt.ylabel('Min', fontsize=20, fontstyle='oblique')\n",
    "plt.show()"
   ]
  },
  {
   "cell_type": "markdown",
   "id": "ac010f93",
   "metadata": {},
   "source": [
    "longest call length chart"
   ]
  },
  {
   "cell_type": "code",
   "execution_count": null,
   "id": "5718cf41",
   "metadata": {},
   "outputs": [],
   "source": [
    "length = mental_health_df[['CallLength', 'CRISIS Issues - Emotional State']].copy()"
   ]
  },
  {
   "cell_type": "code",
   "execution_count": null,
   "id": "fb9a8e3f",
   "metadata": {},
   "outputs": [],
   "source": [
    "small_length = length.nsmallest(5, ['CallLength'])"
   ]
  },
  {
   "cell_type": "code",
   "execution_count": null,
   "id": "612789b1",
   "metadata": {},
   "outputs": [],
   "source": [
    "small_length = small_length.replace('Anger/Hostility; Emotional Abandonment', 'Anger; Emotional Abandonment')\n",
    "small_length = small_length.replace('Anxious/Stressed; Emotional Abandonment', 'Anxious; Emotional Abandonment')"
   ]
  },
  {
   "cell_type": "code",
   "execution_count": null,
   "id": "8f8882fb",
   "metadata": {},
   "outputs": [],
   "source": [
    "small_length"
   ]
  },
  {
   "cell_type": "code",
   "execution_count": null,
   "id": "6872fc6c",
   "metadata": {},
   "outputs": [],
   "source": [
    "small_length.plot.bar(x='CRISIS Issues - Emotional State', rot=0, figsize=(10, 8), color=\"#31688E\")\n",
    "plt.title('Short Call Length', fontsize=20, fontstyle='oblique')\n",
    "plt.xlabel('Emotional State', fontsize=20, fontstyle='oblique')\n",
    "plt.xticks(rotation = 70)\n",
    "plt.yaxis.set_major_locator(2)\n",
    "plt.ylabel('Min', fontsize=20, fontstyle='oblique')\n",
    "plt.show()"
   ]
  },
  {
   "cell_type": "code",
   "execution_count": null,
   "id": "8280fd46",
   "metadata": {},
   "outputs": [],
   "source": []
  }
 ],
 "metadata": {
  "kernelspec": {
   "display_name": "Python 3 (ipykernel)",
   "language": "python",
   "name": "python3"
  },
  "language_info": {
   "codemirror_mode": {
    "name": "ipython",
    "version": 3
   },
   "file_extension": ".py",
   "mimetype": "text/x-python",
   "name": "python",
   "nbconvert_exporter": "python",
   "pygments_lexer": "ipython3",
   "version": "3.9.7"
  }
 },
 "nbformat": 4,
 "nbformat_minor": 5
}
