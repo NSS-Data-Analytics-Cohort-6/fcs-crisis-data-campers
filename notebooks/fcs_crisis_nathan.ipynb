{
 "cells": [
  {
   "cell_type": "code",
   "execution_count": null,
   "id": "4c2c7383",
   "metadata": {},
   "outputs": [],
   "source": [
    "import pandas as pd\n",
    "import numpy as np\n",
    "import matplotlib.pyplot as plt\n",
    "import seaborn as sns"
   ]
  },
  {
   "cell_type": "code",
   "execution_count": null,
   "id": "40b339a4",
   "metadata": {},
   "outputs": [],
   "source": [
    "crisis1 = pd.read_csv(\"../data/NSSCrisisv.1 (1).csv\")\n",
    "header_row = crisis1.iloc[1]\n",
    "crisis1 = pd.DataFrame(crisis1.values[2:], columns=header_row)\n",
    "crisis2 = pd.read_csv(\"../data/NSSCrisisv.2.csv\")\n",
    "header_row = crisis2.iloc[1]\n",
    "crisis2 = pd.DataFrame(crisis2.values[2:], columns=header_row)"
   ]
  },
  {
   "cell_type": "code",
   "execution_count": null,
   "id": "3a6cde58",
   "metadata": {},
   "outputs": [],
   "source": [
    "labels = list()\n",
    "for col in crisis2.columns:\n",
    "    labels.append(col.replace('Subjective', 'Issues'))\n",
    "crisis2.columns = labels"
   ]
  },
  {
   "cell_type": "code",
   "execution_count": null,
   "id": "9ef163c6",
   "metadata": {},
   "outputs": [],
   "source": [
    "crisis1.dropna(how='all', axis=1, inplace=True)\n",
    "crisis2.dropna(how='all', axis=1, inplace=True)"
   ]
  },
  {
   "cell_type": "code",
   "execution_count": null,
   "id": "647bbc1e",
   "metadata": {},
   "outputs": [],
   "source": [
    "crisis1['PostalCode'].value_counts()[:10].sort_values(ascending=False)"
   ]
  },
  {
   "cell_type": "code",
   "execution_count": null,
   "id": "6fdbd356",
   "metadata": {},
   "outputs": [],
   "source": [
    "crisis1.rename(columns={'CRISIS Demographics - Ethnicity': 'Ethnicity'}, inplace=True)\n",
    "crisis2.rename(columns={'CRISIS Demographics - Race/Ethnicity': 'Ethnicity'}, inplace=True)\n"
   ]
  },
  {
   "cell_type": "code",
   "execution_count": null,
   "id": "57281d32",
   "metadata": {},
   "outputs": [],
   "source": [
    "crisis1.dropna(how='all', axis=1, inplace=True)"
   ]
  },
  {
   "cell_type": "code",
   "execution_count": null,
   "id": "497c8e0a",
   "metadata": {},
   "outputs": [],
   "source": [
    "samecolumnsdf = pd.DataFrame(crisis1.columns.intersection(crisis2.columns))\n",
    "samecolumnsdf"
   ]
  },
  {
   "cell_type": "code",
   "execution_count": null,
   "id": "e22ab49c",
   "metadata": {},
   "outputs": [],
   "source": [
    "filter_col1 = [col for col in crisis1 if col.startswith('CRISIS Issues') or col.startswith('Call')]\n",
    "crisis1_ci = crisis1[filter_col1]"
   ]
  },
  {
   "cell_type": "code",
   "execution_count": null,
   "id": "153cfeec",
   "metadata": {},
   "outputs": [],
   "source": [
    "filter_col2 = [col for col in crisis2 if col.startswith('CRISIS Issues') or col.startswith('Call')]\n",
    "crisis2_ci = crisis2[filter_col2]"
   ]
  },
  {
   "cell_type": "code",
   "execution_count": null,
   "id": "29b9c273",
   "metadata": {},
   "outputs": [],
   "source": [
    "all_ci = pd.concat([crisis1_ci, crisis2_ci])"
   ]
  },
  {
   "cell_type": "code",
   "execution_count": null,
   "id": "0eec47f2",
   "metadata": {},
   "outputs": [],
   "source": [
    "all_ci.dropna(how='all', axis=0, inplace=True)\n"
   ]
  },
  {
   "cell_type": "code",
   "execution_count": null,
   "id": "dd18e6da",
   "metadata": {
    "scrolled": true
   },
   "outputs": [],
   "source": [
    "all_ci"
   ]
  },
  {
   "cell_type": "code",
   "execution_count": null,
   "id": "b83dd18a",
   "metadata": {},
   "outputs": [],
   "source": [
    "mental_health_df = all_ci['CRISIS Issues - Mental Health'].notnull()\n"
   ]
  },
  {
   "cell_type": "code",
   "execution_count": null,
   "id": "033cd278",
   "metadata": {},
   "outputs": [],
   "source": [
    "mental_health_df = all_ci[mental_health_df]\n"
   ]
  },
  {
   "cell_type": "code",
   "execution_count": null,
   "id": "29adfb3d",
   "metadata": {},
   "outputs": [],
   "source": [
    "count = []\n",
    "\n",
    "for x in mental_health_df['CRISIS Issues - Mental Health']:\n",
    "    counter0 = x.count(\";\")+1\n",
    "    counter = counter0+counter1\n",
    "    count.append(counter0)\n"
   ]
  },
  {
   "cell_type": "code",
   "execution_count": null,
   "id": "5d8e1b56",
   "metadata": {},
   "outputs": [],
   "source": [
    "mental_health_df['MH_Issues_Count'] = count\n"
   ]
  },
  {
   "cell_type": "code",
   "execution_count": null,
   "id": "d2095817",
   "metadata": {},
   "outputs": [],
   "source": [
    "mental_health_df.head()"
   ]
  },
  {
   "cell_type": "code",
   "execution_count": null,
   "id": "b72a0ee7",
   "metadata": {},
   "outputs": [],
   "source": [
    "mental_health_df[\"CallLength\"] = mental_health_df[\"CallLength\"].astype(\"int64\")"
   ]
  },
  {
   "cell_type": "code",
   "execution_count": null,
   "id": "69e0a949",
   "metadata": {},
   "outputs": [],
   "source": [
    "mental_health_df['CallLength'].max()"
   ]
  },
  {
   "cell_type": "code",
   "execution_count": null,
   "id": "36a9c2e8",
   "metadata": {},
   "outputs": [],
   "source": [
    "mental_health_df.info()"
   ]
  },
  {
   "cell_type": "code",
   "execution_count": null,
   "id": "229bf76e",
   "metadata": {},
   "outputs": [],
   "source": [
    "length = mental_health_df[['CallLength', 'CRISIS Issues - Emotional State']].copy()"
   ]
  },
  {
   "cell_type": "code",
   "execution_count": null,
   "id": "eef226c3",
   "metadata": {},
   "outputs": [],
   "source": [
    "length.nlargest(10, ['CallLength'])"
   ]
  },
  {
   "cell_type": "code",
   "execution_count": null,
   "id": "c5108899",
   "metadata": {},
   "outputs": [],
   "source": [
    "length = length[length['CallLength'].isin([138, 117, 111, 100])]"
   ]
  },
  {
   "cell_type": "code",
   "execution_count": null,
   "id": "38e44bbc",
   "metadata": {},
   "outputs": [],
   "source": [
    "length.head()"
   ]
  },
  {
   "cell_type": "code",
   "execution_count": null,
   "id": "e5d6246f",
   "metadata": {},
   "outputs": [],
   "source": [
    "length = length.plot.bar(x='CRISIS Issues - Emotional State', y='CallLength', rot=0)"
   ]
  },
  {
   "cell_type": "code",
   "execution_count": null,
   "id": "87d9e792",
   "metadata": {},
   "outputs": [],
   "source": []
  }
 ],
 "metadata": {
  "kernelspec": {
   "display_name": "Python 3 (ipykernel)",
   "language": "python",
   "name": "python3"
  },
  "language_info": {
   "codemirror_mode": {
    "name": "ipython",
    "version": 3
   },
   "file_extension": ".py",
   "mimetype": "text/x-python",
   "name": "python",
   "nbconvert_exporter": "python",
   "pygments_lexer": "ipython3",
   "version": "3.9.7"
  }
 },
 "nbformat": 4,
 "nbformat_minor": 5
}
