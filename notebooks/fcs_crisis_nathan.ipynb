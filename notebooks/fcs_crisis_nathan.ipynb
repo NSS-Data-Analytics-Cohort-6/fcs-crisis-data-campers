{
 "cells": [
  {
   "cell_type": "code",
   "execution_count": null,
   "id": "4c2c7383",
   "metadata": {},
   "outputs": [],
   "source": [
    "import pandas as pd\n",
    "import numpy as np\n",
    "import matplotlib.pyplot as plt\n",
    "import seaborn as sns"
   ]
  },
  {
   "cell_type": "code",
   "execution_count": null,
   "id": "40b339a4",
   "metadata": {},
   "outputs": [],
   "source": [
    "crisis1 = pd.read_csv(\"../data/NSSCrisisv.1.csv\")\n",
    "header_row = crisis1.iloc[1]\n",
    "crisis1 = pd.DataFrame(crisis1.values[2:], columns=header_row)\n",
    "crisis2 = pd.read_csv(\"../data/NSSCrisisv.2.csv\")\n",
    "header_row = crisis2.iloc[1]\n",
    "crisis2 = pd.DataFrame(crisis2.values[2:], columns=header_row)\n",
    "volume2020 = pd.read_csv(\"../data/Contact center call volume_2020.csv\")\n",
    "volume2021 = pd.read_csv(\"../data/Contact center call volume_2021.csv\")\n",
    "volume2022 = pd.read_csv(\"../data/Contact center call volume_2022.csv\")"
   ]
  },
  {
   "cell_type": "code",
   "execution_count": null,
   "id": "3a6cde58",
   "metadata": {},
   "outputs": [],
   "source": [
    "crisis1"
   ]
  },
  {
   "cell_type": "code",
   "execution_count": null,
   "id": "557c0edd",
   "metadata": {},
   "outputs": [],
   "source": [
    "crisis2.head(50)"
   ]
  },
  {
   "cell_type": "code",
   "execution_count": null,
   "id": "f2d24906",
   "metadata": {},
   "outputs": [],
   "source": [
    "volume2020"
   ]
  },
  {
   "cell_type": "code",
   "execution_count": null,
   "id": "e0d2f49d",
   "metadata": {},
   "outputs": [],
   "source": [
    "volume2021"
   ]
  },
  {
   "cell_type": "code",
   "execution_count": null,
   "id": "7083baf4",
   "metadata": {},
   "outputs": [],
   "source": [
    "volume2022"
   ]
  },
  {
   "cell_type": "code",
   "execution_count": null,
   "id": "017c606e",
   "metadata": {},
   "outputs": [],
   "source": [
    "crisis2.info"
   ]
  },
  {
   "cell_type": "code",
   "execution_count": null,
   "id": "b13b3835",
   "metadata": {},
   "outputs": [],
   "source": [
    "crisis1.info"
   ]
  },
  {
   "cell_type": "code",
   "execution_count": null,
   "id": "08141723",
   "metadata": {},
   "outputs": [],
   "source": [
    "crisis1.isnull().sum()"
   ]
  },
  {
   "cell_type": "code",
   "execution_count": null,
   "id": "f8bce77b",
   "metadata": {},
   "outputs": [],
   "source": [
    "crisis2.isnull().sum()"
   ]
  },
  {
   "cell_type": "code",
   "execution_count": null,
   "id": "37ff0592",
   "metadata": {},
   "outputs": [],
   "source": [
    "crisis1['PostalCode'].value_counts()[:10].sort_values(ascending=False)"
   ]
  },
  {
   "cell_type": "code",
   "execution_count": null,
   "id": "22838e67",
   "metadata": {},
   "outputs": [],
   "source": [
    "crisis1.rename(columns={'CRISIS Demographics - Ethnicity': 'Ethnicity'}, inplace=True)\n",
    "crisis2.rename(columns={'CRISIS Demographics - Race/Ethnicity': 'Ethnicity'}, inplace=True)\n"
   ]
  },
  {
   "cell_type": "code",
   "execution_count": null,
   "id": "60d1794c",
   "metadata": {},
   "outputs": [],
   "source": [
    "crisis1"
   ]
  },
  {
   "cell_type": "code",
   "execution_count": null,
   "id": "f57593ea",
   "metadata": {},
   "outputs": [],
   "source": []
  }
 ],
 "metadata": {
  "kernelspec": {
   "display_name": "Python 3 (ipykernel)",
   "language": "python",
   "name": "python3"
  },
  "language_info": {
   "codemirror_mode": {
    "name": "ipython",
    "version": 3
   },
   "file_extension": ".py",
   "mimetype": "text/x-python",
   "name": "python",
   "nbconvert_exporter": "python",
   "pygments_lexer": "ipython3",
   "version": "3.9.7"
  }
 },
 "nbformat": 4,
 "nbformat_minor": 5
}
