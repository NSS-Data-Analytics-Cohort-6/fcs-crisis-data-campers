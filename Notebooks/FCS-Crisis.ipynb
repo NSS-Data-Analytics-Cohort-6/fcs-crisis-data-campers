{
 "cells": [
  {
   "cell_type": "markdown",
   "id": "0f09cf91",
   "metadata": {},
   "source": [
    "## Analyze trends in call content by looking for which issues are most frequent and what is the average count of issues per call."
   ]
  },
  {
   "cell_type": "code",
   "execution_count": null,
   "id": "9d11460e",
   "metadata": {},
   "outputs": [],
   "source": [
    "import pandas as pd\n",
    "import numpy as np\n",
    "import matplotlib.pyplot as plt\n",
    "%matplotlib inline\n",
    "import seaborn as sns\n",
    "import requests as re"
   ]
  },
  {
   "cell_type": "code",
   "execution_count": null,
   "id": "2fcd862d",
   "metadata": {},
   "outputs": [],
   "source": [
    "pd.set_option('display.max_rows', 500)\n",
    "pd.set_option('display.max_columns', 500)\n",
    "pd.set_option('display.width', 1000)"
   ]
  },
  {
   "cell_type": "markdown",
   "id": "8af92d42",
   "metadata": {},
   "source": [
    "### Read the CSVs for NSSCrisisv1, NSSCrisisv2, CC2020, CC2021, CC2022"
   ]
  },
  {
   "cell_type": "code",
   "execution_count": null,
   "id": "6c74bd6d",
   "metadata": {
    "scrolled": true
   },
   "outputs": [],
   "source": [
    "NSSCrisisv1 = pd.read_csv('../data/NSSCrisisv.1.csv')\n",
    "print(NSSCrisisv1.shape)\n",
    "NSSCrisisv1.head(3) "
   ]
  },
  {
   "cell_type": "code",
   "execution_count": null,
   "id": "e35e41cd",
   "metadata": {},
   "outputs": [],
   "source": [
    "header_row = NSSCrisisv1.iloc[1]\n",
    "NSSCrisisv1 = pd.DataFrame(NSSCrisisv1.values[2:], columns=header_row)\n",
    "NSSCrisisv1.head()"
   ]
  },
  {
   "cell_type": "code",
   "execution_count": null,
   "id": "e5f0df42",
   "metadata": {},
   "outputs": [],
   "source": [
    "NSSCrisisv2 = pd.read_csv('../data/NSSCrisisv.2.csv')\n",
    "print(NSSCrisisv2.shape) \n",
    "NSSCrisisv2.head(3)"
   ]
  },
  {
   "cell_type": "code",
   "execution_count": null,
   "id": "3ba6e136",
   "metadata": {},
   "outputs": [],
   "source": [
    "header_row2 = NSSCrisisv2.iloc[1]\n",
    "NSSCrisisv2 = pd.DataFrame(NSSCrisisv2.values[2:], columns=header_row2)\n",
    "NSSCrisisv2.head()"
   ]
  },
  {
   "cell_type": "code",
   "execution_count": null,
   "id": "0048b372",
   "metadata": {},
   "outputs": [],
   "source": [
    "CC2020 = pd.read_csv('../data/2020CallCenterVolume.csv')\n",
    "CC2021 = pd.read_csv('../data/2021CallCenterVolume.csv')\n",
    "CC2022 = pd.read_csv('../data/2022CallCenterVolume.csv')"
   ]
  },
  {
   "cell_type": "code",
   "execution_count": null,
   "id": "7a74106e",
   "metadata": {},
   "outputs": [],
   "source": [
    "CC2022.head()"
   ]
  },
  {
   "cell_type": "code",
   "execution_count": null,
   "id": "5439ec53",
   "metadata": {},
   "outputs": [],
   "source": [
    "labels = list()\n",
    "for col in NSSCrisisv2.columns:\n",
    "    labels.append(col.replace('Subjective', 'Issues'))\n",
    "NSSCrisisv2.columns = labels"
   ]
  },
  {
   "cell_type": "code",
   "execution_count": null,
   "id": "f12d31b8",
   "metadata": {},
   "outputs": [],
   "source": [
    "##Reading the column names. FYI - This will only show the entire list IF you do the set the display options in step 2 above.\n",
    "NSSCrisisv1.dtypes"
   ]
  },
  {
   "cell_type": "markdown",
   "id": "d0fb4ce3",
   "metadata": {},
   "source": [
    "### Code below removes all the columns that have no data at all."
   ]
  },
  {
   "cell_type": "code",
   "execution_count": null,
   "id": "1ff5beca",
   "metadata": {},
   "outputs": [],
   "source": [
    "NSSCrisisv1.dropna(how='all', axis=1, inplace=True)"
   ]
  },
  {
   "cell_type": "code",
   "execution_count": null,
   "id": "0723bd50",
   "metadata": {},
   "outputs": [],
   "source": [
    "NSSCrisisv2.dropna(how='all', axis=1, inplace=True)"
   ]
  },
  {
   "cell_type": "code",
   "execution_count": null,
   "id": "933bc627",
   "metadata": {},
   "outputs": [],
   "source": [
    "### This will remove columns that have 98% null values in the columns.\n",
    "\n",
    "#pct_null = crisis1_df.isnull().sum() / len(crisis1_df)\n",
    "#missing_features = pct_null[pct_null > 0.98].index\n",
    "#crisis1_df.drop(missing_features, axis=1, inplace=True)\n"
   ]
  },
  {
   "cell_type": "code",
   "execution_count": null,
   "id": "2c1fad52",
   "metadata": {},
   "outputs": [],
   "source": [
    "NSSCrisisv1.dtypes"
   ]
  },
  {
   "cell_type": "code",
   "execution_count": null,
   "id": "dbf60914",
   "metadata": {},
   "outputs": [],
   "source": [
    "#NSSCrisisv1['PhoneWorkerName'].value_counts()"
   ]
  },
  {
   "cell_type": "code",
   "execution_count": null,
   "id": "0831a8f1",
   "metadata": {},
   "outputs": [],
   "source": [
    "NSSCrisisv2.dtypes"
   ]
  },
  {
   "cell_type": "code",
   "execution_count": null,
   "id": "8804ab4e",
   "metadata": {},
   "outputs": [],
   "source": [
    "#NSSCrisisv2['PhoneWorkerName'].value_counts()"
   ]
  },
  {
   "cell_type": "code",
   "execution_count": null,
   "id": "6d9f06ec",
   "metadata": {},
   "outputs": [],
   "source": [
    "#NSSCrisisv1['ThirdPartyOrganization'].value_counts()"
   ]
  },
  {
   "cell_type": "markdown",
   "id": "f70a6b9c",
   "metadata": {},
   "source": [
    "## Made two quick dfs based on a similar column.  This'll be one way to combine the datasets, but this only does a value count on the column."
   ]
  },
  {
   "cell_type": "markdown",
   "id": "61a78a6a",
   "metadata": {},
   "source": [
    "NSSCrisisv1['CRISIS Demographics - Gender Identity'].value_counts()"
   ]
  },
  {
   "cell_type": "markdown",
   "id": "1cfe33b1",
   "metadata": {},
   "source": [
    "gender1 = NSSCrisisv1['CRISIS Demographics - Gender Identity'].value_counts().rename_axis('CRISIS Demographics - Gender Identity').reset_index(name='counts')\n",
    "NSS1.head()"
   ]
  },
  {
   "cell_type": "markdown",
   "id": "ced74d04",
   "metadata": {},
   "source": [
    "gender2 = NSSCrisisv2['CRISIS Demographics - Gender Identity'].value_counts().rename_axis('CRISIS Demographics - Gender Identity').reset_index(name='counts')\n",
    "NSS2.head()"
   ]
  },
  {
   "cell_type": "markdown",
   "id": "1cc6a0c5",
   "metadata": {},
   "source": [
    "gendermerge = [NSS1,NSS2]\n",
    "demogender = pd.concat(merge)\n",
    "demogender.head(10)"
   ]
  },
  {
   "cell_type": "markdown",
   "id": "b592a3a5",
   "metadata": {},
   "source": [
    "demogenderfinal = nssmerge.groupby(['CRISIS Demographics - Gender Identity']).sum()\n",
    "demogenderfinal.head(10)"
   ]
  },
  {
   "cell_type": "markdown",
   "id": "882c1750",
   "metadata": {},
   "source": [
    "demogenderfinal.sort_values(by='counts', ascending=False)"
   ]
  },
  {
   "cell_type": "markdown",
   "id": "1d2bfc51",
   "metadata": {},
   "source": [
    "## we created two dfs filtering the original dfs."
   ]
  },
  {
   "cell_type": "code",
   "execution_count": null,
   "id": "0fc46f3b",
   "metadata": {},
   "outputs": [],
   "source": [
    "filter_col1 = [col for col in NSSCrisisv1 if col.startswith('CRISIS Issues') or col.startswith('Call')]\n",
    "filter1 = NSSCrisisv1[filter_col1]"
   ]
  },
  {
   "cell_type": "code",
   "execution_count": null,
   "id": "9bc0f1ae",
   "metadata": {},
   "outputs": [],
   "source": [
    "filter_col2 = [col for col in NSSCrisisv2 if col.startswith('CRISIS Issues') or col.startswith('Call')]\n",
    "filter2 = NSSCrisisv2[filter_col2]"
   ]
  },
  {
   "cell_type": "code",
   "execution_count": null,
   "id": "45126409",
   "metadata": {},
   "outputs": [],
   "source": [
    "all_ci = pd.concat([filter1, filter2])\n",
    "all_ci"
   ]
  },
  {
   "cell_type": "code",
   "execution_count": null,
   "id": "5e981aa5",
   "metadata": {},
   "outputs": [],
   "source": [
    "all_ci.dropna(how='all', axis=0, inplace=True)"
   ]
  },
  {
   "cell_type": "code",
   "execution_count": null,
   "id": "c6da5784",
   "metadata": {},
   "outputs": [],
   "source": [
    "all_ci"
   ]
  },
  {
   "cell_type": "code",
   "execution_count": null,
   "id": "820e203b",
   "metadata": {},
   "outputs": [],
   "source": [
    "#all_ci['CRISIS Issues - Substances'].value_counts(ascending=False)\n",
    "#all_ci['CRISIS Issues - Suicide'].value_counts(ascending=False)"
   ]
  },
  {
   "cell_type": "markdown",
   "id": "1ddc4ae7",
   "metadata": {},
   "source": [
    "### Rob shared a method to separate the amount of mental health issues per row and counted it.  You'll now see a new column added to the dataframe called MH_Issues_Count"
   ]
  },
  {
   "cell_type": "code",
   "execution_count": null,
   "id": "c5fb8c4c",
   "metadata": {},
   "outputs": [],
   "source": [
    "mental_health_df = all_ci['CRISIS Issues - Mental Health'].notnull()"
   ]
  },
  {
   "cell_type": "code",
   "execution_count": null,
   "id": "f3ba8ea1",
   "metadata": {},
   "outputs": [],
   "source": [
    "mental_health_df = all_ci[mental_health_df]"
   ]
  },
  {
   "cell_type": "code",
   "execution_count": null,
   "id": "08f5d8a9",
   "metadata": {},
   "outputs": [],
   "source": [
    "count = []\n",
    "\n",
    "for x in mental_health_df['CRISIS Issues - Mental Health']:\n",
    "    counter0 = x.count(\";\") + 1\n",
    "    count.append(counter0)"
   ]
  },
  {
   "cell_type": "code",
   "execution_count": null,
   "id": "017088f2",
   "metadata": {},
   "outputs": [],
   "source": [
    "mental_health_df['MH_Issues_Count'] = count"
   ]
  },
  {
   "cell_type": "code",
   "execution_count": null,
   "id": "4c482aeb",
   "metadata": {},
   "outputs": [],
   "source": [
    "mental_health_df.head(200)"
   ]
  },
  {
   "cell_type": "code",
   "execution_count": null,
   "id": "e9554afe",
   "metadata": {},
   "outputs": [],
   "source": [
    "mental_health_df.mean()"
   ]
  },
  {
   "cell_type": "markdown",
   "id": "9f79cdeb",
   "metadata": {},
   "source": [
    "## THIS IS PREPARATION FOR YOUR OWN DF WITH INFORMATION\n",
    "## CRISIS Issues - Substances - This is what you're working on."
   ]
  },
  {
   "cell_type": "code",
   "execution_count": null,
   "id": "c6d1ace8",
   "metadata": {},
   "outputs": [],
   "source": [
    "substances_df = all_ci['CRISIS Issues - Substances'].notnull()\n",
    "substances_df = all_ci[substances_df]"
   ]
  },
  {
   "cell_type": "code",
   "execution_count": null,
   "id": "cd26cef2",
   "metadata": {},
   "outputs": [],
   "source": [
    "count = []\n",
    "\n",
    "for x in substances_df['CRISIS Issues - Substances']:\n",
    "    counter0 = x.count(\";\") + 1\n",
    "    count.append(counter0)"
   ]
  },
  {
   "cell_type": "code",
   "execution_count": null,
   "id": "d7f8bf96",
   "metadata": {},
   "outputs": [],
   "source": [
    "substances_df['substances_count'] = count"
   ]
  },
  {
   "cell_type": "code",
   "execution_count": null,
   "id": "0e149ce4",
   "metadata": {},
   "outputs": [],
   "source": [
    "substances_df.head(200)"
   ]
  },
  {
   "cell_type": "code",
   "execution_count": null,
   "id": "1805596d",
   "metadata": {},
   "outputs": [],
   "source": [
    "#Created list count of the Crisis issues for substances. \n",
    "substancecount = substances_df['CRISIS Issues - Substances'].value_counts().rename_axis('CRISIS Issues - Substances').reset_index(name='counts')\n",
    "substancecount"
   ]
  },
  {
   "cell_type": "code",
   "execution_count": null,
   "id": "7ef9246a",
   "metadata": {},
   "outputs": [],
   "source": [
    "#Broke it down to the top 10  - I came back to this after adding two medication dependency rows. Had to get top 11 for the correction to be top 10.\n",
    "substancecount_top10 = substancecount.head(11)\n",
    "substancecount_top10"
   ]
  },
  {
   "cell_type": "code",
   "execution_count": null,
   "id": "08b78192",
   "metadata": {},
   "outputs": [],
   "source": [
    "#Added together the medication dependency rows.\n",
    "amendrow = {'CRISIS Issues - Substances': 'Medication Dependency', 'counts': 220}\n",
    "substancecount_top10 = substancecount_top10.append(amendrow, ignore_index = True)\n",
    "  \n",
    "display(substancecount_top10)"
   ]
  },
  {
   "cell_type": "code",
   "execution_count": null,
   "id": "d476a233",
   "metadata": {},
   "outputs": [],
   "source": [
    "#Dropped the two extra rows after adding the 11th index\n",
    "substancecounttop10 = substancecount_top10.drop(index=[5,7])\n",
    "substancecounttop10"
   ]
  },
  {
   "cell_type": "code",
   "execution_count": null,
   "id": "23bbb4e0",
   "metadata": {},
   "outputs": [],
   "source": [
    "#I think...I could've done this all on one line above.  Whatever!  I reset the index to show the correct count amount.\n",
    "substancecounttop10 = substancecounttop10.dropna()\n",
    "substancecounttop10 = substancecounttop10.reset_index(drop=True)\n",
    "substancecounttop10"
   ]
  },
  {
   "cell_type": "code",
   "execution_count": null,
   "id": "7b66439d",
   "metadata": {},
   "outputs": [],
   "source": [
    "#Sorted the counts decending.\n",
    "substancesfinal = substancecounttop10.sort_values(by='counts', ascending=False)\n",
    "substancesfinal"
   ]
  },
  {
   "cell_type": "code",
   "execution_count": null,
   "id": "17ea6071",
   "metadata": {},
   "outputs": [],
   "source": [
    "#charted the top 10 substances.\n",
    "substances = substancesfinal['CRISIS Issues - Substances'].copy()\n",
    "subcount = substancesfinal['counts'].copy()\n",
    "\n",
    "plt.subplots(figsize=(15, 10))\n",
    "plt.bar(substances, subcount, color=['indigo', 'red', 'green', 'blue', 'cyan', 'orange', 'purple','yellow','turquoise','mediumspringgreen'], edgecolor = 'black')\n",
    "plt.legend()\n",
    "plt.ylabel(\"Count\")\n",
    "plt.title(\"Crisis Issues - Substances\")\n",
    "plt.xticks(rotation = 70)\n",
    "plt.show()"
   ]
  },
  {
   "cell_type": "code",
   "execution_count": null,
   "id": "94b8eb48",
   "metadata": {},
   "outputs": [],
   "source": []
  }
 ],
 "metadata": {
  "kernelspec": {
   "display_name": "Python 3",
   "language": "python",
   "name": "python3"
  },
  "language_info": {
   "codemirror_mode": {
    "name": "ipython",
    "version": 3
   },
   "file_extension": ".py",
   "mimetype": "text/x-python",
   "name": "python",
   "nbconvert_exporter": "python",
   "pygments_lexer": "ipython3",
   "version": "3.8.8"
  }
 },
 "nbformat": 4,
 "nbformat_minor": 5
}
