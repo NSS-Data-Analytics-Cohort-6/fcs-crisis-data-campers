{
 "cells": [
  {
   "cell_type": "markdown",
   "id": "0f09cf91",
   "metadata": {},
   "source": [
    "## Analyze trends in call content by looking for which issues are most frequent and what is the average count of issues per call."
   ]
  },
  {
   "cell_type": "code",
   "execution_count": null,
   "id": "9d11460e",
   "metadata": {},
   "outputs": [],
   "source": [
    "import pandas as pd\n",
    "import numpy as np\n",
    "import matplotlib.pyplot as plt\n",
    "from matplotlib import cm\n",
    "%matplotlib inline\n",
    "import seaborn as sns\n",
    "import requests as re"
   ]
  },
  {
   "cell_type": "code",
   "execution_count": null,
   "id": "2fcd862d",
   "metadata": {},
   "outputs": [],
   "source": [
    "pd.set_option('display.max_rows', 500)\n",
    "pd.set_option('display.max_columns', 500)\n",
    "pd.set_option('display.width', 1000)"
   ]
  },
  {
   "cell_type": "markdown",
   "id": "8af92d42",
   "metadata": {},
   "source": [
    "### Read the CSVs for NSSCrisisv1, NSSCrisisv2, CC2020, CC2021, CC2022"
   ]
  },
  {
   "cell_type": "code",
   "execution_count": null,
   "id": "6c74bd6d",
   "metadata": {
    "scrolled": true
   },
   "outputs": [],
   "source": [
    "NSSCrisisv1 = pd.read_csv('../data/NSSCrisisv.1.csv')\n",
    "print(NSSCrisisv1.shape)\n",
    "NSSCrisisv1.head(3) "
   ]
  },
  {
   "cell_type": "code",
   "execution_count": null,
   "id": "e35e41cd",
   "metadata": {},
   "outputs": [],
   "source": [
    "header_row = NSSCrisisv1.iloc[1]\n",
    "NSSCrisisv1 = pd.DataFrame(NSSCrisisv1.values[2:], columns=header_row)\n",
    "NSSCrisisv1.head()"
   ]
  },
  {
   "cell_type": "code",
   "execution_count": null,
   "id": "e5f0df42",
   "metadata": {},
   "outputs": [],
   "source": [
    "NSSCrisisv2 = pd.read_csv('../data/NSSCrisisv.2.csv')\n",
    "print(NSSCrisisv2.shape) \n",
    "NSSCrisisv2.head(3)"
   ]
  },
  {
   "cell_type": "code",
   "execution_count": null,
   "id": "3ba6e136",
   "metadata": {},
   "outputs": [],
   "source": [
    "header_row2 = NSSCrisisv2.iloc[1]\n",
    "NSSCrisisv2 = pd.DataFrame(NSSCrisisv2.values[2:], columns=header_row2)\n",
    "NSSCrisisv2.head()"
   ]
  },
  {
   "cell_type": "code",
   "execution_count": null,
   "id": "0048b372",
   "metadata": {},
   "outputs": [],
   "source": [
    "CC2020 = pd.read_csv('../data/2020CallCenterVolume.csv')\n",
    "CC2021 = pd.read_csv('../data/2021CallCenterVolume.csv')\n",
    "CC2022 = pd.read_csv('../data/2022CallCenterVolume.csv')"
   ]
  },
  {
   "cell_type": "code",
   "execution_count": null,
   "id": "7a74106e",
   "metadata": {},
   "outputs": [],
   "source": [
    "CC2022.head()"
   ]
  },
  {
   "cell_type": "code",
   "execution_count": null,
   "id": "5439ec53",
   "metadata": {},
   "outputs": [],
   "source": [
    "labels = list()\n",
    "for col in NSSCrisisv2.columns:\n",
    "    labels.append(col.replace('Subjective', 'Issues'))\n",
    "NSSCrisisv2.columns = labels"
   ]
  },
  {
   "cell_type": "code",
   "execution_count": null,
   "id": "f12d31b8",
   "metadata": {},
   "outputs": [],
   "source": [
    "##Reading the column names. FYI - This will only show the entire list IF you do the set the display options in step 2 above.\n",
    "NSSCrisisv1.dtypes"
   ]
  },
  {
   "cell_type": "markdown",
   "id": "d0fb4ce3",
   "metadata": {},
   "source": [
    "### Code below removes all the columns that have no data at all."
   ]
  },
  {
   "cell_type": "code",
   "execution_count": null,
   "id": "1ff5beca",
   "metadata": {},
   "outputs": [],
   "source": [
    "NSSCrisisv1.dropna(how='all', axis=1, inplace=True)"
   ]
  },
  {
   "cell_type": "code",
   "execution_count": null,
   "id": "0723bd50",
   "metadata": {},
   "outputs": [],
   "source": [
    "NSSCrisisv2.dropna(how='all', axis=1, inplace=True)"
   ]
  },
  {
   "cell_type": "code",
   "execution_count": null,
   "id": "933bc627",
   "metadata": {},
   "outputs": [],
   "source": [
    "### This will remove columns that have 98% null values in the columns.\n",
    "\n",
    "#pct_null = crisis1_df.isnull().sum() / len(crisis1_df)\n",
    "#missing_features = pct_null[pct_null > 0.98].index\n",
    "#crisis1_df.drop(missing_features, axis=1, inplace=True)\n"
   ]
  },
  {
   "cell_type": "code",
   "execution_count": null,
   "id": "2c1fad52",
   "metadata": {},
   "outputs": [],
   "source": [
    "NSSCrisisv1.dtypes"
   ]
  },
  {
   "cell_type": "code",
   "execution_count": null,
   "id": "dbf60914",
   "metadata": {},
   "outputs": [],
   "source": [
    "#NSSCrisisv1['PhoneWorkerName'].value_counts()"
   ]
  },
  {
   "cell_type": "code",
   "execution_count": null,
   "id": "0831a8f1",
   "metadata": {},
   "outputs": [],
   "source": [
    "NSSCrisisv2.dtypes"
   ]
  },
  {
   "cell_type": "code",
   "execution_count": null,
   "id": "8804ab4e",
   "metadata": {},
   "outputs": [],
   "source": [
    "#NSSCrisisv2['PhoneWorkerName'].value_counts()"
   ]
  },
  {
   "cell_type": "code",
   "execution_count": null,
   "id": "6d9f06ec",
   "metadata": {},
   "outputs": [],
   "source": [
    "#NSSCrisisv1['ThirdPartyOrganization'].value_counts()"
   ]
  },
  {
   "cell_type": "markdown",
   "id": "f70a6b9c",
   "metadata": {},
   "source": [
    "## Made two quick dfs based on a similar column.  This'll be one way to combine the datasets, but this only does a value count on the column."
   ]
  },
  {
   "cell_type": "markdown",
   "id": "61a78a6a",
   "metadata": {},
   "source": [
    "NSSCrisisv1['CRISIS Demographics - Gender Identity'].value_counts()"
   ]
  },
  {
   "cell_type": "markdown",
   "id": "1cfe33b1",
   "metadata": {},
   "source": [
    "gender1 = NSSCrisisv1['CRISIS Demographics - Gender Identity'].value_counts().rename_axis('CRISIS Demographics - Gender Identity').reset_index(name='counts')\n",
    "NSS1.head()"
   ]
  },
  {
   "cell_type": "markdown",
   "id": "ced74d04",
   "metadata": {},
   "source": [
    "gender2 = NSSCrisisv2['CRISIS Demographics - Gender Identity'].value_counts().rename_axis('CRISIS Demographics - Gender Identity').reset_index(name='counts')\n",
    "NSS2.head()"
   ]
  },
  {
   "cell_type": "markdown",
   "id": "1cc6a0c5",
   "metadata": {},
   "source": [
    "gendermerge = [NSS1,NSS2]\n",
    "demogender = pd.concat(merge)\n",
    "demogender.head(10)"
   ]
  },
  {
   "cell_type": "markdown",
   "id": "b592a3a5",
   "metadata": {},
   "source": [
    "demogenderfinal = nssmerge.groupby(['CRISIS Demographics - Gender Identity']).sum()\n",
    "demogenderfinal.head(10)"
   ]
  },
  {
   "cell_type": "markdown",
   "id": "882c1750",
   "metadata": {},
   "source": [
    "demogenderfinal.sort_values(by='counts', ascending=False)"
   ]
  },
  {
   "cell_type": "markdown",
   "id": "1d2bfc51",
   "metadata": {},
   "source": [
    "## we created two dfs filtering the original dfs."
   ]
  },
  {
   "cell_type": "code",
   "execution_count": null,
   "id": "0fc46f3b",
   "metadata": {},
   "outputs": [],
   "source": [
    "filter_col1 = [col for col in NSSCrisisv1 if col.startswith('CRISIS Issues') or col.startswith('Call')]\n",
    "filter1 = NSSCrisisv1[filter_col1]"
   ]
  },
  {
   "cell_type": "code",
   "execution_count": null,
   "id": "9bc0f1ae",
   "metadata": {},
   "outputs": [],
   "source": [
    "filter_col2 = [col for col in NSSCrisisv2 if col.startswith('CRISIS Issues') or col.startswith('Call')]\n",
    "filter2 = NSSCrisisv2[filter_col2]"
   ]
  },
  {
   "cell_type": "code",
   "execution_count": null,
   "id": "45126409",
   "metadata": {},
   "outputs": [],
   "source": [
    "all_ci = pd.concat([filter1, filter2])\n",
    "all_ci"
   ]
  },
  {
   "cell_type": "code",
   "execution_count": null,
   "id": "5e981aa5",
   "metadata": {},
   "outputs": [],
   "source": [
    "all_ci.dropna(how='all', axis=0, inplace=True)"
   ]
  },
  {
   "cell_type": "code",
   "execution_count": null,
   "id": "c6da5784",
   "metadata": {},
   "outputs": [],
   "source": [
    "all_ci"
   ]
  },
  {
   "cell_type": "code",
   "execution_count": null,
   "id": "820e203b",
   "metadata": {},
   "outputs": [],
   "source": [
    "#all_ci['CRISIS Issues - Substances'].value_counts(ascending=False)\n",
    "#all_ci['CRISIS Issues - Suicide'].value_counts(ascending=False)"
   ]
  },
  {
   "cell_type": "markdown",
   "id": "1ddc4ae7",
   "metadata": {},
   "source": [
    "### Rob shared a method to separate the amount of mental health issues per row and counted it.  You'll now see a new column added to the dataframe called MH_Issues_Count"
   ]
  },
  {
   "cell_type": "code",
   "execution_count": null,
   "id": "c5fb8c4c",
   "metadata": {},
   "outputs": [],
   "source": [
    "mental_health_df = all_ci['CRISIS Issues - Mental Health'].notnull()"
   ]
  },
  {
   "cell_type": "code",
   "execution_count": null,
   "id": "f3ba8ea1",
   "metadata": {},
   "outputs": [],
   "source": [
    "mental_health_df = all_ci[mental_health_df]"
   ]
  },
  {
   "cell_type": "code",
   "execution_count": null,
   "id": "08f5d8a9",
   "metadata": {},
   "outputs": [],
   "source": [
    "count = []\n",
    "\n",
    "for x in mental_health_df['CRISIS Issues - Mental Health']:\n",
    "    counter0 = x.count(\";\") + 1\n",
    "    count.append(counter0)"
   ]
  },
  {
   "cell_type": "code",
   "execution_count": null,
   "id": "017088f2",
   "metadata": {},
   "outputs": [],
   "source": [
    "mental_health_df['MH_Issues_Count'] = count"
   ]
  },
  {
   "cell_type": "code",
   "execution_count": null,
   "id": "4c482aeb",
   "metadata": {},
   "outputs": [],
   "source": [
    "mental_health_df.head(200)"
   ]
  },
  {
   "cell_type": "code",
   "execution_count": null,
   "id": "e9554afe",
   "metadata": {},
   "outputs": [],
   "source": [
    "mental_health_df.mean()"
   ]
  },
  {
   "cell_type": "markdown",
   "id": "9f79cdeb",
   "metadata": {},
   "source": [
    "## THIS IS PREPARATION FOR YOUR OWN DF WITH INFORMATION\n",
    "## CRISIS Issues - Substances - This is what you're working on."
   ]
  },
  {
   "cell_type": "code",
   "execution_count": null,
   "id": "c6d1ace8",
   "metadata": {},
   "outputs": [],
   "source": [
    "substances_df = all_ci['CRISIS Issues - Substances'].notnull()\n",
    "substances_df = all_ci[substances_df]"
   ]
  },
  {
   "cell_type": "code",
   "execution_count": null,
   "id": "cd26cef2",
   "metadata": {},
   "outputs": [],
   "source": [
    "count = []\n",
    "\n",
    "for x in substances_df['CRISIS Issues - Substances']:\n",
    "    counter0 = x.count(\";\") + 1\n",
    "    count.append(counter0)"
   ]
  },
  {
   "cell_type": "code",
   "execution_count": null,
   "id": "d7f8bf96",
   "metadata": {},
   "outputs": [],
   "source": [
    "substances_df['substances_count'] = count"
   ]
  },
  {
   "cell_type": "code",
   "execution_count": null,
   "id": "0e149ce4",
   "metadata": {},
   "outputs": [],
   "source": [
    "substances_df.head(200)"
   ]
  },
  {
   "cell_type": "code",
   "execution_count": null,
   "id": "1805596d",
   "metadata": {},
   "outputs": [],
   "source": [
    "#Created list count of the Crisis issues for substances. \n",
    "substancecount = substances_df['CRISIS Issues - Substances'].value_counts().rename_axis('CRISIS Issues - Substances').reset_index(name='counts')\n",
    "substancecount"
   ]
  },
  {
   "cell_type": "code",
   "execution_count": null,
   "id": "7ef9246a",
   "metadata": {},
   "outputs": [],
   "source": [
    "#Broke it down to the top 10  - I came back to this after adding two medication dependency rows. Had to get top 11 for the correction to be top 10.\n",
    "substancecount_top10 = substancecount.head(11)\n",
    "substancecount_top10"
   ]
  },
  {
   "cell_type": "code",
   "execution_count": null,
   "id": "08b78192",
   "metadata": {},
   "outputs": [],
   "source": [
    "#Added together the medication dependency rows.\n",
    "amendrow = {'CRISIS Issues - Substances': 'Medication Dependency', 'counts': 220}\n",
    "substancecount_top10 = substancecount_top10.append(amendrow, ignore_index = True)\n",
    "  \n",
    "display(substancecount_top10)"
   ]
  },
  {
   "cell_type": "code",
   "execution_count": null,
   "id": "d476a233",
   "metadata": {},
   "outputs": [],
   "source": [
    "#Dropped the two extra rows after adding the 11th index\n",
    "substancecounttop10 = substancecount_top10.drop(index=[5,7])\n",
    "substancecounttop10"
   ]
  },
  {
   "cell_type": "markdown",
   "id": "bcc6280e",
   "metadata": {},
   "source": [
    "#I think...I could've done this all on one line above.  Whatever!  I reset the index to show the correct count amount."
   ]
  },
  {
   "cell_type": "code",
   "execution_count": null,
   "id": "23bbb4e0",
   "metadata": {},
   "outputs": [],
   "source": [
    "substancecounttop10 = substancecounttop10.dropna()\n",
    "substancecounttop10 = substancecounttop10.reset_index(drop=True)\n",
    "substancecounttop10"
   ]
  },
  {
   "cell_type": "code",
   "execution_count": null,
   "id": "7b66439d",
   "metadata": {},
   "outputs": [],
   "source": [
    "#Sorted the counts decending.\n",
    "substancesfinal = substancecounttop10.sort_values(by='counts', ascending=True)\n",
    "substancesfinal"
   ]
  },
  {
   "cell_type": "code",
   "execution_count": null,
   "id": "17ea6071",
   "metadata": {},
   "outputs": [],
   "source": [
    "subcount = substancesfinal['counts'].copy()\n",
    "substances = substancesfinal['CRISIS Issues - Substances'].copy()\n",
    "\n",
    "\n",
    "plt.subplots(figsize=(11, 10))\n",
    "plt.bar(substances, subcount, color=['#fde725','#b5de2b','#6ece58','#35b779','#1f9e89','#26828e','#31688e','#3e4989','#482878','#440154'], edgecolor = 'black')\n",
    "plt.legend()\n",
    "plt.ylabel(\"Issue count\")\n",
    "plt.title(\"Crisis Issues - Substances\")\n",
    "plt.xticks(rotation = 70)\n",
    "sns.set(style=\"darkgrid\")\n",
    "plt.show()"
   ]
  },
  {
   "cell_type": "code",
   "execution_count": null,
   "id": "94b8eb48",
   "metadata": {
    "scrolled": true
   },
   "outputs": [],
   "source": [
    "#charted the top 10 substances.\n",
    "subcount = substancesfinal['counts'].copy()\n",
    "substances = substancesfinal['CRISIS Issues - Substances'].copy()\n",
    "\n",
    "plt.figure(figsize=(11, 10))\n",
    "plt.barh(substances, subcount, color=['#c2df23','#86d549','#52c569','#2ab07f','#1e9b8a','#25858e','#2d708e','#38588c','#433e85','#440154'], edgecolor = 'black')\n",
    "plt.xticks(rotation = 0, fontsize=12)\n",
    "plt.xlabel('Issues Count', fontsize=12)\n",
    "plt.yticks(fontsize=12)\n",
    "sns.set(style=\"darkgrid\")\n",
    "plt.title('Crisis Issues - Substances', fontsize=12);"
   ]
  },
  {
   "cell_type": "markdown",
   "id": "afbb45db",
   "metadata": {},
   "source": [
    "CRISIS Issues - Relationships\n",
    "Male-Female\n",
    "Peer Group/Friend\n",
    "Neighbor/Landlord\n",
    "Family\n",
    "Same-Sex Relationship\n",
    "Other Relationships\n",
    "Employer/Co-Worker\n",
    "Marital/Divorce\n",
    "Concern for Other\n",
    "Custody Issues\n",
    "Blended Family\n",
    "Therapist/Medical Doctor\n",
    "Parent-Child\n",
    "Conflict With Other\n",
    "Teacher/School\n",
    "Inter-racial/cross-cultural issues\n",
    "Codependency\n",
    "Roommate\n",
    "Crisis Counselor\n",
    "Case Manager\n",
    "Caregiver\n",
    "Police\n",
    "Animal/Pet\n",
    "Church\n",
    "Clergy\n",
    "Single Parent-Child\n",
    "Therapist/Medical Doctor\n",
    "Animal/Pet\n",
    "Peer Group/Friend\n",
    "Marital/Divorce\n",
    "Concern for Other\n",
    "Male-Female\n",
    "Conflict With Other\n",
    "Family\n",
    "Other Relationships\n",
    "Same-Sex Relationship\n",
    "Parent-Child\n",
    "Neighbor/Landlord\n",
    "Police\n",
    "Inter-racial/cross-cultural issues\n",
    "Teacher/School\n",
    "Crisis Counselor\n",
    "Case Manager\n",
    "Roommate\n",
    "Blended Family\n",
    "Single Parent-Child\n",
    "Church\n",
    "Caregiver\n",
    "Clergy\n",
    "Employer/Co-Worker\n",
    "Custody Issues\n",
    "Runaway/Missing"
   ]
  },
  {
   "cell_type": "code",
   "execution_count": null,
   "id": "b6d0d608",
   "metadata": {},
   "outputs": [],
   "source": [
    "data = pd.DataFrame(substances_df, columns = [\"CRISIS Issues - Relationships\"])\n",
    "data"
   ]
  },
  {
   "cell_type": "code",
   "execution_count": null,
   "id": "6d56a1d0",
   "metadata": {},
   "outputs": [],
   "source": [
    "## well this failed spectacularly.  This is not the type of word count I'm looking for.  This looks for it in a sentence?\n",
    "## I'm looking for something that counts key words in a column.\n",
    "def data(str):\n",
    "    counts = dict()\n",
    "    words = str.split()\n",
    "\n",
    "    for word in words:\n",
    "        if word in counts:\n",
    "            counts[word] += 1\n",
    "        else:\n",
    "            counts[word] = 1\n",
    "\n",
    "    return counts\n",
    "print( data ('Male-Female'))"
   ]
  },
  {
   "cell_type": "code",
   "execution_count": null,
   "id": "d8e54631",
   "metadata": {},
   "outputs": [],
   "source": [
    "#Running the melt method\n",
    "substances=all_ci['CRISIS Issues - Substances'].str.split('; ', expand=True)"
   ]
  },
  {
   "cell_type": "code",
   "execution_count": null,
   "id": "5d4651c8",
   "metadata": {},
   "outputs": [],
   "source": [
    "melted=substances.melt().value.value_counts()\n",
    "melted"
   ]
  },
  {
   "cell_type": "code",
   "execution_count": null,
   "id": "da0179d0",
   "metadata": {},
   "outputs": [],
   "source": [
    "melted1 = pd.DataFrame(melted)\n",
    "melted1"
   ]
  },
  {
   "cell_type": "code",
   "execution_count": null,
   "id": "c6bf13b4",
   "metadata": {},
   "outputs": [],
   "source": [
    "melted1.reset_index(inplace=True)"
   ]
  },
  {
   "cell_type": "code",
   "execution_count": null,
   "id": "e36e2938",
   "metadata": {},
   "outputs": [],
   "source": [
    "melted1"
   ]
  },
  {
   "cell_type": "code",
   "execution_count": null,
   "id": "a09306c9",
   "metadata": {},
   "outputs": [],
   "source": [
    "melted1 = melted1.sort_values(by='value', ascending=True)"
   ]
  },
  {
   "cell_type": "markdown",
   "id": "70216c41",
   "metadata": {},
   "source": [
    "## Two charts were used in the presentation.  This was the first chart.\n",
    "## Note - This chart actually shows more than 1159 alcohol related issues.  When you do a .melt count on issues in other columns, it breaks it down and counts each cell with INDIVIDUAL issues.  So one cell could have more than one issue.  Because of this, you have more issues total than just 1159."
   ]
  },
  {
   "cell_type": "code",
   "execution_count": null,
   "id": "f526565d",
   "metadata": {
    "scrolled": true
   },
   "outputs": [],
   "source": [
    "#charted the top 10 substances.\n",
    "subcount = melted1['index'].copy()\n",
    "substances = melted1['value'].copy()\n",
    "\n",
    "plt.figure(figsize=(15, 13))\n",
    "plt.barh(subcount, substances, color=['#d0e11c','#a0da39','#73d056','#4ac16d','#2db27d','#1fa187','#21918c','#277f8e','#2e6e8e','#365c8d','#3f4788','#46327e','#481b6d','#440154'])\n",
    "plt.xticks(rotation = 0, fontsize=13)\n",
    "plt.xlabel('Count of Calls', fontsize=15)\n",
    "plt.yticks(fontsize=15)\n",
    "sns.set(style=\"darkgrid\")\n",
    "plt.title('Number of Calls Mentioning Crisis Issues - Substances', fontsize=18);\n"
   ]
  },
  {
   "cell_type": "markdown",
   "id": "49498b6c",
   "metadata": {},
   "source": [
    "## I want a correlated chart that compares all the other columns to any mention of alcohol in the substances column."
   ]
  },
  {
   "cell_type": "code",
   "execution_count": null,
   "id": "9e9877cd",
   "metadata": {},
   "outputs": [],
   "source": [
    "#Attempting to create a df that'll focus on alcohol substances and the top issue correlated with alcohol for each Crisis issue.\n",
    "correlate = all_ci[['CRISIS Issues - Substances', 'CRISIS Issues - Abusive Behavior','CRISIS Issues - Emotional State','CRISIS Issues - Financial/Basic Needs','CRISIS Issues - Health/Physical','CRISIS Issues - Homicide','CRISIS Issues - Information or Services Needed','CRISIS Issues - Mental Health','CRISIS Issues - No Issue Call','CRISIS Issues - Other Description','CRISIS Issues - Relationships','CRISIS Issues - Suicide'\n",
    "]].copy()\n",
    "correlate"
   ]
  },
  {
   "cell_type": "code",
   "execution_count": null,
   "id": "a58cdd82",
   "metadata": {},
   "outputs": [],
   "source": [
    "alcohol1 = correlate['CRISIS Issues - Substances'].str.contains('Alcohol Problem',case=False, na=False)\n",
    "alcohol2 = correlate[alcohol1]"
   ]
  },
  {
   "cell_type": "code",
   "execution_count": null,
   "id": "905cb1f8",
   "metadata": {},
   "outputs": [],
   "source": [
    "alcohol2"
   ]
  },
  {
   "cell_type": "code",
   "execution_count": null,
   "id": "849abfa8",
   "metadata": {},
   "outputs": [],
   "source": [
    "abuse_behav1 = alcohol2['CRISIS Issues - Abusive Behavior'].str.split('; ', expand=True)\n",
    "abuse_behav2 = abuse_behav1.melt().value.value_counts()\n",
    "abuse_behav2"
   ]
  },
  {
   "cell_type": "code",
   "execution_count": null,
   "id": "4f015161",
   "metadata": {},
   "outputs": [],
   "source": [
    "emotional_state1 = alcohol2['CRISIS Issues - Emotional State'].str.split('; ', expand=True)\n",
    "emotional_state2 = emotional_state1.melt().value.value_counts()\n",
    "emotional_state2"
   ]
  },
  {
   "cell_type": "code",
   "execution_count": null,
   "id": "6c180689",
   "metadata": {},
   "outputs": [],
   "source": [
    "financial1 = alcohol2['CRISIS Issues - Financial/Basic Needs'].str.split('; ', expand=True)\n",
    "financial2 = financial1.melt().value.value_counts()\n",
    "financial2"
   ]
  },
  {
   "cell_type": "code",
   "execution_count": null,
   "id": "09c91765",
   "metadata": {},
   "outputs": [],
   "source": [
    "#CRISIS Issues - Health/Physical\n",
    "health1 = alcohol2['CRISIS Issues - Health/Physical'].str.split('; ', expand=True)\n",
    "health2 = health1.melt().value.value_counts()\n",
    "health2"
   ]
  },
  {
   "cell_type": "code",
   "execution_count": null,
   "id": "5a040bc7",
   "metadata": {},
   "outputs": [],
   "source": [
    "#CRISIS Issues - Homicide\n",
    "homicide1 = alcohol2['CRISIS Issues - Homicide'].str.split('; ', expand=True)\n",
    "homicide2 = homicide1.melt().value.value_counts()\n",
    "homicide2"
   ]
  },
  {
   "cell_type": "code",
   "execution_count": null,
   "id": "2038027f",
   "metadata": {},
   "outputs": [],
   "source": [
    "#CRISIS Issues - Information or Services Needed\n",
    "information_ser1 = alcohol2['CRISIS Issues - Information or Services Needed'].str.split('; ', expand=True)\n",
    "information_ser2 = information_ser1.melt().value.value_counts()\n",
    "information_ser2"
   ]
  },
  {
   "cell_type": "code",
   "execution_count": null,
   "id": "0a656a00",
   "metadata": {},
   "outputs": [],
   "source": [
    "#CRISIS Issues - Mental Health\n",
    "mental_health1 = alcohol2['CRISIS Issues - Mental Health'].str.split('; ', expand=True)\n",
    "mental_health2 = mental_health1.melt().value.value_counts()\n",
    "mental_health2"
   ]
  },
  {
   "cell_type": "code",
   "execution_count": null,
   "id": "a0d2d500",
   "metadata": {},
   "outputs": [],
   "source": [
    "#CRISIS Issues - No Issue Call\n",
    "no_issue_call1 = alcohol2['CRISIS Issues - No Issue Call'].str.split('; ', expand=True)\n",
    "no_issue_call2 = no_issue_call1.melt().value.value_counts()\n",
    "no_issue_call2"
   ]
  },
  {
   "cell_type": "code",
   "execution_count": null,
   "id": "5c3b519c",
   "metadata": {},
   "outputs": [],
   "source": [
    "#CRISIS Issues - Other Description\n",
    "other_desc1 = alcohol2['CRISIS Issues - Other Description'].str.split('; ', expand=True)\n",
    "other_desc2 = other_desc1.melt().value.value_counts()\n",
    "other_desc2"
   ]
  },
  {
   "cell_type": "code",
   "execution_count": null,
   "id": "6c8ec8bf",
   "metadata": {},
   "outputs": [],
   "source": [
    "#CRISIS Issues - Relationships\n",
    "relationships1 = alcohol2['CRISIS Issues - Relationships'].str.split('; ', expand=True)\n",
    "relationships2 = relationships1.melt().value.value_counts()\n",
    "relationships2"
   ]
  },
  {
   "cell_type": "code",
   "execution_count": null,
   "id": "41311f79",
   "metadata": {},
   "outputs": [],
   "source": [
    "#CRISIS Issues - Suicide\n",
    "suicide1 = alcohol2['CRISIS Issues - Suicide'].str.split('; ', expand=True)\n",
    "suicide2 = suicide1.melt().value.value_counts()\n",
    "suicide2"
   ]
  },
  {
   "cell_type": "code",
   "execution_count": null,
   "id": "f955aa7b",
   "metadata": {},
   "outputs": [],
   "source": [
    "abuse_behav3 = pd.DataFrame(abuse_behav2)\n",
    "abuse_behav4 = abuse_behav3.head(1)\n",
    "\n",
    "emotional_state3 = pd.DataFrame(emotional_state2)\n",
    "emotional_state4 = emotional_state3.head(1)\n",
    "\n",
    "financial3 = pd.DataFrame(financial2)\n",
    "financial4 = financial3.head(1)\n",
    "\n",
    "health3 = pd.DataFrame(health2)\n",
    "health4 = health3.head(1)\n",
    "\n",
    "information_ser3 = pd.DataFrame(information_ser2)\n",
    "information_ser4 = information_ser3.head(1)\n",
    "\n",
    "mental_health3 = pd.DataFrame(mental_health2)\n",
    "mental_health4 = mental_health3.head(1)\n",
    "\n",
    "other_desc3 = pd.DataFrame(other_desc2)\n",
    "other_desc4 = other_desc3.head(1)\n",
    "\n",
    "relationships3 = pd.DataFrame(relationships2)\n",
    "relationships4 = relationships3.head(1)\n",
    "\n",
    "suicide3 = pd.DataFrame(suicide2)\n",
    "suicide4 = suicide3.head(1)"
   ]
  },
  {
   "cell_type": "code",
   "execution_count": null,
   "id": "46159063",
   "metadata": {},
   "outputs": [],
   "source": [
    "alcohol_cor1 = [abuse_behav4, emotional_state4, financial4, health4, information_ser4, mental_health4, other_desc4, relationships4, suicide4]\n",
    "alcohol_cor2 = pd.concat(alcohol_cor1)\n",
    "alcohol_cor2"
   ]
  },
  {
   "cell_type": "code",
   "execution_count": null,
   "id": "4cde3734",
   "metadata": {},
   "outputs": [],
   "source": [
    "alcohol_cor2.reset_index(inplace=True)"
   ]
  },
  {
   "cell_type": "code",
   "execution_count": null,
   "id": "20953169",
   "metadata": {
    "scrolled": true
   },
   "outputs": [],
   "source": [
    "alcohol_cor2"
   ]
  },
  {
   "cell_type": "code",
   "execution_count": null,
   "id": "a88022c2",
   "metadata": {},
   "outputs": [],
   "source": [
    "alcohol_final = alcohol_cor2.sort_values(by='value', ascending=True)"
   ]
  },
  {
   "cell_type": "code",
   "execution_count": null,
   "id": "47d75264",
   "metadata": {},
   "outputs": [],
   "source": [
    "alcohol_final"
   ]
  },
  {
   "cell_type": "markdown",
   "id": "686c3f71",
   "metadata": {},
   "source": [
    "### Here I renamed index 8 to remove the caps used."
   ]
  },
  {
   "cell_type": "code",
   "execution_count": null,
   "id": "83a35a23",
   "metadata": {},
   "outputs": [],
   "source": [
    "alcohol_final.at[8,'index']"
   ]
  },
  {
   "cell_type": "code",
   "execution_count": null,
   "id": "564b00c9",
   "metadata": {},
   "outputs": [],
   "source": [
    "alcohol_final.at[8,'index'] = 'Current Thoughts/Ideations'"
   ]
  },
  {
   "cell_type": "code",
   "execution_count": null,
   "id": "6d682005",
   "metadata": {},
   "outputs": [],
   "source": [
    "alcohol_final"
   ]
  },
  {
   "cell_type": "markdown",
   "id": "9bb73bee",
   "metadata": {},
   "source": [
    "## I did it!  I created a df that had all the columns.  From there, I filtered the substances column to only show results for anytime Alcohol was entered.  After that, I created a count for each of the Crisis Issues columns and created separate dfs for that.  From there, I condensed it to only show me the top issue that was counted the most.  I created a final dataframe that combined those top issues, sorted it and graphed below."
   ]
  },
  {
   "cell_type": "markdown",
   "id": "5fe9ae58",
   "metadata": {},
   "source": [
    "## This was the second chart used in the presentation."
   ]
  },
  {
   "cell_type": "code",
   "execution_count": null,
   "id": "4c601f02",
   "metadata": {
    "scrolled": false
   },
   "outputs": [],
   "source": [
    "subcount = alcohol_final['value'].copy()\n",
    "substances = alcohol_final['index'].copy()\n",
    "\n",
    "plt.figure(figsize=(15, 13))\n",
    "plt.barh(substances, subcount, color=['#86d549','#52c569','#2ab07f','#1e9b8a','#25858e','#2d708e','#38588c','#433e85','#440154'])\n",
    "plt.xticks(rotation = 0, fontsize=13)\n",
    "plt.xlabel('Count of Calls', fontsize=15)\n",
    "plt.yticks(fontsize=15)\n",
    "sns.set(style=\"darkgrid\")\n",
    "plt.title('Crisis Issues Correlated With Alcohol', fontsize=18);\n",
    "\n"
   ]
  },
  {
   "cell_type": "code",
   "execution_count": null,
   "id": "5cc53f8e",
   "metadata": {},
   "outputs": [],
   "source": [
    "plt.subplots(figsize=(12,10))\n",
    "sns.set(style=\"whitegrid\")\n",
    "sns.set(font_scale=1.2)\n",
    "y=alcohol_final['index']\n",
    "x=alcohol_final['value']\n",
    "ax = sns.barplot(x, y=y, data=alcohol_final,\n",
    "            label=\"Total\", palette=sns.color_palette('viridis', n_colors=21), edgecolor='black')\n",
    "plt.title('Crisis Issues Correlated With Alcohol', fontsize=15, fontstyle='oblique')\n",
    "plt.ylabel('Concern')\n",
    "sns.set(style=\"darkgrid\")\n",
    "plt.xlabel('% of SI Calls Issue Occured On');\n"
   ]
  },
  {
   "cell_type": "markdown",
   "id": "128c58ff",
   "metadata": {},
   "source": [
    "# Use this to pull the table results from the yahoo finance page.\n",
    "\n",
    "table_17=pd.read_html(\"https://web.archive.org/web/201704083404/https://www.numbeo.com/cost-of-living/country_result.jsp?country=United+States\")\n",
    "table_17= table_17[3]"
   ]
  }
 ],
 "metadata": {
  "kernelspec": {
   "display_name": "Python 3",
   "language": "python",
   "name": "python3"
  },
  "language_info": {
   "codemirror_mode": {
    "name": "ipython",
    "version": 3
   },
   "file_extension": ".py",
   "mimetype": "text/x-python",
   "name": "python",
   "nbconvert_exporter": "python",
   "pygments_lexer": "ipython3",
   "version": "3.8.8"
  }
 },
 "nbformat": 4,
 "nbformat_minor": 5
}
