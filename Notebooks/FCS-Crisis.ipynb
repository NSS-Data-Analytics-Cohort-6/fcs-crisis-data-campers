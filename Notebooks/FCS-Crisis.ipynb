{
 "cells": [
  {
   "cell_type": "code",
   "execution_count": null,
   "id": "9d11460e",
   "metadata": {},
   "outputs": [],
   "source": [
    "import pandas as pd\n",
    "import numpy as np\n",
    "import matplotlib.pyplot as plt\n",
    "%matplotlib inline\n",
    "import seaborn as sns\n",
    "import requests as re"
   ]
  },
  {
   "cell_type": "code",
   "execution_count": null,
   "id": "2fcd862d",
   "metadata": {},
   "outputs": [],
   "source": [
    "pd.set_option('display.max_rows', 500)\n",
    "pd.set_option('display.max_columns', 500)\n",
    "pd.set_option('display.width', 1000)"
   ]
  },
  {
   "cell_type": "markdown",
   "id": "8af92d42",
   "metadata": {},
   "source": [
    "### Read the CSVs for NSSCrisisv1, NSSCrisisv2, CC2020, CC2021, CC2022"
   ]
  },
  {
   "cell_type": "code",
   "execution_count": null,
   "id": "6c74bd6d",
   "metadata": {
    "scrolled": true
   },
   "outputs": [],
   "source": [
    "NSSCrisisv1 = pd.read_csv('../data/NSSCrisisv.1.csv')\n",
    "print(NSSCrisisv1.shape)\n",
    "NSSCrisisv1.head(3) "
   ]
  },
  {
   "cell_type": "code",
   "execution_count": null,
   "id": "e35e41cd",
   "metadata": {},
   "outputs": [],
   "source": [
    "header_row = NSSCrisisv1.iloc[1]\n",
    "NSSCrisisv1 = pd.DataFrame(NSSCrisisv1.values[2:], columns=header_row)\n",
    "NSSCrisisv1.head()"
   ]
  },
  {
   "cell_type": "code",
   "execution_count": null,
   "id": "e5f0df42",
   "metadata": {},
   "outputs": [],
   "source": [
    "NSSCrisisv2 = pd.read_csv('../data/NSSCrisisv.2.csv')\n",
    "print(NSSCrisisv2.shape) \n",
    "NSSCrisisv2.head(3)"
   ]
  },
  {
   "cell_type": "code",
   "execution_count": null,
   "id": "3ba6e136",
   "metadata": {},
   "outputs": [],
   "source": [
    "header_row2 = NSSCrisisv2.iloc[1]\n",
    "NSSCrisisv2 = pd.DataFrame(NSSCrisisv2.values[2:], columns=header_row2)\n",
    "NSSCrisisv2.head()"
   ]
  },
  {
   "cell_type": "code",
   "execution_count": null,
   "id": "0048b372",
   "metadata": {},
   "outputs": [],
   "source": [
    "CC2020 = pd.read_csv('../data/2020CallCenterVolume.csv')\n",
    "CC2021 = pd.read_csv('../data/2021CallCenterVolume.csv')\n",
    "CC2022 = pd.read_csv('../data/2022CallCenterVolume.csv')"
   ]
  },
  {
   "cell_type": "code",
   "execution_count": null,
   "id": "7a74106e",
   "metadata": {},
   "outputs": [],
   "source": [
    "CC2022.head()"
   ]
  },
  {
   "cell_type": "code",
   "execution_count": null,
   "id": "f12d31b8",
   "metadata": {},
   "outputs": [],
   "source": [
    "##Reading the column names. FYI - This will only show the entire list IF you do the set the display options in step 2 above.\n",
    "NSSCrisisv1.dtypes"
   ]
  },
  {
   "cell_type": "markdown",
   "id": "d0fb4ce3",
   "metadata": {},
   "source": [
    "### Code below removes all the columns that have no data at all."
   ]
  },
  {
   "cell_type": "code",
   "execution_count": null,
   "id": "1ff5beca",
   "metadata": {},
   "outputs": [],
   "source": [
    "NSSCrisisv1.dropna(how='all', axis=1, inplace=True)"
   ]
  },
  {
   "cell_type": "code",
   "execution_count": null,
   "id": "0723bd50",
   "metadata": {},
   "outputs": [],
   "source": [
    "NSSCrisisv2.dropna(how='all', axis=1, inplace=True)"
   ]
  },
  {
   "cell_type": "code",
   "execution_count": null,
   "id": "933bc627",
   "metadata": {},
   "outputs": [],
   "source": [
    "### This will remove columns that have 98% null values in the columns.\n",
    "\n",
    "#pct_null = crisis1_df.isnull().sum() / len(crisis1_df)\n",
    "#missing_features = pct_null[pct_null > 0.98].index\n",
    "#crisis1_df.drop(missing_features, axis=1, inplace=True)\n"
   ]
  },
  {
   "cell_type": "code",
   "execution_count": null,
   "id": "2c1fad52",
   "metadata": {},
   "outputs": [],
   "source": []
  }
 ],
 "metadata": {
  "kernelspec": {
   "display_name": "Python 3",
   "language": "python",
   "name": "python3"
  },
  "language_info": {
   "codemirror_mode": {
    "name": "ipython",
    "version": 3
   },
   "file_extension": ".py",
   "mimetype": "text/x-python",
   "name": "python",
   "nbconvert_exporter": "python",
   "pygments_lexer": "ipython3",
   "version": "3.8.8"
  }
 },
 "nbformat": 4,
 "nbformat_minor": 5
}
