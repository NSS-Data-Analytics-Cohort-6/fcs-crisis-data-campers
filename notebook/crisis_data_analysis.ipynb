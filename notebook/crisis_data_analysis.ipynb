{
 "cells": [
  {
   "cell_type": "code",
   "execution_count": null,
   "id": "fe9349b7",
   "metadata": {},
   "outputs": [],
   "source": [
    "import pandas as pd\n",
    "import numpy as np\n",
    "import matplotlib.pyplot as plt\n",
    "%matplotlib inline\n",
    "pd.set_option('display.max_rows', 500)\n",
    "pd.set_option('display.max_columns', 500)\n",
    "pd.set_option('display.width', 1000)"
   ]
  },
  {
   "cell_type": "code",
   "execution_count": null,
   "id": "6b2055e9",
   "metadata": {},
   "outputs": [],
   "source": [
    "cv1 = pd.read_excel('C:/Users/iulia/Documents/NSS/projects/fcs-crisis-data-campers/data/NSSCrisisv.1.xlsx')\n",
    "cv1_df= pd.DataFrame(cv1)"
   ]
  },
  {
   "cell_type": "code",
   "execution_count": null,
   "id": "bbfe4df5",
   "metadata": {},
   "outputs": [],
   "source": [
    "cv1_df"
   ]
  },
  {
   "cell_type": "code",
   "execution_count": null,
   "id": "f4929896",
   "metadata": {},
   "outputs": [],
   "source": [
    "cv2 = pd.read_excel('C:/Users/iulia/Documents/NSS/projects/fcs-crisis-data-campers/data/NSSCrisisv.2.xlsx')\n",
    "cv2_df= pd.DataFrame(cv2)"
   ]
  },
  {
   "cell_type": "code",
   "execution_count": null,
   "id": "c6da78ad",
   "metadata": {},
   "outputs": [],
   "source": [
    "cv2_df"
   ]
  },
  {
   "cell_type": "code",
   "execution_count": null,
   "id": "80a1529e",
   "metadata": {},
   "outputs": [],
   "source": [
    "samecolumnsdf =pd.DataFrame(cv1_df.columns.intersection(cv2_df.columns))"
   ]
  },
  {
   "cell_type": "code",
   "execution_count": null,
   "id": "e63e7e00",
   "metadata": {},
   "outputs": [],
   "source": [
    "samecolumnsdf"
   ]
  },
  {
   "cell_type": "code",
   "execution_count": null,
   "id": "353f6fe8",
   "metadata": {},
   "outputs": [],
   "source": [
    "cv_total = pd.ExcelFile('C:/Users/iulia/Documents/NSS/projects/fcs-crisis-data-campers/data/Contact center call volume_2020-2022.xlsx')"
   ]
  },
  {
   "cell_type": "code",
   "execution_count": null,
   "id": "9b495bcd",
   "metadata": {},
   "outputs": [],
   "source": [
    "cv_total_2020 = pd.read_excel(cv_total,'2020',header=23, usecols='A:I')"
   ]
  },
  {
   "cell_type": "code",
   "execution_count": null,
   "id": "cbba2244",
   "metadata": {},
   "outputs": [],
   "source": [
    "cv_total_2020.head(30)"
   ]
  },
  {
   "cell_type": "code",
   "execution_count": null,
   "id": "d62d901f",
   "metadata": {},
   "outputs": [],
   "source": [
    "cv_total_2021 = pd.read_excel(cv_total, '2021')\n",
    "cv_total_2022 = pd.read_excel(cv_total, '2022')"
   ]
  },
  {
   "cell_type": "code",
   "execution_count": null,
   "id": "a0d44f5b",
   "metadata": {},
   "outputs": [],
   "source": [
    "cv_total_2021"
   ]
  },
  {
   "cell_type": "code",
   "execution_count": null,
   "id": "bb7e7349",
   "metadata": {},
   "outputs": [],
   "source": [
    "cv_total_2022"
   ]
  },
  {
   "cell_type": "code",
   "execution_count": null,
   "id": "fc95878c",
   "metadata": {},
   "outputs": [],
   "source": []
  }
 ],
 "metadata": {
  "kernelspec": {
   "display_name": "Python 3 (ipykernel)",
   "language": "python",
   "name": "python3"
  },
  "language_info": {
   "codemirror_mode": {
    "name": "ipython",
    "version": 3
   },
   "file_extension": ".py",
   "mimetype": "text/x-python",
   "name": "python",
   "nbconvert_exporter": "python",
   "pygments_lexer": "ipython3",
   "version": "3.9.7"
  }
 },
 "nbformat": 4,
 "nbformat_minor": 5
}
