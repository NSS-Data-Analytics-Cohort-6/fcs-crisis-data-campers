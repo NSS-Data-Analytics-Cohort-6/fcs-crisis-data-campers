{
 "cells": [
  {
   "cell_type": "code",
   "execution_count": null,
   "id": "8654f033",
   "metadata": {},
   "outputs": [],
   "source": [
    "import pandas as pd\n",
    "import numpy as np\n",
    "import matplotlib.pyplot as plt\n",
    "import datetime\n",
    "\n",
    "#view all all columns for large df\n",
    "pd.set_option('display.max_rows', 500)\n",
    "pd.set_option('display.max_columns', 500)\n",
    "pd.set_option('display.width', 1000)\n",
    "\n",
    "%matplotlib inline\n",
    "import seaborn as sns"
   ]
  },
  {
   "cell_type": "code",
   "execution_count": null,
   "id": "57e14c83",
   "metadata": {},
   "outputs": [],
   "source": [
    "cv1 = pd.read_excel('C:/Users/iulia/Documents/NSS/projects/fcs-crisis-data-campers/data/NSSCrisisv.1.xlsx')\n",
    "cv1_df= pd.DataFrame(cv1)"
   ]
  },
  {
   "cell_type": "code",
   "execution_count": null,
   "id": "8d83c34f",
   "metadata": {},
   "outputs": [],
   "source": [
    "cv1_df"
   ]
  },
  {
   "cell_type": "code",
   "execution_count": null,
   "id": "183cfe2a",
   "metadata": {},
   "outputs": [],
   "source": [
    "cv1_df.info()"
   ]
  },
  {
   "cell_type": "code",
   "execution_count": null,
   "id": "0e65bb82",
   "metadata": {},
   "outputs": [],
   "source": [
    "cv1_df.isnull().sum()"
   ]
  },
  {
   "cell_type": "code",
   "execution_count": null,
   "id": "694adbbc",
   "metadata": {},
   "outputs": [],
   "source": [
    "cv2 = pd.read_excel('C:/Users/iulia/Documents/NSS/projects/fcs-crisis-data-campers/data/NSSCrisisv.2.xlsx')\n",
    "cv2_df= pd.DataFrame(cv2)"
   ]
  },
  {
   "cell_type": "code",
   "execution_count": null,
   "id": "89342b69",
   "metadata": {},
   "outputs": [],
   "source": [
    "cv2_df"
   ]
  },
  {
   "cell_type": "code",
   "execution_count": null,
   "id": "0e69b0e7",
   "metadata": {},
   "outputs": [],
   "source": [
    "cv2_df.info()"
   ]
  },
  {
   "cell_type": "code",
   "execution_count": null,
   "id": "b6342e6f",
   "metadata": {},
   "outputs": [],
   "source": [
    "cv2_df.isnull().sum()"
   ]
  },
  {
   "cell_type": "code",
   "execution_count": null,
   "id": "9e3a3712",
   "metadata": {},
   "outputs": [],
   "source": [
    "labels = list()\n",
    "for col in cv2_df.columns:\n",
    "    labels.append(col.replace('Subjective', 'Issues'))\n",
    "cv2_df.columns = labels"
   ]
  },
  {
   "cell_type": "code",
   "execution_count": null,
   "id": "274111d8",
   "metadata": {},
   "outputs": [],
   "source": [
    "filter_col = [col for col in cv1_df if col.startswith('CRISIS Issues') or col.startswith('Call')]\n",
    "cv1_df_sub = cv1_df[filter_col]\n",
    "cv1_df_sub"
   ]
  },
  {
   "cell_type": "code",
   "execution_count": null,
   "id": "2d97c0d0",
   "metadata": {},
   "outputs": [],
   "source": [
    "filter_col = [col for col in cv2_df if col.startswith('CRISIS Issues') or col.startswith('Call')]\n",
    "cv2_df_sub = cv2_df[filter_col]\n",
    "cv2_df_sub"
   ]
  },
  {
   "cell_type": "code",
   "execution_count": null,
   "id": "e3cba194",
   "metadata": {},
   "outputs": [],
   "source": [
    "frames = [cv1_df_sub,cv2_df_sub]\n",
    "df_combined = pd.concat(frames)"
   ]
  },
  {
   "cell_type": "code",
   "execution_count": null,
   "id": "1ddd8de3",
   "metadata": {},
   "outputs": [],
   "source": [
    "df_combined "
   ]
  },
  {
   "cell_type": "code",
   "execution_count": null,
   "id": "fc6cc3ec",
   "metadata": {},
   "outputs": [],
   "source": [
    "df_combined.drop(['CallersFeedback'], axis=1)"
   ]
  },
  {
   "cell_type": "code",
   "execution_count": null,
   "id": "8654b0d5",
   "metadata": {},
   "outputs": [],
   "source": [
    "df_combined.isnull().sum()"
   ]
  },
  {
   "cell_type": "code",
   "execution_count": null,
   "id": "a919e11c",
   "metadata": {},
   "outputs": [],
   "source": [
    "df_combined['Year'] = pd.DatetimeIndex(df_combined['CallDateAndTimeStart']).year\n",
    "df_combined['Month_Number'] = pd.DatetimeIndex(df_combined['CallDateAndTimeStart']).month\n",
    "df_combined['Month_Name'] = pd.DatetimeIndex(df_combined['CallDateAndTimeStart']).month_name()\n",
    "df_combined['Day'] = pd.DatetimeIndex(df_combined['CallDateAndTimeStart']).day\n",
    "df_combined['Day_Number'] = pd.DatetimeIndex(df_combined['CallDateAndTimeStart']).day_of_week\n",
    "df_combined['Day_Name'] = pd.DatetimeIndex(df_combined['CallDateAndTimeStart']).day_name()\n",
    "df_combined"
   ]
  },
  {
   "cell_type": "code",
   "execution_count": null,
   "id": "8116e3f2",
   "metadata": {},
   "outputs": [],
   "source": [
    "df_combined.info()"
   ]
  },
  {
   "cell_type": "markdown",
   "id": "440ff460",
   "metadata": {},
   "source": [
    "## Rob's code to count speccific values in the column"
   ]
  },
  {
   "cell_type": "code",
   "execution_count": null,
   "id": "c377b7b8",
   "metadata": {},
   "outputs": [],
   "source": [
    "mental_health_df = df_combined['CRISIS Issues - Mental Health'].notnull()"
   ]
  },
  {
   "cell_type": "code",
   "execution_count": null,
   "id": "6c6adbe2",
   "metadata": {},
   "outputs": [],
   "source": [
    "mental_health_df = df_combined[mental_health_df]"
   ]
  },
  {
   "cell_type": "code",
   "execution_count": null,
   "id": "a8dc7d99",
   "metadata": {},
   "outputs": [],
   "source": [
    "count = []\n",
    "\n",
    "for x in mental_health_df['CRISIS Issues - Mental Health']:\n",
    "    counter0 = x.count(\";\") + 1   \n",
    "    count.append(counter0)\n"
   ]
  },
  {
   "cell_type": "code",
   "execution_count": null,
   "id": "d243ed2c",
   "metadata": {},
   "outputs": [],
   "source": [
    "mental_health_df['MH_Issues_Count'] = count"
   ]
  },
  {
   "cell_type": "code",
   "execution_count": null,
   "id": "a20bed37",
   "metadata": {},
   "outputs": [],
   "source": [
    "mental_health_df"
   ]
  },
  {
   "cell_type": "code",
   "execution_count": null,
   "id": "c3645aaa",
   "metadata": {},
   "outputs": [],
   "source": [
    "crisis_by_caller = df_combined.drop(['CallDateAndTimeStart','CallDateAndTimeEnd','CallLength','CallerNum','CallersFeedback','Day_Number','Day','Day_Name'], axis=1)\n",
    "crisis_by_caller"
   ]
  },
  {
   "cell_type": "code",
   "execution_count": null,
   "id": "6feb691f",
   "metadata": {},
   "outputs": [],
   "source": [
    "crisis_by_caller_new = crisis_by_caller.groupby([\"CallReportNum\",\"Year\",\"Month_Name\",\"Month_Number\"]).count().reset_index()\n",
    "crisis_by_caller_new"
   ]
  },
  {
   "cell_type": "code",
   "execution_count": null,
   "id": "e3c7350e",
   "metadata": {},
   "outputs": [],
   "source": [
    "crisis_by_caller_new.info()"
   ]
  },
  {
   "cell_type": "code",
   "execution_count": null,
   "id": "4fc4db1a",
   "metadata": {},
   "outputs": [],
   "source": [
    "crisis_by_caller_new[\"CallReportNum\"] = crisis_by_caller_new[\"CallReportNum\"].astype(str)\n",
    "crisis_by_caller_new[\"Year\"] = crisis_by_caller_new[\"Year\"].astype(str)\n",
    "crisis_by_caller_new[\"Month_Number\"] = crisis_by_caller_new[\"Month_Number\"].astype(str)"
   ]
  },
  {
   "cell_type": "code",
   "execution_count": null,
   "id": "0aa0ebaf",
   "metadata": {},
   "outputs": [],
   "source": [
    "crisis_by_caller_new.info()"
   ]
  },
  {
   "cell_type": "code",
   "execution_count": null,
   "id": "d0dab715",
   "metadata": {},
   "outputs": [],
   "source": [
    "crisis_by_caller_new['Totals'] = crisis_by_caller_new.sum(axis=1)\n",
    "crisis_by_caller_new"
   ]
  },
  {
   "cell_type": "code",
   "execution_count": null,
   "id": "363b5039",
   "metadata": {},
   "outputs": [],
   "source": [
    "crisis_by_month = crisis_by_caller_new.groupby([\"Year\",\"Month_Name\",\"Month_Number\"]).agg({\"CallReportNum\":'count', \"Totals\": 'sum'}).reset_index()\n",
    "crisis_by_month"
   ]
  },
  {
   "cell_type": "code",
   "execution_count": null,
   "id": "b5b8114f",
   "metadata": {},
   "outputs": [],
   "source": [
    "crisis_by_month.info()"
   ]
  },
  {
   "cell_type": "markdown",
   "id": "4f8622c1",
   "metadata": {},
   "source": [
    "### Average Number of Issues per call based on the month"
   ]
  },
  {
   "cell_type": "code",
   "execution_count": null,
   "id": "f62ccfdc",
   "metadata": {},
   "outputs": [],
   "source": [
    "crisis_by_month[\"Average\"] = crisis_by_month [\"Totals\"] / crisis_by_month [\"CallReportNum\"]\n",
    "crisis_by_month"
   ]
  },
  {
   "cell_type": "code",
   "execution_count": null,
   "id": "1a2a0477",
   "metadata": {},
   "outputs": [],
   "source": [
    "crisis_by_caller2 = df_combined.drop(['CallDateAndTimeStart','CallDateAndTimeEnd','CallLength','CallerNum','CallersFeedback','Day_Number','Day'], axis=1)\n",
    "crisis_by_caller2"
   ]
  },
  {
   "cell_type": "code",
   "execution_count": null,
   "id": "731425f6",
   "metadata": {},
   "outputs": [],
   "source": [
    "crisis_by_caller_new2 = crisis_by_caller2.groupby([\"CallReportNum\",\"Year\",\"Month_Name\",\"Day_Name\",\"Month_Number\"]).count().reset_index()\n",
    "crisis_by_caller_new2"
   ]
  },
  {
   "cell_type": "code",
   "execution_count": null,
   "id": "885e0338",
   "metadata": {},
   "outputs": [],
   "source": [
    "crisis_by_caller_new2.info()"
   ]
  },
  {
   "cell_type": "code",
   "execution_count": null,
   "id": "713ddcee",
   "metadata": {},
   "outputs": [],
   "source": [
    "crisis_by_caller_new2[\"CallReportNum\"] = crisis_by_caller_new2[\"CallReportNum\"].astype(str)\n",
    "crisis_by_caller_new2[\"Year\"] = crisis_by_caller_new2[\"Year\"].astype(str)\n",
    "crisis_by_caller_new2[\"Month_Number\"] = crisis_by_caller_new2[\"Month_Number\"].astype(str)"
   ]
  },
  {
   "cell_type": "code",
   "execution_count": null,
   "id": "c4c56863",
   "metadata": {},
   "outputs": [],
   "source": [
    "crisis_by_caller_new2['Totals'] = crisis_by_caller_new2.sum(axis=1)\n",
    "crisis_by_caller_new2"
   ]
  },
  {
   "cell_type": "code",
   "execution_count": null,
   "id": "a27edb8e",
   "metadata": {},
   "outputs": [],
   "source": [
    "crisis_by_day = crisis_by_caller_new2.groupby([\"Year\",\"Month_Name\",\"Day_Name\",\"Month_Number\"]).agg({\"CallReportNum\":'count', \"Totals\": 'sum'}).reset_index()\n",
    "crisis_by_day"
   ]
  },
  {
   "cell_type": "markdown",
   "id": "3522ae12",
   "metadata": {},
   "source": [
    "### Average Number of Issues per call based on the day of the week"
   ]
  },
  {
   "cell_type": "code",
   "execution_count": null,
   "id": "94cd2f7b",
   "metadata": {},
   "outputs": [],
   "source": [
    "crisis_by_day[\"Average\"] = crisis_by_day[\"Totals\"] / crisis_by_day [\"CallReportNum\"]\n",
    "crisis_by_day"
   ]
  },
  {
   "cell_type": "code",
   "execution_count": null,
   "id": "818de23d",
   "metadata": {},
   "outputs": [],
   "source": [
    "plt.bar(\"Month_Name\",\"Average\", align='center', alpha=0.5)"
   ]
  },
  {
   "cell_type": "code",
   "execution_count": null,
   "id": "388bc325",
   "metadata": {},
   "outputs": [],
   "source": []
  }
 ],
 "metadata": {
  "kernelspec": {
   "display_name": "Python 3 (ipykernel)",
   "language": "python",
   "name": "python3"
  },
  "language_info": {
   "codemirror_mode": {
    "name": "ipython",
    "version": 3
   },
   "file_extension": ".py",
   "mimetype": "text/x-python",
   "name": "python",
   "nbconvert_exporter": "python",
   "pygments_lexer": "ipython3",
   "version": "3.9.7"
  }
 },
 "nbformat": 4,
 "nbformat_minor": 5
}
