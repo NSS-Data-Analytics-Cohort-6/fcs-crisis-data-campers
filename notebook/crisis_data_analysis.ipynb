{
 "cells": [
  {
   "cell_type": "code",
   "execution_count": null,
   "id": "8654f033",
   "metadata": {},
   "outputs": [],
   "source": [
    "import pandas as pd\n",
    "import numpy as np\n",
    "import matplotlib.pyplot as plt\n",
    "import datetime\n",
    "\n",
    "#view all all columns for large df\n",
    "pd.set_option('display.max_rows', 500)\n",
    "pd.set_option('display.max_columns', 500)\n",
    "pd.set_option('display.width', 1000)\n",
    "\n",
    "%matplotlib inline\n",
    "import seaborn as sns"
   ]
  },
  {
   "cell_type": "code",
   "execution_count": null,
   "id": "57e14c83",
   "metadata": {},
   "outputs": [],
   "source": [
    "cv1 = pd.read_excel('C:/Users/iulia/Documents/NSS/projects/fcs-crisis-data-campers/data/NSSCrisisv.1.xlsx')\n",
    "cv1_df= pd.DataFrame(cv1)"
   ]
  },
  {
   "cell_type": "code",
   "execution_count": null,
   "id": "8d83c34f",
   "metadata": {},
   "outputs": [],
   "source": [
    "cv1_df"
   ]
  },
  {
   "cell_type": "code",
   "execution_count": null,
   "id": "0102f2ca",
   "metadata": {},
   "outputs": [],
   "source": [
    "cv1_df.info()"
   ]
  },
  {
   "cell_type": "code",
   "execution_count": null,
   "id": "cc6b3335",
   "metadata": {},
   "outputs": [],
   "source": [
    "cv1_df.isnull().sum()"
   ]
  },
  {
   "cell_type": "code",
   "execution_count": null,
   "id": "694adbbc",
   "metadata": {},
   "outputs": [],
   "source": [
    "cv2 = pd.read_excel('C:/Users/iulia/Documents/NSS/projects/fcs-crisis-data-campers/data/NSSCrisisv.2.xlsx')\n",
    "cv2_df= pd.DataFrame(cv2)"
   ]
  },
  {
   "cell_type": "code",
   "execution_count": null,
   "id": "89342b69",
   "metadata": {},
   "outputs": [],
   "source": [
    "cv2_df"
   ]
  },
  {
   "cell_type": "code",
   "execution_count": null,
   "id": "0e69b0e7",
   "metadata": {},
   "outputs": [],
   "source": [
    "cv2_df.info()"
   ]
  },
  {
   "cell_type": "code",
   "execution_count": null,
   "id": "822e7a4b",
   "metadata": {},
   "outputs": [],
   "source": [
    "cv2_df.isnull().sum()"
   ]
  },
  {
   "cell_type": "code",
   "execution_count": null,
   "id": "2918144d",
   "metadata": {},
   "outputs": [],
   "source": [
    "labels = list()\n",
    "for col in cv2_df.columns:\n",
    "    labels.append(col.replace('Subjective', 'Issues'))\n",
    "cv2_df.columns = labels"
   ]
  },
  {
   "cell_type": "code",
   "execution_count": null,
   "id": "9e51b3ac",
   "metadata": {},
   "outputs": [],
   "source": [
    "filter_col = [col for col in cv1_df if col.startswith('CRISIS Issues') or col.startswith('Call')]\n",
    "cv1_df_sub = cv1_df[filter_col]\n",
    "cv1_df_sub"
   ]
  },
  {
   "cell_type": "code",
   "execution_count": null,
   "id": "41706341",
   "metadata": {},
   "outputs": [],
   "source": [
    "filter_col = [col for col in cv2_df if col.startswith('CRISIS Issues') or col.startswith('Call')]\n",
    "cv2_df_sub = cv2_df[filter_col]\n",
    "cv2_df_sub"
   ]
  },
  {
   "cell_type": "code",
   "execution_count": null,
   "id": "73d65c0e",
   "metadata": {},
   "outputs": [],
   "source": [
    "frames = [cv1_df_sub,cv2_df_sub]\n",
    "df_combined = pd.concat(frames)"
   ]
  },
  {
   "cell_type": "code",
   "execution_count": null,
   "id": "623a93eb",
   "metadata": {},
   "outputs": [],
   "source": [
    "df_combined "
   ]
  },
  {
   "cell_type": "code",
   "execution_count": null,
   "id": "b845ea64",
   "metadata": {},
   "outputs": [],
   "source": [
    "df_combined.drop(['CallersFeedback'], axis=1)"
   ]
  },
  {
   "cell_type": "code",
   "execution_count": null,
   "id": "6bd7b5a2",
   "metadata": {},
   "outputs": [],
   "source": [
    "df_combined.isnull().sum()"
   ]
  },
  {
   "cell_type": "code",
   "execution_count": null,
   "id": "ea5deff6",
   "metadata": {},
   "outputs": [],
   "source": [
    "df_combined['Year'] = pd.DatetimeIndex(df_combined['CallDateAndTimeStart']).year\n",
    "df_combined['Month_Number'] = pd.DatetimeIndex(df_combined['CallDateAndTimeStart']).month\n",
    "df_combined['Month_Name'] = pd.DatetimeIndex(df_combined['CallDateAndTimeStart']).month_name()\n",
    "df_combined['Day'] = pd.DatetimeIndex(df_combined['CallDateAndTimeStart']).day\n",
    "df_combined['Day_Number'] = pd.DatetimeIndex(df_combined['CallDateAndTimeStart']).day_of_week\n",
    "df_combined['Day_Name'] = pd.DatetimeIndex(df_combined['CallDateAndTimeStart']).day_name()\n",
    "df_combined"
   ]
  },
  {
   "cell_type": "code",
   "execution_count": null,
   "id": "f637dc27",
   "metadata": {},
   "outputs": [],
   "source": [
    "df_combined.info()"
   ]
  },
  {
   "cell_type": "markdown",
   "id": "9f104f6b",
   "metadata": {},
   "source": [
    "## Rob's code to count speccific values in the column"
   ]
  },
  {
   "cell_type": "code",
   "execution_count": null,
   "id": "458c7060",
   "metadata": {},
   "outputs": [],
   "source": [
    "mental_health_df = df_combined['CRISIS Issues - Mental Health'].notnull()"
   ]
  },
  {
   "cell_type": "code",
   "execution_count": null,
   "id": "67641943",
   "metadata": {},
   "outputs": [],
   "source": [
    "mental_health_df = df_combined[mental_health_df]"
   ]
  },
  {
   "cell_type": "code",
   "execution_count": null,
   "id": "580a6a3d",
   "metadata": {},
   "outputs": [],
   "source": [
    "count = []\n",
    "\n",
    "for x in mental_health_df['CRISIS Issues - Mental Health']:\n",
    "    counter0 = x.count(\";\") + 1   \n",
    "    count.append(counter0)\n"
   ]
  },
  {
   "cell_type": "code",
   "execution_count": null,
   "id": "ef52cb49",
   "metadata": {},
   "outputs": [],
   "source": [
    "mental_health_df['MH_Issues_Count'] = count"
   ]
  },
  {
   "cell_type": "code",
   "execution_count": null,
   "id": "9f1ec405",
   "metadata": {},
   "outputs": [],
   "source": [
    "mental_health_df"
   ]
  },
  {
   "cell_type": "code",
   "execution_count": null,
   "id": "6d8e4cd0",
   "metadata": {},
   "outputs": [],
   "source": [
    "crisis_by_caller = df_combined.drop(['CallDateAndTimeStart','CallDateAndTimeEnd','CallLength','CallerNum','CallersFeedback','Day_Number','Day','Day_Name'], axis=1)\n",
    "crisis_by_caller"
   ]
  },
  {
   "cell_type": "code",
   "execution_count": null,
   "id": "9fa4cb83",
   "metadata": {},
   "outputs": [],
   "source": [
    "crisis_by_caller_new = crisis_by_caller.groupby([\"CallReportNum\",\"Year\",\"Month_Name\",\"Month_Number\"]).count().reset_index()\n",
    "crisis_by_caller_new"
   ]
  },
  {
   "cell_type": "code",
   "execution_count": null,
   "id": "de0ecb8b",
   "metadata": {},
   "outputs": [],
   "source": [
    "crisis_by_caller_new.info()"
   ]
  },
  {
   "cell_type": "code",
   "execution_count": null,
   "id": "ef616da4",
   "metadata": {},
   "outputs": [],
   "source": [
    "crisis_by_caller_new[\"CallReportNum\"] = crisis_by_caller_new[\"CallReportNum\"].astype(str)\n",
    "crisis_by_caller_new[\"Year\"] = crisis_by_caller_new[\"Year\"].astype(str)\n",
    "crisis_by_caller_new[\"Month_Number\"] = crisis_by_caller_new[\"Month_Number\"].astype(str)"
   ]
  },
  {
   "cell_type": "code",
   "execution_count": null,
   "id": "85ab20d1",
   "metadata": {},
   "outputs": [],
   "source": [
    "crisis_by_caller_new.info()"
   ]
  },
  {
   "cell_type": "code",
   "execution_count": null,
   "id": "cd7d1e24",
   "metadata": {},
   "outputs": [],
   "source": [
    "crisis_by_caller_new['Totals'] = crisis_by_caller_new.sum(axis=1)\n",
    "crisis_by_caller_new"
   ]
  },
  {
   "cell_type": "code",
   "execution_count": null,
   "id": "aaafc3e9",
   "metadata": {},
   "outputs": [],
   "source": [
    "crisis_by_year = crisis_by_caller_new.groupby([\"Year\"]).agg({\"CallReportNum\":'count', \"Totals\": 'sum'}).reset_index()\n",
    "crisis_by_year"
   ]
  },
  {
   "cell_type": "markdown",
   "id": "caecb2e1",
   "metadata": {},
   "source": [
    "### Average Number of Issue per call a year"
   ]
  },
  {
   "cell_type": "code",
   "execution_count": null,
   "id": "f78d2efa",
   "metadata": {},
   "outputs": [],
   "source": [
    "crisis_by_year[\"Average\"] = crisis_by_year[\"Totals\"] /crisis_by_year [\"CallReportNum\"]\n",
    "crisis_by_year"
   ]
  },
  {
   "cell_type": "code",
   "execution_count": null,
   "id": "20bcde66",
   "metadata": {},
   "outputs": [],
   "source": [
    "crisis_by_month = crisis_by_caller_new.groupby([\"Year\",\"Month_Name\",\"Month_Number\"]).agg({\"CallReportNum\":'count', \"Totals\": 'sum'}).reset_index()\n",
    "crisis_by_month"
   ]
  },
  {
   "cell_type": "code",
   "execution_count": null,
   "id": "0aea1714",
   "metadata": {},
   "outputs": [],
   "source": [
    "crisis_by_month[\"Month_Number\"] = crisis_by_month[\"Month_Number\"].astype(int)"
   ]
  },
  {
   "cell_type": "code",
   "execution_count": null,
   "id": "553c7df2",
   "metadata": {},
   "outputs": [],
   "source": [
    "crisis_by_month.info()"
   ]
  },
  {
   "cell_type": "markdown",
   "id": "850d8a5b",
   "metadata": {},
   "source": [
    "### Average Number of Issues per call based on the month"
   ]
  },
  {
   "cell_type": "code",
   "execution_count": null,
   "id": "ae15392e",
   "metadata": {},
   "outputs": [],
   "source": [
    "crisis_by_month[\"Average\"] = crisis_by_month [\"Totals\"] / crisis_by_month [\"CallReportNum\"]\n",
    "crisis_by_month"
   ]
  },
  {
   "cell_type": "code",
   "execution_count": null,
   "id": "55b7baf0",
   "metadata": {},
   "outputs": [],
   "source": [
    "crisis_by_month_sorted = crisis_by_month.sort_values(by = ['Year','Month_Number'],ascending=[True,True])\n",
    "crisis_by_month_sorted"
   ]
  },
  {
   "cell_type": "code",
   "execution_count": null,
   "id": "8e9bcee5",
   "metadata": {},
   "outputs": [],
   "source": [
    "crisis_by_month_pivot = crisis_by_month_sorted.pivot(index = 'Year',columns= 'Month_Name', values ='Average')\n",
    "crisis_by_month_pivot"
   ]
  },
  {
   "cell_type": "code",
   "execution_count": null,
   "id": "d9beea62",
   "metadata": {},
   "outputs": [],
   "source": [
    "crisis_by_caller2 = df_combined.drop(['CallDateAndTimeStart','CallDateAndTimeEnd','CallLength','CallerNum','CallersFeedback','Day'], axis=1)\n",
    "crisis_by_caller2"
   ]
  },
  {
   "cell_type": "code",
   "execution_count": null,
   "id": "1b228880",
   "metadata": {},
   "outputs": [],
   "source": [
    "crisis_by_caller_new2 = crisis_by_caller2.groupby([\"CallReportNum\",\"Year\",\"Month_Name\",\"Day_Name\",\"Month_Number\",\"Day_Number\"]).count().reset_index()\n",
    "crisis_by_caller_new2"
   ]
  },
  {
   "cell_type": "code",
   "execution_count": null,
   "id": "49772876",
   "metadata": {},
   "outputs": [],
   "source": [
    "crisis_by_caller_new2.info()"
   ]
  },
  {
   "cell_type": "code",
   "execution_count": null,
   "id": "f06c78c9",
   "metadata": {},
   "outputs": [],
   "source": [
    "crisis_by_caller_new2[\"CallReportNum\"] = crisis_by_caller_new2[\"CallReportNum\"].astype(str)\n",
    "crisis_by_caller_new2[\"Year\"] = crisis_by_caller_new2[\"Year\"].astype(str)\n",
    "crisis_by_caller_new2[\"Month_Number\"] = crisis_by_caller_new2[\"Month_Number\"].astype(str)\n",
    "crisis_by_caller_new2[\"Day_Number\"] = crisis_by_caller_new2[\"Day_Number\"].astype(str)"
   ]
  },
  {
   "cell_type": "code",
   "execution_count": null,
   "id": "da50cc50",
   "metadata": {},
   "outputs": [],
   "source": [
    "crisis_by_caller_new2['Totals'] = crisis_by_caller_new2.sum(axis=1)\n",
    "crisis_by_caller_new2"
   ]
  },
  {
   "cell_type": "code",
   "execution_count": null,
   "id": "8a4d0fc1",
   "metadata": {},
   "outputs": [],
   "source": [
    "crisis_by_day = crisis_by_caller_new2.groupby([\"Year\",\"Month_Name\",\"Day_Name\",\"Month_Number\",\"Day_Number\"]).agg({\"CallReportNum\":'count', \"Totals\": 'sum'}).reset_index()\n",
    "crisis_by_day"
   ]
  },
  {
   "cell_type": "code",
   "execution_count": null,
   "id": "636b95ac",
   "metadata": {},
   "outputs": [],
   "source": [
    "crisis_by_day_new = crisis_by_caller_new2.groupby([\"Year\",\"Day_Name\",\"Day_Number\"]).agg({\"CallReportNum\":'count', \"Totals\": 'sum'}).reset_index()\n",
    "crisis_by_day_new"
   ]
  },
  {
   "cell_type": "code",
   "execution_count": null,
   "id": "a34665a0",
   "metadata": {},
   "outputs": [],
   "source": [
    "crisis_by_day_new[\"Day_Number\"] = crisis_by_day_new[\"Day_Number\"].astype(int)"
   ]
  },
  {
   "cell_type": "code",
   "execution_count": null,
   "id": "6722c535",
   "metadata": {},
   "outputs": [],
   "source": [
    "crisis_by_day_new[\"Average\"] = crisis_by_day_new[\"Totals\"] / crisis_by_day [\"CallReportNum\"]\n",
    "crisis_by_day_new"
   ]
  },
  {
   "cell_type": "markdown",
   "id": "e154b10b",
   "metadata": {},
   "source": [
    "### Average Number of Issues per call based on the day of the week"
   ]
  },
  {
   "cell_type": "code",
   "execution_count": null,
   "id": "cca6a035",
   "metadata": {},
   "outputs": [],
   "source": [
    "crisis_by_day[\"Average\"] = crisis_by_day[\"Totals\"] / crisis_by_day [\"CallReportNum\"]"
   ]
  },
  {
   "cell_type": "code",
   "execution_count": null,
   "id": "ae2ba45c",
   "metadata": {},
   "outputs": [],
   "source": [
    "crisis_by_day[\"Month_Number\"] = crisis_by_day[\"Month_Number\"].astype(int)\n",
    "crisis_by_day"
   ]
  },
  {
   "cell_type": "markdown",
   "id": "cd19680d",
   "metadata": {},
   "source": [
    "### Visuals"
   ]
  },
  {
   "cell_type": "code",
   "execution_count": null,
   "id": "910ff26e",
   "metadata": {},
   "outputs": [],
   "source": [
    "sns.set(rc={\"figure.figsize\":(15,11)})\n",
    "sns.axes_style(\"darkgrid\")\n",
    "sns.lineplot('Month_Name', 'Average',hue='Year', data=crisis_by_month_sorted,palette =\"viridis\",lw=3.5)\n",
    "plt.xlabel(None)\n",
    "plt.ylabel('Issue Number')\n",
    "plt.legend(loc=\"upper right\", frameon=True, fontsize=18)\n",
    "plt.title(\"Monthly Average Number of Issues per Call\",fontdict= { 'fontsize': 22, 'verticalalignment': 'center'})\n",
    "plt.tick_params(axis='both', which='major', labelsize=14);"
   ]
  },
  {
   "cell_type": "code",
   "execution_count": null,
   "id": "9f81470a",
   "metadata": {},
   "outputs": [],
   "source": [
    "data = crisis_by_day_new.sort_values(by = ['Year','Day_Number'],ascending=[True,True])\n",
    "sns.set(rc={\"figure.figsize\":(15,11)})\n",
    "sns.barplot('Day_Name', 'Average',hue='Year',data=data,palette=\"viridis\",edgecolor='black')\n",
    "plt.xlabel(None)\n",
    "plt.ylabel('Issue Number')\n",
    "plt.legend(loc='best', frameon=True, fontsize=18)\n",
    "plt.title(\"Daily Average Number of Issues per Call\",fontdict= { 'fontsize': 22, 'verticalalignment': 'center'})\n",
    "plt.tick_params(axis='both', which='major', labelsize=13);"
   ]
  },
  {
   "cell_type": "code",
   "execution_count": null,
   "id": "fda45245",
   "metadata": {},
   "outputs": [],
   "source": [
    "data = crisis_by_day_new.sort_values(by = ['Year','Day_Number'],ascending=[True,True])\n",
    "sns.set(rc={\"figure.figsize\":(15,11)})\n",
    "sns.lineplot('Day_Name', 'Average',hue='Year',data=data,palette=\"viridis\",lw=3.5)\n",
    "plt.xlabel(None)\n",
    "plt.ylabel('Issue Number')\n",
    "plt.legend(loc='best', frameon=True, fontsize=18)\n",
    "plt.title(\"Daily Average Number of Issues per Call\",fontdict= { 'fontsize': 22,'verticalalignment': 'center'})\n",
    "plt.tick_params(axis='both', which='major', labelsize=13);"
   ]
  },
  {
   "cell_type": "code",
   "execution_count": null,
   "id": "a67537d0",
   "metadata": {},
   "outputs": [],
   "source": []
  }
 ],
 "metadata": {
  "kernelspec": {
   "display_name": "Python 3 (ipykernel)",
   "language": "python",
   "name": "python3"
  },
  "language_info": {
   "codemirror_mode": {
    "name": "ipython",
    "version": 3
   },
   "file_extension": ".py",
   "mimetype": "text/x-python",
   "name": "python",
   "nbconvert_exporter": "python",
   "pygments_lexer": "ipython3",
   "version": "3.9.7"
  }
 },
 "nbformat": 4,
 "nbformat_minor": 5
}
