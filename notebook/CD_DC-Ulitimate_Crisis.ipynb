{
 "cells": [
  {
   "cell_type": "code",
   "execution_count": null,
   "id": "e87a7db3",
   "metadata": {},
   "outputs": [],
   "source": [
    "import pandas as pd\n",
    "pd.set_option('display.max_rows', 500)\n",
    "pd.set_option('display.max_columns', 500)\n",
    "pd.set_option('display.width', 1000)\n",
    "import seaborn as sns\n",
    "import matplotlib.pyplot as plt\n",
    "import re\n",
    "import numpy as np"
   ]
  },
  {
   "cell_type": "code",
   "execution_count": null,
   "id": "5932f15f",
   "metadata": {},
   "outputs": [],
   "source": [
    "df1=pd.read_csv(\"../data/NSSCrisisv.1.csv\")\n",
    "df1.head()"
   ]
  },
  {
   "cell_type": "code",
   "execution_count": null,
   "id": "cbfe60d1",
   "metadata": {},
   "outputs": [],
   "source": [
    "header_row = df1.iloc[1]\n",
    "df1 = pd.DataFrame(df1.values[2:], columns=header_row)\n",
    "df1.head()"
   ]
  },
  {
   "cell_type": "code",
   "execution_count": null,
   "id": "00606717",
   "metadata": {},
   "outputs": [],
   "source": [
    "df2=pd.read_csv(\"../data/NSSCrisisv.2.csv\")\n",
    "df2.head(5)"
   ]
  },
  {
   "cell_type": "code",
   "execution_count": null,
   "id": "3e2b2264",
   "metadata": {},
   "outputs": [],
   "source": [
    "header_row = df2.iloc[1]\n",
    "df2 = pd.DataFrame(df2.values[2:], columns=header_row)\n",
    "df2.head()"
   ]
  },
  {
   "cell_type": "code",
   "execution_count": null,
   "id": "de19d73a",
   "metadata": {
    "scrolled": true
   },
   "outputs": [],
   "source": [
    "crisis_call=pd.ExcelFile(\"../data/NSS_Crisis_call.xlsx\")\n",
    "volume2020 = pd.read_excel(crisis_call, \"2020\")\n",
    "volume2021 = pd.read_excel(crisis_call, \"2021\")\n",
    "volume2022 = pd.read_excel(crisis_call, \"2022\")\n",
    "volume2020.head()"
   ]
  },
  {
   "cell_type": "code",
   "execution_count": null,
   "id": "bdc73a37",
   "metadata": {},
   "outputs": [],
   "source": [
    "df1.info()"
   ]
  },
  {
   "cell_type": "markdown",
   "id": "d298f008",
   "metadata": {},
   "source": [
    "## Who works at the call center?"
   ]
  },
  {
   "cell_type": "code",
   "execution_count": null,
   "id": "c869b285",
   "metadata": {},
   "outputs": [],
   "source": [
    "workers=df1.PhoneWorkerName.unique()\n",
    "workers"
   ]
  },
  {
   "cell_type": "markdown",
   "id": "5625f769",
   "metadata": {},
   "source": [
    "## How many calls did each worker take?"
   ]
  },
  {
   "cell_type": "code",
   "execution_count": null,
   "id": "43cbce5d",
   "metadata": {},
   "outputs": [],
   "source": [
    "work_call_vol=df1.PhoneWorkerName.value_counts()\n",
    "work_call_vol"
   ]
  },
  {
   "cell_type": "markdown",
   "id": "1d82a0bd",
   "metadata": {},
   "source": [
    "## Lets pull fix the dates and time"
   ]
  },
  {
   "cell_type": "code",
   "execution_count": null,
   "id": "6598d862",
   "metadata": {},
   "outputs": [],
   "source": [
    "df1.CallDateAndTimeStart\t=df1.CallDateAndTimeStart\t.str.split(\" \")\n",
    "df1.head(3)"
   ]
  },
  {
   "cell_type": "markdown",
   "id": "59dda41f",
   "metadata": {},
   "source": [
    "## Close enough for horseshoes and hand grenades, so let's roll with it.\n",
    "#### In the mean time, lets look at the average time each worker spent on a call. Does that yeild better results?"
   ]
  },
  {
   "cell_type": "code",
   "execution_count": null,
   "id": "d712bc37",
   "metadata": {},
   "outputs": [],
   "source": [
    "df1.CallLength=df1.CallLength.astype('float')\n",
    "df1.groupby('PhoneWorkerName').CallLength.mean()"
   ]
  },
  {
   "cell_type": "code",
   "execution_count": null,
   "id": "14754c6b",
   "metadata": {},
   "outputs": [],
   "source": [
    "samecolumnsdf=pd.DataFrame(df1.columns.intersection(df2.columns))\n",
    "# something Maggie shared. Maybe it's the merge we need right now\n",
    "samecolumnsdf\n",
    "#Nope, don't like that."
   ]
  },
  {
   "cell_type": "code",
   "execution_count": null,
   "id": "9a68f96f",
   "metadata": {},
   "outputs": [],
   "source": [
    "df1.WasPrankCall.unique()\n",
    "#what good is a column that is entirely null?"
   ]
  },
  {
   "cell_type": "code",
   "execution_count": null,
   "id": "e3e8ae19",
   "metadata": {},
   "outputs": [],
   "source": [
    "pct_null = df1.isnull().sum() / len(df1)\n",
    "missing_features = pct_null[pct_null > 0.98].index\n",
    "df1.drop(missing_features, axis=1, inplace=True)\n",
    "#Rob Schulteis found a way to drop columns that were 98%+ null"
   ]
  },
  {
   "cell_type": "code",
   "execution_count": null,
   "id": "0b64f4ce",
   "metadata": {},
   "outputs": [],
   "source": [
    "df1.shape[1]\n",
    "#87 columns is much more managable than 300 something"
   ]
  },
  {
   "cell_type": "code",
   "execution_count": null,
   "id": "fb98b5f8",
   "metadata": {},
   "outputs": [],
   "source": [
    "df1.rename(columns={'CRISIS Demographics - Ethnicity': 'Ethnicity'}, inplace=True)\n",
    "df2.rename(columns={'CRISIS Demographics - Race/Ethnicity': 'Ethnicity'}, inplace=True)\n",
    "df1.Ethnicity.unique()"
   ]
  },
  {
   "cell_type": "code",
   "execution_count": null,
   "id": "3312b2e3",
   "metadata": {},
   "outputs": [],
   "source": [
    "df1.Ethnicity.value_counts()"
   ]
  },
  {
   "cell_type": "code",
   "execution_count": null,
   "id": "7532fae2",
   "metadata": {},
   "outputs": [],
   "source": [
    "df1['CallDateAndTimeStart'].head()"
   ]
  },
  {
   "cell_type": "markdown",
   "id": "38f474d3",
   "metadata": {},
   "source": [
    "#### I do not like these brackets. It makes this impossible to split. Let's ditch them."
   ]
  },
  {
   "cell_type": "code",
   "execution_count": null,
   "id": "7371563b",
   "metadata": {},
   "outputs": [],
   "source": [
    "df1['CallDateAndTimeStart'] = df1['CallDateAndTimeStart'].str.get(0)\n",
    "df1.head()"
   ]
  },
  {
   "cell_type": "code",
   "execution_count": null,
   "id": "0b8a81f4",
   "metadata": {},
   "outputs": [],
   "source": [
    "roe=df1['CRISIS Call Information - Call Type'].value_counts()\n",
    "roe=pd.DataFrame(roe)\n",
    "roe"
   ]
  },
  {
   "cell_type": "code",
   "execution_count": null,
   "id": "146790ca",
   "metadata": {},
   "outputs": [],
   "source": [
    "roe.reset_index(inplace=True)\n",
    "roe=roe.rename(columns={'index':'Call_Type', 'CRISIS Call Information - Call Type':'num'})\n",
    "roe"
   ]
  },
  {
   "cell_type": "code",
   "execution_count": null,
   "id": "c440e0ec",
   "metadata": {},
   "outputs": [],
   "source": [
    "roe.info()"
   ]
  },
  {
   "cell_type": "code",
   "execution_count": null,
   "id": "3ea5974d",
   "metadata": {},
   "outputs": [],
   "source": [
    "df1['CRISIS Demographics - Education Level'].value_counts()"
   ]
  },
  {
   "cell_type": "code",
   "execution_count": null,
   "id": "27491c5c",
   "metadata": {},
   "outputs": [],
   "source": [
    "df1['CRISIS Issues - Mental Health'].value_counts()"
   ]
  },
  {
   "cell_type": "markdown",
   "id": "beb651b1",
   "metadata": {},
   "source": [
    "### Okay, enough of the value counts. Time to move on to somehting else."
   ]
  },
  {
   "cell_type": "code",
   "execution_count": null,
   "id": "7d1435b8",
   "metadata": {},
   "outputs": [],
   "source": [
    "df1.Feedback.unique()"
   ]
  },
  {
   "cell_type": "code",
   "execution_count": null,
   "id": "c662956a",
   "metadata": {},
   "outputs": [],
   "source": [
    "volume2020"
   ]
  },
  {
   "cell_type": "markdown",
   "id": "7b04c527",
   "metadata": {},
   "source": [
    "### 107  Spanish calls in 2020"
   ]
  },
  {
   "cell_type": "code",
   "execution_count": null,
   "id": "909a3a00",
   "metadata": {},
   "outputs": [],
   "source": [
    "volume2021"
   ]
  },
  {
   "cell_type": "markdown",
   "id": "30f48c72",
   "metadata": {},
   "source": [
    "### 248 crisis in Spanish in 2021"
   ]
  },
  {
   "cell_type": "code",
   "execution_count": null,
   "id": "b26d1502",
   "metadata": {},
   "outputs": [],
   "source": [
    "volume2022"
   ]
  },
  {
   "cell_type": "code",
   "execution_count": null,
   "id": "238cab11",
   "metadata": {},
   "outputs": [],
   "source": [
    "### Spanish 65 Jan-Apr\n",
    "65*4"
   ]
  },
  {
   "cell_type": "markdown",
   "id": "035c3608",
   "metadata": {},
   "source": [
    "###### 2020=107\n",
    "2021=248\n",
    "2022=260"
   ]
  },
  {
   "cell_type": "code",
   "execution_count": null,
   "id": "7a9e2713",
   "metadata": {},
   "outputs": [],
   "source": [
    "v20=pd.DataFrame(volume2020)\n",
    "v21=pd.DataFrame(volume2021)"
   ]
  },
  {
   "cell_type": "code",
   "execution_count": null,
   "id": "11c1f1be",
   "metadata": {},
   "outputs": [],
   "source": [
    "#Pandemic_years=pd.concat(v20, v21, keys=\"Report Info\")\n",
    "#Pandemic_years"
   ]
  },
  {
   "cell_type": "markdown",
   "id": "27e02b14",
   "metadata": {},
   "source": [
    "#### Analyze trends in call content by looking for which issues are most frequent and what is the average count of issues per call."
   ]
  },
  {
   "cell_type": "code",
   "execution_count": null,
   "id": "7a5d5214",
   "metadata": {},
   "outputs": [],
   "source": [
    "labels = list()\n",
    "for col in df2.columns:\n",
    "    labels.append(col.replace('Subjective', 'Issues'))\n",
    "df2.columns = labels\n",
    "#for loop to change titles to match version 1 submitted by Rob S."
   ]
  },
  {
   "cell_type": "code",
   "execution_count": null,
   "id": "87abf7f7",
   "metadata": {},
   "outputs": [],
   "source": [
    "df2.isnull().sum()"
   ]
  },
  {
   "cell_type": "code",
   "execution_count": null,
   "id": "860cd0ed",
   "metadata": {},
   "outputs": [],
   "source": [
    "df1.isnull().sum()"
   ]
  },
  {
   "cell_type": "code",
   "execution_count": null,
   "id": "ef92459b",
   "metadata": {},
   "outputs": [],
   "source": [
    "df1_ci = df1[['CRISIS Issues - Abusive Behavior','CRISIS Issues - Emotional State','CRISIS Issues - Financial/Basic Needs','CRISIS Issues - Health/Physical','CRISIS Issues - Information or Services Needed','CRISIS Issues - Mental Health','CRISIS Issues - No Issue Call','CRISIS Issues - Other Description','CRISIS Issues - Relationships','CRISIS Issues - Substances','CRISIS Issues - Suicide']]\n",
    "df1_ci.head()\n",
    "#Jasmine Drumright narrows down to just Crisis issues."
   ]
  },
  {
   "cell_type": "code",
   "execution_count": null,
   "id": "0d781859",
   "metadata": {},
   "outputs": [],
   "source": [
    "filter_col = [col for col in df2 if col.startswith('CRISIS Issues') or col.startswith('Call')]\n",
    "df2_ci=df2[filter_col]\n",
    "df2_ci.head()\n",
    "#Rob's version of what Jasmine did for the second dataframe "
   ]
  },
  {
   "cell_type": "code",
   "execution_count": null,
   "id": "7b285d07",
   "metadata": {},
   "outputs": [],
   "source": [
    "Cri=pd.concat([df1_ci, df2_ci])\n",
    "Cri"
   ]
  },
  {
   "cell_type": "code",
   "execution_count": null,
   "id": "21f98f5d",
   "metadata": {},
   "outputs": [],
   "source": [
    "Cri['CRISIS Issues - Emotional State'].value_counts()"
   ]
  },
  {
   "cell_type": "code",
   "execution_count": null,
   "id": "51eac9a8",
   "metadata": {},
   "outputs": [],
   "source": [
    "Cri['CRISIS Issues - Health/Physical'].value_counts()"
   ]
  },
  {
   "cell_type": "code",
   "execution_count": null,
   "id": "046291f5",
   "metadata": {},
   "outputs": [],
   "source": [
    "#Cri['CRISIS Issues - Financial/Basic Needs'].value_counts()\n",
    "percent100 = Cri['CRISIS Issues - Financial/Basic Needs'].value_counts(normalize=True).mul(100).round(1).astype(str) + '%'\n",
    "percent100"
   ]
  },
  {
   "cell_type": "code",
   "execution_count": null,
   "id": "a4891e86",
   "metadata": {},
   "outputs": [],
   "source": [
    "#I have continued to add to this list as problems developed later down the line. \n",
    "Cri['CRISIS Issues - Financial/Basic Needs'] = Cri['CRISIS Issues - Financial/Basic Needs'].str.replace('(temporary)','')\n",
    "Cri['CRISIS Issues - Financial/Basic Needs'] = Cri['CRISIS Issues - Financial/Basic Needs'].str.replace('(permanent)','')\n",
    "Cri['CRISIS Issues - Financial/Basic Needs'] = Cri['CRISIS Issues - Financial/Basic Needs'].str.replace(r' ; \\w+','')\n",
    "Cri['CRISIS Issues - Financial/Basic Needs'] = Cri['CRISIS Issues - Financial/Basic Needs'].str.replace('overdraft or other issues','')\n",
    "Cri['CRISIS Issues - Financial/Basic Needs'] = Cri['CRISIS Issues - Financial/Basic Needs'].str.replace(r'\\(\\)','')\n",
    "Cri['CRISIS Issues - Financial/Basic Needs'] = Cri['CRISIS Issues - Financial/Basic Needs'].str.replace('/',' or ')\n",
    "Cri['CRISIS Issues - Financial/Basic Needs'] = Cri['CRISIS Issues - Financial/Basic Needs'].str.replace('Housing ','Housing')\n",
    "Cri['CRISIS Issues - Financial/Basic Needs'] = Cri['CRISIS Issues - Financial/Basic Needs'].str.replace('Housing; Housing','Housing')\n",
    "\n",
    "per_fin=Cri['CRISIS Issues - Financial/Basic Needs'].value_counts()#normalize=True).mul(100).round(1).astype(str) + '%'\n",
    "per_fin"
   ]
  },
  {
   "cell_type": "markdown",
   "id": "fc870d6e",
   "metadata": {},
   "source": [
    "###### Tried to insert the melt madness here. It didn't work. Stop jumping around and leave sleeping code lie. "
   ]
  },
  {
   "cell_type": "code",
   "execution_count": null,
   "id": "ad9c4dfa",
   "metadata": {},
   "outputs": [],
   "source": [
    "per_fin=Cri['CRISIS Issues - Financial/Basic Needs'].value_counts()\n",
    "per_fin"
   ]
  },
  {
   "cell_type": "markdown",
   "id": "1c54982a",
   "metadata": {},
   "source": [
    "### Below is a loop of counts per item across columns by Rob Schulteis"
   ]
  },
  {
   "cell_type": "code",
   "execution_count": null,
   "id": "b9d15929",
   "metadata": {},
   "outputs": [],
   "source": [
    "mental_health_df = Cri['CRISIS Issues - Mental Health'].notnull()"
   ]
  },
  {
   "cell_type": "code",
   "execution_count": null,
   "id": "e3ad3587",
   "metadata": {},
   "outputs": [],
   "source": [
    "mental_health_df = Cri[mental_health_df]"
   ]
  },
  {
   "cell_type": "code",
   "execution_count": null,
   "id": "c9610d3a",
   "metadata": {},
   "outputs": [],
   "source": [
    "mental_health_df.head(100)"
   ]
  },
  {
   "cell_type": "code",
   "execution_count": null,
   "id": "e24f6405",
   "metadata": {},
   "outputs": [],
   "source": [
    "count = []\n",
    "\n",
    "for x in mental_health_df['CRISIS Issues - Mental Health']:\n",
    "    counter0 = x.count(\";\")+1\n",
    "    count.append(counter0)"
   ]
  },
  {
   "cell_type": "code",
   "execution_count": null,
   "id": "17859c12",
   "metadata": {},
   "outputs": [],
   "source": [
    "mental_health_df['MH_Issues_Count'] = count"
   ]
  },
  {
   "cell_type": "code",
   "execution_count": null,
   "id": "9e20752a",
   "metadata": {},
   "outputs": [],
   "source": [
    "mental_health_df.head()"
   ]
  },
  {
   "cell_type": "markdown",
   "id": "c0449686",
   "metadata": {},
   "source": [
    "### Finished with that Loop, now back to parsing out the data"
   ]
  },
  {
   "cell_type": "markdown",
   "id": "859e4314",
   "metadata": {},
   "source": [
    "#### I suppose the next thing I ought to do is create a dataframe out of my drill down so that I can use it in a chart. Let's try"
   ]
  },
  {
   "cell_type": "code",
   "execution_count": null,
   "id": "af26581a",
   "metadata": {},
   "outputs": [],
   "source": [
    "per_fin=pd.DataFrame(per_fin)\n",
    "per_fin.reset_index(inplace=True)\n",
    "per_fin = per_fin.rename(columns = {'index':\"Need\", 'CRISIS Issues - Financial/Basic Needs':\"Num_of_calls\"})\n",
    "print(per_fin)"
   ]
  },
  {
   "cell_type": "code",
   "execution_count": null,
   "id": "684de137",
   "metadata": {},
   "outputs": [],
   "source": [
    "sns.set_theme(style=\"darkgrid\")\n",
    "sns.set(font_scale=1)\n",
    "sns.barplot(x=\"Need\", y=\"Num_of_calls\", data=per_fin.head(5), palette=\"viridis\", edgecolor='black')\n",
    "plt.title('Top 5 needs by call number', fontsize=20)\n",
    "plt.xticks(rotation=50, fontsize=16)\n",
    "plt.xlabel('', fontsize=0)\n",
    "plt.ylabel('number of calls by volume', fontsize=16)\n",
    "plt.yticks(fontsize=16)\n",
    "plt.gcf().set_size_inches(15,7)"
   ]
  },
  {
   "cell_type": "markdown",
   "id": "5b29c004",
   "metadata": {},
   "source": [
    "#### Okay, I like where I'm at with that. We have a chart and it looks good. The next Crisis we should drill down into should be...\n",
    "###### Abuse"
   ]
  },
  {
   "cell_type": "code",
   "execution_count": null,
   "id": "3ac11d82",
   "metadata": {},
   "outputs": [],
   "source": [
    "Cri['CRISIS Issues - Abusive Behavior'].value_counts()"
   ]
  },
  {
   "cell_type": "code",
   "execution_count": null,
   "id": "ed47428c",
   "metadata": {},
   "outputs": [],
   "source": [
    "#We have to set the stage again or else things won't work later on.\n",
    "Cri['CRISIS Issues - Abusive Behavior'] = Cri['CRISIS Issues - Abusive Behavior'].str.replace(';',' conjoined with')\n",
    "Cri['CRISIS Issues - Abusive Behavior'] = Cri['CRISIS Issues - Abusive Behavior'].str.replace('/',' or ')\n",
    "abuse=Cri['CRISIS Issues - Abusive Behavior'].value_counts()"
   ]
  },
  {
   "cell_type": "code",
   "execution_count": null,
   "id": "c56c18b3",
   "metadata": {},
   "outputs": [],
   "source": [
    "abuse=pd.DataFrame(abuse)\n",
    "abuse.reset_index(inplace=True)\n",
    "abuse = abuse.rename(columns = {'index':\"type_of_abuse\", 'CRISIS Issues - Abusive Behavior':\"count\"})\n",
    "print(abuse)"
   ]
  },
  {
   "cell_type": "code",
   "execution_count": null,
   "id": "ed3000d6",
   "metadata": {},
   "outputs": [],
   "source": [
    "sns.set_theme(style=\"whitegrid\")\n",
    "sns.set(font_scale=1)\n",
    "sns.barplot(y=\"type_of_abuse\", x=\"count\", data=abuse.head(10), palette=['pink','magenta'], edgecolor='black', orient='h')\n",
    "plt.title('Of those who suffered abuse', fontsize=20)\n",
    "plt.xticks(rotation=0, fontsize=12)\n",
    "plt.xlabel('type', fontsize=0)\n",
    "plt.ylabel('number of abused callers', fontsize=16)\n",
    "plt.yticks(fontsize=16)\n",
    "plt.gcf().set_size_inches(15,7)"
   ]
  },
  {
   "cell_type": "markdown",
   "id": "bd5b1a07",
   "metadata": {},
   "source": [
    "### Going back to per_fin I would like to find the average call time per issue\n",
    "##### Working with Nathan to get that done."
   ]
  },
  {
   "cell_type": "code",
   "execution_count": null,
   "id": "b0f737c6",
   "metadata": {},
   "outputs": [],
   "source": [
    "per_fin.Need"
   ]
  },
  {
   "cell_type": "code",
   "execution_count": null,
   "id": "8310872a",
   "metadata": {},
   "outputs": [],
   "source": [
    "# count=[]\n",
    "# Housing=0\n",
    "# Employment=0\n",
    "# Bank=0\n",
    "# Medication= 0\n",
    "# Car=0\n",
    "# Rent=0\n",
    "# Food=0\n",
    "# Utilities=0\n",
    "# Home_Repair=0\n",
    "# Food=0\n",
    "# Insurance=0\n",
    "# Moving=0\n",
    "# Legal=0\n",
    "# Transportation=0\n",
    "# Clothing=0\n",
    "# Credit=0\n",
    "# Crime=0\n",
    "# Taxes=0\n",
    "# Child=0\n",
    "# Keeping=0\n",
    "# Rehab=0\n",
    "\n",
    "# for x in mental_health_df['CRISIS Issues - Financial/Basic Needs']:\n",
    "#     counter0 = x.count(\";\") + 1\n",
    "#     Needs_sum= Needs_sum + counter0\n",
    "#     hous_c = x.count('Housing')\n",
    "#     hous_sum = hous_sum + hous_c\n",
    "#     employment_c = x.count(\"Employment\")\n",
    "#     emp_sum = emp_sum + employment_c\n",
    "#     bank_c = x.count('Bank Account')\n",
    "#     bank_sum = bank_sum + bank_c\n",
    "#     med_c = x.count(\"Medication\")\n",
    "#     med_sum = med_sum + med_c\n",
    "#     car_c = x.count('Car Repair')\n",
    "#     car_sum = car_sum + car_c\n",
    "#     rent_c = x.count(\"Rent\")\n",
    "#     rent_s = rent_s +rent_c\n",
    "#     food_c = x.count(\"Food\")\n",
    "#     food_s = food_s + food_c\n",
    "#     util_c = x.count(\"Utilities\")\n",
    "#     util_s = util_s + util_c\n",
    "#     home_c = x.count(\"Home Repair\")\n",
    "#     home_s = home_s + home_c\n",
    "#     insur_c = x.count(\"Insurance\")\n",
    "#     insur_s = insur_s + insur_c\n",
    "#     move_c = x.count(\"Moving Assistance\")\n",
    "#     move_s = move_s + move_c\n",
    "#     legal_c = x.count(\"Legal Services\")\n",
    "#     legal_s = legal_s +legal_c\n",
    "#     trans_c = x.count(\"Transportation\")\n",
    "#     trans_s = trans_s + trans_c\n",
    "#     cloth_c = x.count(\"Clothing\")\n",
    "#     cloth_s = cloth_s + cloth_c\n",
    "#     credit_c = x.count('Credit Card Debt')\n",
    "#     credit_s = credit_s + credit_c\n",
    "#     fisc_c = x.count('Financial Crime')\n",
    "#     fisc_s = fisc_s + fisc_c\n",
    "#     tax = x.count('Taxes')\n",
    "#     is_theft = is_theft + tax\n",
    "#     child_c = x.count('Child Support')\n",
    "#     child_s = child_s + child_c\n",
    "#     keep = x.count('House Keeping')\n",
    "#     keeping = keeping + keep\n",
    "#     drug = x.count('Drug Rehab')\n",
    "#     rehab = rehab + drug\n",
    "    \n",
    "# Need_Sumdf = {'Need': ['Housing','Employment','Bank Account','Medication'\n",
    "# 'Car Repair',\n",
    "# 'Rent\\Mortgage',\n",
    "# 'Food',\n",
    "# 'Utilities',\n",
    "# 'Home Repair',\n",
    "# 'Food',\n",
    "# 'Insurance',\n",
    "# 'Moving Assistance',\n",
    "# 'Legal Services',\n",
    "# 'Transportation',\n",
    "# 'Clothing',\n",
    "# 'Credit Card Debt',\n",
    "# 'Financial Crime',\n",
    "# 'Taxes',\n",
    "# 'Child Support',\n",
    "# 'House Keeping',\n",
    "# 'Drug Rehab'],\n",
    "# \"Sum\": ['hous_sum',\n",
    "#     'emp_sum',\n",
    "#     'bank_sum', \n",
    "#     'med_sum',\n",
    "#     'car_sum',\n",
    "#     'rent_s',\n",
    "#     'food_s',\n",
    "#     'util_s',\n",
    "#     'home_s',\n",
    "#     'insur_s',\n",
    "#     'move_s',\n",
    "#     'legal_s',\n",
    "#     'trans_s',\n",
    "#     'cloth_s',\n",
    "#     'credit_s',\n",
    "#     'fisc_s',\n",
    "#     'is_theft',\n",
    "#     'child_s',\n",
    "#     'keeping',\n",
    "#     'rehab']\n",
    "    \n",
    "#      Need_Sumdf = pd.DataFrame(Need_Sumdf)\n",
    "#      Need_Sumdf = Need_Sumdf.sort_values(by='Sum', ascending=False).reset_index(drop=True)\n",
    "# #Mental_Health_Sum_df_10 = Mental_Health_Sum_df.nlargest(10, 'Sum').sort_values(by='Sum', ascending=False)\n",
    "#      Need_Sumdf"
   ]
  },
  {
   "cell_type": "markdown",
   "id": "d5bed578",
   "metadata": {},
   "source": [
    "## Spent way too much time on that and it's off"
   ]
  },
  {
   "cell_type": "code",
   "execution_count": null,
   "id": "f38d9526",
   "metadata": {},
   "outputs": [],
   "source": [
    "new_df=per_fin['Need'].str.split('; ', expand=True)\n",
    "new_df"
   ]
  },
  {
   "cell_type": "code",
   "execution_count": null,
   "id": "261d613b",
   "metadata": {},
   "outputs": [],
   "source": [
    "new_df=pd.DataFrame(new_df)\n",
    "new_df.reset_index(inplace=True)"
   ]
  },
  {
   "cell_type": "code",
   "execution_count": null,
   "id": "e272f6b0",
   "metadata": {},
   "outputs": [],
   "source": [
    "new_df"
   ]
  },
  {
   "cell_type": "code",
   "execution_count": null,
   "id": "2deed7ce",
   "metadata": {
    "scrolled": true
   },
   "outputs": [],
   "source": [
    "melted=new_df.melt().value.value_counts() \n",
    "melted"
   ]
  },
  {
   "cell_type": "code",
   "execution_count": null,
   "id": "571d98a1",
   "metadata": {},
   "outputs": [],
   "source": [
    "melted=pd.DataFrame(melted)\n",
    "melted.reset_index(inplace=True)\n",
    "melted.dropna()"
   ]
  },
  {
   "cell_type": "code",
   "execution_count": null,
   "id": "1184a47c",
   "metadata": {},
   "outputs": [],
   "source": [
    "melted['index'] = melted['index'].str.replace(' ','_')"
   ]
  },
  {
   "cell_type": "code",
   "execution_count": null,
   "id": "771924aa",
   "metadata": {},
   "outputs": [],
   "source": [
    "melted"
   ]
  },
  {
   "cell_type": "markdown",
   "id": "a61281fc",
   "metadata": {},
   "source": [
    "#### Now I can actually see how they are labeled differently and adjust or merge columns"
   ]
  },
  {
   "cell_type": "code",
   "execution_count": null,
   "id": "7f763e6a",
   "metadata": {},
   "outputs": [],
   "source": [
    "#This worked. Do I have to move it to before the melt? \n",
    "#Answer: No, don't do that\n",
    "melted['index'] = melted['index'].str.replace(r'Bank_Acco\\w+','Bank_Account')\n",
    "melted['index'] = melted['index'].str.replace('Home_repair_or_maintenance','Home_Repair')\n",
    "melted['index'] = melted['index'].str.replace('Payment_towards_Lawyer_or_Legal_Services', 'Legal_Fees')\n",
    "melted['index'] = melted['index'].str.replace(r'Credit_Card_Debt\\s\\w*?', 'Credit_Card_Debt')\n",
    "melted['index'] = melted['index'].str.replace('PBank_Account__Theft_or_Fraud_or_Financial_Crime', 'Financial_Crime')\n",
    "melted['index'] = melted['index'].str.replace('Identity_Theft_or_Fraud_or_Financial_Crime', 'Financial_Crime')"
   ]
  },
  {
   "cell_type": "code",
   "execution_count": null,
   "id": "0c41e6ac",
   "metadata": {},
   "outputs": [],
   "source": [
    "smelted=melted.groupby(['index'],as_index=False).sum()\n",
    "smelted = smelted.sort_values(by = ['value'], ascending=[False])\n",
    "print(smelted)"
   ]
  },
  {
   "cell_type": "markdown",
   "id": "0afd30b3",
   "metadata": {},
   "source": [
    "### Progress! Got it to work, now I need it ordered"
   ]
  },
  {
   "cell_type": "code",
   "execution_count": null,
   "id": "d6640dc6",
   "metadata": {},
   "outputs": [],
   "source": []
  }
 ],
 "metadata": {
  "kernelspec": {
   "display_name": "Python 3 (ipykernel)",
   "language": "python",
   "name": "python3"
  },
  "language_info": {
   "codemirror_mode": {
    "name": "ipython",
    "version": 3
   },
   "file_extension": ".py",
   "mimetype": "text/x-python",
   "name": "python",
   "nbconvert_exporter": "python",
   "pygments_lexer": "ipython3",
   "version": "3.9.7"
  }
 },
 "nbformat": 4,
 "nbformat_minor": 5
}
