{
 "cells": [
  {
   "cell_type": "code",
   "execution_count": null,
   "id": "e87a7db3",
   "metadata": {},
   "outputs": [],
   "source": [
    "import pandas as pd\n",
    "pd.set_option('display.max_rows', 500)\n",
    "pd.set_option('display.max_columns', 500)\n",
    "pd.set_option('display.width', 1000)\n",
    "import seaborn as sns\n",
    "import matplotlib as plt\n",
    "import re\n",
    "import numpy as np"
   ]
  },
  {
   "cell_type": "code",
   "execution_count": null,
   "id": "5932f15f",
   "metadata": {},
   "outputs": [],
   "source": [
    "df1=pd.read_csv(\"../data/NSSCrisisv.1.csv\")\n",
    "df1.head()"
   ]
  },
  {
   "cell_type": "code",
   "execution_count": null,
   "id": "cbfe60d1",
   "metadata": {},
   "outputs": [],
   "source": [
    "header_row = df1.iloc[1]\n",
    "df1 = pd.DataFrame(df1.values[2:], columns=header_row)\n",
    "df1.head()"
   ]
  },
  {
   "cell_type": "code",
   "execution_count": null,
   "id": "00606717",
   "metadata": {},
   "outputs": [],
   "source": [
    "df2=pd.read_csv(\"../data/NSSCrisisv.2.csv\")\n",
    "df2.head(5)"
   ]
  },
  {
   "cell_type": "code",
   "execution_count": null,
   "id": "3e2b2264",
   "metadata": {},
   "outputs": [],
   "source": [
    "header_row = df2.iloc[1]\n",
    "df2 = pd.DataFrame(df2.values[2:], columns=header_row)\n",
    "df2.head()"
   ]
  },
  {
   "cell_type": "code",
   "execution_count": null,
   "id": "de19d73a",
   "metadata": {
    "scrolled": true
   },
   "outputs": [],
   "source": [
    "crisis_call=pd.ExcelFile(\"../data/NSS_Crisis_call.xlsx\")\n",
    "volume2020 = pd.read_excel(crisis_call, \"2020\")\n",
    "volume2021 = pd.read_excel(crisis_call, \"2021\")\n",
    "volume2022 = pd.read_excel(crisis_call, \"2022\")\n",
    "volume2020.head()"
   ]
  },
  {
   "cell_type": "code",
   "execution_count": null,
   "id": "bdc73a37",
   "metadata": {},
   "outputs": [],
   "source": [
    "df1.info()"
   ]
  },
  {
   "cell_type": "markdown",
   "id": "d298f008",
   "metadata": {},
   "source": [
    "## Who works at the call center?"
   ]
  },
  {
   "cell_type": "code",
   "execution_count": null,
   "id": "c869b285",
   "metadata": {},
   "outputs": [],
   "source": [
    "workers=df1.PhoneWorkerName.unique()\n",
    "workers"
   ]
  },
  {
   "cell_type": "markdown",
   "id": "5625f769",
   "metadata": {},
   "source": [
    "## How many calls did each worker take?"
   ]
  },
  {
   "cell_type": "code",
   "execution_count": null,
   "id": "43cbce5d",
   "metadata": {},
   "outputs": [],
   "source": [
    "work_call_vol=df1.PhoneWorkerName.value_counts()\n",
    "work_call_vol"
   ]
  },
  {
   "cell_type": "markdown",
   "id": "1d82a0bd",
   "metadata": {},
   "source": [
    "## Lets pull fix the dates and time"
   ]
  },
  {
   "cell_type": "code",
   "execution_count": null,
   "id": "6598d862",
   "metadata": {},
   "outputs": [],
   "source": [
    "df1.CallDateAndTimeStart\t=df1.CallDateAndTimeStart\t.str.split(\" \")\n",
    "df1.head(3)"
   ]
  },
  {
   "cell_type": "markdown",
   "id": "59dda41f",
   "metadata": {},
   "source": [
    "## Close enough for horseshoes and hand grenades, so let's roll with it.\n",
    "#### In the mean time, lets look at the average time each worker spent on a call. Does that yeild better results?"
   ]
  },
  {
   "cell_type": "code",
   "execution_count": null,
   "id": "d712bc37",
   "metadata": {},
   "outputs": [],
   "source": [
    "df1.CallLength=df1.CallLength.astype('float')\n",
    "df1.groupby('PhoneWorkerName').CallLength.mean()"
   ]
  },
  {
   "cell_type": "code",
   "execution_count": null,
   "id": "14754c6b",
   "metadata": {},
   "outputs": [],
   "source": [
    "samecolumnsdf=pd.DataFrame(df1.columns.intersection(df2.columns))\n",
    "# something Maggie shared. Maybe it's the merge we need right now\n",
    "samecolumnsdf\n",
    "#Nope, don't like that."
   ]
  },
  {
   "cell_type": "code",
   "execution_count": null,
   "id": "9a68f96f",
   "metadata": {},
   "outputs": [],
   "source": [
    "df1.WasPrankCall.unique()\n",
    "#what good is a column that is entirely null?"
   ]
  },
  {
   "cell_type": "code",
   "execution_count": null,
   "id": "e3e8ae19",
   "metadata": {},
   "outputs": [],
   "source": [
    "pct_null = df1.isnull().sum() / len(df1)\n",
    "missing_features = pct_null[pct_null > 0.98].index\n",
    "df1.drop(missing_features, axis=1, inplace=True)\n",
    "#Rob Schulteis found a way to drop columns that were 98%+ null"
   ]
  },
  {
   "cell_type": "code",
   "execution_count": null,
   "id": "0b64f4ce",
   "metadata": {},
   "outputs": [],
   "source": [
    "df1.shape[1]\n",
    "#87 columns is much more managable than 300 something"
   ]
  },
  {
   "cell_type": "code",
   "execution_count": null,
   "id": "fb98b5f8",
   "metadata": {},
   "outputs": [],
   "source": [
    "df1.rename(columns={'CRISIS Demographics - Ethnicity': 'Ethnicity'}, inplace=True)\n",
    "df2.rename(columns={'CRISIS Demographics - Race/Ethnicity': 'Ethnicity'}, inplace=True)\n",
    "df1.Ethnicity.unique()"
   ]
  },
  {
   "cell_type": "code",
   "execution_count": null,
   "id": "3312b2e3",
   "metadata": {},
   "outputs": [],
   "source": [
    "df1.Ethnicity.value_counts()"
   ]
  },
  {
   "cell_type": "code",
   "execution_count": null,
   "id": "7532fae2",
   "metadata": {},
   "outputs": [],
   "source": [
    "df1['CallDateAndTimeStart'].head()"
   ]
  },
  {
   "cell_type": "markdown",
   "id": "38f474d3",
   "metadata": {},
   "source": [
    "#### I do not like these brackets. It makes this impossible to split. Let's ditch them."
   ]
  },
  {
   "cell_type": "code",
   "execution_count": null,
   "id": "7371563b",
   "metadata": {},
   "outputs": [],
   "source": [
    "df1['CallDateAndTimeStart'] = df1['CallDateAndTimeStart'].str.get(0)\n",
    "df1.head()"
   ]
  },
  {
   "cell_type": "code",
   "execution_count": null,
   "id": "0b8a81f4",
   "metadata": {},
   "outputs": [],
   "source": [
    "roe=df1['CRISIS Call Information - Call Type'].value_counts()\n",
    "roe=pd.DataFrame(roe)\n",
    "roe"
   ]
  },
  {
   "cell_type": "code",
   "execution_count": null,
   "id": "146790ca",
   "metadata": {},
   "outputs": [],
   "source": [
    "roe.reset_index(inplace=True)\n",
    "roe=roe.rename(columns={'index':'Call_Type', 'CRISIS Call Information - Call Type':'num'})\n",
    "roe"
   ]
  },
  {
   "cell_type": "code",
   "execution_count": null,
   "id": "c440e0ec",
   "metadata": {},
   "outputs": [],
   "source": [
    "roe.info()"
   ]
  },
  {
   "cell_type": "code",
   "execution_count": null,
   "id": "3ea5974d",
   "metadata": {},
   "outputs": [],
   "source": [
    "df1['CRISIS Demographics - Education Level'].value_counts()"
   ]
  },
  {
   "cell_type": "code",
   "execution_count": null,
   "id": "27491c5c",
   "metadata": {},
   "outputs": [],
   "source": [
    "df1['CRISIS Issues - Mental Health'].value_counts()"
   ]
  },
  {
   "cell_type": "markdown",
   "id": "beb651b1",
   "metadata": {},
   "source": [
    "### Okay, enough of the value counts. Time to move on to somehting else."
   ]
  },
  {
   "cell_type": "code",
   "execution_count": null,
   "id": "7d1435b8",
   "metadata": {},
   "outputs": [],
   "source": [
    "df1.Feedback.unique()"
   ]
  },
  {
   "cell_type": "code",
   "execution_count": null,
   "id": "c662956a",
   "metadata": {},
   "outputs": [],
   "source": [
    "volume2020"
   ]
  },
  {
   "cell_type": "markdown",
   "id": "7b04c527",
   "metadata": {},
   "source": [
    "### 107  Spanish calls in 2020"
   ]
  },
  {
   "cell_type": "code",
   "execution_count": null,
   "id": "909a3a00",
   "metadata": {},
   "outputs": [],
   "source": [
    "volume2021"
   ]
  },
  {
   "cell_type": "markdown",
   "id": "30f48c72",
   "metadata": {},
   "source": [
    "### 248 crisis in Spanish in 2021"
   ]
  },
  {
   "cell_type": "code",
   "execution_count": null,
   "id": "b26d1502",
   "metadata": {},
   "outputs": [],
   "source": [
    "volume2022"
   ]
  },
  {
   "cell_type": "code",
   "execution_count": null,
   "id": "238cab11",
   "metadata": {},
   "outputs": [],
   "source": [
    "### Spanish 65 Jan-Apr\n",
    "65*4"
   ]
  },
  {
   "cell_type": "markdown",
   "id": "035c3608",
   "metadata": {},
   "source": [
    "###### 2020=107\n",
    "2021=248\n",
    "2022=260"
   ]
  },
  {
   "cell_type": "code",
   "execution_count": null,
   "id": "7a9e2713",
   "metadata": {},
   "outputs": [],
   "source": [
    "v20=pd.DataFrame(volume2020)\n",
    "v21=pd.DataFrame(volume2021)"
   ]
  },
  {
   "cell_type": "code",
   "execution_count": null,
   "id": "11c1f1be",
   "metadata": {},
   "outputs": [],
   "source": [
    "#Pandemic_years=pd.concat(v20, v21, keys=\"Report Info\")\n",
    "#Pandemic_years"
   ]
  },
  {
   "cell_type": "markdown",
   "id": "ea891da4",
   "metadata": {},
   "source": [
    "#### Analyze trends in call content by looking for which issues are most frequent and what is the average count of issues per call."
   ]
  },
  {
   "cell_type": "code",
   "execution_count": null,
   "id": "3b328013",
   "metadata": {},
   "outputs": [],
   "source": [
    "labels = list()\n",
    "for col in df2.columns:\n",
    "    labels.append(col.replace('Subjective', 'Issues'))\n",
    "df2.columns = labels\n",
    "#for loop to change titles to match version 1 submitted by Rob S."
   ]
  },
  {
   "cell_type": "code",
   "execution_count": null,
   "id": "057b446d",
   "metadata": {},
   "outputs": [],
   "source": [
    "df2.isnull().sum()"
   ]
  },
  {
   "cell_type": "code",
   "execution_count": null,
   "id": "c0bc134d",
   "metadata": {},
   "outputs": [],
   "source": [
    "df1.isnull().sum()"
   ]
  },
  {
   "cell_type": "code",
   "execution_count": null,
   "id": "947c60c0",
   "metadata": {},
   "outputs": [],
   "source": [
    "df1_ci = df1[['CRISIS Issues - Abusive Behavior','CRISIS Issues - Emotional State','CRISIS Issues - Financial/Basic Needs','CRISIS Issues - Health/Physical','CRISIS Issues - Information or Services Needed','CRISIS Issues - Mental Health','CRISIS Issues - No Issue Call','CRISIS Issues - Other Description','CRISIS Issues - Relationships','CRISIS Issues - Substances','CRISIS Issues - Suicide']]\n",
    "df1_ci.head()\n",
    "#Jasmine Drumright narrows down to just Crisis issues."
   ]
  },
  {
   "cell_type": "code",
   "execution_count": null,
   "id": "2dc622d6",
   "metadata": {},
   "outputs": [],
   "source": [
    "filter_col = [col for col in df2 if col.startswith('CRISIS Issues') or col.startswith('Call')]\n",
    "df2_ci=df2[filter_col]\n",
    "df2_ci.head()\n",
    "#Rob's version of what Jasmine did for the second dataframe "
   ]
  },
  {
   "cell_type": "code",
   "execution_count": null,
   "id": "467ffbd3",
   "metadata": {},
   "outputs": [],
   "source": [
    "Cri=pd.concat([df1_ci, df2_ci])\n",
    "Cri"
   ]
  },
  {
   "cell_type": "code",
   "execution_count": null,
   "id": "153acd71",
   "metadata": {},
   "outputs": [],
   "source": [
    "Cri['CRISIS Issues - Emotional State'].value_counts()"
   ]
  },
  {
   "cell_type": "code",
   "execution_count": null,
   "id": "0d12feed",
   "metadata": {},
   "outputs": [],
   "source": [
    "Cri['CRISIS Issues - Health/Physical'].value_counts()"
   ]
  },
  {
   "cell_type": "code",
   "execution_count": null,
   "id": "b8293865",
   "metadata": {},
   "outputs": [],
   "source": [
    "#Cri['CRISIS Issues - Financial/Basic Needs'].value_counts()\n",
    "percent100 = Cri['CRISIS Issues - Financial/Basic Needs'].value_counts(normalize=True).mul(100).round(1).astype(str) + '%'\n",
    "percent100"
   ]
  },
  {
   "cell_type": "code",
   "execution_count": null,
   "id": "6ac59c6c",
   "metadata": {},
   "outputs": [],
   "source": [
    "Cri['CRISIS Issues - Financial/Basic Needs'] = Cri['CRISIS Issues - Financial/Basic Needs'].str.replace('(temporary)','')\n",
    "Cri['CRISIS Issues - Financial/Basic Needs'] = Cri['CRISIS Issues - Financial/Basic Needs'].str.replace('(permanent)','')\n",
    "Cri['CRISIS Issues - Financial/Basic Needs'] = Cri['CRISIS Issues - Financial/Basic Needs'].str.replace(r'\\(\\)','')\n",
    "per_fin=Cri['CRISIS Issues - Financial/Basic Needs'].value_counts(normalize=True).mul(100).round(1).astype(str) + '%'\n",
    "per_fin"
   ]
  },
  {
   "cell_type": "markdown",
   "id": "f79fab34",
   "metadata": {},
   "source": [
    "### Below is a loop of counts per item across columns by Rob Schulteis"
   ]
  },
  {
   "cell_type": "code",
   "execution_count": null,
   "id": "fed91953",
   "metadata": {},
   "outputs": [],
   "source": [
    "mental_health_df = Cri['CRISIS Issues - Mental Health'].notnull()"
   ]
  },
  {
   "cell_type": "code",
   "execution_count": null,
   "id": "00a2c872",
   "metadata": {},
   "outputs": [],
   "source": [
    "mental_health_df = Cri[mental_health_df]"
   ]
  },
  {
   "cell_type": "code",
   "execution_count": null,
   "id": "a71ee81c",
   "metadata": {},
   "outputs": [],
   "source": [
    "mental_health_df.head(100)"
   ]
  },
  {
   "cell_type": "code",
   "execution_count": null,
   "id": "2c38936b",
   "metadata": {},
   "outputs": [],
   "source": [
    "count = []\n",
    "\n",
    "for x in mental_health_df['CRISIS Issues - Mental Health']:\n",
    "    counter0 = x.count(\";\")+1\n",
    "    count.append(counter0)"
   ]
  },
  {
   "cell_type": "code",
   "execution_count": null,
   "id": "311ce0cf",
   "metadata": {},
   "outputs": [],
   "source": [
    "mental_health_df['MH_Issues_Count'] = count"
   ]
  },
  {
   "cell_type": "code",
   "execution_count": null,
   "id": "97e1ee82",
   "metadata": {},
   "outputs": [],
   "source": [
    "mental_health_df.head()"
   ]
  },
  {
   "cell_type": "markdown",
   "id": "7d3cfe7d",
   "metadata": {},
   "source": [
    "### Finished with that Loop, now back to parsing out the data"
   ]
  },
  {
   "cell_type": "code",
   "execution_count": null,
   "id": "7401a3c1",
   "metadata": {},
   "outputs": [],
   "source": []
  }
 ],
 "metadata": {
  "kernelspec": {
   "display_name": "Python 3 (ipykernel)",
   "language": "python",
   "name": "python3"
  },
  "language_info": {
   "codemirror_mode": {
    "name": "ipython",
    "version": 3
   },
   "file_extension": ".py",
   "mimetype": "text/x-python",
   "name": "python",
   "nbconvert_exporter": "python",
   "pygments_lexer": "ipython3",
   "version": "3.9.7"
  }
 },
 "nbformat": 4,
 "nbformat_minor": 5
}
